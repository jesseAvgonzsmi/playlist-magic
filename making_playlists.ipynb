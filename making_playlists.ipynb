{
 "cells": [
  {
   "cell_type": "code",
   "execution_count": 1,
   "metadata": {},
   "outputs": [],
   "source": [
    "import spotipy as spotipy\n",
    "sp = spotipy.Spotify()\n",
    "from spotipy.oauth2 import SpotifyClientCredentials\n",
    "import pandas as pd\n",
    "pd.options.mode.chained_assignment = None  # default='warn'\n",
    "def spotify_login(cid, secret):\n",
    "    client_credentials_manager = SpotifyClientCredentials(client_id=cid, client_secret=secret) \n",
    "    return spotipy.Spotify(client_credentials_manager=client_credentials_manager)\n",
    "\n",
    "cid = \"d9b959e12b234eda83edb863964ffe15\"\n",
    "secret = \"49f57d45cb234266bb9953fec365f7a4\"\n",
    "\n",
    "sp = spotify_login(cid, secret)"
   ]
  },
  {
   "cell_type": "code",
   "execution_count": 1,
   "metadata": {},
   "outputs": [
    {
     "name": "stdout",
     "output_type": "stream",
     "text": [
      "New playlist 'My New Playlist' created. ID: 01oLAnMjS9eMuJHFjdQCVb\n"
     ]
    }
   ],
   "source": [
    "import spotipy\n",
    "from spotipy.oauth2 import SpotifyOAuth\n",
    "\n",
    "# Set up your Spotify developer credentials\n",
    "SPOTIPY_CLIENT_ID = 'd9b959e12b234eda83edb863964ffe15'\n",
    "SPOTIPY_CLIENT_SECRET = '49f57d45cb234266bb9953fec365f7a4'\n",
    "SPOTIPY_REDIRECT_URI = 'http://localhost:8000' \n",
    "USERNAME = 'godnamedfred'\n",
    "SCOPE = 'playlist-modify-public'  # Required scope for creating playlists\n",
    "\n",
    "# Authenticate with Spotify\n",
    "auth_manager = SpotifyOAuth(client_id=SPOTIPY_CLIENT_ID,\n",
    "                            client_secret=SPOTIPY_CLIENT_SECRET,\n",
    "                            redirect_uri=SPOTIPY_REDIRECT_URI,\n",
    "                            scope=SCOPE,\n",
    "                            username=USERNAME)\n",
    "sp = spotipy.Spotify(auth_manager=auth_manager)\n",
    "\n",
    "# Create a new playlist\n",
    "playlist_name = 'My New Playlist'\n",
    "playlist_description = 'Created with Spotipy'\n",
    "new_playlist = sp.user_playlist_create(user=USERNAME, \n",
    "                                       name=playlist_name, \n",
    "                                       public=True, \n",
    "                                       description=playlist_description)\n",
    "\n",
    "print(f\"New playlist '{playlist_name}' created. ID: {new_playlist['id']}\")"
   ]
  }
 ],
 "metadata": {
  "kernelspec": {
   "display_name": "base",
   "language": "python",
   "name": "python3"
  },
  "language_info": {
   "codemirror_mode": {
    "name": "ipython",
    "version": 3
   },
   "file_extension": ".py",
   "mimetype": "text/x-python",
   "name": "python",
   "nbconvert_exporter": "python",
   "pygments_lexer": "ipython3",
   "version": "3.11.4"
  }
 },
 "nbformat": 4,
 "nbformat_minor": 2
}
