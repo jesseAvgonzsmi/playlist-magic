{
 "cells": [
  {
   "cell_type": "markdown",
   "metadata": {},
   "source": [
    "consider coding dates as (years ago) instead of years, because for clustering it may consider it differently"
   ]
  },
  {
   "cell_type": "markdown",
   "metadata": {},
   "source": [
    "# Data Setup"
   ]
  },
  {
   "cell_type": "code",
   "execution_count": 1,
   "metadata": {},
   "outputs": [
    {
     "name": "stdout",
     "output_type": "stream",
     "text": [
      "Library:  Index(['track.trackName', 'track.artistName', 'track.trackUri', 'track.id'], dtype='object')\n",
      "Tracks:  Index(['artists', 'available_markets', 'disc_number', 'duration_ms',\n",
      "       'explicit', 'href', 'id', 'is_local', 'name', 'popularity',\n",
      "       'preview_url', 'track_number', 'type', 'uri', 'album.album_type',\n",
      "       'album.artists', 'album.available_markets',\n",
      "       'album.external_urls.spotify', 'album.href', 'album.id', 'album.images',\n",
      "       'album.name', 'album.release_date', 'album.release_date_precision',\n",
      "       'album.total_tracks', 'album.type', 'album.uri', 'external_ids.isrc',\n",
      "       'external_urls.spotify', 'artist.id'],\n",
      "      dtype='object')\n",
      "Features:  Index(['danceability', 'energy', 'key', 'loudness', 'mode', 'speechiness',\n",
      "       'acousticness', 'instrumentalness', 'liveness', 'valence', 'tempo',\n",
      "       'type', 'id', 'uri', 'track_href', 'analysis_url', 'duration_ms',\n",
      "       'time_signature'],\n",
      "      dtype='object')\n",
      "Artists:  Index(['genres', 'href', 'id', 'images', 'name', 'popularity', 'type', 'uri',\n",
      "       'external_urls.spotify', 'followers.href', 'followers.total'],\n",
      "      dtype='object')\n"
     ]
    }
   ],
   "source": [
    "import pandas as pd\n",
    "import numpy as np\n",
    "\n",
    "pd.set_option('display.max_columns', False)\n",
    "pd.set_option('display.max_rows', False)\n",
    "\n",
    "library = pd.read_csv('library.csv')\n",
    "tracks = pd.read_csv('tracks.csv')\n",
    "features = pd.read_csv('features.csv')\n",
    "artists = pd.read_csv('artists.csv')\n",
    "\n",
    "print('Library: ', library.columns)\n",
    "print('Tracks: ', tracks.columns)\n",
    "print('Features: ', features.columns)\n",
    "print('Artists: ', artists.columns)"
   ]
  },
  {
   "cell_type": "code",
   "execution_count": 2,
   "metadata": {},
   "outputs": [],
   "source": [
    "library = library.rename(columns={\n",
    "    'track.trackName': 'track.name',\n",
    "    'track.trackUri': 'track.uri',\n",
    "    })\n",
    "\n",
    "tracks = tracks[['uri', 'artist.id','available_markets', 'explicit', 'popularity','track_number','album.album_type','album.release_date','album.total_tracks']]\n",
    "\n",
    "tracks = tracks.rename(columns={\n",
    "    'uri': 'track.uri',\n",
    "    'available_markets': 'track.available_markets',\n",
    "    'explicit': 'track.explicit',\n",
    "    'popularity': 'track.popularity',\n",
    "    'track_number': 'track.track_number',\n",
    "})\n",
    "\n",
    "features = features[['id','danceability', 'energy', 'key', 'loudness', 'mode', 'speechiness', 'acousticness', 'instrumentalness', 'liveness', 'valence', 'tempo',\n",
    "'type',  'duration_ms', 'time_signature']]\n",
    "\n",
    "features = features.rename(columns={\n",
    "    'id': 'track.id',\n",
    "    'danceability': 'track.danceability',\n",
    "    'energy': 'track.energy',\n",
    "    'key': 'track.key',\n",
    "    'loudness': 'track.loudness',\n",
    "    'mode': 'track.mode',\n",
    "    'speechiness': 'track.speechiness',\n",
    "    'acousticness': 'track.acousticness',\n",
    "    'instrumentalness': 'track.instrumentalness',\n",
    "    'liveness': 'track.liveness',\n",
    "    'valence': 'track.valence',\n",
    "    'tempo': 'track.tempo',\n",
    "    'type': 'track.type',\n",
    "    'duration_ms': 'track.duration_ms',\n",
    "    'time_signature': 'track.time_signature'\n",
    "})\n",
    "\n",
    "artists = artists[['id','genres','followers.total','popularity']]\n",
    "artists = artists.rename(columns={\n",
    "    'id': 'artist.id',\n",
    "    'genres': 'artist.genres',\n",
    "    'followers.total': 'artist.followers_total',\n",
    "    'popularity': 'artist.popularity'\n",
    "})"
   ]
  },
  {
   "cell_type": "code",
   "execution_count": 3,
   "metadata": {},
   "outputs": [
    {
     "data": {
      "text/html": [
       "<div>\n",
       "<style scoped>\n",
       "    .dataframe tbody tr th:only-of-type {\n",
       "        vertical-align: middle;\n",
       "    }\n",
       "\n",
       "    .dataframe tbody tr th {\n",
       "        vertical-align: top;\n",
       "    }\n",
       "\n",
       "    .dataframe thead th {\n",
       "        text-align: right;\n",
       "    }\n",
       "</style>\n",
       "<table border=\"1\" class=\"dataframe\">\n",
       "  <thead>\n",
       "    <tr style=\"text-align: right;\">\n",
       "      <th></th>\n",
       "      <th>artist.id</th>\n",
       "      <th>artist.genres</th>\n",
       "      <th>artist.followers_total</th>\n",
       "      <th>artist.popularity</th>\n",
       "    </tr>\n",
       "  </thead>\n",
       "  <tbody>\n",
       "    <tr>\n",
       "      <th>0</th>\n",
       "      <td>100sLnojEpcadRx4edEBA6</td>\n",
       "      <td>['alt z', 'electropop', 'gauze pop', 'indie po...</td>\n",
       "      <td>440752</td>\n",
       "      <td>53</td>\n",
       "    </tr>\n",
       "    <tr>\n",
       "      <th>1</th>\n",
       "      <td>4YZ5ECfbM2xSTSQTJGBbO5</td>\n",
       "      <td>[]</td>\n",
       "      <td>458920</td>\n",
       "      <td>48</td>\n",
       "    </tr>\n",
       "    <tr>\n",
       "      <th>2</th>\n",
       "      <td>5t28BP42x2axFnqOOMg3CM</td>\n",
       "      <td>['alternative metal', 'groove metal', 'nu metal']</td>\n",
       "      <td>6292591</td>\n",
       "      <td>71</td>\n",
       "    </tr>\n",
       "    <tr>\n",
       "      <th>3</th>\n",
       "      <td>20JZFwl6HVl6yg8a4H3ZqK</td>\n",
       "      <td>['modern rock', 'pop']</td>\n",
       "      <td>12090153</td>\n",
       "      <td>75</td>\n",
       "    </tr>\n",
       "    <tr>\n",
       "      <th>4</th>\n",
       "      <td>0CbeG1224FS58EUx4tPevZ</td>\n",
       "      <td>['australian dance', 'big room', 'melbourne bo...</td>\n",
       "      <td>1090084</td>\n",
       "      <td>69</td>\n",
       "    </tr>\n",
       "  </tbody>\n",
       "</table>\n",
       "</div>"
      ],
      "text/plain": [
       "                artist.id  ... artist.popularity\n",
       "0  100sLnojEpcadRx4edEBA6  ...                53\n",
       "1  4YZ5ECfbM2xSTSQTJGBbO5  ...                48\n",
       "2  5t28BP42x2axFnqOOMg3CM  ...                71\n",
       "3  20JZFwl6HVl6yg8a4H3ZqK  ...                75\n",
       "4  0CbeG1224FS58EUx4tPevZ  ...                69\n",
       "\n",
       "[5 rows x 4 columns]"
      ]
     },
     "execution_count": 3,
     "metadata": {},
     "output_type": "execute_result"
    }
   ],
   "source": [
    "artists.head()"
   ]
  },
  {
   "cell_type": "code",
   "execution_count": 4,
   "metadata": {},
   "outputs": [],
   "source": [
    "from sklearn.preprocessing import MultiLabelBinarizer\n",
    "import ast\n",
    "artists['artist.genres'] = artists['artist.genres'].apply(lambda x: ast.literal_eval(x) if isinstance(x, str) else x)\n",
    "\n",
    "# Initialize the MultiLabelBinarizer\n",
    "mlb = MultiLabelBinarizer()\n",
    "\n",
    "# Fit and transform the 'artist.genres' column\n",
    "binary_genres = mlb.fit_transform(artists['artist.genres'])\n",
    "\n",
    "# Create a DataFrame from the binary genres\n",
    "binary_genres_df = pd.DataFrame(binary_genres, columns=mlb.classes_, index=artists.index)\n",
    "\n",
    "# Concatenate the binary genres DataFrame with the original DataFrame\n",
    "artists = pd.concat([artists, binary_genres_df], axis=1)\n",
    "\n",
    "# Drop the old 'artist.genres' column\n",
    "artists = artists.drop('artist.genres', axis=1)"
   ]
  },
  {
   "cell_type": "code",
   "execution_count": 5,
   "metadata": {},
   "outputs": [
    {
     "name": "stdout",
     "output_type": "stream",
     "text": [
      "<class 'pandas.core.frame.DataFrame'>\n",
      "RangeIndex: 2891 entries, 0 to 2890\n",
      "Columns: 774 entries, track.name to zolo\n",
      "dtypes: float64(764), object(10)\n",
      "memory usage: 17.1+ MB\n"
     ]
    }
   ],
   "source": [
    "df = pd.merge(library, tracks, on='track.uri', how='left')\n",
    "df = pd.merge(df, features, on='track.id', how='left')\n",
    "df = pd.merge(df, artists, on='artist.id', how='left')\n",
    "df.info()"
   ]
  },
  {
   "cell_type": "code",
   "execution_count": 6,
   "metadata": {},
   "outputs": [],
   "source": [
    "df['mix_remix'] = df['track.name'].str.contains('mix|remix', case=False)"
   ]
  },
  {
   "cell_type": "code",
   "execution_count": 7,
   "metadata": {},
   "outputs": [
    {
     "name": "stderr",
     "output_type": "stream",
     "text": [
      "C:\\Users\\jesse\\AppData\\Local\\Temp\\ipykernel_50652\\1074546538.py:1: UserWarning: The argument 'infer_datetime_format' is deprecated and will be removed in a future version. A strict version of it is now the default, see https://pandas.pydata.org/pdeps/0004-consistent-to-datetime-parsing.html. You can safely remove this argument.\n",
      "  df['album.release_date'] = pd.to_datetime(df['album.release_date'], infer_datetime_format=True, errors='coerce')\n"
     ]
    }
   ],
   "source": [
    "df['album.release_date'] = pd.to_datetime(df['album.release_date'], infer_datetime_format=True, errors='coerce')"
   ]
  },
  {
   "cell_type": "code",
   "execution_count": 8,
   "metadata": {},
   "outputs": [],
   "source": [
    "df['album_year_ago'] = 2023 - df['album.release_date'].dt.year\n",
    "df.drop(columns=['album.release_date'], inplace=True)"
   ]
  },
  {
   "cell_type": "code",
   "execution_count": 9,
   "metadata": {},
   "outputs": [],
   "source": [
    "df.dropna(inplace=True)"
   ]
  },
  {
   "cell_type": "code",
   "execution_count": 10,
   "metadata": {},
   "outputs": [
    {
     "data": {
      "text/plain": [
       "Index(['track.name', 'track.explicit', 'track.popularity',\n",
       "       'track.danceability', 'track.energy', 'track.key', 'track.loudness',\n",
       "       'track.mode', 'track.speechiness', 'track.acousticness',\n",
       "       ...\n",
       "       'western americana', 'windsor on indie', 'wisconsin indie', 'world',\n",
       "       'world worship', 'worship', 'yacht rock', 'zolo', 'mix_remix',\n",
       "       'album_year_ago'],\n",
       "      dtype='object', length=766)"
      ]
     },
     "execution_count": 10,
     "metadata": {},
     "output_type": "execute_result"
    }
   ],
   "source": [
    "df_new = df.drop(columns=['track.artistName', 'track.uri', 'track.id', 'artist.id', 'track.available_markets', 'track.track_number', 'album.album_type', 'album.total_tracks', 'track.type'])\n",
    "df_new.columns"
   ]
  },
  {
   "cell_type": "markdown",
   "metadata": {},
   "source": [
    "## FAMD"
   ]
  },
  {
   "cell_type": "code",
   "execution_count": 11,
   "metadata": {},
   "outputs": [
    {
     "name": "stderr",
     "output_type": "stream",
     "text": [
      "c:\\Users\\jesse\\anaconda3\\Lib\\site-packages\\prince\\pca.py:175: PerformanceWarning: Concatenating sparse arrays with multiple fill values: '[-1.7314857934264356, -0.5984323944474182, -1.2821215295120647, -0.06256112470898545, -0.04423739552038088, -0.15950019784171426, -0.08847479104076177, -0.07662141663581953, -0.13271218656114264, -0.1251222494179709, -0.11704114719613057, -0.10835904657461548, -0.09891782353111633, -0.18768337412695632, -0.21671809314923096, -0.34832560065325385, -0.19282633659877915, -0.2541244898865087, -0.17133069613002574, -0.14671884264365215, -0.37536674825391264, -0.17694958208152353, -0.42660999297446744, -0.23408229439226114, -2.2056678457538803, -0.367463405262941, -0.1655211777204736, -0.20272121351984576, -1.6798564844114445, -0.41967278279439957, -0.21215509594589552, -0.22556734298894415, -0.19783564706223267, -0.13989092759813318, -0.15324283327163907, -0.24229819411790596, -0.8287873394374106, -2.0545401016661144, -0.8825332688606092, -2.23606797749979]'. Picking the first and converting the rest.\n",
      "  X = self.scaler_.transform(X.to_numpy())\n"
     ]
    },
    {
     "name": "stdout",
     "output_type": "stream",
     "text": [
      "Number of components that explain at least 90% of the variance: 95\n"
     ]
    }
   ],
   "source": [
    "import prince\n",
    "\n",
    "# Initialize FAMD object\n",
    "famd = prince.FAMD(n_components=100, random_state=42)  # adjust this based on your actual data\n",
    "\n",
    "# Fit FAMD to the mixed data\n",
    "famd = famd.fit(df)\n",
    "\n",
    "# Calculate the explained variance ratio\n",
    "explained_variance_ratio = famd.eigenvalues_ / sum(famd.eigenvalues_)\n",
    "\n",
    "# Calculate the cumulative explained variance\n",
    "cumulative_explained_variance = np.cumsum(explained_variance_ratio)\n",
    "\n",
    "# Find the number of components that explain at least 95% of the variance\n",
    "n_components_95 = np.where(cumulative_explained_variance >= 0.95)[0][0] + 1\n",
    "\n",
    "print('Number of components that explain at least 90% of the variance:', n_components_95)"
   ]
  },
  {
   "cell_type": "code",
   "execution_count": 12,
   "metadata": {},
   "outputs": [
    {
     "name": "stderr",
     "output_type": "stream",
     "text": [
      "c:\\Users\\jesse\\anaconda3\\Lib\\site-packages\\prince\\pca.py:175: PerformanceWarning: Concatenating sparse arrays with multiple fill values: '[-1.7314857934264356, -0.5984323944474182, -1.2821215295120647, -0.06256112470898545, -0.04423739552038088, -0.15950019784171426, -0.08847479104076177, -0.07662141663581953, -0.13271218656114264, -0.1251222494179709, -0.11704114719613057, -0.10835904657461548, -0.09891782353111633, -0.18768337412695632, -0.21671809314923096, -0.34832560065325385, -0.19282633659877915, -0.2541244898865087, -0.17133069613002574, -0.14671884264365215, -0.37536674825391264, -0.17694958208152353, -0.42660999297446744, -0.23408229439226114, -2.2056678457538803, -0.367463405262941, -0.1655211777204736, -0.20272121351984576, -1.6798564844114445, -0.41967278279439957, -0.21215509594589552, -0.22556734298894415, -0.19783564706223267, -0.13989092759813318, -0.15324283327163907, -0.24229819411790596, -0.8287873394374106, -2.0545401016661144, -0.8825332688606092, -2.23606797749979]'. Picking the first and converting the rest.\n",
      "  X = self.scaler_.transform(X.to_numpy())\n",
      "c:\\Users\\jesse\\anaconda3\\Lib\\site-packages\\prince\\pca.py:175: PerformanceWarning: Concatenating sparse arrays with multiple fill values: '[-1.7314857934264356, -0.5984323944474182, -1.2821215295120647, -0.06256112470898545, -0.04423739552038088, -0.15950019784171426, -0.08847479104076177, -0.07662141663581953, -0.13271218656114264, -0.1251222494179709, -0.11704114719613057, -0.10835904657461548, -0.09891782353111633, -0.18768337412695632, -0.21671809314923096, -0.34832560065325385, -0.19282633659877915, -0.2541244898865087, -0.17133069613002574, -0.14671884264365215, -0.37536674825391264, -0.17694958208152353, -0.42660999297446744, -0.23408229439226114, -2.2056678457538803, -0.367463405262941, -0.1655211777204736, -0.20272121351984576, -1.6798564844114445, -0.41967278279439957, -0.21215509594589552, -0.22556734298894415, -0.19783564706223267, -0.13989092759813318, -0.15324283327163907, -0.24229819411790596, -0.8287873394374106, -2.0545401016661144, -0.8825332688606092, -2.23606797749979]'. Picking the first and converting the rest.\n",
      "  X = self.scaler_.transform(X.to_numpy())\n"
     ]
    },
    {
     "name": "stdout",
     "output_type": "stream",
     "text": [
      "component        0         1         2   ...         92         93        94\n",
      "0         -0.987188 -1.538221  1.351033  ...   1.995478   4.626585  0.139070\n",
      "1         -3.323378  3.104410  5.032627  ... -12.051731 -13.569966  1.765014\n",
      "2         -0.460903 -1.461827 -0.287090  ...  -0.495670  -0.744421  0.079966\n",
      "3         -2.348018 -1.172171  1.078848  ...  -1.397042  -1.383861 -1.726749\n",
      "5         -0.387583 -2.083943  0.206626  ...  -0.205282  -2.598760 -0.531412\n",
      "6         -2.567553 -0.169327  0.572487  ...   1.193334   0.019636 -1.166210\n",
      "7          0.462808  2.870535  5.154072  ...  -1.326684   3.724403  0.124367\n",
      "8         -1.347100 -0.402172 -0.658354  ...   0.014188  -0.284396  0.322849\n",
      "9         -4.990235 -8.329294 -2.849263  ...  -1.625796  -0.142501 -0.082108\n",
      "...             ...       ...       ...  ...        ...        ...       ...\n",
      "2841      -2.095570  2.268991  4.801923  ...  -0.030092  -3.202800 -0.735707\n",
      "2842      -0.516282  0.607265  5.155365  ...   3.656566  -1.640787 -1.802827\n",
      "2843      -1.261018  2.210810  4.241031  ...   2.182896  -1.407029 -0.010666\n",
      "2844      -0.288271  0.195418  4.493833  ...   3.856766  -1.410412 -0.527777\n",
      "2845      -0.311516  1.654851  4.932884  ...   4.990509  -1.297509 -2.353477\n",
      "2846      -0.717953  1.176168  2.000935  ...  -1.676669   0.483024  0.602689\n",
      "2847      -1.056634  1.158056  2.277980  ...  -1.351030  -0.053310 -2.457250\n",
      "2848      -0.055647  1.055964  3.298303  ...   0.868692   0.644451  1.616972\n",
      "2849       1.016351  1.510309  2.004414  ...   0.249331   1.235229 -0.391786\n",
      "\n",
      "[2555 rows x 95 columns]\n"
     ]
    }
   ],
   "source": [
    "# Assuming df is your DataFrame and n_components is the number of components you want to keep\n",
    "import prince\n",
    "\n",
    "famd = prince.FAMD(n_components=n_components_95, random_state=42)\n",
    "\n",
    "famd = famd.fit(df)  # fit the FAMD model\n",
    "\n",
    "coordinates = famd.transform(df)\n",
    "\n",
    "print(coordinates)"
   ]
  },
  {
   "cell_type": "code",
   "execution_count": 13,
   "metadata": {},
   "outputs": [
    {
     "data": {
      "text/html": [
       "<div>\n",
       "<style scoped>\n",
       "    .dataframe tbody tr th:only-of-type {\n",
       "        vertical-align: middle;\n",
       "    }\n",
       "\n",
       "    .dataframe tbody tr th {\n",
       "        vertical-align: top;\n",
       "    }\n",
       "\n",
       "    .dataframe thead th {\n",
       "        text-align: right;\n",
       "    }\n",
       "</style>\n",
       "<table border=\"1\" class=\"dataframe\">\n",
       "  <thead>\n",
       "    <tr style=\"text-align: right;\">\n",
       "      <th>component</th>\n",
       "      <th>0</th>\n",
       "      <th>1</th>\n",
       "      <th>2</th>\n",
       "      <th>3</th>\n",
       "      <th>4</th>\n",
       "      <th>5</th>\n",
       "      <th>6</th>\n",
       "      <th>7</th>\n",
       "      <th>8</th>\n",
       "      <th>9</th>\n",
       "      <th>10</th>\n",
       "      <th>11</th>\n",
       "      <th>12</th>\n",
       "      <th>13</th>\n",
       "      <th>14</th>\n",
       "      <th>15</th>\n",
       "      <th>16</th>\n",
       "      <th>17</th>\n",
       "      <th>18</th>\n",
       "      <th>19</th>\n",
       "      <th>20</th>\n",
       "      <th>21</th>\n",
       "      <th>22</th>\n",
       "      <th>23</th>\n",
       "      <th>24</th>\n",
       "      <th>25</th>\n",
       "      <th>26</th>\n",
       "      <th>27</th>\n",
       "      <th>28</th>\n",
       "      <th>29</th>\n",
       "      <th>30</th>\n",
       "      <th>31</th>\n",
       "      <th>32</th>\n",
       "      <th>33</th>\n",
       "      <th>34</th>\n",
       "      <th>35</th>\n",
       "      <th>36</th>\n",
       "      <th>37</th>\n",
       "      <th>38</th>\n",
       "      <th>39</th>\n",
       "      <th>...</th>\n",
       "      <th>58</th>\n",
       "      <th>59</th>\n",
       "      <th>60</th>\n",
       "      <th>61</th>\n",
       "      <th>62</th>\n",
       "      <th>63</th>\n",
       "      <th>64</th>\n",
       "      <th>65</th>\n",
       "      <th>66</th>\n",
       "      <th>67</th>\n",
       "      <th>68</th>\n",
       "      <th>69</th>\n",
       "      <th>70</th>\n",
       "      <th>71</th>\n",
       "      <th>72</th>\n",
       "      <th>73</th>\n",
       "      <th>74</th>\n",
       "      <th>75</th>\n",
       "      <th>76</th>\n",
       "      <th>77</th>\n",
       "      <th>78</th>\n",
       "      <th>79</th>\n",
       "      <th>80</th>\n",
       "      <th>81</th>\n",
       "      <th>82</th>\n",
       "      <th>83</th>\n",
       "      <th>84</th>\n",
       "      <th>85</th>\n",
       "      <th>86</th>\n",
       "      <th>87</th>\n",
       "      <th>88</th>\n",
       "      <th>89</th>\n",
       "      <th>90</th>\n",
       "      <th>91</th>\n",
       "      <th>92</th>\n",
       "      <th>93</th>\n",
       "      <th>94</th>\n",
       "      <th>track.name</th>\n",
       "      <th>track.artistName</th>\n",
       "      <th>track.id</th>\n",
       "    </tr>\n",
       "  </thead>\n",
       "  <tbody>\n",
       "    <tr>\n",
       "      <th>0</th>\n",
       "      <td>-0.987188</td>\n",
       "      <td>-1.538221</td>\n",
       "      <td>1.351033</td>\n",
       "      <td>3.279820</td>\n",
       "      <td>-7.444957</td>\n",
       "      <td>1.560278</td>\n",
       "      <td>-1.062093</td>\n",
       "      <td>-8.607745</td>\n",
       "      <td>5.613410</td>\n",
       "      <td>6.905058</td>\n",
       "      <td>-4.631646</td>\n",
       "      <td>-0.570061</td>\n",
       "      <td>4.544429</td>\n",
       "      <td>0.426192</td>\n",
       "      <td>2.686399</td>\n",
       "      <td>-4.718323</td>\n",
       "      <td>-7.712292</td>\n",
       "      <td>4.916111</td>\n",
       "      <td>-11.341382</td>\n",
       "      <td>-8.717212</td>\n",
       "      <td>-8.688695</td>\n",
       "      <td>2.744188</td>\n",
       "      <td>-0.322410</td>\n",
       "      <td>-4.027017</td>\n",
       "      <td>0.243862</td>\n",
       "      <td>-5.231696</td>\n",
       "      <td>0.18501</td>\n",
       "      <td>7.017796</td>\n",
       "      <td>-10.392498</td>\n",
       "      <td>3.184836</td>\n",
       "      <td>11.784623</td>\n",
       "      <td>2.965092</td>\n",
       "      <td>-0.369005</td>\n",
       "      <td>3.207023</td>\n",
       "      <td>5.409390</td>\n",
       "      <td>-5.219110</td>\n",
       "      <td>3.412127</td>\n",
       "      <td>3.370713</td>\n",
       "      <td>-0.214449</td>\n",
       "      <td>2.315731</td>\n",
       "      <td>...</td>\n",
       "      <td>11.221579</td>\n",
       "      <td>-4.754434</td>\n",
       "      <td>1.746622</td>\n",
       "      <td>3.069095</td>\n",
       "      <td>-2.969153</td>\n",
       "      <td>2.563846</td>\n",
       "      <td>-0.183908</td>\n",
       "      <td>1.665999</td>\n",
       "      <td>-3.501808</td>\n",
       "      <td>3.433822</td>\n",
       "      <td>-0.698134</td>\n",
       "      <td>4.834682</td>\n",
       "      <td>3.115648</td>\n",
       "      <td>-2.246996</td>\n",
       "      <td>5.961344</td>\n",
       "      <td>1.309537</td>\n",
       "      <td>5.542080</td>\n",
       "      <td>3.845851</td>\n",
       "      <td>3.827638</td>\n",
       "      <td>0.036117</td>\n",
       "      <td>-5.801489</td>\n",
       "      <td>0.856461</td>\n",
       "      <td>0.420353</td>\n",
       "      <td>-1.659147</td>\n",
       "      <td>6.115750</td>\n",
       "      <td>-0.791284</td>\n",
       "      <td>-4.830578</td>\n",
       "      <td>-1.983534</td>\n",
       "      <td>-1.096895</td>\n",
       "      <td>2.630451</td>\n",
       "      <td>3.065195</td>\n",
       "      <td>0.561983</td>\n",
       "      <td>-3.490602</td>\n",
       "      <td>-1.876723</td>\n",
       "      <td>1.995478</td>\n",
       "      <td>4.626585</td>\n",
       "      <td>0.139070</td>\n",
       "      <td>Sweet Ophelia</td>\n",
       "      <td>Zella Day</td>\n",
       "      <td>1jPZgfC9tWFNf7iBGdrTPV</td>\n",
       "    </tr>\n",
       "    <tr>\n",
       "      <th>1</th>\n",
       "      <td>-3.323378</td>\n",
       "      <td>3.104410</td>\n",
       "      <td>5.032627</td>\n",
       "      <td>-6.038923</td>\n",
       "      <td>-1.170737</td>\n",
       "      <td>1.580957</td>\n",
       "      <td>3.339937</td>\n",
       "      <td>1.788602</td>\n",
       "      <td>5.718613</td>\n",
       "      <td>-1.322526</td>\n",
       "      <td>4.220405</td>\n",
       "      <td>0.798211</td>\n",
       "      <td>2.598099</td>\n",
       "      <td>-5.628695</td>\n",
       "      <td>2.116721</td>\n",
       "      <td>8.731633</td>\n",
       "      <td>3.902659</td>\n",
       "      <td>-1.562023</td>\n",
       "      <td>1.253362</td>\n",
       "      <td>5.571145</td>\n",
       "      <td>3.072081</td>\n",
       "      <td>6.225995</td>\n",
       "      <td>2.671257</td>\n",
       "      <td>6.646899</td>\n",
       "      <td>-1.061647</td>\n",
       "      <td>2.827478</td>\n",
       "      <td>6.72644</td>\n",
       "      <td>-5.278759</td>\n",
       "      <td>-7.904851</td>\n",
       "      <td>14.537145</td>\n",
       "      <td>2.863240</td>\n",
       "      <td>-10.641675</td>\n",
       "      <td>-0.609025</td>\n",
       "      <td>3.737743</td>\n",
       "      <td>1.818148</td>\n",
       "      <td>-3.783458</td>\n",
       "      <td>5.015635</td>\n",
       "      <td>3.809870</td>\n",
       "      <td>-1.059339</td>\n",
       "      <td>-1.633722</td>\n",
       "      <td>...</td>\n",
       "      <td>1.749382</td>\n",
       "      <td>-0.203858</td>\n",
       "      <td>6.994056</td>\n",
       "      <td>4.265199</td>\n",
       "      <td>3.063611</td>\n",
       "      <td>-8.970354</td>\n",
       "      <td>8.394510</td>\n",
       "      <td>-3.296672</td>\n",
       "      <td>7.749906</td>\n",
       "      <td>3.311081</td>\n",
       "      <td>2.756495</td>\n",
       "      <td>6.477468</td>\n",
       "      <td>0.664497</td>\n",
       "      <td>-1.250712</td>\n",
       "      <td>-0.962927</td>\n",
       "      <td>-6.423705</td>\n",
       "      <td>3.367787</td>\n",
       "      <td>0.978905</td>\n",
       "      <td>1.662133</td>\n",
       "      <td>-9.648533</td>\n",
       "      <td>-11.812188</td>\n",
       "      <td>-1.751085</td>\n",
       "      <td>6.416523</td>\n",
       "      <td>9.357449</td>\n",
       "      <td>6.962256</td>\n",
       "      <td>1.391871</td>\n",
       "      <td>12.833616</td>\n",
       "      <td>8.811360</td>\n",
       "      <td>-10.172092</td>\n",
       "      <td>2.408848</td>\n",
       "      <td>4.206537</td>\n",
       "      <td>-9.126000</td>\n",
       "      <td>5.827139</td>\n",
       "      <td>11.963652</td>\n",
       "      <td>-12.051731</td>\n",
       "      <td>-13.569966</td>\n",
       "      <td>1.765014</td>\n",
       "      <td>Hazy Shade of Winter (feat. Ray Toro)</td>\n",
       "      <td>Gerard Way</td>\n",
       "      <td>1tBZnhDT8xbgJTs43FiqrD</td>\n",
       "    </tr>\n",
       "  </tbody>\n",
       "</table>\n",
       "<p>2 rows × 98 columns</p>\n",
       "</div>"
      ],
      "text/plain": [
       "component         0         1  ...  track.artistName                track.id\n",
       "0         -0.987188 -1.538221  ...         Zella Day  1jPZgfC9tWFNf7iBGdrTPV\n",
       "1         -3.323378  3.104410  ...        Gerard Way  1tBZnhDT8xbgJTs43FiqrD\n",
       "\n",
       "[2 rows x 98 columns]"
      ]
     },
     "execution_count": 13,
     "metadata": {},
     "output_type": "execute_result"
    }
   ],
   "source": [
    "coordinates_df = pd.DataFrame(coordinates).copy()\n",
    "coordinates_df['track.name'] = df['track.name']\n",
    "coordinates_df['track.artistName'] = df['track.artistName']\n",
    "coordinates_df['track.id'] = df['track.id']\n",
    "coordinates_df.head(2)"
   ]
  },
  {
   "cell_type": "markdown",
   "metadata": {},
   "source": [
    "# Modeling"
   ]
  },
  {
   "cell_type": "markdown",
   "metadata": {},
   "source": [
    "### Normal k means"
   ]
  },
  {
   "cell_type": "code",
   "execution_count": 14,
   "metadata": {},
   "outputs": [],
   "source": [
    "x = coordinates.copy()"
   ]
  },
  {
   "cell_type": "code",
   "execution_count": 15,
   "metadata": {},
   "outputs": [
    {
     "name": "stderr",
     "output_type": "stream",
     "text": [
      "c:\\Users\\jesse\\anaconda3\\Lib\\site-packages\\sklearn\\cluster\\_kmeans.py:1416: FutureWarning: The default value of `n_init` will change from 10 to 'auto' in 1.4. Set the value of `n_init` explicitly to suppress the warning\n",
      "  super()._check_params_vs_input(X, default_n_init=10)\n",
      "c:\\Users\\jesse\\anaconda3\\Lib\\site-packages\\sklearn\\cluster\\_kmeans.py:1416: FutureWarning: The default value of `n_init` will change from 10 to 'auto' in 1.4. Set the value of `n_init` explicitly to suppress the warning\n",
      "  super()._check_params_vs_input(X, default_n_init=10)\n",
      "c:\\Users\\jesse\\anaconda3\\Lib\\site-packages\\sklearn\\cluster\\_kmeans.py:1416: FutureWarning: The default value of `n_init` will change from 10 to 'auto' in 1.4. Set the value of `n_init` explicitly to suppress the warning\n",
      "  super()._check_params_vs_input(X, default_n_init=10)\n",
      "c:\\Users\\jesse\\anaconda3\\Lib\\site-packages\\sklearn\\cluster\\_kmeans.py:1416: FutureWarning: The default value of `n_init` will change from 10 to 'auto' in 1.4. Set the value of `n_init` explicitly to suppress the warning\n",
      "  super()._check_params_vs_input(X, default_n_init=10)\n",
      "c:\\Users\\jesse\\anaconda3\\Lib\\site-packages\\sklearn\\cluster\\_kmeans.py:1416: FutureWarning: The default value of `n_init` will change from 10 to 'auto' in 1.4. Set the value of `n_init` explicitly to suppress the warning\n",
      "  super()._check_params_vs_input(X, default_n_init=10)\n",
      "c:\\Users\\jesse\\anaconda3\\Lib\\site-packages\\sklearn\\cluster\\_kmeans.py:1416: FutureWarning: The default value of `n_init` will change from 10 to 'auto' in 1.4. Set the value of `n_init` explicitly to suppress the warning\n",
      "  super()._check_params_vs_input(X, default_n_init=10)\n",
      "c:\\Users\\jesse\\anaconda3\\Lib\\site-packages\\sklearn\\cluster\\_kmeans.py:1416: FutureWarning: The default value of `n_init` will change from 10 to 'auto' in 1.4. Set the value of `n_init` explicitly to suppress the warning\n",
      "  super()._check_params_vs_input(X, default_n_init=10)\n",
      "c:\\Users\\jesse\\anaconda3\\Lib\\site-packages\\sklearn\\cluster\\_kmeans.py:1416: FutureWarning: The default value of `n_init` will change from 10 to 'auto' in 1.4. Set the value of `n_init` explicitly to suppress the warning\n",
      "  super()._check_params_vs_input(X, default_n_init=10)\n",
      "c:\\Users\\jesse\\anaconda3\\Lib\\site-packages\\sklearn\\cluster\\_kmeans.py:1416: FutureWarning: The default value of `n_init` will change from 10 to 'auto' in 1.4. Set the value of `n_init` explicitly to suppress the warning\n",
      "  super()._check_params_vs_input(X, default_n_init=10)\n",
      "c:\\Users\\jesse\\anaconda3\\Lib\\site-packages\\sklearn\\cluster\\_kmeans.py:1416: FutureWarning: The default value of `n_init` will change from 10 to 'auto' in 1.4. Set the value of `n_init` explicitly to suppress the warning\n",
      "  super()._check_params_vs_input(X, default_n_init=10)\n",
      "c:\\Users\\jesse\\anaconda3\\Lib\\site-packages\\sklearn\\cluster\\_kmeans.py:1416: FutureWarning: The default value of `n_init` will change from 10 to 'auto' in 1.4. Set the value of `n_init` explicitly to suppress the warning\n",
      "  super()._check_params_vs_input(X, default_n_init=10)\n",
      "c:\\Users\\jesse\\anaconda3\\Lib\\site-packages\\sklearn\\cluster\\_kmeans.py:1416: FutureWarning: The default value of `n_init` will change from 10 to 'auto' in 1.4. Set the value of `n_init` explicitly to suppress the warning\n",
      "  super()._check_params_vs_input(X, default_n_init=10)\n",
      "c:\\Users\\jesse\\anaconda3\\Lib\\site-packages\\sklearn\\cluster\\_kmeans.py:1416: FutureWarning: The default value of `n_init` will change from 10 to 'auto' in 1.4. Set the value of `n_init` explicitly to suppress the warning\n",
      "  super()._check_params_vs_input(X, default_n_init=10)\n",
      "c:\\Users\\jesse\\anaconda3\\Lib\\site-packages\\sklearn\\cluster\\_kmeans.py:1416: FutureWarning: The default value of `n_init` will change from 10 to 'auto' in 1.4. Set the value of `n_init` explicitly to suppress the warning\n",
      "  super()._check_params_vs_input(X, default_n_init=10)\n",
      "c:\\Users\\jesse\\anaconda3\\Lib\\site-packages\\sklearn\\cluster\\_kmeans.py:1416: FutureWarning: The default value of `n_init` will change from 10 to 'auto' in 1.4. Set the value of `n_init` explicitly to suppress the warning\n",
      "  super()._check_params_vs_input(X, default_n_init=10)\n",
      "c:\\Users\\jesse\\anaconda3\\Lib\\site-packages\\sklearn\\cluster\\_kmeans.py:1416: FutureWarning: The default value of `n_init` will change from 10 to 'auto' in 1.4. Set the value of `n_init` explicitly to suppress the warning\n",
      "  super()._check_params_vs_input(X, default_n_init=10)\n",
      "c:\\Users\\jesse\\anaconda3\\Lib\\site-packages\\sklearn\\cluster\\_kmeans.py:1416: FutureWarning: The default value of `n_init` will change from 10 to 'auto' in 1.4. Set the value of `n_init` explicitly to suppress the warning\n",
      "  super()._check_params_vs_input(X, default_n_init=10)\n",
      "c:\\Users\\jesse\\anaconda3\\Lib\\site-packages\\sklearn\\cluster\\_kmeans.py:1416: FutureWarning: The default value of `n_init` will change from 10 to 'auto' in 1.4. Set the value of `n_init` explicitly to suppress the warning\n",
      "  super()._check_params_vs_input(X, default_n_init=10)\n"
     ]
    }
   ],
   "source": [
    "from sklearn.cluster import KMeans\n",
    "from scipy.cluster.hierarchy import dendrogram, linkage\n",
    "import matplotlib.pyplot as plt\n",
    "\n",
    "inertia = []\n",
    "for k in range(2, 20):\n",
    "    kmeans = KMeans(n_clusters=k, random_state=1).fit(x)\n",
    "    inertia.append(np.sqrt(kmeans.inertia_))"
   ]
  },
  {
   "cell_type": "code",
   "execution_count": 16,
   "metadata": {},
   "outputs": [
    {
     "data": {
      "text/plain": [
       "Text(0, 0.5, 'Variance')"
      ]
     },
     "execution_count": 16,
     "metadata": {},
     "output_type": "execute_result"
    },
    {
     "data": {
      "image/png": "[encoded data removed]",
      "text/plain": [
       "<Figure size 640x480 with 1 Axes>"
      ]
     },
     "metadata": {},
     "output_type": "display_data"
    }
   ],
   "source": [
    "plt.plot(range(2,20), inertia, marker='s');\n",
    "plt.xlabel('$k$')\n",
    "plt.ylabel('Variance')"
   ]
  },
  {
   "cell_type": "code",
   "execution_count": 45,
   "metadata": {},
   "outputs": [
    {
     "name": "stderr",
     "output_type": "stream",
     "text": [
      "c:\\Users\\jesse\\anaconda3\\Lib\\site-packages\\sklearn\\cluster\\_kmeans.py:1416: FutureWarning: The default value of `n_init` will change from 10 to 'auto' in 1.4. Set the value of `n_init` explicitly to suppress the warning\n",
      "  super()._check_params_vs_input(X, default_n_init=10)\n",
      "c:\\Users\\jesse\\anaconda3\\Lib\\site-packages\\sklearn\\cluster\\_kmeans.py:1416: FutureWarning: The default value of `n_init` will change from 10 to 'auto' in 1.4. Set the value of `n_init` explicitly to suppress the warning\n",
      "  super()._check_params_vs_input(X, default_n_init=10)\n"
     ]
    }
   ],
   "source": [
    "#create KMeans model\n",
    "kmeans = KMeans(n_clusters=8, random_state=1).fit(x)\n",
    "y = kmeans.fit_predict(x)"
   ]
  },
  {
   "cell_type": "code",
   "execution_count": 46,
   "metadata": {},
   "outputs": [],
   "source": [
    "#assign cluster labels to coordinates dataframe\n",
    "coordinates_df['cluster'] = y"
   ]
  },
  {
   "cell_type": "code",
   "execution_count": 47,
   "metadata": {},
   "outputs": [
    {
     "data": {
      "text/plain": [
       "cluster\n",
       "7    1087\n",
       "0     358\n",
       "5     331\n",
       "1     301\n",
       "6     296\n",
       "4     178\n",
       "3       3\n",
       "2       1\n",
       "Name: count, dtype: int64"
      ]
     },
     "execution_count": 47,
     "metadata": {},
     "output_type": "execute_result"
    }
   ],
   "source": [
    "coordinates_df['cluster'].value_counts()"
   ]
  },
  {
   "cell_type": "code",
   "execution_count": 48,
   "metadata": {},
   "outputs": [
    {
     "name": "stdout",
     "output_type": "stream",
     "text": [
      "Cluster 0:\n",
      "0                                         Sweet Ophelia\n",
      "16                                          Cry for You\n",
      "32                                          Happy Idiot\n",
      "41    Giusto Ciel, in tal periglio (Arie der Anna) -...\n",
      "59                                   Come, Gentle Night\n",
      "67                                             Emmanuel\n",
      "73              La plus que lente, L. 121 (Arr. Roques)\n",
      "77    Requiem No. 1 in C Minor: Introitus et Kyrie: ...\n",
      "79                                      Come Back to Us\n",
      "82    Purcell: Dido and Aeneas, Z. 626, Act III: Son...\n",
      "Name: track.name, dtype: object\n",
      "\n",
      "\n",
      "Cluster 1:\n",
      "13                                              Get Away\n",
      "37                                           Nasty Girls\n",
      "43                                         The Poet Acts\n",
      "49     The Hours - The Hours - Arr. for cello and pia...\n",
      "57     Jenny of Oldstones (From \"Game of Thrones\") - ...\n",
      "75                                            The Dancer\n",
      "81                                            Near Light\n",
      "111    Symphony No. 3, Op. 36: I. Lento - Sostenuto T...\n",
      "115                                                Daisy\n",
      "118                                      Congratulations\n",
      "Name: track.name, dtype: object\n",
      "\n",
      "\n",
      "Cluster 2:\n",
      "1272    Wish On An Eyelash\n",
      "Name: track.name, dtype: object\n",
      "\n",
      "\n",
      "Cluster 3:\n",
      "10         Ori Ori\n",
      "703    Barren King\n",
      "881          Slave\n",
      "Name: track.name, dtype: object\n",
      "\n",
      "\n",
      "Cluster 4:\n",
      "26                           Lola - 2020 Stereo Remaster\n",
      "36                                             September\n",
      "60                                          Ave Generosa\n",
      "66                                    If You Should Fall\n",
      "71                                                Andrei\n",
      "86                                     And We Walk After\n",
      "87                                           Hotel Sayre\n",
      "94                                Si Dolce È Il Tormento\n",
      "98                                            Dusty Room\n",
      "104    Pan's Labyrinth Lullaby (from \"Pan's Labyrinth...\n",
      "Name: track.name, dtype: object\n",
      "\n",
      "\n",
      "Cluster 5:\n",
      "29                                      She's Kinda Hot\n",
      "31                                                    嘘\n",
      "33                                              Cecilia\n",
      "39                                      Aeolian Lullaby\n",
      "44                                Dumbledore's Farewell\n",
      "50    The Slightly Chipped Full Moon (Soundtrack fro...\n",
      "63                                   Perfectly Splendid\n",
      "68                                               Faggot\n",
      "70    Zelda's Lullaby (The Legend of Zelda: Ocarina ...\n",
      "85                                          Go Tomorrow\n",
      "Name: track.name, dtype: object\n",
      "\n",
      "\n",
      "Cluster 6:\n",
      "7                 Oh Fortuna - Carmina Burana - VIP Mix\n",
      "19                                Impressive Depressive\n",
      "45    Recomposed by Peter Gregson: Bach - Cello Suit...\n",
      "46                                            Atonement\n",
      "47                                            With Love\n",
      "53                                            Not Today\n",
      "54    Giulio Cesare in Egitto, HWV 17, Act II, Scene...\n",
      "55                Nisi Dominus, RV 608: IV. Cum dederit\n",
      "56                                             Solitude\n",
      "58    In furore iustissimae irae, RV.626 - Motet - C...\n",
      "Name: track.name, dtype: object\n",
      "\n",
      "\n",
      "Cluster 7:\n",
      "1             Hazy Shade of Winter (feat. Ray Toro)\n",
      "2                                  Stuck in My Ways\n",
      "3                               Cradle to the Grave\n",
      "5                                          Canto 34\n",
      "6                           The Ballad of Mona Lisa\n",
      "8                                       Hard To See\n",
      "9                                     Get Out Alive\n",
      "11                 Surfin' U.S.A. - Remastered 2001\n",
      "12                         Ladies Love Country Boys\n",
      "14    The Ballad Of John And Yoko - Remastered 2015\n",
      "Name: track.name, dtype: object\n",
      "\n",
      "\n"
     ]
    }
   ],
   "source": [
    "for i in range(8):\n",
    "    cluster = coordinates_df[coordinates_df['cluster'] == i]\n",
    "    print(f\"Cluster {i}:\")\n",
    "    print(cluster['track.name'].head(10))\n",
    "    print('\\n')"
   ]
  },
  {
   "cell_type": "code",
   "execution_count": 50,
   "metadata": {},
   "outputs": [
    {
     "name": "stderr",
     "output_type": "stream",
     "text": [
      "c:\\Users\\jesse\\anaconda3\\Lib\\site-packages\\sklearn\\cluster\\_kmeans.py:1416: FutureWarning:\n",
      "\n",
      "The default value of `n_init` will change from 10 to 'auto' in 1.4. Set the value of `n_init` explicitly to suppress the warning\n",
      "\n",
      "c:\\Users\\jesse\\anaconda3\\Lib\\site-packages\\sklearn\\cluster\\_kmeans.py:1416: FutureWarning:\n",
      "\n",
      "The default value of `n_init` will change from 10 to 'auto' in 1.4. Set the value of `n_init` explicitly to suppress the warning\n",
      "\n"
     ]
    }
   ],
   "source": [
    "#create KMeans model\n",
    "kmeans = KMeans(n_clusters=14, random_state=1).fit(x)\n",
    "y = kmeans.fit_predict(x)"
   ]
  },
  {
   "cell_type": "code",
   "execution_count": 51,
   "metadata": {},
   "outputs": [],
   "source": [
    "#assign cluster labels to coordinates dataframe\n",
    "coordinates_df['cluster'] = y"
   ]
  },
  {
   "cell_type": "code",
   "execution_count": 52,
   "metadata": {},
   "outputs": [
    {
     "data": {
      "text/plain": [
       "cluster\n",
       "4     1051\n",
       "2      318\n",
       "6      254\n",
       "8      253\n",
       "0      191\n",
       "11     149\n",
       "7      122\n",
       "10     115\n",
       "1       82\n",
       "3       14\n",
       "12       2\n",
       "13       2\n",
       "5        1\n",
       "9        1\n",
       "Name: count, dtype: int64"
      ]
     },
     "execution_count": 52,
     "metadata": {},
     "output_type": "execute_result"
    }
   ],
   "source": [
    "coordinates_df['cluster'].value_counts()"
   ]
  },
  {
   "cell_type": "code",
   "execution_count": 53,
   "metadata": {},
   "outputs": [
    {
     "name": "stdout",
     "output_type": "stream",
     "text": [
      "Cluster 0:\n",
      "50     The Slightly Chipped Full Moon (Soundtrack fro...\n",
      "63                                    Perfectly Splendid\n",
      "68                                                Faggot\n",
      "72     Concerto for Cello and Orchestra in A Minor, O...\n",
      "73               La plus que lente, L. 121 (Arr. Roques)\n",
      "84                                 The Approaching Night\n",
      "85                                           Go Tomorrow\n",
      "86                                     And We Walk After\n",
      "94                                Si Dolce È Il Tormento\n",
      "107                                     Severus and Lily\n",
      "Name: track.name, dtype: object\n",
      "\n",
      "\n",
      "Cluster 1:\n",
      "13                                              Get Away\n",
      "70     Zelda's Lullaby (The Legend of Zelda: Ocarina ...\n",
      "102                                 Polifemo: Alto Giove\n",
      "122                            Mafiosa (feat. Caroliina)\n",
      "150                                       Nowhere To Run\n",
      "233                                     Like Patsy Would\n",
      "237                                              No Face\n",
      "254                                  Misquote (Acoustic)\n",
      "258                                      After the Storm\n",
      "269                                        Family's Song\n",
      "Name: track.name, dtype: object\n",
      "\n",
      "\n",
      "Cluster 2:\n",
      "11                      Surfin' U.S.A. - Remastered 2001\n",
      "17                                             Paralyzer\n",
      "19                                 Impressive Depressive\n",
      "48                     Bella's Lullaby (From \"Twilight\")\n",
      "60                                          Ave Generosa\n",
      "78                                        Path 5 (delta)\n",
      "82     Purcell: Dido and Aeneas, Z. 626, Act III: Son...\n",
      "97             My Old Green Shirt, Coffee and Cigarettes\n",
      "119                                   Hotel Room Service\n",
      "123                                                Pause\n",
      "Name: track.name, dtype: object\n",
      "\n",
      "\n",
      "Cluster 3:\n",
      "224       The Time (Dirty Bit)\n",
      "378                     Church\n",
      "464         Doctors & Churches\n",
      "616     Sugar, We're Goin Down\n",
      "683         Black Smoke Rising\n",
      "901                  Novocaine\n",
      "909             Alone Together\n",
      "911         Just One Yesterday\n",
      "1112               Live To Win\n",
      "1183               Lisztomania\n",
      "Name: track.name, dtype: object\n",
      "\n",
      "\n",
      "Cluster 4:\n",
      "0                                     Sweet Ophelia\n",
      "2                                  Stuck in My Ways\n",
      "3                               Cradle to the Grave\n",
      "5                                          Canto 34\n",
      "6                           The Ballad of Mona Lisa\n",
      "8                                       Hard To See\n",
      "9                                     Get Out Alive\n",
      "12                         Ladies Love Country Boys\n",
      "14    The Ballad Of John And Yoko - Remastered 2015\n",
      "18                             Girls / Girls / Boys\n",
      "Name: track.name, dtype: object\n",
      "\n",
      "\n",
      "Cluster 5:\n",
      "2399    Fuck You\n",
      "Name: track.name, dtype: object\n",
      "\n",
      "\n",
      "Cluster 6:\n",
      "23                                                Fresh\n",
      "26                          Lola - 2020 Stereo Remaster\n",
      "39                                      Aeolian Lullaby\n",
      "40                                                Limbo\n",
      "43                                        The Poet Acts\n",
      "44                                Dumbledore's Farewell\n",
      "45    Recomposed by Peter Gregson: Bach - Cello Suit...\n",
      "47                                            With Love\n",
      "49    The Hours - The Hours - Arr. for cello and pia...\n",
      "54    Giulio Cesare in Egitto, HWV 17, Act II, Scene...\n",
      "Name: track.name, dtype: object\n",
      "\n",
      "\n",
      "Cluster 7:\n",
      "7                  Oh Fortuna - Carmina Burana - VIP Mix\n",
      "10                                               Ori Ori\n",
      "36                                             September\n",
      "46                                             Atonement\n",
      "53                                             Not Today\n",
      "64                                            Two Swords\n",
      "76                        Raymonda, Act III: Variation 4\n",
      "149    WHATS POPPIN (feat. DaBaby, Tory Lanez & Lil W...\n",
      "200                                             Bad Idea\n",
      "202                                         If I'm Lucky\n",
      "Name: track.name, dtype: object\n",
      "\n",
      "\n",
      "Cluster 8:\n",
      "1      Hazy Shade of Winter (feat. Ray Toro)\n",
      "15                                  Given Up\n",
      "16                               Cry for You\n",
      "32                               Happy Idiot\n",
      "33                                   Cecilia\n",
      "42                               Unbreakable\n",
      "66                        If You Should Fall\n",
      "87                               Hotel Sayre\n",
      "93                             Sofia's Waltz\n",
      "101                         Scarborough Fair\n",
      "Name: track.name, dtype: object\n",
      "\n",
      "\n",
      "Cluster 9:\n",
      "2447    Bilgewater\n",
      "Name: track.name, dtype: object\n",
      "\n",
      "\n",
      "Cluster 10:\n",
      "24                           Limbo\n",
      "29                 She's Kinda Hot\n",
      "31                               嘘\n",
      "108                         Berlin\n",
      "118                Congratulations\n",
      "132                      Bubblegum\n",
      "148    Body Good (feat. Nicky Jam)\n",
      "152                   Prince Harry\n",
      "162                    Beach House\n",
      "167                      supercuts\n",
      "Name: track.name, dtype: object\n",
      "\n",
      "\n",
      "Cluster 11:\n",
      "37                                           Nasty Girls\n",
      "41     Giusto Ciel, in tal periglio (Arie der Anna) -...\n",
      "71                                                Andrei\n",
      "77     Requiem No. 1 in C Minor: Introitus et Kyrie: ...\n",
      "79                                       Come Back to Us\n",
      "137                                          Bola Rebola\n",
      "244                                     The Night We Met\n",
      "256                                        Jessie’s Girl\n",
      "271                                Welcome to Wonderland\n",
      "292                                              Promise\n",
      "Name: track.name, dtype: object\n",
      "\n",
      "\n",
      "Cluster 12:\n",
      "263      Deliver Us\n",
      "1694    The Plagues\n",
      "Name: track.name, dtype: object\n",
      "\n",
      "\n",
      "Cluster 13:\n",
      "484     Wait so Long\n",
      "1871    Wait So Long\n",
      "Name: track.name, dtype: object\n",
      "\n",
      "\n",
      "Cluster 14:\n",
      "Series([], Name: track.name, dtype: object)\n",
      "\n",
      "\n"
     ]
    }
   ],
   "source": [
    "for i in range(15):\n",
    "    cluster = coordinates_df[coordinates_df['cluster'] == i]\n",
    "    print(f\"Cluster {i}:\")\n",
    "    print(cluster['track.name'].head(10))\n",
    "    print('\\n')"
   ]
  },
  {
   "cell_type": "code",
   "execution_count": 33,
   "metadata": {},
   "outputs": [],
   "source": [
    "# # Start with a minimum number of clusters\n",
    "# weird = []\n",
    "# n_clusters = 15\n",
    "\n",
    "# while True:\n",
    "#     kproto = KPrototypes(n_clusters=n_clusters, random_state=42)\n",
    "#     clusters = kproto.fit_predict(x, categorical=categorical_indices)\n",
    "#     cluster_sizes = np.bincount(clusters)\n",
    "#     if np.all((cluster_sizes >= 15) & (cluster_sizes <= 250)):\n",
    "#         break\n",
    "#     #if one or more clusters have less than 3 members, add those 3 members to 'weird' and remove them from x\n",
    "#     else:\n",
    "#         for i in range(len(cluster_sizes)):\n",
    "#             if cluster_sizes[i] < 5:\n",
    "#                 weird.append(x[clusters == i])\n",
    "#                 x = x[clusters != i]\n",
    "\n",
    "#     n_clusters += 2\n",
    "\n",
    "# print(f\"Number of clusters needed: {n_clusters}\")"
   ]
  },
  {
   "cell_type": "markdown",
   "metadata": {},
   "source": [
    "### Playing with constraints"
   ]
  },
  {
   "cell_type": "code",
   "execution_count": 34,
   "metadata": {},
   "outputs": [],
   "source": [
    "from k_means_constrained import KMeansConstrained\n",
    "\n",
    "clf = KMeansConstrained(\n",
    "    n_clusters = 15,\n",
    "    size_min = 25,\n",
    "    size_max = 300,\n",
    "    random_state = 42)"
   ]
  },
  {
   "cell_type": "code",
   "execution_count": 35,
   "metadata": {},
   "outputs": [],
   "source": [
    "y = clf.fit_predict(x)"
   ]
  },
  {
   "cell_type": "code",
   "execution_count": 36,
   "metadata": {},
   "outputs": [
    {
     "name": "stdout",
     "output_type": "stream",
     "text": [
      "Cluster 0:\n",
      "0                                         Sweet Ophelia\n",
      "16                                          Cry for You\n",
      "32                                          Happy Idiot\n",
      "41    Giusto Ciel, in tal periglio (Arie der Anna) -...\n",
      "59                                   Come, Gentle Night\n",
      "67                                             Emmanuel\n",
      "73              La plus que lente, L. 121 (Arr. Roques)\n",
      "77    Requiem No. 1 in C Minor: Introitus et Kyrie: ...\n",
      "79                                      Come Back to Us\n",
      "82    Purcell: Dido and Aeneas, Z. 626, Act III: Son...\n",
      "Name: track.name, dtype: object\n",
      "\n",
      "\n",
      "Cluster 1:\n",
      "13                                              Get Away\n",
      "37                                           Nasty Girls\n",
      "43                                         The Poet Acts\n",
      "49     The Hours - The Hours - Arr. for cello and pia...\n",
      "57     Jenny of Oldstones (From \"Game of Thrones\") - ...\n",
      "75                                            The Dancer\n",
      "81                                            Near Light\n",
      "111    Symphony No. 3, Op. 36: I. Lento - Sostenuto T...\n",
      "115                                                Daisy\n",
      "118                                      Congratulations\n",
      "Name: track.name, dtype: object\n",
      "\n",
      "\n",
      "Cluster 2:\n",
      "1272    Wish On An Eyelash\n",
      "Name: track.name, dtype: object\n",
      "\n",
      "\n",
      "Cluster 3:\n",
      "10         Ori Ori\n",
      "703    Barren King\n",
      "881          Slave\n",
      "Name: track.name, dtype: object\n",
      "\n",
      "\n",
      "Cluster 4:\n",
      "26                           Lola - 2020 Stereo Remaster\n",
      "36                                             September\n",
      "60                                          Ave Generosa\n",
      "66                                    If You Should Fall\n",
      "71                                                Andrei\n",
      "86                                     And We Walk After\n",
      "87                                           Hotel Sayre\n",
      "94                                Si Dolce È Il Tormento\n",
      "98                                            Dusty Room\n",
      "104    Pan's Labyrinth Lullaby (from \"Pan's Labyrinth...\n",
      "Name: track.name, dtype: object\n",
      "\n",
      "\n",
      "Cluster 5:\n",
      "29                                      She's Kinda Hot\n",
      "31                                                    嘘\n",
      "33                                              Cecilia\n",
      "39                                      Aeolian Lullaby\n",
      "44                                Dumbledore's Farewell\n",
      "50    The Slightly Chipped Full Moon (Soundtrack fro...\n",
      "63                                   Perfectly Splendid\n",
      "68                                               Faggot\n",
      "70    Zelda's Lullaby (The Legend of Zelda: Ocarina ...\n",
      "85                                          Go Tomorrow\n",
      "Name: track.name, dtype: object\n",
      "\n",
      "\n",
      "Cluster 6:\n",
      "7                 Oh Fortuna - Carmina Burana - VIP Mix\n",
      "19                                Impressive Depressive\n",
      "45    Recomposed by Peter Gregson: Bach - Cello Suit...\n",
      "46                                            Atonement\n",
      "47                                            With Love\n",
      "53                                            Not Today\n",
      "54    Giulio Cesare in Egitto, HWV 17, Act II, Scene...\n",
      "55                Nisi Dominus, RV 608: IV. Cum dederit\n",
      "56                                             Solitude\n",
      "58    In furore iustissimae irae, RV.626 - Motet - C...\n",
      "Name: track.name, dtype: object\n",
      "\n",
      "\n",
      "Cluster 7:\n",
      "1             Hazy Shade of Winter (feat. Ray Toro)\n",
      "2                                  Stuck in My Ways\n",
      "3                               Cradle to the Grave\n",
      "5                                          Canto 34\n",
      "6                           The Ballad of Mona Lisa\n",
      "8                                       Hard To See\n",
      "9                                     Get Out Alive\n",
      "11                 Surfin' U.S.A. - Remastered 2001\n",
      "12                         Ladies Love Country Boys\n",
      "14    The Ballad Of John And Yoko - Remastered 2015\n",
      "Name: track.name, dtype: object\n",
      "\n",
      "\n",
      "Cluster 8:\n",
      "Series([], Name: track.name, dtype: object)\n",
      "\n",
      "\n",
      "Cluster 9:\n",
      "Series([], Name: track.name, dtype: object)\n",
      "\n",
      "\n",
      "Cluster 10:\n",
      "Series([], Name: track.name, dtype: object)\n",
      "\n",
      "\n",
      "Cluster 11:\n",
      "Series([], Name: track.name, dtype: object)\n",
      "\n",
      "\n",
      "Cluster 12:\n",
      "Series([], Name: track.name, dtype: object)\n",
      "\n",
      "\n",
      "Cluster 13:\n",
      "Series([], Name: track.name, dtype: object)\n",
      "\n",
      "\n",
      "Cluster 14:\n",
      "Series([], Name: track.name, dtype: object)\n",
      "\n",
      "\n"
     ]
    }
   ],
   "source": [
    "for i in range(15):\n",
    "    cluster = coordinates_df[coordinates_df['cluster'] == i]\n",
    "    print(f\"Cluster {i}:\")\n",
    "    print(cluster['track.name'].head(10))\n",
    "    print('\\n')"
   ]
  },
  {
   "cell_type": "code",
   "execution_count": 37,
   "metadata": {},
   "outputs": [],
   "source": [
    "#put y onto coordinates_df\n",
    "coordinates_df['cluster'] = y"
   ]
  },
  {
   "cell_type": "code",
   "execution_count": 38,
   "metadata": {},
   "outputs": [
    {
     "data": {
      "text/plain": [
       "cluster\n",
       "4     300\n",
       "7     300\n",
       "14    300\n",
       "9     300\n",
       "1     298\n",
       "5     288\n",
       "12    271\n",
       "3     195\n",
       "8     132\n",
       "2      33\n",
       "6      32\n",
       "0      31\n",
       "13     25\n",
       "11     25\n",
       "10     25\n",
       "Name: count, dtype: int64"
      ]
     },
     "execution_count": 38,
     "metadata": {},
     "output_type": "execute_result"
    }
   ],
   "source": [
    "coordinates_df['cluster'].value_counts()"
   ]
  },
  {
   "cell_type": "code",
   "execution_count": 39,
   "metadata": {},
   "outputs": [
    {
     "name": "stdout",
     "output_type": "stream",
     "text": [
      "Cluster 0:\n",
      "31                                                     嘘\n",
      "32                                           Happy Idiot\n",
      "57     Jenny of Oldstones (From \"Game of Thrones\") - ...\n",
      "128                                                Rolex\n",
      "200                                             Bad Idea\n",
      "298    Violin Concerto in G Minor, Op. 80: I. Allegro...\n",
      "406                                            Renegades\n",
      "482                               Down With The Trumpets\n",
      "663                                             Enchanté\n",
      "706                Well, Everybody's Fucking In A U.F.O.\n",
      "Name: track.name, dtype: object\n",
      "\n",
      "\n",
      "Cluster 1:\n",
      "0                                         Sweet Ophelia\n",
      "45    Recomposed by Peter Gregson: Bach - Cello Suit...\n",
      "46                                            Atonement\n",
      "53                                            Not Today\n",
      "61    Recomposed by Peter Gregson: Bach - Cello Suit...\n",
      "63                                   Perfectly Splendid\n",
      "64                                           Two Swords\n",
      "74                          That Was A Serious Question\n",
      "81                                           Near Light\n",
      "85                                          Go Tomorrow\n",
      "Name: track.name, dtype: object\n",
      "\n",
      "\n",
      "Cluster 2:\n",
      "96                             Strokur\n",
      "132                          Bubblegum\n",
      "297                You Are My Sunshine\n",
      "394    More - RedOne Jimmy Joker Remix\n",
      "566                         Love Drunk\n",
      "641                    The Destruction\n",
      "664                      She's so Mean\n",
      "674                              Zumba\n",
      "806                       Cut the Cord\n",
      "899                           Stranger\n",
      "Name: track.name, dtype: object\n",
      "\n",
      "\n",
      "Cluster 3:\n",
      "7                 Oh Fortuna - Carmina Burana - VIP Mix\n",
      "23                                                Fresh\n",
      "30                                     Song for Winners\n",
      "39                                      Aeolian Lullaby\n",
      "54    Giulio Cesare in Egitto, HWV 17, Act II, Scene...\n",
      "55                Nisi Dominus, RV 608: IV. Cum dederit\n",
      "58    In furore iustissimae irae, RV.626 - Motet - C...\n",
      "69    Juditha Triumphans, RV 644, Pt. 1: Veni, me se...\n",
      "75                                           The Dancer\n",
      "88                   Salve Regina HWV 241: Salve Regina\n",
      "Name: track.name, dtype: object\n",
      "\n",
      "\n",
      "Cluster 4:\n",
      "2             Stuck in My Ways\n",
      "3          Cradle to the Grave\n",
      "5                     Canto 34\n",
      "8                  Hard To See\n",
      "9                Get Out Alive\n",
      "12    Ladies Love Country Boys\n",
      "15                    Given Up\n",
      "17                   Paralyzer\n",
      "25      Down with the Sickness\n",
      "56                    Solitude\n",
      "Name: track.name, dtype: object\n",
      "\n",
      "\n",
      "Cluster 5:\n",
      "1                 Hazy Shade of Winter (feat. Ray Toro)\n",
      "13                                             Get Away\n",
      "47                                            With Love\n",
      "48                    Bella's Lullaby (From \"Twilight\")\n",
      "50    The Slightly Chipped Full Moon (Soundtrack fro...\n",
      "66                                   If You Should Fall\n",
      "77    Requiem No. 1 in C Minor: Introitus et Kyrie: ...\n",
      "79                                      Come Back to Us\n",
      "83                                          Hidden Door\n",
      "84                                The Approaching Night\n",
      "Name: track.name, dtype: object\n",
      "\n",
      "\n",
      "Cluster 6:\n",
      "10                          Ori Ori\n",
      "19            Impressive Depressive\n",
      "36                        September\n",
      "148     Body Good (feat. Nicky Jam)\n",
      "692                         Bonfire\n",
      "703                     Barren King\n",
      "800      (I Just) Died in Your Arms\n",
      "881                           Slave\n",
      "1078              The Factory Gates\n",
      "1104            Don't Bring Me Down\n",
      "Name: track.name, dtype: object\n",
      "\n",
      "\n",
      "Cluster 7:\n",
      "6                                The Ballad of Mona Lisa\n",
      "11                      Surfin' U.S.A. - Remastered 2001\n",
      "16                                           Cry for You\n",
      "18                                  Girls / Girls / Boys\n",
      "38                                What You Saw Was A Lie\n",
      "59                                    Come, Gentle Night\n",
      "82     Purcell: Dido and Aeneas, Z. 626, Act III: Son...\n",
      "118                                      Congratulations\n",
      "119                                   Hotel Room Service\n",
      "123                                                Pause\n",
      "Name: track.name, dtype: object\n",
      "\n",
      "\n",
      "Cluster 8:\n",
      "40                                                Limbo\n",
      "51                                 That Feeling, Though\n",
      "52                                     Van Gogh Theme I\n",
      "60                                         Ave Generosa\n",
      "65     Si dolce è il tormento - from \"Scherzi Musicali\"\n",
      "67                                             Emmanuel\n",
      "68                                               Faggot\n",
      "70    Zelda's Lullaby (The Legend of Zelda: Ocarina ...\n",
      "72    Concerto for Cello and Orchestra in A Minor, O...\n",
      "76                       Raymonda, Act III: Variation 4\n",
      "Name: track.name, dtype: object\n",
      "\n",
      "\n",
      "Cluster 9:\n",
      "21               Girls\n",
      "24               Limbo\n",
      "27              Oh No!\n",
      "89              Echoes\n",
      "115              Daisy\n",
      "121             Sharks\n",
      "142    Not Today Satan\n",
      "155              Toxic\n",
      "160               Numb\n",
      "183    Sissy That Walk\n",
      "Name: track.name, dtype: object\n",
      "\n",
      "\n",
      "Cluster 10:\n",
      "137                                          Bola Rebola\n",
      "483                                    Ladies Come First\n",
      "528                                              Mustang\n",
      "592                                      Mary On A Cross\n",
      "690                                        Yellow Mellow\n",
      "752                            Tonight (I'm Fuckin' You)\n",
      "809    You Know My Name - From \"Casino Royale\" Soundt...\n",
      "821                                                Venom\n",
      "879                               All American Nightmare\n",
      "946               Thunder in My Heart Again (Radio Edit)\n",
      "Name: track.name, dtype: object\n",
      "\n",
      "\n",
      "Cluster 11:\n",
      "43                                          The Poet Acts\n",
      "49      The Hours - The Hours - Arr. for cello and pia...\n",
      "304                                                 Agony\n",
      "467                                        Bigger Than Us\n",
      "652                                           Devil Train\n",
      "915                                         Jessie's Girl\n",
      "941                                          C'est La Vie\n",
      "1239                                        People Change\n",
      "1272                                   Wish On An Eyelash\n",
      "1599                                           Robin Hood\n",
      "Name: track.name, dtype: object\n",
      "\n",
      "\n",
      "Cluster 12:\n",
      "29                                       She's Kinda Hot\n",
      "33                                               Cecilia\n",
      "35                                               Cloud 9\n",
      "41     Giusto Ciel, in tal periglio (Arie der Anna) -...\n",
      "44                                 Dumbledore's Farewell\n",
      "71                                                Andrei\n",
      "73               La plus que lente, L. 121 (Arr. Roques)\n",
      "80                           It is ok to be sad and dark\n",
      "101                                     Scarborough Fair\n",
      "120                                         Trust Issues\n",
      "Name: track.name, dtype: object\n",
      "\n",
      "\n",
      "Cluster 13:\n",
      "37                                         Nasty Girls\n",
      "94                              Si Dolce È Il Tormento\n",
      "151                                     From Your Room\n",
      "263                                         Deliver Us\n",
      "539                   Can't Believe It (feat. Pitbull)\n",
      "544    4 Minutes (feat. Justin Timberlake & Timbaland)\n",
      "605                                        Combat Baby\n",
      "669                                        Work It Out\n",
      "679                                       Come To Play\n",
      "735                      All I Want Is to Be Your Girl\n",
      "Name: track.name, dtype: object\n",
      "\n",
      "\n",
      "Cluster 14:\n",
      "14     The Ballad Of John And Yoko - Remastered 2015\n",
      "26                       Lola - 2020 Stereo Remaster\n",
      "34                 She Loves You - Mono / Remastered\n",
      "42                                       Unbreakable\n",
      "86                                 And We Walk After\n",
      "91                                 Nocturne Carceris\n",
      "92                                           Introit\n",
      "110                                Sociopath Detuned\n",
      "113                                   Dark Für Elise\n",
      "114                                             Cold\n",
      "Name: track.name, dtype: object\n",
      "\n",
      "\n"
     ]
    }
   ],
   "source": [
    "#what songs are in each cluster?\n",
    "for i in range(15):\n",
    "    cluster = coordinates_df[coordinates_df['cluster'] == i]\n",
    "    print(f\"Cluster {i}:\")\n",
    "    print(cluster['track.name'].head(10))\n",
    "    print('\\n')"
   ]
  },
  {
   "cell_type": "markdown",
   "metadata": {},
   "source": [
    "THESE LOOK TERRIBLE!"
   ]
  },
  {
   "cell_type": "markdown",
   "metadata": {},
   "source": [
    "## Redoing FAMD"
   ]
  },
  {
   "cell_type": "code",
   "execution_count": 54,
   "metadata": {},
   "outputs": [
    {
     "name": "stderr",
     "output_type": "stream",
     "text": [
      "c:\\Users\\jesse\\anaconda3\\Lib\\site-packages\\prince\\pca.py:175: PerformanceWarning:\n",
      "\n",
      "Concatenating sparse arrays with multiple fill values: '[-1.7314857934264356, -0.5984323944474182, -1.2821215295120647, -0.06256112470898545, -0.04423739552038088, -0.15950019784171426, -0.08847479104076177, -0.07662141663581953, -0.13271218656114264, -0.1251222494179709, -0.11704114719613057, -0.10835904657461548, -0.09891782353111633, -0.18768337412695632, -0.21671809314923096, -0.34832560065325385, -0.19282633659877915, -0.2541244898865087, -0.17133069613002574, -0.14671884264365215, -0.37536674825391264, -0.17694958208152353, -0.42660999297446744, -0.23408229439226114, -2.2056678457538803, -0.367463405262941, -0.1655211777204736, -0.20272121351984576, -1.6798564844114445, -0.41967278279439957, -0.21215509594589552, -0.22556734298894415, -0.19783564706223267, -0.13989092759813318, -0.15324283327163907, -0.24229819411790596, -0.8287873394374106, -2.0545401016661144, -0.8825332688606092, -2.23606797749979]'. Picking the first and converting the rest.\n",
      "\n",
      "c:\\Users\\jesse\\anaconda3\\Lib\\site-packages\\prince\\pca.py:175: PerformanceWarning:\n",
      "\n",
      "Concatenating sparse arrays with multiple fill values: '[-1.7314857934264356, -0.5984323944474182, -1.2821215295120647, -0.06256112470898545, -0.04423739552038088, -0.15950019784171426, -0.08847479104076177, -0.07662141663581953, -0.13271218656114264, -0.1251222494179709, -0.11704114719613057, -0.10835904657461548, -0.09891782353111633, -0.18768337412695632, -0.21671809314923096, -0.34832560065325385, -0.19282633659877915, -0.2541244898865087, -0.17133069613002574, -0.14671884264365215, -0.37536674825391264, -0.17694958208152353, -0.42660999297446744, -0.23408229439226114, -2.2056678457538803, -0.367463405262941, -0.1655211777204736, -0.20272121351984576, -1.6798564844114445, -0.41967278279439957, -0.21215509594589552, -0.22556734298894415, -0.19783564706223267, -0.13989092759813318, -0.15324283327163907, -0.24229819411790596, -0.8287873394374106, -2.0545401016661144, -0.8825332688606092, -2.23606797749979]'. Picking the first and converting the rest.\n",
      "\n"
     ]
    },
    {
     "name": "stdout",
     "output_type": "stream",
     "text": [
      "component         0          1\n",
      "0         -3.236094  -7.009340\n",
      "1         -2.816405   9.186406\n",
      "2          0.307667   1.188000\n",
      "3          0.095528   1.684637\n",
      "5         -0.318466   0.068831\n",
      "6          1.279424   1.043591\n",
      "7         -7.214596  11.149087\n",
      "8          0.805315  -0.154551\n",
      "9         -1.907425  -1.000790\n",
      "...             ...        ...\n",
      "2841       3.216228   2.428885\n",
      "2842       3.795456   3.836244\n",
      "2843       3.615762   2.716603\n",
      "2844       3.296901   3.257041\n",
      "2845       4.640446   5.106024\n",
      "2846       1.136982   2.563391\n",
      "2847       0.282838   0.859590\n",
      "2848       1.806676   1.057597\n",
      "2849       1.864226   1.962202\n",
      "\n",
      "[2555 rows x 2 columns]\n"
     ]
    },
    {
     "data": {
      "text/html": [
       "<div>\n",
       "<style scoped>\n",
       "    .dataframe tbody tr th:only-of-type {\n",
       "        vertical-align: middle;\n",
       "    }\n",
       "\n",
       "    .dataframe tbody tr th {\n",
       "        vertical-align: top;\n",
       "    }\n",
       "\n",
       "    .dataframe thead th {\n",
       "        text-align: right;\n",
       "    }\n",
       "</style>\n",
       "<table border=\"1\" class=\"dataframe\">\n",
       "  <thead>\n",
       "    <tr style=\"text-align: right;\">\n",
       "      <th>component</th>\n",
       "      <th>0</th>\n",
       "      <th>1</th>\n",
       "      <th>track.name</th>\n",
       "      <th>track.artistName</th>\n",
       "      <th>track.id</th>\n",
       "    </tr>\n",
       "  </thead>\n",
       "  <tbody>\n",
       "    <tr>\n",
       "      <th>0</th>\n",
       "      <td>-3.236094</td>\n",
       "      <td>-7.009340</td>\n",
       "      <td>Sweet Ophelia</td>\n",
       "      <td>Zella Day</td>\n",
       "      <td>1jPZgfC9tWFNf7iBGdrTPV</td>\n",
       "    </tr>\n",
       "    <tr>\n",
       "      <th>1</th>\n",
       "      <td>-2.816405</td>\n",
       "      <td>9.186406</td>\n",
       "      <td>Hazy Shade of Winter (feat. Ray Toro)</td>\n",
       "      <td>Gerard Way</td>\n",
       "      <td>1tBZnhDT8xbgJTs43FiqrD</td>\n",
       "    </tr>\n",
       "  </tbody>\n",
       "</table>\n",
       "</div>"
      ],
      "text/plain": [
       "component         0         1  ... track.artistName                track.id\n",
       "0         -3.236094 -7.009340  ...        Zella Day  1jPZgfC9tWFNf7iBGdrTPV\n",
       "1         -2.816405  9.186406  ...       Gerard Way  1tBZnhDT8xbgJTs43FiqrD\n",
       "\n",
       "[2 rows x 5 columns]"
      ]
     },
     "execution_count": 54,
     "metadata": {},
     "output_type": "execute_result"
    }
   ],
   "source": [
    "# Assuming df is your DataFrame and n_components is the number of components you want to keep\n",
    "import prince\n",
    "\n",
    "famd = prince.FAMD(n_components=2, random_state=42)\n",
    "\n",
    "famd = famd.fit(df)  # fit the FAMD model\n",
    "\n",
    "coordinates = famd.transform(df)\n",
    "\n",
    "print(coordinates)\n",
    "coordinates_df = pd.DataFrame(coordinates).copy()\n",
    "coordinates_df['track.name'] = df['track.name']\n",
    "coordinates_df['track.artistName'] = df['track.artistName']\n",
    "coordinates_df['track.id'] = df['track.id']\n",
    "coordinates_df.head(2)"
   ]
  },
  {
   "cell_type": "code",
   "execution_count": 55,
   "metadata": {},
   "outputs": [
    {
     "data": {
      "application/vnd.plotly.v1+json": {
       "config": {
        "plotlyServerURL": "https://plot.ly"
       },
       "data": [
        {
         "customdata": [
          [
           "Sweet Ophelia",
           "Zella Day"
          ],
          [
           "Hazy Shade of Winter (feat. Ray Toro)",
           "Gerard Way"
          ],
          [
           "Stuck in My Ways",
           "Five Finger Death Punch"
          ],
          [
           "Cradle to the Grave",
           "Five Finger Death Punch"
          ],
          [
           "Canto 34",
           "Five Finger Death Punch"
          ],
          [
           "The Ballad of Mona Lisa",
           "Panic! At The Disco"
          ],
          [
           "Oh Fortuna - Carmina Burana - VIP Mix",
           "Timmy Trumpet"
          ],
          [
           "Hard To See",
           "Five Finger Death Punch"
          ],
          [
           "Get Out Alive",
           "Three Days Grace"
          ],
          [
           "Ori Ori",
           "Manntra"
          ],
          [
           "Surfin' U.S.A. - Remastered 2001",
           "The Beach Boys"
          ],
          [
           "Ladies Love Country Boys",
           "Trace Adkins"
          ],
          [
           "Get Away",
           "George Ezra"
          ],
          [
           "The Ballad Of John And Yoko - Remastered 2015",
           "The Beatles"
          ],
          [
           "Given Up",
           "Linkin Park"
          ],
          [
           "Cry for You",
           "September"
          ],
          [
           "Paralyzer",
           "Finger Eleven"
          ],
          [
           "Girls / Girls / Boys",
           "Panic! At The Disco"
          ],
          [
           "Impressive Depressive",
           "Bad Luck."
          ],
          [
           "Girls",
           "MARINA"
          ],
          [
           "Fresh",
           "Artist Vs Poet"
          ],
          [
           "Limbo",
           "Daddy Yankee"
          ],
          [
           "Down with the Sickness",
           "Disturbed"
          ],
          [
           "Lola - 2020 Stereo Remaster",
           "The Kinks"
          ],
          [
           "Oh No!",
           "MARINA"
          ],
          [
           "She's Kinda Hot",
           "5 Seconds of Summer"
          ],
          [
           "Song for Winners",
           "Nick Waterhouse"
          ],
          [
           "嘘",
           "SID"
          ],
          [
           "Happy Idiot",
           "TV On The Radio"
          ],
          [
           "Cecilia",
           "Simon & Garfunkel"
          ],
          [
           "She Loves You - Mono / Remastered",
           "The Beatles"
          ],
          [
           "Cloud 9",
           "Beach Bunny"
          ],
          [
           "September",
           "Earth, Wind & Fire"
          ],
          [
           "Nasty Girls",
           "HOLYCHILD"
          ],
          [
           "What You Saw Was A Lie",
           "Kris Bowers"
          ],
          [
           "Aeolian Lullaby",
           "Salvatore Altavilla"
          ],
          [
           "Limbo",
           "Lissom"
          ],
          [
           "Giusto Ciel, in tal periglio (Arie der Anna) - from \"Maometto secondo\"",
           "Gioachino Rossini"
          ],
          [
           "Unbreakable",
           "Andrew Lloyd Webber"
          ],
          [
           "The Poet Acts",
           "Philip Glass"
          ],
          [
           "Dumbledore's Farewell",
           "Nicholas Hooper"
          ],
          [
           "Recomposed by Peter Gregson: Bach - Cello Suite No. 5 in C Minor, BWV 1011: 1. Prelude",
           "Peter Gregson"
          ],
          [
           "Atonement",
           "Ramin Djawadi"
          ],
          [
           "With Love",
           "Rachel Portman"
          ],
          [
           "Bella's Lullaby (From \"Twilight\")",
           "Carter Burwell"
          ],
          [
           "The Hours - The Hours - Arr. for cello and piano by Bruno Fontaine: The poet acts",
           "Philip Glass"
          ],
          [
           "The Slightly Chipped Full Moon (Soundtrack from the Anime \"Black Butler\")",
           "Rolelush"
          ],
          [
           "That Feeling, Though",
           "Fabrizio Paterlini"
          ],
          [
           "Van Gogh Theme I",
           "Tatiana Lisovskaya"
          ],
          [
           "Not Today",
           "Ramin Djawadi"
          ],
          [
           "Giulio Cesare in Egitto, HWV 17, Act II, Scene 8: Se pietà di me non senti",
           "George Frideric Handel"
          ],
          [
           "Nisi Dominus, RV 608: IV. Cum dederit",
           "Antonio Vivaldi"
          ],
          [
           "Solitude",
           "Joep Beving"
          ],
          [
           "Jenny of Oldstones (From \"Game of Thrones\") - Piano Version",
           "Ian Wong"
          ],
          [
           "In furore iustissimae irae, RV.626 - Motet - Critical Edition Paul Everett: 2. Tunc meus fletus",
           "Antonio Vivaldi"
          ],
          [
           "Come, Gentle Night",
           "Abel Korzeniowski"
          ],
          [
           "Ave Generosa",
           "Hildegard von Bingen"
          ],
          [
           "Recomposed by Peter Gregson: Bach - Cello Suite No. 6 in D Major, BWV 1012: II. Allemande",
           "Peter Gregson"
          ],
          [
           "Perfectly Splendid",
           "The Newton Brothers"
          ],
          [
           "Two Swords",
           "Ramin Djawadi"
          ],
          [
           "Si dolce è il tormento - from \"Scherzi Musicali\"",
           "Claudio Monteverdi"
          ],
          [
           "If You Should Fall",
           "Craig Armstrong"
          ],
          [
           "Emmanuel",
           "Leo Z"
          ],
          [
           "Faggot",
           "Sam Vance-Law"
          ],
          [
           "Juditha Triumphans, RV 644, Pt. 1: Veni, me sequere fida",
           "Antonio Vivaldi"
          ],
          [
           "Zelda's Lullaby (The Legend of Zelda: Ocarina of Time)",
           "MajorLink"
          ],
          [
           "Andrei",
           "Martin Phipps"
          ],
          [
           "Concerto for Cello and Orchestra in A Minor, Op. 129: Nicht zu schnell",
           "Robert Schumann"
          ],
          [
           "La plus que lente, L. 121 (Arr. Roques)",
           "Claude Debussy"
          ],
          [
           "That Was A Serious Question",
           "Christopher Dicker"
          ],
          [
           "The Dancer",
           "Christopher Ferreira"
          ],
          [
           "Raymonda, Act III: Variation 4",
           "Alexander Glazunov"
          ],
          [
           "Requiem No. 1 in C Minor: Introitus et Kyrie: Requiem aeternam",
           "Luigi Cherubini"
          ],
          [
           "Path 5 (delta)",
           "Max Richter"
          ],
          [
           "Come Back to Us",
           "Thomas Newman"
          ],
          [
           "It is ok to be sad and dark",
           "Kepa Lehtinen"
          ],
          [
           "Near Light",
           "Ólafur Arnalds"
          ],
          [
           "Purcell: Dido and Aeneas, Z. 626, Act III: Song. \"When I Am Laid in Earth\" (Dido)",
           "Henry Purcell"
          ],
          [
           "Hidden Door",
           "Adam Hurst"
          ],
          [
           "The Approaching Night",
           "Philip Wesley"
          ],
          [
           "Go Tomorrow",
           "The Newton Brothers"
          ],
          [
           "And We Walk After",
           "Trevor Kowalski"
          ],
          [
           "Hotel Sayre",
           "Craig Armstrong"
          ],
          [
           "Salve Regina HWV 241: Salve Regina",
           "George Frideric Handel"
          ],
          [
           "Echoes",
           "Daniel Paterok"
          ],
          [
           "Nocturne Carceris",
           "Galt Aureus"
          ],
          [
           "Introit",
           "for KING & COUNTRY"
          ],
          [
           "Sofia's Waltz",
           "Carvajal"
          ],
          [
           "Si Dolce È Il Tormento",
           "Paolo Fresu"
          ],
          [
           "Waltz for the Dawn",
           "Christopher Dicker"
          ],
          [
           "Strokur",
           "Hildur Guðnadóttir"
          ],
          [
           "My Old Green Shirt, Coffee and Cigarettes",
           "Sergio Díaz De Rojas"
          ],
          [
           "Dusty Room",
           "Evgeny Grinko"
          ],
          [
           "Soma",
           "Tristan Eckerson"
          ],
          [
           "We All Complete",
           "Rachel Portman"
          ],
          [
           "Scarborough Fair",
           "Trafton"
          ],
          [
           "Polifemo: Alto Giove",
           "Nicola Porpora"
          ],
          [
           "A Hidden Life",
           "James Newton Howard"
          ],
          [
           "Pan's Labyrinth Lullaby (from \"Pan's Labyrinth\") [Piano Version]",
           "The Wild Conductor"
          ],
          [
           "The Earth Prelude",
           "Ludovico Einaudi"
          ],
          [
           "Severus and Lily",
           "Alexandre Desplat"
          ],
          [
           "Berlin",
           "RY X"
          ],
          [
           "Nisi Dominus: Cum dederit (Salmo 126), RV 608",
           "Antonio Vivaldi"
          ],
          [
           "Sociopath Detuned",
           "Lucas King"
          ],
          [
           "Symphony No. 3, Op. 36: I. Lento - Sostenuto Tranquillo Ma Cantabile",
           "Henryk Górecki"
          ],
          [
           "Tewkesbury's Trail",
           "Daniel Pemberton"
          ],
          [
           "Dark Für Elise",
           "Lucas King"
          ],
          [
           "Cold",
           "Aqualung"
          ],
          [
           "Daisy",
           "Ashnikko"
          ],
          [
           "Pong Dance",
           "Vigiland"
          ],
          [
           "ANTI-HERO",
           "SEKAI NO OWARI"
          ],
          [
           "Congratulations",
           "Don Diablo"
          ],
          [
           "Hotel Room Service",
           "Pitbull"
          ],
          [
           "Trust Issues",
           "Emei"
          ],
          [
           "Sharks",
           "Imagine Dragons"
          ],
          [
           "Mafiosa (feat. Caroliina)",
           "Lartiste"
          ],
          [
           "Pause",
           "Pitbull"
          ],
          [
           "Blood On My Jeans",
           "Juice WRLD"
          ],
          [
           "Shake That",
           "Eminem"
          ],
          [
           "Love You Like A Love Song",
           "Selena Gomez & The Scene"
          ],
          [
           "Picante",
           "Raaban"
          ],
          [
           "Rolex",
           "Ayo & Teo"
          ],
          [
           "Big Fun",
           "Dominic Andersen"
          ],
          [
           "Every Breath You Take - Remastered 2003",
           "The Police"
          ],
          [
           "Delirium Tremendous",
           "Felix Hagan & the Family"
          ],
          [
           "Bubblegum",
           "The Happy Children"
          ],
          [
           "Ferris Bueller",
           "Emei"
          ],
          [
           "Get Down",
           "SIX"
          ],
          [
           "Shoutout to My Ex",
           "Rayla"
          ],
          [
           "Bola Rebola",
           "Tropkillaz"
          ],
          [
           "Martin & Gina",
           "Polo G"
          ],
          [
           "Everything",
           "TobyMac"
          ],
          [
           "Everywhere I Go",
           "Hollywood Undead"
          ],
          [
           "There Will Be Rain",
           "Million Eyes"
          ],
          [
           "Not Today Satan",
           "KB"
          ],
          [
           "Rule #1 - Magic",
           "Fish in a Birdcage"
          ],
          [
           "Charming",
           "Amber Gray"
          ],
          [
           "Stay Calm (feat. Jeff Burgess)",
           "Griffinilla"
          ],
          [
           "TOES (feat. Lil Baby & Moneybagg Yo)",
           "DaBaby"
          ],
          [
           "Birthday Suit",
           "Cosmo Sheldrake"
          ],
          [
           "Body Good (feat. Nicky Jam)",
           "Shaggy"
          ],
          [
           "WHATS POPPIN (feat. DaBaby, Tory Lanez & Lil Wayne) - Remix",
           "Jack Harlow"
          ],
          [
           "Nowhere To Run",
           "Stegosaurus Rex"
          ],
          [
           "From Your Room",
           "Mia Stegner"
          ],
          [
           "Prince Harry",
           "Sohodolls"
          ],
          [
           "Like Whiskey",
           "Dixon Dallas"
          ],
          [
           "Why Do You Love Me",
           "Charlotte Lawrence"
          ],
          [
           "Toxic",
           "Ashnikko"
          ],
          [
           "Rule #4 - Fish in a Birdcage",
           "Fish in a Birdcage"
          ],
          [
           "Fever",
           "Dua Lipa"
          ],
          [
           "The Real Slim Shady",
           "Eminem"
          ],
          [
           "Two Knocks",
           "aeseaes"
          ],
          [
           "Numb",
           "Carlie Hanson"
          ],
          [
           "Girl In A Bubble",
           "Nightbirde"
          ],
          [
           "Beach House",
           "Carly Rae Jepsen"
          ],
          [
           "Banana Split (Just Do It)",
           "Alfons"
          ],
          [
           "Pretty Pills for Broken Hearts",
           "Cloudy June"
          ],
          [
           "Untitled",
           "Eminem"
          ],
          [
           "Any Dream Will Do",
           "Andrew Lloyd Webber"
          ],
          [
           "supercuts",
           "Jeremy Zucker"
          ],
          [
           "Trouble",
           "Never Shout Never"
          ],
          [
           "My Band",
           "D12"
          ],
          [
           "Don't Stop Movin'",
           "S Club"
          ],
          [
           "The Home Depot Beat",
           "The Home Depot"
          ],
          [
           "The Story of The Phantom",
           "Krystina Alabado"
          ],
          [
           "Waiting for You",
           "Alexander Jean"
          ],
          [
           "Stop It",
           "FISHER"
          ],
          [
           "Intentions (feat. Quavo)",
           "Justin Bieber"
          ],
          [
           "Superman",
           "Eminem"
          ],
          [
           "Jalebi Baby (Tesher x Jason Derulo) [DallasK Remix]",
           "Tesher"
          ],
          [
           "Straightjacket",
           "Quinn XCII"
          ],
          [
           "Дико тусим",
           "Даня Милохин"
          ],
          [
           "Girls In Bikinis",
           "Poppy"
          ],
          [
           "Palm Reader",
           "DREAMERS"
          ],
          [
           "Sissy That Walk",
           "RuPaul"
          ],
          [
           "Jenny Was a Friend of Mine (Room 5:21)",
           "American Murder Song"
          ],
          [
           "I'm an Albatraoz",
           "AronChupa"
          ],
          [
           "W.I.T.C.H.",
           "Devon Cole"
          ],
          [
           "Kill You",
           "Eminem"
          ],
          [
           "Choke",
           "Royal & the Serpent"
          ],
          [
           "God Rest Ye Merry Gentlemen",
           "Million Dollar Quartet Christmas"
          ],
          [
           "overwhelmed",
           "Royal & the Serpent"
          ],
          [
           "Shots & Squats",
           "Vigiland"
          ],
          [
           "Forgot About Dre - Album Version (Edited)",
           "Dr. Dre"
          ],
          [
           "Boy In The Bubble",
           "Alec Benjamin"
          ],
          [
           "Peaches",
           "CRAY"
          ],
          [
           "Panic",
           "Amy Lawton"
          ],
          [
           "Weekend (feat. Miguel)",
           "Mac Miller"
          ],
          [
           "I Still Do",
           "Why Don't We"
          ],
          [
           "Ganjaman",
           "Alfons"
          ],
          [
           "yes & no",
           "XYLØ"
          ],
          [
           "Bad Idea",
           "Dove Cameron"
          ],
          [
           "Sad Boi",
           "Raaban"
          ],
          [
           "If I'm Lucky",
           "Jason Derulo"
          ],
          [
           "Mi Mi Mi - From \"Jem And The Holograms\" Soundtrack",
           "SEREBRO"
          ],
          [
           "Dirty Imbecile",
           "The Happy Fits"
          ],
          [
           "A Mask of My Own Face",
           "Lemon Demon"
          ],
          [
           "A Man Named Job",
           "Ryan Proudfoot"
          ],
          [
           "FML",
           "Arizona Zervas"
          ],
          [
           "Don't Lose Ur Head",
           "SIX"
          ],
          [
           "Ghosts & Monsters",
           "Saint Chaos"
          ],
          [
           "Farewell",
           "Eminem"
          ],
          [
           "My Name Is",
           "Eminem"
          ],
          [
           "Addams Family Theme",
           "Orchestra"
          ],
          [
           "СВБТ - Сатана всегда будет с тобой",
           "ЛЮТИК"
          ],
          [
           "Godzilla (feat. Juice WRLD)",
           "Eminem"
          ],
          [
           "Not Afraid",
           "Eminem"
          ],
          [
           "Close Your Eyes",
           "Felix Jaehn"
          ],
          [
           "UFO - Radio Edit",
           "Vigiland"
          ],
          [
           "Kalabalika (feat. Panetoz)",
           "Badpojken"
          ],
          [
           "That Good Ship",
           "AllttA"
          ],
          [
           "I Am All I Got",
           "The Dead Brothers"
          ],
          [
           "This Is Home",
           "Cavetown"
          ],
          [
           "Ric Flair Drip (with Metro Boomin)",
           "Offset"
          ],
          [
           "Fear for Nobody",
           "Måneskin"
          ],
          [
           "The Time (Dirty Bit)",
           "Black Eyed Peas"
          ],
          [
           "Wow.",
           "Post Malone"
          ],
          [
           "Hello",
           "Theresa Sokyrka"
          ],
          [
           "Ethan's Waltz",
           "Abel Korzeniowski"
          ],
          [
           "Courage For Xmas",
           "Sophie Simmons"
          ],
          [
           "While My Guitar Gently Weeps",
           "The Beatles"
          ],
          [
           "Kindergarten Boyfriend",
           "Jenny O'Leary"
          ],
          [
           "One Jump Ahead (Reprise)",
           "Adam Jacobs"
          ],
          [
           "Like Patsy Would",
           "Iron & Wine"
          ],
          [
           "Goosebumps - One Eyed Jack's Session",
           "Bastille"
          ],
          [
           "Happiness Does Not Wait",
           "Ólafur Arnalds"
          ],
          [
           "Drinking Song",
           "House Phone"
          ],
          [
           "No Face",
           "Haley Heynderickx"
          ],
          [
           "Suite No. 5 in C Minor for Solo Cello, BWV 1011: V. Gavotte I - Gavotte II",
           "Johann Sebastian Bach"
          ],
          [
           "Medhel an Gwyns",
           "Anne Dudley"
          ],
          [
           "Slow Down",
           "Nichole Nordeman"
          ],
          [
           "Only",
           "RY X"
          ],
          [
           "De Toujours",
           "Dirk Maassen"
          ],
          [
           "Rain",
           "Ed Carlsen"
          ],
          [
           "The Night We Met",
           "Micky"
          ],
          [
           "Shades and Shadows",
           "Peter Gundry"
          ],
          [
           "I See Fire",
           "Ed Sheeran"
          ],
          [
           "Forsaken",
           "Adam Hurst"
          ],
          [
           "Cold Is The Night",
           "The Oh Hellos"
          ],
          [
           "Cherry Blossom",
           "Day Blue"
          ],
          [
           "Windmill",
           "Lor"
          ],
          [
           "H In New England",
           "Max Richter"
          ],
          [
           "Jenny of Oldstones (Game of Thrones)",
           "Florence + The Machine"
          ],
          [
           "The Rains of Castamere (From \"Game of Thrones\")",
           "Tina Guo"
          ],
          [
           "Misquote (Acoustic)",
           "Super Whatevr"
          ],
          [
           "Handel: Giulio Cesare in Egitto, HWV 17, Act 1: Duetto. \"Son nata a lagrimar\" (Cornelia, Sesto)",
           "George Frideric Handel"
          ],
          [
           "Jessie’s Girl",
           "Mary Lambert"
          ],
          [
           "Continuum",
           "Alessandro Paganelli"
          ],
          [
           "After the Storm",
           "Mumford & Sons"
          ],
          [
           "After Tears",
           "Magnus Hördegård"
          ],
          [
           "Leaving Paris",
           "Jesse Brown"
          ],
          [
           "Deliver Us",
           "Ofra Haza"
          ],
          [
           "Happy/Sad - 2010 Original Cast Recording from The Addams Family Musical on Broadway",
           "Nathan Lane"
          ],
          [
           "Beckoning",
           "Adam Hurst"
          ],
          [
           "Sur le fil",
           "Jeroen van Veen"
          ],
          [
           "Misty Mountains",
           "Richard Armitage"
          ],
          [
           "Yesterday - Remastered 2009",
           "The Beatles"
          ],
          [
           "Family's Song",
           "Sten Erland Hermundstad"
          ],
          [
           "Pain And Pleasure",
           "Lilli Furfaro"
          ],
          [
           "Welcome to Wonderland",
           "Anson Seabra"
          ],
          [
           "Femme Fatale",
           "The Velvet Underground"
          ],
          [
           "Game of Thrones - Theme for Stringquartet",
           "Ramin Djawadi"
          ],
          [
           "The Unquiet Grave",
           "Abel Korzeniowski"
          ],
          [
           "Passacaglia for Violin and Viola",
           "Johan Halvorsen"
          ],
          [
           "Summer Clouds",
           "How Great Were the Robins"
          ],
          [
           "Vienna",
           "Lambert"
          ],
          [
           "She",
           "dodie"
          ],
          [
           "We'll Never Have Sex",
           "Leith Ross"
          ],
          [
           "Yesterday - Remastered 2015",
           "The Beatles"
          ],
          [
           "sorry haha i fell asleep",
           "Egg"
          ],
          [
           "La Vernatelle",
           "RIOPY"
          ],
          [
           "Dreams",
           "Sergio Díaz De Rojas"
          ],
          [
           "Quietly Quietly",
           "Peter Cavallo"
          ],
          [
           "Porcelain",
           "Sergio Díaz De Rojas"
          ],
          [
           "Icarus",
           "PHILDEL"
          ],
          [
           ".Goetia.",
           "Peter Gundry"
          ],
          [
           "Capriccio I in C Minor",
           "Giuseppe Clemente Dall'Abaco"
          ],
          [
           "Promise",
           "Ben Howard"
          ],
          [
           "I Am Damaged",
           "Jamie Muscato"
          ],
          [
           "Boys Like You - Acoustic",
           "Anna Clendening"
          ],
          [
           "Midnight Thoughts",
           "Sergio Díaz De Rojas"
          ],
          [
           "Somebody Kill Me",
           "Stephen Lynch"
          ],
          [
           "You Are My Sunshine",
           "Jamey Johnson"
          ],
          [
           "Violin Concerto in G Minor, Op. 80: I. Allegro maestoso - Vivace",
           "Samuel Coleridge-Taylor"
          ],
          [
           "Gothic Ballroom",
           "Derek Fiechter"
          ],
          [
           "Landslide",
           "Fleetwood Mac"
          ],
          [
           "Lillian",
           "Jacob David"
          ],
          [
           "Seraphin",
           "Echos"
          ],
          [
           "Proud of Your Boy (Reprise)",
           "Adam Jacobs"
          ],
          [
           "Agony",
           "Chris Pine"
          ],
          [
           "Coming Down (Live)",
           "Tyler Childers"
          ],
          [
           "Sweet Caroline",
           "Neil Diamond"
          ],
          [
           "Pergolesi: Stabat Mater: II. Cujus animam gementem",
           "Giovanni Battista Pergolesi"
          ],
          [
           "Vagrant Song (Deep South)",
           "Ryan Ike"
          ],
          [
           "Hans of the Southern Isles - From \"Frozen: The Broadway Musical\"",
           "John Riddle"
          ],
          [
           "The Moon And Me",
           "Kevin Chamberlin"
          ],
          [
           "What If",
           "Adam Riegler"
          ],
          [
           "The Rains Of Castomere",
           "The National"
          ],
          [
           "Salve Regina in Fa minor Salve regina: Largo",
           "Giovanni Battista Pergolesi"
          ],
          [
           "Live Before We Die - 2010 Original Cast Recording from The Addams Family Musical on Broadway",
           "Nathan Lane"
          ],
          [
           "Hurt Incantation",
           "Annapantsu"
          ],
          [
           "Solitude",
           "Sergio Díaz De Rojas"
          ],
          [
           "Cavalleria rusticana: \"Voi lo sapete, o mamma\"",
           "Pietro Mascagni"
          ],
          [
           "A Vampires Heart",
           "Peter Gundry"
          ],
          [
           "Recomposed by Peter Gregson: Bach - Cello Suite No. 5 in C Minor, BWV 1011: 5. Gavottes",
           "Peter Gregson"
          ],
          [
           "Good Grace",
           "Tracy Nitschke"
          ],
          [
           "They Don't Know You Like I Do",
           "Imagine Dragons"
          ],
          [
           "Pomegranate (Vargkvint Rework)",
           "Sergio Díaz De Rojas"
          ],
          [
           "Hazel Eyes",
           "Timo Zobel"
          ],
          [
           "Solitaire",
           "Christopher Dicker"
          ],
          [
           "Paris",
           "Sequoia"
          ],
          [
           "1040 Ad",
           "Daniel & Mikael Tjernberg"
          ],
          [
           "Eugene",
           "Sufjan Stevens"
          ],
          [
           "Monteverdi: Madrigali, Libro VIII \"Guerrieri et amorosi\": No. 18, Lamento della ninfa, SV 163: \"Amor, dicea\"",
           "Claudio Monteverdi"
          ],
          [
           "Stranger Things Mash-Up",
           "Thomas Sanders"
          ],
          [
           "Slow Descent",
           "Matt Tondut"
          ],
          [
           "No One Gets Left Behind",
           "Five Finger Death Punch"
          ],
          [
           "Sarah Smiles",
           "Panic! At The Disco"
          ],
          [
           "Dead And Done",
           "Seether"
          ],
          [
           "Big Girls Don't Cry",
           "Frankie Valli & The Four Seasons"
          ],
          [
           "Who’s In Control",
           "Set It Off"
          ],
          [
           "Playout",
           "SIX"
          ],
          [
           "You’d Be Paranoid Too (If Everyone Was Out To Get You)",
           "Waterparks"
          ],
          [
           "Ride With Me (feat. Kid Ink)",
           "Tungevaag"
          ],
          [
           "Malevolence",
           "Acacia Ridge"
          ],
          [
           "Play It Again",
           "Luke Bryan"
          ],
          [
           "Heaven Knows",
           "The Pretty Reckless"
          ],
          [
           "Sad Boy (feat. Ava Max & Kylie Cantrall) - VIP Remix",
           "R3HAB"
          ],
          [
           "Wash It All Away",
           "Five Finger Death Punch"
          ],
          [
           "I Am An Outsider",
           "Three Days Grace"
          ],
          [
           "Sunken Isles",
           "John Theodore"
          ],
          [
           "Pretty Face",
           "PUBLIC"
          ],
          [
           "Undone",
           "Enemy Within"
          ],
          [
           "The Cult of Dionysus",
           "The Orion Experience"
          ],
          [
           "Last Night I Watched Myself Sleep and I Saw Things That I Wish I Could Forget",
           "Aurora View"
          ],
          [
           "FRIENDS",
           "Marshmello"
          ],
          [
           "Don't Kill My High",
           "Lost Kings"
          ],
          [
           "Do Something",
           "Matthew West"
          ],
          [
           "For Your Entertainment",
           "Adam Lambert"
          ],
          [
           "Never Better",
           "Fuller"
          ],
          [
           "GOAT",
           "B3nte"
          ],
          [
           "Raging on a Sunday",
           "Bohnes"
          ],
          [
           "Bottoms Up",
           "Nickelback"
          ],
          [
           "You Gon’ Learn (feat. Royce Da 5'9\" & White Gold)",
           "Eminem"
          ],
          [
           "Best Time’s Right Now",
           "Lance & Linton"
          ],
          [
           "Loved You A Little (with Taking Back Sunday and Charlotte Sands)",
           "The Maine"
          ],
          [
           "Fool You've Landed",
           "Mumford & Sons"
          ],
          [
           "Here To Die",
           "Five Finger Death Punch"
          ],
          [
           "All My Friends Are Falling In Love",
           "The Vaccines"
          ],
          [
           "Dear Maria, Count Me In",
           "All Time Low"
          ],
          [
           "I Get Off",
           "Halestorm"
          ],
          [
           "Primadonna - Bobby Rock Remix",
           "MARINA"
          ],
          [
           "Primadonna - BURNS Remix",
           "MARINA"
          ],
          [
           "Critical Mistakes",
           "888"
          ],
          [
           "Labyrinth",
           "Miracle Musical"
          ],
          [
           "World so Cold",
           "Three Days Grace"
          ],
          [
           "Forget",
           "MARINA"
          ],
          [
           "Bully",
           "Shinedown"
          ],
          [
           "I Hate Everything About You",
           "Three Days Grace"
          ],
          [
           "Holiday / Boulevard of Broken Dreams",
           "Green Day"
          ],
          [
           "Legion of Monsters",
           "Disturbed"
          ],
          [
           "Church",
           "Fall Out Boy"
          ],
          [
           "Scared",
           "Three Days Grace"
          ],
          [
           "She's Country",
           "Jason Aldean"
          ],
          [
           "What Are You Waiting For",
           "Disturbed"
          ],
          [
           "Electra Heart",
           "BetaTraxx"
          ],
          [
           "Judas",
           "Lady Gaga"
          ],
          [
           "Alex On The Spot",
           "Hans Zimmer"
          ],
          [
           "Run (with Mariah Angeliq) - Latin Version",
           "OneRepublic"
          ],
          [
           "Seventeen",
           "Peach Pit"
          ],
          [
           "Valentina",
           "The Hunts"
          ],
          [
           "Miss Murder",
           "AFI"
          ],
          [
           "Paperback Writer - Remastered 2015",
           "The Beatles"
          ],
          [
           "Tongues & Teeth",
           "The Crane Wives"
          ],
          [
           "Tell Me Why",
           "Three Days Grace"
          ],
          [
           "Real",
           "NF"
          ],
          [
           "Peach Pit",
           "Peach Pit"
          ],
          [
           "More - RedOne Jimmy Joker Remix",
           "Usher"
          ],
          [
           "Bulletproof",
           "Five Finger Death Punch"
          ],
          [
           "Somebody Like You",
           "Keith Urban"
          ],
          [
           "Walk Away",
           "Five Finger Death Punch"
          ],
          [
           "The Mountain",
           "Three Days Grace"
          ],
          [
           "The New Real",
           "Three Days Grace"
          ],
          [
           "Can’t Take Back The Bullet",
           "Hey Violet"
          ],
          [
           "The Burning of a Salem Witch",
           "THØRNS"
          ],
          [
           "Born in the U.S.A.",
           "Bruce Springsteen"
          ],
          [
           "God's Not Dead (Like A Lion)",
           "Newsboys"
          ],
          [
           "Sinners",
           "Barns Courtney"
          ],
          [
           "Devils Point",
           "Wicked Shallows"
          ],
          [
           "Renegades",
           "X Ambassadors"
          ],
          [
           "The Diary of Jane - Single Version",
           "Breaking Benjamin"
          ],
          [
           "Boss's Daughter",
           "Pop Evil"
          ],
          [
           "Primadonna - Riva Starr Remix",
           "MARINA"
          ],
          [
           "Wrong Side of Heaven",
           "Five Finger Death Punch"
          ],
          [
           "Without You",
           "Three Days Grace"
          ],
          [
           "Witness",
           "Jordan Feliz"
          ],
          [
           "Hello, Goodbye - Remastered 2015",
           "The Beatles"
          ],
          [
           "Dead Inside",
           "Disturbed"
          ],
          [
           "More",
           "Selena Gomez & The Scene"
          ],
          [
           "I Love You But I Love Me More",
           "MARINA"
          ],
          [
           "Good Girls (Don’t Get Used)",
           "Beach Bunny"
          ],
          [
           "Memories",
           "Panic! At The Disco"
          ],
          [
           "From Now On",
           "The Features"
          ],
          [
           "Castle",
           "Eminem"
          ],
          [
           "Take Me Away",
           "Raaban"
          ],
          [
           "EveryTime I Cry",
           "Ava Max"
          ],
          [
           "Alone Sometimes",
           "The Mowgli's"
          ],
          [
           "Awake and Alive",
           "Skillet"
          ],
          [
           "Sex on Fire",
           "Kings of Leon"
          ],
          [
           "Enjoy Your Life",
           "MARINA"
          ],
          [
           "Holy Mother",
           "Starbenders"
          ],
          [
           "IOU",
           "Five Finger Death Punch"
          ],
          [
           "Woah There Kimmy",
           "Felix Hagan & the Family"
          ],
          [
           "Porn Star Dancing",
           "My Darkest Days"
          ],
          [
           "Wolves",
           "Selena Gomez"
          ],
          [
           "Voodoo Doll",
           "The Funeral Portrait"
          ],
          [
           "Love Is A Suicide",
           "Natalia Kills"
          ],
          [
           "Disaster Party",
           "MAGIC GIANT"
          ],
          [
           "Monsters (feat. blackbear)",
           "All Time Low"
          ],
          [
           "Pick Me Up",
           "Too Close To Touch"
          ],
          [
           "Check Yes, Juliet",
           "We The Kings"
          ],
          [
           "Roaring 20s",
           "Panic! At The Disco"
          ],
          [
           "Not Gonna Miss U",
           "Madrona"
          ],
          [
           "The World Is Not Enough",
           "Garbage"
          ],
          [
           "Dangerous",
           "Seether"
          ],
          [
           "Mayday",
           "Luke Roes"
          ],
          [
           "Vivaldi vs. Vertigo",
           "David Garrett"
          ],
          [
           "Over & Done - Averro Remix",
           "Klaas"
          ],
          [
           "Dance With The Devil",
           "Breaking Benjamin"
          ],
          [
           "Lucifer",
           "Elle Lexxa"
          ],
          [
           "Diane Young",
           "Vampire Weekend"
          ],
          [
           "Home",
           "Three Days Grace"
          ],
          [
           "Cowgirl Doggystyle (Trailer Park Boys 2018)",
           "Kuselofte"
          ],
          [
           "I Apologize",
           "Five Finger Death Punch"
          ],
          [
           "Tokyo (Vampires & Wolves)",
           "The Wombats"
          ],
          [
           "You're Not My Kind",
           "Five Finger Death Punch"
          ],
          [
           "We Don't Have To Dance",
           "Andy Black"
          ],
          [
           "Bloody",
           "Five Finger Death Punch"
          ],
          [
           "All About Us",
           "t.A.T.u."
          ],
          [
           "Someone To You",
           "BANNERS"
          ],
          [
           "Let's Kill Tonight",
           "Panic! At The Disco"
          ],
          [
           "Phantom",
           "NateWantsToBattle"
          ],
          [
           "Let the Sparks Fly",
           "Thousand Foot Krutch"
          ],
          [
           "Love The Way You Lie",
           "Eminem"
          ],
          [
           "Homegrown Honey",
           "Darius Rucker"
          ],
          [
           "Inside Out",
           "Five Finger Death Punch"
          ],
          [
           "Doctors & Churches",
           "Miss Vincent"
          ],
          [
           "Another Way Out",
           "Hollywood Undead"
          ],
          [
           "The Sex Is Good - Rock",
           "Saving Abel"
          ],
          [
           "Bigger Than Us",
           "White Lies"
          ],
          [
           "Control",
           "Life After Youth"
          ],
          [
           "Shake It Out",
           "Doll Skin"
          ],
          [
           "I'm Not Ok",
           "Weathers"
          ],
          [
           "Money",
           "5 Seconds of Summer"
          ],
          [
           "Blue on Black",
           "Five Finger Death Punch"
          ],
          [
           "Headstrong",
           "Trapt"
          ],
          [
           "Dysfunctional",
           "Tech N9ne Collabos"
          ],
          [
           "Mess",
           "Noah Kahan"
          ],
          [
           "I Wanna Get Better",
           "Bleachers"
          ],
          [
           "Heroes",
           "Hollywood Vampires"
          ],
          [
           "Like the Way I Do - Vau Boy Remix",
           "Cascada"
          ],
          [
           "Nothing's Fair In Love and War",
           "Three Days Grace"
          ],
          [
           "Cast The Bronze",
           "Raynes"
          ],
          [
           "Weight Beneath My Sin",
           "Five Finger Death Punch"
          ],
          [
           "Down With The Trumpets",
           "Rizzle Kicks"
          ],
          [
           "Ladies Come First",
           "Hinder"
          ],
          [
           "Wait so Long",
           "Trampled by Turtles"
          ],
          [
           "Steady",
           "for KING & COUNTRY"
          ],
          [
           "Somebody Told Me",
           "Motionless In White"
          ],
          [
           "Devil On My Shoulder",
           "Kelsy Karter & The Heroines"
          ],
          [
           "Shake Senora (feat. T-Pain & Sean Paul)",
           "Pitbull"
          ],
          [
           "Addicted",
           "Vigiland"
          ],
          [
           "weapon",
           "Against The Current"
          ],
          [
           "The Agony of Regret",
           "Five Finger Death Punch"
          ],
          [
           "Love Broke Thru",
           "TobyMac"
          ],
          [
           "hollywood sucks//",
           "KennyHoopla"
          ],
          [
           "Bubblegum Bitch",
           "MARINA"
          ],
          [
           "Ain't My Last Dance",
           "Five Finger Death Punch"
          ],
          [
           "La chanson des Restos - From \"Génération Enfoirés\"",
           "Les Enfoirés"
          ],
          [
           "Changed the Way You Kiss Me - Radio Edit",
           "Example"
          ],
          [
           "acting like that (feat. Machine Gun Kelly)",
           "YUNGBLUD"
          ],
          [
           "Riot",
           "Three Days Grace"
          ],
          [
           "Landmine",
           "Three Days Grace"
          ],
          [
           "So Called Life",
           "Three Days Grace"
          ],
          [
           "Hey Wait",
           "Mid-Day Moon"
          ],
          [
           "Que Calor (feat. J Balvin & El Alfa)",
           "Major Lazer"
          ],
          [
           "How to Be a Heartbreaker",
           "MARINA"
          ],
          [
           "NEXT MISTAKE",
           "Animal Sun"
          ],
          [
           "So Hott",
           "Kid Rock"
          ],
          [
           "Greater",
           "MercyMe"
          ],
          [
           "Sandcastles - ToWonder X Severo Remix",
           "Adam Jensen"
          ],
          [
           "Scars",
           "Papa Roach"
          ],
          [
           "Overboard",
           "Stay Outside"
          ],
          [
           "Boots and Blood",
           "Five Finger Death Punch"
          ],
          [
           "Bach, JS / Orch. Batt: Toccata and Fugue in D Minor, BWV 565",
           "Johann Sebastian Bach"
          ],
          [
           "Never Wrong",
           "Disturbed"
          ],
          [
           "Sad Songs",
           "Kyd the Band"
          ],
          [
           "Sham Pain",
           "Five Finger Death Punch"
          ],
          [
           "Illusion",
           "Valexio"
          ],
          [
           "No More",
           "Three Days Grace"
          ],
          [
           "Bitter Taste",
           "Three Days Grace"
          ],
          [
           "Unstoppable",
           "TobyMac"
          ],
          [
           "Above And Below - Moon Version",
           "The Bravery"
          ],
          [
           "Zombie",
           "Bad Wolves"
          ],
          [
           "From Me To You - Mono / Remastered",
           "The Beatles"
          ],
          [
           "Run Wild.",
           "for KING & COUNTRY"
          ],
          [
           "By the Way",
           "Red Hot Chili Peppers"
          ],
          [
           "Shepherd of Fire",
           "Avenged Sevenfold"
          ],
          [
           "Mustang",
           "Skegss"
          ],
          [
           "Make Believe",
           "Juice WRLD"
          ],
          [
           "Drop the Guillotine",
           "Peach Pit"
          ],
          [
           "She Looks So Perfect",
           "5 Seconds of Summer"
          ],
          [
           "Dead Man Walking",
           "City Wolf"
          ],
          [
           "Mx. Sinister",
           "I DONT KNOW HOW BUT THEY FOUND ME"
          ],
          [
           "Somewhere Special (feat. Cat Connors)",
           "OFFAIAH"
          ],
          [
           "i'm gonna tell my therapist on you",
           "Pinkshift"
          ],
          [
           "Burn It to the Ground",
           "Nickelback"
          ],
          [
           "Hardcore",
           "Beast In Black"
          ],
          [
           "Sex Yeah",
           "MARINA"
          ],
          [
           "Can't Believe It (feat. Pitbull)",
           "Flo Rida"
          ],
          [
           "Warriors",
           "Imagine Dragons"
          ],
          [
           "Welcome To The Circus",
           "Five Finger Death Punch"
          ],
          [
           "The Funeral",
           "YUNGBLUD"
          ],
          [
           "Shampain",
           "MARINA"
          ],
          [
           "4 Minutes (feat. Justin Timberlake & Timbaland)",
           "Madonna"
          ],
          [
           "Message In A Bottle",
           "The Police"
          ],
          [
           "Valerie - '68 Version",
           "Amy Winehouse"
          ],
          [
           "Bad Boy",
           "Cascada"
          ],
          [
           "Thanks For Asking",
           "Five Finger Death Punch"
          ],
          [
           "Ready Set Roll",
           "Chase Rice"
          ],
          [
           "A Hard Day's Night - Remastered 2015",
           "The Beatles"
          ],
          [
           "Don't Wanna Go Home",
           "Jason Derulo"
          ],
          [
           "Venus Fly Trap",
           "MARINA"
          ],
          [
           "Purge The Poison",
           "MARINA"
          ],
          [
           "Comment savoir",
           "Lou"
          ],
          [
           "War!",
           "Zach Callison"
          ],
          [
           "Funhouse",
           "P!nk"
          ],
          [
           "Lost in You",
           "Three Days Grace"
          ],
          [
           "Matter of Time",
           "Five Finger Death Punch"
          ],
          [
           "Digging My Own Grave",
           "Five Finger Death Punch"
          ],
          [
           "Getting Away With Murder",
           "Papa Roach"
          ],
          [
           "Where to Now",
           "Hippo Campus"
          ],
          [
           "All the Time - Don Diablo Remix",
           "Zara Larsson"
          ],
          [
           "Thunder",
           "Imagine Dragons"
          ],
          [
           "Love Drunk",
           "BOYS LIKE GIRLS"
          ],
          [
           "My Own Hell",
           "Five Finger Death Punch"
          ],
          [
           "SAD (Clap Your Hands)",
           "Young Rising Sons"
          ],
          [
           "It Should've Been Me",
           "Riproducer"
          ],
          [
           "Can't Go Wrong",
           "Seether"
          ],
          [
           "Teenage Dirtbag",
           "Wheatus"
          ],
          [
           "Never Too Far Gone",
           "Jordan Feliz"
          ],
          [
           "You're Welcome",
           "Carrie Hope Fletcher"
          ],
          [
           "Bad Ideas",
           "The 5:55"
          ],
          [
           "Judgment Day",
           "Five Finger Death Punch"
          ],
          [
           "Move Your Body",
           "My Darkest Days"
          ],
          [
           "Fire It Up",
           "Disturbed"
          ],
          [
           "girl in blue",
           "Animal Sun"
          ],
          [
           "Birth to My Creation",
           "Frankenstein World Premiere Cast"
          ],
          [
           "The Light",
           "Disturbed"
          ],
          [
           "Pretty Little Psycho",
           "Young Nightcore"
          ],
          [
           "Call Me in the Afternoon",
           "Half Moon Run"
          ],
          [
           "Click Click Boom",
           "Saliva"
          ],
          [
           "Outerspace",
           "BEAUZ"
          ],
          [
           "Angels Fall",
           "Breaking Benjamin"
          ],
          [
           "House of Memories",
           "Panic! At The Disco"
          ],
          [
           "Roll Dem Bones",
           "Five Finger Death Punch"
          ],
          [
           "Summer Nights",
           "Rascal Flatts"
          ],
          [
           "Werewolf Gimmick",
           "The Mountain Goats"
          ],
          [
           "Surrender",
           "Godsmack"
          ],
          [
           "Mary On A Cross",
           "Ghost"
          ],
          [
           "Power & Control",
           "MARINA"
          ],
          [
           "All My Friends - Tungevaag Remix",
           "CLMD"
          ],
          [
           "Dead Inside",
           "Younger Hunger"
          ],
          [
           "Gold Gutter",
           "Five Finger Death Punch"
          ],
          [
           "Mind brand",
           "Maretu"
          ],
          [
           "Smile",
           "Mourners"
          ],
          [
           "Blood And Tar",
           "Five Finger Death Punch"
          ],
          [
           "Hellboy",
           "SWMRS"
          ],
          [
           "Out Of Line",
           "The Bravery"
          ],
          [
           "Get Up (feat. Brock Monroe)",
           "Molly Kate Kestner"
          ],
          [
           "She Likes Girls",
           "Metro Station"
          ],
          [
           "Combat Baby",
           "Metric"
          ],
          [
           "It's All Over",
           "Three Days Grace"
          ],
          [
           "Once In A Lifetime",
           "All Time Low"
          ],
          [
           "Le Chapiteau des Supplices",
           "Magoyond"
          ],
          [
           "I Miss Having Sex But At Least I Don't Wanna Die Anymore",
           "Waterparks"
          ],
          [
           "F8",
           "Five Finger Death Punch"
          ],
          [
           "Wasteland",
           "Seether"
          ],
          [
           "House of the Rising Sun",
           "Five Finger Death Punch"
          ],
          [
           "Kaleidoscope",
           "A Great Big World"
          ],
          [
           "This Is The Life",
           "Amy Macdonald"
          ],
          [
           "One Night In Tokyo",
           "Beast In Black"
          ],
          [
           "Sugar, We're Goin Down",
           "Fall Out Boy"
          ],
          [
           "I Am Machine",
           "Three Days Grace"
          ],
          [
           "Monster",
           "Skillet"
          ],
          [
           "Better Than That",
           "MARINA"
          ],
          [
           "Burnin' Up",
           "Jonas Brothers"
          ],
          [
           "One Too Many",
           "Three Days Grace"
          ],
          [
           "East of Eden",
           "Zella Day"
          ],
          [
           "Hello, My Name Is",
           "Matthew West"
          ],
          [
           "The Outsider",
           "MARINA"
          ],
          [
           "Come & Go (with Marshmello)",
           "Juice WRLD"
          ],
          [
           "GODDESS",
           "PVRIS"
          ],
          [
           "Domino",
           "The Karma Killers"
          ],
          [
           "Country Song",
           "Seether"
          ],
          [
           "Every Lie",
           "My Darkest Days"
          ],
          [
           "Sweet True Lies",
           "Beast In Black"
          ],
          [
           "It Doesn't Matter",
           "Five Finger Death Punch"
          ],
          [
           "Don't Threaten Me with a Good Time",
           "Panic! At The Disco"
          ],
          [
           "LA Devotee",
           "Panic! At The Disco"
          ],
          [
           "Dance Her Home",
           "Cody Johnson"
          ],
          [
           "Living The Dream",
           "Five Finger Death Punch"
          ],
          [
           "Hell to Your Doorstep",
           "Thomas Borchert"
          ],
          [
           "Fallen Angel",
           "Three Days Grace"
          ],
          [
           "Take the World",
           "She Wants Revenge"
          ],
          [
           "Hayloft",
           "Mother Mother"
          ],
          [
           "The Destruction",
           "Molly Ranson"
          ],
          [
           "Finish Line",
           "Elton John"
          ],
          [
           "Core (That's Who We Are)",
           "VIZE"
          ],
          [
           "Shy Away",
           "Twenty One Pilots"
          ],
          [
           "Numb",
           "Linkin Park"
          ],
          [
           "Miraculous (générique de la série TV \"Tales of Ladybug & Cat Noir\" )",
           "Lou"
          ],
          [
           "Marceline The Vampire",
           "Steppes"
          ],
          [
           "Tell It To My Heart (feat. Hozier) - Chemical Surf Remix",
           "MEDUZA"
          ],
          [
           "Head in Her Heart",
           "Nico Collins"
          ],
          [
           "Moonlight Shadow 2k12 - G4bby feat. BazzBoyz Edit",
           "Empyre One"
          ],
          [
           "Devil Train",
           "Stray Cats"
          ],
          [
           "The World That I Love Hates Me",
           "Once Monsters"
          ],
          [
           "Car Crash",
           "Three Days Grace"
          ],
          [
           "Withering Heights",
           "Demi the Daredevil"
          ],
          [
           "Boy Like Me",
           "New Medicine"
          ],
          [
           "Primadonna - Until the Ribbon Breaks Remix",
           "MARINA"
          ],
          [
           "Stay Awake",
           "Dean Lewis"
          ],
          [
           "Someone Else",
           "Loveless"
          ],
          [
           "Electra Heart",
           "MARINA"
          ],
          [
           "Shots & Squats - Make U Sweat Remix",
           "Vigiland"
          ],
          [
           "Adhd",
           "Truslow"
          ],
          [
           "Enchanté",
           "Faydee"
          ],
          [
           "She's so Mean",
           "Matchbox Twenty"
          ],
          [
           "UNCOMPLICATED",
           "RØRY"
          ],
          [
           "Alien",
           "USS (Ubiquitous Synergy Seeker)"
          ],
          [
           "Freaking Out",
           "The Wrecks"
          ],
          [
           "That Man",
           "Caro Emerald"
          ],
          [
           "Work It Out",
           "Knox Hamilton"
          ],
          [
           "&",
           "Tally Hall"
          ],
          [
           "Icons Crown",
           "Cipher Sight"
          ],
          [
           "Мама я танцую",
           "#2Mashi"
          ],
          [
           "When the Seasons Change",
           "Five Finger Death Punch"
          ],
          [
           "Zumba",
           "Don Omar"
          ],
          [
           "World War Me",
           "Theory of a Deadman"
          ],
          [
           "I Will Not Bow",
           "Breaking Benjamin"
          ],
          [
           "The Law - Zardonic Remix",
           "Reach"
          ],
          [
           "Casual Affair",
           "Panic! At The Disco"
          ],
          [
           "Come To Play",
           "Bombs Away"
          ],
          [
           "Middle of Nowhere",
           "Big Wreck"
          ],
          [
           "Ex-Girlfriend",
           "Melina KB"
          ],
          [
           "Alive",
           "One Direction"
          ],
          [
           "Black Smoke Rising",
           "Greta Van Fleet"
          ],
          [
           "Machine",
           "MisterWives"
          ],
          [
           "You Oughta Know",
           "Lauren Patten"
          ],
          [
           "We Got Love",
           "Sigala"
          ],
          [
           "I Hate You So Much",
           "Anarbor"
          ],
          [
           "Love-Hate-Sex-Pain",
           "Godsmack"
          ],
          [
           "Yellow Mellow",
           "Ocean Alley"
          ],
          [
           "Choke",
           "I DONT KNOW HOW BUT THEY FOUND ME"
          ],
          [
           "Bonfire",
           "The Hunna"
          ],
          [
           "Let This Go",
           "Five Finger Death Punch"
          ],
          [
           "Why Worry",
           "Set It Off"
          ],
          [
           "Witches in Salt Lake City",
           "No Such Animal"
          ],
          [
           "A-Punk",
           "Vampire Weekend"
          ],
          [
           "Physical",
           "Dua Lipa"
          ],
          [
           "Heartbreak (Make Me A Dancer) [feat. Sophie Ellis Bextor]",
           "Freemasons"
          ],
          [
           "Sing For The Moment",
           "Eminem"
          ],
          [
           "Red Dirt Road",
           "Brooks & Dunn"
          ],
          [
           "dwell on the guilt of saving myself",
           "Super Whatevr"
          ],
          [
           "Emotional Machine",
           "MARINA"
          ],
          [
           "Barren King",
           "Manntra"
          ],
          [
           "Rollin' (Air Raid Vehicle)",
           "Limp Bizkit"
          ],
          [
           "Could Have Been Me",
           "The Struts"
          ],
          [
           "Well, Everybody's Fucking In A U.F.O.",
           "Rob Zombie"
          ],
          [
           "One Last Dance",
           "Cascada"
          ],
          [
           "Stranger Things",
           "Survival Kit"
          ],
          [
           "Shotgun Rider",
           "Tim McGraw"
          ],
          [
           "A Good Song Never Dies",
           "Saint Motel"
          ],
          [
           "Perfect",
           "One Direction"
          ],
          [
           "The World Ender",
           "Lord Huron"
          ],
          [
           "Uptown 2019",
           "Henrik Sæter"
          ],
          [
           "All I Know",
           "Five Finger Death Punch"
          ],
          [
           "Stepdad",
           "Eminem"
          ],
          [
           "Thinking About You",
           "GLDN"
          ],
          [
           "Let It Rain (Is There Anybody)",
           "Crowder"
          ],
          [
           "Bear Claws",
           "The Academic"
          ],
          [
           "Kiss Me You Animal",
           "Burn The Ballroom"
          ],
          [
           "Someone Who Cares",
           "Three Days Grace"
          ],
          [
           "Jungle",
           "Hotel Mira"
          ],
          [
           "Diet Soda Society",
           "The Maine"
          ],
          [
           "Born Like This",
           "Three Days Grace"
          ],
          [
           "Pretty",
           "Landon Cube"
          ],
          [
           "Rootless",
           "MARINA"
          ],
          [
           "Congratulations",
           "Post Malone"
          ],
          [
           "The In Between",
           "Elephante"
          ],
          [
           "Revolver",
           "bülow"
          ],
          [
           "Savior",
           "Rise Against"
          ],
          [
           "Change",
           "The Revivalists"
          ],
          [
           "The River",
           "Jordan Feliz"
          ],
          [
           "Like Nobody",
           "VAVO"
          ],
          [
           "Trampoline",
           "The Unlikely Candidates"
          ],
          [
           "All I Want Is to Be Your Girl",
           "Holly Miranda"
          ],
          [
           "Hatef--k",
           "The Bravery"
          ],
          [
           "New Kings",
           "Sleeping Wolf"
          ],
          [
           "Bitch",
           "Meredith Brooks"
          ],
          [
           "Miraculous",
           "Lou"
          ],
          [
           "From Hell With Love",
           "Beast In Black"
          ],
          [
           "The Vengeful One",
           "Disturbed"
          ],
          [
           "Live Your Life",
           "T.I."
          ],
          [
           "Time Won't Let Me Go - Ultradonkey Remix Edit",
           "The Bravery"
          ],
          [
           "Drunk On You",
           "Luke Bryan"
          ],
          [
           "ANGELS & DEMONS",
           "jxdn"
          ],
          [
           "Mansion",
           "NF"
          ],
          [
           "Battle Born",
           "Five Finger Death Punch"
          ],
          [
           "Dancing With A Wolf",
           "All Time Low"
          ],
          [
           "Dirty",
           "grandson"
          ],
          [
           "Emperor's New Clothes",
           "Panic! At The Disco"
          ],
          [
           "Addicted",
           "Saving Abel"
          ],
          [
           "Tonight (I'm Fuckin' You)",
           "Enrique Iglesias"
          ],
          [
           "Animals",
           "Nickelback"
          ],
          [
           "Shouting Grounds",
           "Crowder"
          ],
          [
           "Shockwave",
           "Marshmello"
          ],
          [
           "Starring Role",
           "MARINA"
          ],
          [
           "emo girl (feat. WILLOW)",
           "Machine Gun Kelly"
          ],
          [
           "Dream Small",
           "Josh Wilson"
          ],
          [
           "Witch",
           "Burn The Ballroom"
          ],
          [
           "Bully",
           "Three Days Grace"
          ],
          [
           "Sí (Put Your Hands Up) - Extended Vocal Edit",
           "Martin Jensen"
          ],
          [
           "Violence",
           "The Unlikely Candidates"
          ],
          [
           "Grace Wins",
           "Matthew West"
          ],
          [
           "All In",
           "Matthew West"
          ],
          [
           "Let Me See Ya Girl",
           "Cole Swindell"
          ],
          [
           "My Nemesis",
           "Five Finger Death Punch"
          ],
          [
           "You Don't Get Me High Anymore",
           "Three Days Grace"
          ],
          [
           "Gunpowder & Lead",
           "Miranda Lambert"
          ],
          [
           "Happy Pills",
           "Weathers"
          ],
          [
           "Treacherous Doctor",
           "Wallows"
          ],
          [
           "Never Love Again",
           "Eminem"
          ],
          [
           "AfterLife",
           "Five Finger Death Punch"
          ],
          [
           "Shots & Squats - SoMo Vocal Mix",
           "Vigiland"
          ],
          [
           "Cowboy Casanova",
           "Carrie Underwood"
          ],
          [
           "Tyrant",
           "Disturbed"
          ],
          [
           "Daft Pretty Boys",
           "Bad Suns"
          ],
          [
           "Making Monsters (Bonus)",
           "Five Finger Death Punch"
          ],
          [
           "I Am Not a Robot (Flex'd Rework) - Passion Pit Remix",
           "MARINA"
          ],
          [
           "Innocent",
           "Mitchel Dae"
          ],
          [
           "Not Another Rockstar",
           "Maisie Peters"
          ],
          [
           "Casual Sex",
           "My Darkest Days"
          ],
          [
           "The 5th",
           "David Garrett"
          ],
          [
           "I Stand Alone",
           "Godsmack"
          ],
          [
           "GOSSIP (feat. Tom Morello)",
           "Måneskin"
          ],
          [
           "Last Name",
           "Carrie Underwood"
          ],
          [
           "Miss Jackson (feat. LOLO)",
           "Panic! At The Disco"
          ],
          [
           "My Name",
           "From Ashes to New"
          ],
          [
           "The Monster",
           "Eminem"
          ],
          [
           "Madame Guillotine",
           "The Scarlet Pimpernel"
          ],
          [
           "Wrecking Ball",
           "Five Finger Death Punch"
          ],
          [
           "You Are The One",
           "Shiny Toy Guns"
          ],
          [
           "American Money",
           "BØRNS"
          ],
          [
           "Dance The Boogie - ItaloBrothers Remix",
           "The BossHoss"
          ],
          [
           "Hero",
           "Skillet"
          ],
          [
           "STING",
           "Former Vandal"
          ],
          [
           "Burn",
           "Three Days Grace"
          ],
          [
           "4ever",
           "The Veronicas"
          ],
          [
           "Old Church Choir",
           "Zach Williams"
          ],
          [
           "On My Own",
           "Three Days Grace"
          ],
          [
           "(I Just) Died in Your Arms",
           "Throw The Fight"
          ],
          [
           "Novocaine",
           "The Unlikely Candidates"
          ],
          [
           "Popular Monster",
           "Falling In Reverse"
          ],
          [
           "Everytime We Touch",
           "Cash Cash"
          ],
          [
           "Breath",
           "Breaking Benjamin"
          ],
          [
           "Leave It All Behind",
           "Five Finger Death Punch"
          ],
          [
           "Cut the Cord",
           "Shinedown"
          ],
          [
           "Tell The World",
           "Lecrae"
          ],
          [
           "Bottom of The Top",
           "Five Finger Death Punch"
          ],
          [
           "You Know My Name - From \"Casino Royale\" Soundtrack",
           "Chris Cornell"
          ],
          [
           "Question Everything",
           "Five Finger Death Punch"
          ],
          [
           "please put me in a medically induced coma",
           "carolesdaughter"
          ],
          [
           "Meet Me on the Equinox",
           "Death Cab for Cutie"
          ],
          [
           "Night Life",
           "Hello Atlantic"
          ],
          [
           "Prayer Of The Refugee",
           "Rise Against"
          ],
          [
           "Whisper",
           "Burn The Ballroom"
          ],
          [
           "Give Me Everything (feat. Ne-Yo, Afrojack & Nayer)",
           "Pitbull"
          ],
          [
           "1, 2, 3 (feat. Jason Derulo & De La Ghetto)",
           "Sofía Reyes"
          ],
          [
           "Life Starts Now",
           "Three Days Grace"
          ],
          [
           "Hurricane",
           "Halsey"
          ],
          [
           "Cinderella Man",
           "Eminem"
          ],
          [
           "Venom",
           "Icon For Hire"
          ],
          [
           "Living Dead",
           "MARINA"
          ],
          [
           "Sexy Drug",
           "Falling In Reverse"
          ],
          [
           "1922",
           "Box the Oxford"
          ],
          [
           "Hollywood - Single Version",
           "MARINA"
          ],
          [
           "We're All Gonna Die",
           "AJ Smith"
          ],
          [
           "Thelma + Louise",
           "Bastille"
          ],
          [
           "Wolf in Sheep's Clothing (feat. William Beckett)",
           "Set It Off"
          ],
          [
           "ナンバーツー",
           "焚吐"
          ],
          [
           "The Only Difference Between Martyrdom and Suicide Is Press Coverage",
           "Panic! At The Disco"
          ],
          [
           "Memory - GOLDHOUSE x Mokita Remix",
           "Kane Brown"
          ],
          [
           "Fireball (feat. John Ryan)",
           "Pitbull"
          ],
          [
           "C'est trop",
           "Kendji Girac"
          ],
          [
           "Open Your Eyes",
           "Disturbed"
          ],
          [
           "The Abyss",
           "Three Days Grace"
          ],
          [
           "Cryin' Like A Bitch!!",
           "Godsmack"
          ],
          [
           "Love Me Do - Mono / Remastered",
           "The Beatles"
          ],
          [
           "Rock Bottom",
           "Five Finger Death Punch"
          ],
          [
           "It's Raining Men",
           "The Weather Girls"
          ],
          [
           "This Is My War",
           "Five Finger Death Punch"
          ],
          [
           "Talk Too Much",
           "COIN"
          ],
          [
           "Fake It",
           "Seether"
          ],
          [
           "I Refuse",
           "Five Finger Death Punch"
          ],
          [
           "September (Remix)",
           "DJ SLS"
          ],
          [
           "Absinthe",
           "I DONT KNOW HOW BUT THEY FOUND ME"
          ],
          [
           "St. Valentine",
           "Naomi Jon"
          ],
          [
           "The Pride",
           "Five Finger Death Punch"
          ],
          [
           "Lift Your Head Weary Sinner (Chains)",
           "Crowder"
          ],
          [
           "Start a Fire",
           "Unspoken"
          ],
          [
           "Blow",
           "Theory of a Deadman"
          ],
          [
           "Infra-Red",
           "Three Days Grace"
          ],
          [
           "You Make Me Feel Like It’s Halloween",
           "Muse"
          ],
          [
           "title track",
           "Machine Gun Kelly"
          ],
          [
           "Thank Me Later 2018",
           "Mike Emilio"
          ],
          [
           "Let You Down",
           "Three Days Grace"
          ],
          [
           "Medicine Man",
           "Blue Water Highway"
          ],
          [
           "Who Taught You How to Hate",
           "Disturbed"
          ],
          [
           "All I Have",
           "NF"
          ],
          [
           "A Warrior's Call",
           "Volbeat"
          ],
          [
           "Wrong",
           "Finish Ticket"
          ],
          [
           "It Goes Like",
           "Ninjaneers"
          ],
          [
           "Pretty Boy",
           "poutyface"
          ],
          [
           "Build God, Then We'll Talk",
           "Panic! At The Disco"
          ],
          [
           "Brighter Side of Grey",
           "Five Finger Death Punch"
          ],
          [
           "Hollywood",
           "MARINA"
          ],
          [
           "Break",
           "Three Days Grace"
          ],
          [
           "Million Bucks",
           "Smallpools"
          ],
          [
           "Runnin'",
           "Adam Lambert"
          ],
          [
           "Go Your Own Way - 2004 Remaster",
           "Fleetwood Mac"
          ],
          [
           "Till I Collapse",
           "Eminem"
          ],
          [
           "Ocean To Ocean (feat. Rhea)",
           "Pitbull"
          ],
          [
           "You're Mine",
           "Disturbed"
          ],
          [
           "Danger To Myself",
           "The Unlikely Candidates"
          ],
          [
           "The Fairies Dance",
           "Tungsten"
          ],
          [
           "NATIVE TONGUE",
           "Switchfoot"
          ],
          [
           "Me Against You",
           "Three Days Grace"
          ],
          [
           "Purge The Poison (feat. Pussy Riot)",
           "MARINA"
          ],
          [
           "All American Nightmare",
           "Hinder"
          ],
          [
           "Heaven Is A Place In My Head",
           "Bad Suns"
          ],
          [
           "Slave",
           "Manntra"
          ],
          [
           "Surviving The Game",
           "Skillet"
          ],
          [
           "War Is the Answer",
           "Five Finger Death Punch"
          ],
          [
           "Die By The Blade",
           "Beast In Black"
          ],
          [
           "The Good Life",
           "Three Days Grace"
          ],
          [
           "Grace Alone - Acoustic",
           "The Modern Post"
          ],
          [
           "Animal I Have Become",
           "Three Days Grace"
          ],
          [
           "Wake Up",
           "Three Days Grace"
          ],
          [
           "Let It Go",
           "Seether"
          ],
          [
           "One Way Or Another",
           "Blondie"
          ],
          [
           "Villain I'm Not",
           "Three Days Grace"
          ],
          [
           "Dying Breed",
           "Five Finger Death Punch"
          ],
          [
           "Ride With Me (feat. Kid Ink) - Blasterjaxx & Tungevaag Remix",
           "Tungevaag"
          ],
          [
           "My Lighthouse",
           "Rend Collective"
          ],
          [
           "Lonely Vampire",
           "Weathers"
          ],
          [
           "These Days (feat. Jess Glynne, Macklemore & Dan Caplen)",
           "Rudimental"
          ],
          [
           "Cold",
           "Five Finger Death Punch"
          ],
          [
           "Stranger",
           "Double Experience"
          ],
          [
           "Decades",
           "Juniper Vale"
          ],
          [
           "Novocaine",
           "Fall Out Boy"
          ],
          [
           "Contradanza",
           "Mike Batt"
          ],
          [
           "Fallin’ (Adrenaline)",
           "Why Don't We"
          ],
          [
           "Reflections",
           "We Are The In Crowd"
          ],
          [
           "This Is War",
           "Five Finger Death Punch"
          ],
          [
           "Bad Day",
           "Charlotte Sands"
          ],
          [
           "Death Punch Therapy (Bonus)",
           "Five Finger Death Punch"
          ],
          [
           "Jekyll and Hyde",
           "Five Finger Death Punch"
          ],
          [
           "Alone Together",
           "Fall Out Boy"
          ],
          [
           "Hit and Run",
           "LOLO"
          ],
          [
           "Just One Yesterday",
           "Fall Out Boy"
          ],
          [
           "I Just Had Sex",
           "The Lonely Island"
          ],
          [
           "Nicotine",
           "Panic! At The Disco"
          ],
          [
           "Sweet Disposition",
           "The Temper Trap"
          ],
          [
           "Jessie's Girl",
           "Rick Springfield"
          ],
          [
           "Interlude",
           "Blazy"
          ],
          [
           "Best Song Ever",
           "One Direction"
          ],
          [
           "All For Love",
           "Tungevaag"
          ],
          [
           "Violet",
           "Those Who Dream"
          ],
          [
           "Last Resort",
           "Papa Roach"
          ],
          [
           "The Brave and the Bold",
           "Disturbed"
          ],
          [
           "Wait for It",
           "Matt Copley"
          ],
          [
           "Moving to New York",
           "The Wombats"
          ],
          [
           "Everytime We Touch",
           "Cascada"
          ],
          [
           "Fire in the Hole",
           "Five Finger Death Punch"
          ],
          [
           "This Is Halloween",
           "Matt Copley"
          ],
          [
           "Scar Tissue",
           "Five Finger Death Punch"
          ],
          [
           "Human Enough",
           "ONR"
          ],
          [
           "Hail to the King",
           "Avenged Sevenfold"
          ],
          [
           "I Don't Wanna Stop",
           "Ozzy Osbourne"
          ],
          [
           "Falling In Hate",
           "Five Finger Death Punch"
          ],
          [
           "Can't Fight The Moonlight - Graham Stack Radio Edit",
           "LeAnn Rimes"
          ],
          [
           "Whiskey Fever",
           "Dorothy"
          ],
          [
           "The Good, the Bad and the Dirty",
           "Panic! At The Disco"
          ],
          [
           "Goin' Down",
           "Three Days Grace"
          ],
          [
           "Save Our Last Goodbye",
           "Disturbed"
          ],
          [
           "Kick The Dust Up",
           "Luke Bryan"
          ],
          [
           "I Feel Fine - Remastered 2015",
           "The Beatles"
          ],
          [
           "Honky Tonk Badonkadonk",
           "Trace Adkins"
          ],
          [
           "Gasoline",
           "Seether"
          ],
          [
           "C'est La Vie",
           "Khaled"
          ],
          [
           "Hammer",
           "Point North"
          ],
          [
           "Are You Ready",
           "Three Days Grace"
          ],
          [
           "Dirty Little Secret",
           "The All-American Rejects"
          ],
          [
           "Unbreakable Heart",
           "Three Days Grace"
          ],
          [
           "Thunder in My Heart Again (Radio Edit)",
           "Meck"
          ],
          [
           "Bad Girlfriend",
           "Theory of a Deadman"
          ],
          [
           "War Cry",
           "Social Club Misfits"
          ],
          [
           "I Don't Care Anymore (Acoustic)",
           "HELLYEAH"
          ],
          [
           "I Just Wanna Know",
           "NF"
          ],
          [
           "Beg",
           "Seether"
          ],
          [
           "Conversations",
           "Marney"
          ],
          [
           "O.K. Fine",
           "Clover the Girl"
          ],
          [
           "Cold",
           "Crossfade"
          ],
          [
           "MISS ME?",
           "Kordhell"
          ],
          [
           "Times Like These",
           "Five Finger Death Punch"
          ],
          [
           "Need To Feel (ft. Mattanja Joy Bradley)",
           "Brennan Heart"
          ],
          [
           "Numb",
           "Waterparks"
          ],
          [
           "All I C Is U & Me",
           "Death From Above 1979"
          ],
          [
           "L.S.D",
           "Skegss"
          ],
          [
           "Runnin' Outta Moonlight",
           "Randy Houser"
          ],
          [
           "I’m So",
           "MIYAVI"
          ],
          [
           "This",
           "Darius Rucker"
          ],
          [
           "Kickin' da Leaves",
           "Judah & the Lion"
          ],
          [
           "A Day in My Life",
           "Five Finger Death Punch"
          ],
          [
           "Froot",
           "MARINA"
          ],
          [
           "Got Your Six",
           "Five Finger Death Punch"
          ],
          [
           "The End",
           "Five Finger Death Punch"
          ],
          [
           "IF THE WORLD FALLS APART",
           "Owen Coleman"
          ],
          [
           "Look At That Butt",
           "Dillon Francis"
          ],
          [
           "Patient Number 9 (feat. Jeff Beck)",
           "Ozzy Osbourne"
          ],
          [
           "All Dolled Up",
           "The Orion Experience"
          ],
          [
           "I Can Only. (feat. Alessia Cara)",
           "JoJo"
          ],
          [
           "Bitch Came Back",
           "Theory of a Deadman"
          ],
          [
           "Airplanes (feat. Hayley Williams of Paramore)",
           "B.o.B"
          ],
          [
           "Fire and the Flood",
           "Vance Joy"
          ],
          [
           "bloody valentine",
           "Machine Gun Kelly"
          ],
          [
           "You Don't Know Me",
           "Victorious Cast"
          ],
          [
           "Sippy Cup",
           "Charlatan"
          ],
          [
           "Bad Girls",
           "M.I.A."
          ],
          [
           "Kiss Me Again (feat. Alex Gaskarth)",
           "We Are The In Crowd"
          ],
          [
           "The Factory Gates",
           "Kaiser Chiefs"
          ],
          [
           "Trouble",
           "Five Finger Death Punch"
          ],
          [
           "Living Dead",
           "Sydney Shepherd"
          ],
          [
           "Whispers in the Dark",
           "Skillet"
          ],
          [
           "Pick Up Behind You",
           "Five Finger Death Punch"
          ],
          [
           "Confidence",
           "Sanctus Real"
          ],
          [
           "Leyla - Dropdrop Remix",
           "Alfons"
          ],
          [
           "My Ordinary Life",
           "The Living Tombstone"
          ],
          [
           "Right Girl",
           "The Maine"
          ],
          [
           "Sick Little Games",
           "First and Forever"
          ],
          [
           "Beautiful Is Boring",
           "BONES UK"
          ],
          [
           "Teeth",
           "Dirty D´Sire"
          ],
          [
           "Good Fight",
           "Unspoken"
          ],
          [
           "2010",
           "The Keystones"
          ],
          [
           "No Sudden Movement",
           "Five Finger Death Punch"
          ],
          [
           "Defying Gravity",
           "Matt Copley"
          ],
          [
           "Something in Your Mouth",
           "Nickelback"
          ],
          [
           "Virtual Insanity (Cyberpunk)",
           "Melodicka Bros"
          ],
          [
           "White Rabbit",
           "Egypt Central"
          ],
          [
           "Brighter",
           "Patent Pending"
          ],
          [
           "Quarter Life Crisis",
           "Judah & the Lion"
          ],
          [
           "Mowgli's Road",
           "MARINA"
          ],
          [
           "I'm Born To Run",
           "American Authors"
          ],
          [
           "Cardiac Arrest",
           "Bad Suns"
          ],
          [
           "Boys Will Be Boys",
           "bülow"
          ],
          [
           "God Is on the Move",
           "7eventh Time Down"
          ],
          [
           "Don't Bring Me Down",
           "Electric Light Orchestra"
          ],
          [
           "I'll Sleep When I'm Dead",
           "Set It Off"
          ],
          [
           "So Poetic",
           "Sundressed"
          ],
          [
           "The Fine Print",
           "The Stupendium"
          ],
          [
           "Haus of Holbein",
           "SIX"
          ],
          [
           "Soul On Fire (feat. All Sons & Daughters) (feat. All Sons & Daughters)",
           "Third Day"
          ],
          [
           "Bleed Magic",
           "I DONT KNOW HOW BUT THEY FOUND ME"
          ],
          [
           "Addicted To Pain",
           "Alter Bridge"
          ],
          [
           "Live To Win",
           "Paul Stanley"
          ],
          [
           "Shivers",
           "Ed Sheeran"
          ],
          [
           "Full Circle",
           "Five Finger Death Punch"
          ],
          [
           "Dope on a Rope",
           "The Growlers"
          ],
          [
           "Sports",
           "Beach Bunny"
          ],
          [
           "Stupid Intruders",
           "The Vincent Black Shadow"
          ],
          [
           "Do It",
           "Broiler"
          ],
          [
           "So What",
           "Three Days Grace"
          ],
          [
           "Hope Less Romantics",
           "Make Out Monday"
          ],
          [
           "I Disappear",
           "The Faint"
          ],
          [
           "Terrible Things",
           "Brick + Mortar"
          ],
          [
           "Pick Up The Phone",
           "Falling In Reverse"
          ],
          [
           "again",
           "YUI"
          ],
          [
           "Freaks",
           "Surf Curse"
          ],
          [
           "Immortalized",
           "Disturbed"
          ],
          [
           "Unravel (From \"Tokyo Ghoul\")",
           "AmaLee"
          ],
          [
           "Мотыльки",
           "Glukoza"
          ],
          [
           "Primadonna - Kat Krazy Remix",
           "MARINA"
          ],
          [
           "Call Me",
           "Blondie"
          ],
          [
           "America Anonymous",
           "Demi the Daredevil"
          ],
          [
           "I Don't Need Your Love (Remix)",
           "SIX"
          ],
          [
           "The Phantom of the Opera",
           "Matt Copley"
          ],
          [
           "What Hurts the Most",
           "Breaking Through"
          ],
          [
           "Wonderland",
           "Natalia Kills"
          ],
          [
           "Crossing Over",
           "Five Finger Death Punch"
          ],
          [
           "Keep Head Up",
           "These Go To 11"
          ],
          [
           "Guilty",
           "MARINA"
          ],
          [
           "This Is Not The End",
           "The Bravery"
          ],
          [
           "Testify",
           "Social Club Misfits"
          ],
          [
           "Moments We Live For",
           "In Paradise"
          ],
          [
           "American Girl",
           "Tom Petty and the Heartbreakers"
          ],
          [
           "Sweet Disaster",
           "DREAMERS"
          ],
          [
           "Power & Control - Brackles - Drum and Squares Mix",
           "MARINA"
          ],
          [
           "Notice Me Senpai",
           "Ihascupquake"
          ],
          [
           "Just A Ride",
           "The Virginmarys"
          ],
          [
           "Seventeen",
           "MARINA"
          ],
          [
           "Hell Of A Ride",
           "Saving Abel"
          ],
          [
           "Citizen/Soldier",
           "3 Doors Down"
          ],
          [
           "Cemetery",
           "COIN"
          ],
          [
           "Gotta Good Reason",
           "Evan Dupell"
          ],
          [
           "Heavy",
           "The Glorious Sons"
          ],
          [
           "Зараза",
           "Nikolay Baskov"
          ],
          [
           "Blind And Frozen",
           "Beast In Black"
          ],
          [
           "Everything's Gonna Be Alright",
           "Mike Mains & The Branches"
          ],
          [
           "Pomegranate Seeds",
           "Julian Moon"
          ],
          [
           "FMLYHM",
           "Seether"
          ],
          [
           "Hurricane",
           "Panic! At The Disco"
          ],
          [
           "Paint It, Black - (Original Single Mono Version)",
           "The Rolling Stones"
          ],
          [
           "Ready to Go (Get Me Out of My Mind)",
           "Panic! At The Disco"
          ],
          [
           "Ticket To Ride - Remastered 2015",
           "The Beatles"
          ],
          [
           "Heat Seeker",
           "DREAMERS"
          ],
          [
           "Time of Dying",
           "Three Days Grace"
          ],
          [
           "Summer Never Dies",
           "The Foxies"
          ],
          [
           "Human Race",
           "Three Days Grace"
          ],
          [
           "It's Raining Men",
           "Geri Halliwell"
          ],
          [
           "All Around The World (La La La) - Brennan Heart Remix",
           "R3HAB"
          ],
          [
           "Wait Another Day",
           "Mike Williams"
          ],
          [
           "Bad Company",
           "Five Finger Death Punch"
          ],
          [
           "If You're Going Through Hell (Before The Devil Even Knows)",
           "Rodney Atkins"
          ],
          [
           "Bad Habits (feat. Bring Me The Horizon)",
           "Ed Sheeran"
          ],
          [
           "Dirty Little Girl",
           "Burn Halo"
          ],
          [
           "Back from the Dead",
           "Skillet"
          ],
          [
           "The MegaSIX",
           "SIX"
          ],
          [
           "Fear & Delight",
           "The Correspondents"
          ],
          [
           "If You Ever Stop Loving Me",
           "Montgomery Gentry"
          ],
          [
           "Royals",
           "Lorde"
          ],
          [
           "Do I Wanna Know?",
           "Arctic Monkeys"
          ],
          [
           "Last Nite",
           "The Strokes"
          ],
          [
           "Lisztomania",
           "Phoenix"
          ],
          [
           "Take Me Out",
           "Franz Ferdinand"
          ],
          [
           "Seven Nation Army",
           "The White Stripes"
          ],
          [
           "Lonely Boy",
           "The Black Keys"
          ],
          [
           "Ain't No Rest for the Wicked",
           "Cage The Elephant"
          ],
          [
           "Little Lion Man",
           "Mumford & Sons"
          ],
          [
           "Pumped Up Kicks",
           "Foster The People"
          ],
          [
           "Ho Hey",
           "The Lumineers"
          ],
          [
           "Radioactive",
           "Imagine Dragons"
          ],
          [
           "Viva La Vida",
           "Coldplay"
          ],
          [
           "Stressed Out",
           "Twenty One Pilots"
          ],
          [
           "Pompeii",
           "Bastille"
          ],
          [
           "I Write Sins Not Tragedies",
           "Panic! At The Disco"
          ],
          [
           "Misery Business",
           "Paramore"
          ],
          [
           "Starlight",
           "Muse"
          ],
          [
           "Somebody Else",
           "The 1975"
          ],
          [
           "The Less I Know The Better",
           "Tame Impala"
          ],
          [
           "Sweater Weather",
           "The Neighbourhood"
          ],
          [
           "HandClap",
           "Fitz and The Tantrums"
          ],
          [
           "Riptide",
           "Vance Joy"
          ],
          [
           "What You Know",
           "Two Door Cinema Club"
          ],
          [
           "Helena Beat",
           "Foster The People"
          ],
          [
           "Bad Blood",
           "Bastille"
          ],
          [
           "Kids",
           "MGMT"
          ],
          [
           "Cigarette Daydreams",
           "Cage The Elephant"
          ],
          [
           "Oxford Comma",
           "Vampire Weekend"
          ],
          [
           "When You Were Young",
           "The Killers"
          ],
          [
           "Fluorescent Adolescent",
           "Arctic Monkeys"
          ],
          [
           "Clocks",
           "Coldplay"
          ],
          [
           "Demons",
           "Imagine Dragons"
          ],
          [
           "Tighten Up",
           "The Black Keys"
          ],
          [
           "Dance, Dance",
           "Fall Out Boy"
          ],
          [
           "High Hopes",
           "Panic! At The Disco"
          ],
          [
           "Ain't It Fun",
           "Paramore"
          ],
          [
           "Uprising",
           "Muse"
          ],
          [
           "The Sound",
           "The 1975"
          ],
          [
           "Elephant",
           "Tame Impala"
          ],
          [
           "Afraid",
           "The Neighbourhood"
          ],
          [
           "Mess Is Mine",
           "Vance Joy"
          ],
          [
           "Rollercoaster",
           "Bleachers"
          ],
          [
           "Something Good Can Work",
           "Two Door Cinema Club"
          ],
          [
           "No Choir",
           "Florence + The Machine"
          ],
          [
           "Run",
           "Hozier"
          ],
          [
           "Oblivion",
           "Bastille"
          ],
          [
           "Feeling Whitney",
           "Post Malone"
          ],
          [
           "The Moon Doesn’t Mind",
           "Lord Huron"
          ],
          [
           "Cleopatra (Acoustic Demo)",
           "The Lumineers"
          ],
          [
           "If We Were Vampires (feat. Wesley Schultz) - Spotify Singles",
           "Noah Kahan"
          ],
          [
           "Nocturne",
           "Blanco White"
          ],
          [
           "Light Of Love",
           "Florence + The Machine"
          ],
          [
           "Movement - Recorded at Spotify Studios NYC",
           "Hozier"
          ],
          [
           "Howling",
           "Noah Kahan"
          ],
          [
           "Colder Heavens",
           "Blanco White"
          ],
          [
           "I Will Be Blessed",
           "Ben Howard"
          ],
          [
           "Morning Elvis",
           "Florence + The Machine"
          ],
          [
           "Vanilla (Stairwell Version)",
           "Holly Humberstone"
          ],
          [
           "People Change",
           "Mipso"
          ],
          [
           "Dinner & Diatribes",
           "Hozier"
          ],
          [
           "Chalk Outline",
           "Three Days Grace"
          ],
          [
           "Coming Undone",
           "Korn"
          ],
          [
           "Away",
           "Breaking Benjamin"
          ],
          [
           "Swing Life Away",
           "Rise Against"
          ],
          [
           "Touch, Peel And Stand",
           "Days Of The New"
          ],
          [
           "JUMP",
           "P1Harmony"
          ],
          [
           "I WANNA BE YOUR SLAVE",
           "Måneskin"
          ],
          [
           "Пластилин",
           "Ai Mori"
          ],
          [
           "Bad Dream Baby",
           "Hippo Campus"
          ],
          [
           "Toxic",
           "Stupid Hobby"
          ],
          [
           "Take Off Ur Pants",
           "Indigo De Souza"
          ],
          [
           "Deep End",
           "CATTY"
          ],
          [
           "Drinking with Cupid",
           "VOILÀ"
          ],
          [
           "Strangers Like Me",
           "Phil Collins"
          ],
          [
           "Far Away",
           "Junip"
          ],
          [
           "Heartbreak Girl",
           "5 Seconds of Summer"
          ],
          [
           "Anne Bonny",
           "Karliene"
          ],
          [
           "I Know I Have A Heart",
           "Andrew Lloyd Webber"
          ],
          [
           "Bite Me",
           "Avril Lavigne"
          ],
          [
           "Bad Cinderella",
           "Andrew Lloyd Webber"
          ],
          [
           "Friends to Lovers",
           "Melina KB"
          ],
          [
           "I Say No",
           "Carrie Hope Fletcher"
          ],
          [
           "Hunks' Song",
           "Andrew Lloyd Webber"
          ],
          [
           "I'm In Love With a Sociopath",
           "I Hate Kate"
          ],
          [
           "Unfair",
           "Andrew Lloyd Webber"
          ],
          [
           "Religion",
           "ZAND"
          ],
          [
           "Overture",
           "Alan Menken"
          ],
          [
           "Don't Let It Pass",
           "Junip"
          ],
          [
           "Meant to Be Yours",
           "Ryan McCartan"
          ],
          [
           "Wish On An Eyelash",
           "Mallrat"
          ],
          [
           "Eat Your Young - Bekon's Choral Version",
           "Hozier"
          ],
          [
           "White Blank Page",
           "Mumford & Sons"
          ],
          [
           "Various Storms & Saints",
           "Florence + The Machine"
          ],
          [
           "Visions of Gideon",
           "Sufjan Stevens"
          ],
          [
           "Liquid Smooth",
           "Mitski"
          ],
          [
           "Can’t Get It Right",
           "Matthew Perryman Jones"
          ],
          [
           "The Ballad of Jane Doe",
           "Emily Rohm"
          ],
          [
           "Atlantico",
           "Roberto Cacciapaglia"
          ],
          [
           "Pulling a Thread",
           "The Chamber Orchestra Of London"
          ],
          [
           "Crazy Bitch (feat. Mothica)",
           "Sizzy Rocket"
          ],
          [
           "White Knuckles",
           "OK Go"
          ],
          [
           "Am I A Girl?",
           "Poppy"
          ],
          [
           "Love Again",
           "Dua Lipa"
          ],
          [
           "Infinity",
           "Jaymes Young"
          ],
          [
           "Alpha",
           "Chrissy Chlapecka"
          ],
          [
           "Tired",
           "Cami Petyn"
          ],
          [
           "NOCTURNAL",
           "MOTHICA"
          ],
          [
           "My Universe",
           "Coldplay"
          ],
          [
           "Complex",
           "Xana"
          ],
          [
           "Stuck",
           "Thirty Seconds To Mars"
          ],
          [
           "barcelona boots",
           "Arlie"
          ],
          [
           "A Million Ways",
           "OK Go"
          ],
          [
           "BABY SAID",
           "Måneskin"
          ],
          [
           "Body And Mind",
           "girl in red"
          ],
          [
           "We Used To Be Friends",
           "The Dandy Warhols"
          ],
          [
           "Vibe",
           "Halflives"
          ],
          [
           "SWEET TALK",
           "Poe the Passenger"
          ],
          [
           "Cigarettes & Feelings",
           "The Haunt"
          ],
          [
           "I Really F**ked It Up",
           "girli"
          ],
          [
           "Call Me a Saint",
           "YONAKA"
          ],
          [
           "Victim",
           "Halflives"
          ],
          [
           "I Don’t Like Myself",
           "girli"
          ],
          [
           "SENSITIVE",
           "MOTHICA"
          ],
          [
           "cool on the internet",
           "margø"
          ],
          [
           "Someone's Little Princess",
           "Grace Blue"
          ],
          [
           "Dysmorphia",
           "girli"
          ],
          [
           "Cry Baby",
           "American Avenue"
          ],
          [
           "upside",
           "MOTHICA"
          ],
          [
           "That Girl",
           "Emei"
          ],
          [
           "Late To The Party",
           "Emei"
          ],
          [
           "Queen of Nothing",
           "Elliot Lee"
          ],
          [
           "moneydontfixlonely",
           "Sophia Messa"
          ],
          [
           "mind games",
           "renforshort"
          ],
          [
           "Shut Up and Cry",
           "Zolita"
          ],
          [
           "WYA",
           "Carlie Hanson"
          ],
          [
           "Fuckboy",
           "BAUM"
          ],
          [
           "Love Me Better",
           "MOTHICA"
          ],
          [
           "Dead 2 Me",
           "Emily Vaughn"
          ],
          [
           "Fight!",
           "Ellise"
          ],
          [
           "ordinary",
           "XYLØ"
          ],
          [
           "i love you but i don't like you",
           "Molly Moore"
          ],
          [
           "Keep It to Myself",
           "Ellise"
          ],
          [
           "Nightmares",
           "Ellise"
          ],
          [
           "Youdofuckingyou",
           "Zaryah"
          ],
          [
           "Wish You'd Make Me Cry",
           "UPSAHL"
          ],
          [
           "Pinky Promise",
           "Ellise"
          ],
          [
           "A Thousand Ways",
           "Phoebe Ryan"
          ],
          [
           "Hard Liquor",
           "Jaira Burns"
          ],
          [
           "Family Tree",
           "EZI"
          ],
          [
           "Left With a Broken Heart",
           "Leah Kate"
          ],
          [
           "Keep On Coming",
           "Gia Woods"
          ],
          [
           "ROOM 112",
           "Zaryah"
          ],
          [
           "Euphoria",
           "bülow"
          ],
          [
           "Freaking Me Out",
           "Ava Max"
          ],
          [
           "Murder",
           "Mako"
          ],
          [
           "All the Fucking Time",
           "Loote"
          ],
          [
           "VICES",
           "MOTHICA"
          ],
          [
           "Panic Room",
           "Au/Ra"
          ],
          [
           "Prom Queen",
           "Molly Kate Kestner"
          ],
          [
           "Headcase",
           "Kailee Morgue"
          ],
          [
           "Without Me",
           "Halsey"
          ],
          [
           "Diamond Tears",
           "DeathbyRomy"
          ],
          [
           "Sweet Little Lies",
           "bülow"
          ],
          [
           "Hurts Like Hell (feat. Offset)",
           "Madison Beer"
          ],
          [
           "Goddess",
           "Xana"
          ],
          [
           "like that",
           "Bea Miller"
          ],
          [
           "Another Place",
           "Bastille"
          ],
          [
           "Smother Me",
           "Kelaska"
          ],
          [
           "Liar Liar",
           "Peyton List"
          ],
          [
           "Bones",
           "Emily Finchum"
          ],
          [
           "Panic Attack",
           "Liza Anne"
          ],
          [
           "Blue",
           "The Neighbourhood"
          ],
          [
           "Painkiller",
           "Beach Bunny"
          ],
          [
           "She Doesn't Sleep",
           "Anthony Amorim"
          ],
          [
           "SKID MARKS",
           "3OH!3"
          ],
          [
           "i did this all for you!",
           "Xana"
          ],
          [
           "Sunflower",
           "We Banjo 3"
          ],
          [
           "Yellow",
           "Coldplay"
          ],
          [
           "Rhiannon",
           "Fleetwood Mac"
          ],
          [
           "Hooked",
           "Why Don't We"
          ],
          [
           "Come On Eileen",
           "Dexys Midnight Runners"
          ],
          [
           "Talia",
           "King Princess"
          ],
          [
           "Olivia",
           "One Direction"
          ],
          [
           "Sofia",
           "Clairo"
          ],
          [
           "1980s Horror Film II",
           "Wallows"
          ],
          [
           "Mr Loverman",
           "Ricky Montgomery"
          ],
          [
           "Canyon Moon",
           "Harry Styles"
          ],
          [
           "Charli",
           "Motherly Jet"
          ],
          [
           "Lemon Drop",
           "Raynes"
          ],
          [
           "Green (Secret Songbook Sessions)",
           "Ivory Layne"
          ],
          [
           "Wildflower",
           "5 Seconds of Summer"
          ],
          [
           "Honor Among Thieves",
           "Julian Moon"
          ],
          [
           "USER 139",
           "Char"
          ],
          [
           "three wheels and it still drives!",
           "glaive"
          ],
          [
           "Keep Your Head Up",
           "Ben Howard"
          ],
          [
           "poison",
           "glaive"
          ],
          [
           "Love Me or Leave Me",
           "Little Mix"
          ],
          [
           "The Wolves",
           "Ben Howard"
          ],
          [
           "Live in the Moment",
           "Portugal. The Man"
          ],
          [
           "re:set",
           "50landing"
          ],
          [
           "Accessory",
           "Breakup Shoes"
          ],
          [
           "At Least I Have Nothing",
           "Saint Motel"
          ],
          [
           "Fomo",
           "Phoneboy"
          ],
          [
           "Lobster",
           "Boy Called Cute"
          ],
          [
           "Love Made Me Do It",
           "Ellise"
          ],
          [
           "Make Me Feel Like",
           "Saint Motel"
          ],
          [
           "Living In A Haze",
           "Milky Chance"
          ],
          [
           "Your Dog",
           "Soccer Mommy"
          ],
          [
           "Poison",
           "Stevie Bill"
          ],
          [
           "Better People to Leave on Read",
           "Emei"
          ],
          [
           "NYC's better off without u",
           "Libby Larkin"
          ],
          [
           "Plastic Purse",
           "chloe moriondo"
          ],
          [
           "PRINCESS CHARMING",
           "Pussy Riot"
          ],
          [
           "Not Your Game",
           "Megan Lenius"
          ],
          [
           "Feed Your Addiction",
           "Saphir"
          ],
          [
           "Manic Pixie Dream Girl",
           "Addison Grace"
          ],
          [
           "Mrs. Potato Head",
           "Melanie Martinez"
          ],
          [
           "Hypnotic",
           "Zella Day"
          ],
          [
           "Gasoline",
           "Halsey"
          ],
          [
           "Our Own House",
           "MisterWives"
          ],
          [
           "Coffins",
           "MisterWives"
          ],
          [
           "Paper Love",
           "Allie X"
          ],
          [
           "New Americana",
           "Halsey"
          ],
          [
           "Glory And Gore",
           "Lorde"
          ],
          [
           "Saint",
           "VÉRITÉ"
          ],
          [
           "Copy Cat (feat. Tierra Whack)",
           "Melanie Martinez"
          ],
          [
           "Make Believe",
           "Bianca"
          ],
          [
           "Stockholm",
           "Bianca"
          ],
          [
           "Speak Loud",
           "Trills"
          ],
          [
           "Beast",
           "Mia Martina"
          ],
          [
           "Karma - Acoustic",
           "MARINA"
          ],
          [
           "Obsessions",
           "MARINA"
          ],
          [
           "School Nights",
           "Chappell Roan"
          ],
          [
           "Dreams",
           "Caroline Glaser"
          ],
          [
           "Ghost",
           "Halsey"
          ],
          [
           "Fade Away",
           "Intergalactic Lovers"
          ],
          [
           "Mermaid",
           "Skott"
          ],
          [
           "Shadow Preachers",
           "Zella Day"
          ],
          [
           "You're the Best",
           "Wet"
          ],
          [
           "Scream My Name",
           "Tove Lo"
          ],
          [
           "Afterlife",
           "XYLØ"
          ],
          [
           "I Did Something Bad",
           "Taylor Swift"
          ],
          [
           "Mirrors",
           "Natalia Kills"
          ],
          [
           "Zombie",
           "Natalia Kills"
          ],
          [
           "Everything Is Embarrassing",
           "Sky Ferreira"
          ],
          [
           "River",
           "Bishop Briggs"
          ],
          [
           "A Little Wicked",
           "Valerie Broussard"
          ],
          [
           "Spider in the Roses (feat. Rob the Man)",
           "Sonia Leigh"
          ],
          [
           "Monsters",
           "Ruelle"
          ],
          [
           "all the good girls go to hell",
           "Billie Eilish"
          ],
          [
           "you should see me in a crown",
           "Billie Eilish"
          ],
          [
           "Beggin For Thread",
           "BANKS"
          ],
          [
           "Blood In The Cut",
           "K.Flay"
          ],
          [
           "Desire",
           "MEG MYERS"
          ],
          [
           "Fucked My Way Up To The Top",
           "Lana Del Rey"
          ],
          [
           "He Don't Love Me",
           "Winona Oak"
          ],
          [
           "Bloodstream",
           "Transviolet"
          ],
          [
           "Don't Say You Do",
           "Lola Blanc"
          ],
          [
           "Goodbye",
           "MARINA"
          ],
          [
           "Luci",
           "ZAND"
          ],
          [
           "Bloodsuckers",
           "Johnny Hollow"
          ],
          [
           "City of Angels",
           "Em Beihold"
          ],
          [
           "ur a zombie",
           "Jessie Paege"
          ],
          [
           "Villain",
           "xUnreachablee"
          ],
          [
           "Prom Queen",
           "Beach Bunny"
          ],
          [
           "Hex Girl",
           "Dreadlight"
          ],
          [
           "Regrets",
           "Emei"
          ],
          [
           "Distracted",
           "Emei"
          ],
          [
           "How Dare You",
           "MALINDA"
          ],
          [
           "Great! Big! Party!",
           "eyeamki"
          ],
          [
           "Savage Remix",
           "Elizy xo"
          ],
          [
           "Blades",
           "Arlo Parks"
          ],
          [
           "What Are You Afraid of?",
           "Chxrlotte"
          ],
          [
           "Dark Side",
           "EHLE"
          ],
          [
           "No Problems",
           "ONICKS"
          ],
          [
           "Demons and Angels",
           "LOWBORN"
          ],
          [
           "Cradles",
           "Sub Urban"
          ],
          [
           "i can't get high",
           "Royal & the Serpent"
          ],
          [
           "Lunatic",
           "UPSAHL"
          ],
          [
           "god sent me as karma",
           "emlyn"
          ],
          [
           "Snot (feat. Deb Never)",
           "Carlie Hanson"
          ],
          [
           "Mary",
           "The Happy Fits"
          ],
          [
           "Psycho Killer",
           "The Wrecks"
          ],
          [
           "THE DEATH OF PEACE OF MIND",
           "Bad Omens"
          ],
          [
           "Yandere",
           "Jazmin Bean"
          ],
          [
           "For the Departed",
           "Shayfer James"
          ],
          [
           "Bones",
           "Imagine Dragons"
          ],
          [
           "Killing Butterflies",
           "Lewis Blissett"
          ],
          [
           "cult leader",
           "KiNG MALA"
          ],
          [
           "cinderella's dead",
           "EMELINE"
          ],
          [
           "YES MOM",
           "Tessa Violet"
          ],
          [
           "Violent",
           "carolesdaughter"
          ],
          [
           "Ancient Dreams in a Modern Land",
           "MARINA"
          ],
          [
           "killer queen",
           "Mad Tsai"
          ],
          [
           "It's Been So Long",
           "The Living Tombstone"
          ],
          [
           "Radioactive",
           "MARINA"
          ],
          [
           "Lonely Hearts Club",
           "MARINA"
          ],
          [
           "Eleanor Rigby",
           "Cody Fry"
          ],
          [
           "Little Girls - From the Annie (2014) Original Movie Soundtrack",
           "Cameron Diaz"
          ],
          [
           "C'est la vie",
           "Weathers"
          ],
          [
           "Jaded",
           "Betcha"
          ],
          [
           "GOOD FOR HER",
           "MOTHICA"
          ],
          [
           "buzzkill",
           "MOTHICA"
          ],
          [
           "Everybody's Dead Inside",
           "Alissic"
          ],
          [
           "SuperVillain Origin Story",
           "whatyoudid."
          ],
          [
           "Puppy Princess",
           "Hot Freaks"
          ],
          [
           "Cannibal",
           "Kesha"
          ],
          [
           "Love the Way It Hurts",
           "Cloudy June"
          ],
          [
           "Very Best",
           "Goldilox"
          ],
          [
           "Baby Teeth (feat. Mothica)",
           "Joe P"
          ],
          [
           "Douchebag",
           "UPSAHL"
          ],
          [
           "She Wants Me (To Be Loved)",
           "The Happy Fits"
          ],
          [
           "Can't Pin Me Down",
           "MARINA"
          ],
          [
           "GOOD GIRL ERA (SIDE A)",
           "UPSAHL"
          ],
          [
           "Fruity",
           "chloe moriondo"
          ],
          [
           "Gambling Addiction",
           "Leanna Firestone"
          ],
          [
           "Raise Your Glass",
           "P!nk"
          ],
          [
           "Purity",
           "Lilyisthatyou"
          ],
          [
           "Jenny (feat. Kim Petras)",
           "Studio Killers"
          ],
          [
           "Psycho",
           "Cloudy June"
          ],
          [
           "Campus",
           "Vampire Weekend"
          ],
          [
           "i h8 that i still feel bad for u",
           "Claire Rosinkranz"
          ],
          [
           "Love Like Mine",
           "Stela Cole"
          ],
          [
           "More Than a Friend",
           "girli"
          ],
          [
           "pink party",
           "Isaac Dunbar"
          ],
          [
           "I'll Call You Mine",
           "girl in red"
          ],
          [
           "Serotonin Killer",
           "TIMMS"
          ],
          [
           "Present Past Future",
           "Beware Of Darkness"
          ],
          [
           "Expectations",
           "Bondage Fairies"
          ],
          [
           "Poor Isaac",
           "The Airborne Toxic Event"
          ],
          [
           "Lcyd",
           "Zeromancer"
          ],
          [
           "Not Havin' a Blast",
           "Demi the Daredevil"
          ],
          [
           "That's My Boy",
           "Vast"
          ],
          [
           "Blast Doors",
           "Everything Everything"
          ],
          [
           "Kissing Families",
           "Silversun Pickups"
          ],
          [
           "Bad Dreams",
           "Joywave"
          ],
          [
           "Longshot",
           "Catfish and the Bottlemen"
          ],
          [
           "The Edge",
           "Panicland"
          ],
          [
           "Dig What You Dug",
           "Wallows"
          ],
          [
           "Good As It Gets",
           "Little Hurt"
          ],
          [
           "Trouble",
           "Cage The Elephant"
          ],
          [
           "Arms Tonite",
           "Mother Mother"
          ],
          [
           "Come Along",
           "Cosmo Sheldrake"
          ],
          [
           "The Moss",
           "Cosmo Sheldrake"
          ],
          [
           "What's Wrong",
           "half•alive"
          ],
          [
           "Alaska",
           "Little Hurt"
          ],
          [
           "Don't Overdose and Drive",
           "Happy."
          ],
          [
           "Reaganomics",
           "Lemon Demon"
          ],
          [
           "Yer Killin' Me",
           "Remo Drive"
          ],
          [
           "One Day",
           "Lovejoy"
          ],
          [
           "A Sadness Runs Through Him",
           "The Hoosiers"
          ],
          [
           "Boys Will Be Boys",
           "Miles McKenna"
          ],
          [
           "The Bidding",
           "Tally Hall"
          ],
          [
           "The Other Side Of Paradise",
           "Glass Animals"
          ],
          [
           "Doctor",
           "Truslow"
          ],
          [
           "Femme Fatale",
           "Coyote Kid"
          ],
          [
           "Welcome to Lady Hell",
           "Dirt Poor Robins"
          ],
          [
           "Inexplicable",
           "The Correspondents"
          ],
          [
           "Die Like This",
           "Mourners"
          ],
          [
           "You're Nobody Till Somebody Wants You Dead",
           "Saint Motel"
          ],
          [
           "Lonely",
           "Palaye Royale"
          ],
          [
           "This Is Love",
           "Air Traffic Controller"
          ],
          [
           "Wonderland",
           "Sounds Like Harmony"
          ],
          [
           "Reaper",
           "Silverberg"
          ],
          [
           "March",
           "Jesse Abbey"
          ],
          [
           "If You Ever Leave, I'm Coming with You - Roosevelt Remix",
           "The Wombats"
          ],
          [
           "Sometimes",
           "Gerry Cinnamon"
          ],
          [
           "POUND TOWN (feat. Nathaniel Motte and Sean Foreman of 3OH!3)",
           "3OH!3"
          ],
          [
           "Telling Myself",
           "Nicholas Podany"
          ],
          [
           "Fvck Somebody",
           "The Wrecks"
          ],
          [
           "End of It",
           "Friday Pilots Club"
          ],
          [
           "For Elise",
           "Saint Motel"
          ],
          [
           "Cairo",
           "San Fermin"
          ],
          [
           "Kid Midnight",
           "IRONTOM"
          ],
          [
           "You Don't Love Her",
           "Josh Zaleha"
          ],
          [
           "Dogs",
           "Magic Sugar Coffee"
          ],
          [
           "King Batman",
           "To Better Waters"
          ],
          [
           "Sorry",
           "SAINT PHNX"
          ],
          [
           "She Hates Me",
           "Puddle Of Mudd"
          ],
          [
           "Are You Bored Yet? (feat. Clairo)",
           "Wallows"
          ],
          [
           "It's All Futile! It's All Pointless!",
           "Lovejoy"
          ],
          [
           "Stoked",
           "Weston Estate"
          ],
          [
           "Grand Romantic Life",
           "Mom Rock"
          ],
          [
           "Grim Reaper",
           "Public Theatre"
          ],
          [
           "Silver Platters",
           "Les Gold"
          ],
          [
           "Wildfire",
           "Black Pistol Fire"
          ],
          [
           "Eternal Summer",
           "The Strokes"
          ],
          [
           "Gloria",
           "Jain"
          ],
          [
           "Glamour of a Food Stamp",
           "Brick + Mortar"
          ],
          [
           "The Violet Hour",
           "Sea Wolf"
          ],
          [
           "Marco Polo",
           "The Relay Company"
          ],
          [
           "Everything Moves",
           "Bronze Radio Return"
          ],
          [
           "Run Away to Mars",
           "TALK"
          ],
          [
           "Hallucinogenics",
           "Matt Maeson"
          ],
          [
           "I Just Wanna Run",
           "The Downtown Fiction"
          ],
          [
           "Wrong",
           "Ally Hills"
          ],
          [
           "You & Me",
           "James TW"
          ],
          [
           "Golden",
           "Tayy Brown"
          ],
          [
           "Connection",
           "OneRepublic"
          ],
          [
           "False Confidence",
           "Noah Kahan"
          ],
          [
           "Kids Again",
           "Artist Vs Poet"
          ],
          [
           "Talking to Myself",
           "Gatlin"
          ],
          [
           "Far Too Young to Die",
           "Panic! At The Disco"
          ],
          [
           "Checkmate",
           "Conan Gray"
          ],
          [
           "Pastels",
           "My Kid Brother"
          ],
          [
           "Far From Home",
           "August James"
          ],
          [
           "This Bird Has Flown",
           "The Ghost Club"
          ],
          [
           "Don't Wake the Ghost",
           "Don't Stop or We'll Die"
          ],
          [
           "Hex Girl",
           "Emerson Vernon"
          ],
          [
           "DRIVING ME PSYCHO",
           "Vinny Marchi"
          ],
          [
           "Robin Hood",
           "Deal Casino"
          ],
          [
           "PINCH ME",
           "young friend"
          ],
          [
           "Window",
           "MAGIC GIANT"
          ],
          [
           "Catching Fire",
           "Sum 41"
          ],
          [
           "fuck this town",
           "glaive"
          ],
          [
           "Love & War",
           "CHO"
          ],
          [
           "El Dorado",
           "Stellar"
          ],
          [
           "F.E.A.R.",
           "Joywave"
          ],
          [
           "when i'm at therapy",
           "The Blue Dinosaur"
          ],
          [
           "Borderline",
           "The Franklin Electric"
          ],
          [
           "The Reckoning",
           "Dom Fera"
          ],
          [
           "Love Me Blind",
           "Thick As Thieves"
          ],
          [
           "St. Cecilia's",
           "Animal Flag"
          ],
          [
           "Kill the Sun",
           "Motherfolk"
          ],
          [
           "M.C.K.",
           "Group Project"
          ],
          [
           "Howl",
           "The Family Crest"
          ],
          [
           "If",
           "House of Heroes"
          ],
          [
           "American Love",
           "Smallpools"
          ],
          [
           "Howlin' for You",
           "The Black Keys"
          ],
          [
           "Japanese Posters",
           "Rebounder"
          ],
          [
           "Bad Bitch",
           "Divided Minds"
          ],
          [
           "Colorado",
           "Milky Chance"
          ],
          [
           "The Sound of Silence",
           "Disturbed"
          ],
          [
           "Ashes of Eden",
           "Breaking Benjamin"
          ],
          [
           "Just Like You",
           "Three Days Grace"
          ],
          [
           "House Of The Rising Sun",
           "Five Finger Death Punch"
          ],
          [
           "Far From Home",
           "Five Finger Death Punch"
          ],
          [
           "A Reason to Fight",
           "Disturbed"
          ],
          [
           "When I'm Gone",
           "3 Doors Down"
          ],
          [
           "45",
           "Shinedown"
          ],
          [
           "Rx (Medicate)",
           "Theory of a Deadman"
          ],
          [
           "Strange Days",
           "Three Days Grace"
          ],
          [
           "Gone Away",
           "Five Finger Death Punch"
          ],
          [
           "Survivor",
           "Pop Evil"
          ],
          [
           "Dead Inside",
           "Nita Strauss"
          ],
          [
           "Somebody That I Used to Know",
           "Three Days Grace"
          ],
          [
           "Overwhelmed",
           "Living in Fiction"
          ],
          [
           "Three's Company",
           "Hungover"
          ],
          [
           "Dizzy",
           "Almost Awake"
          ],
          [
           "Don't Fight It",
           "10 Years"
          ],
          [
           "Byegone",
           "Volcano Choir"
          ],
          [
           "Sleep On The Floor",
           "The Lumineers"
          ],
          [
           "Land of the Living",
           "Roo Panes"
          ],
          [
           "Infinite Waters",
           "The Blasting Company"
          ],
          [
           "Timshel",
           "Mumford & Sons"
          ],
          [
           "The Boxer",
           "Jerry Douglas"
          ],
          [
           "Dirty Paws",
           "Of Monsters and Men"
          ],
          [
           "Stay Alive",
           "José González"
          ],
          [
           "Downpour",
           "Charlie Cunningham"
          ],
          [
           "Haven (from Life Is Strange)",
           "Novo Amor"
          ],
          [
           "Civilian",
           "Wye Oak"
          ],
          [
           "No Way Out Of Here",
           "Iron & Wine"
          ],
          [
           "Light That Match",
           "Down Like Silver"
          ],
          [
           "King of California",
           "Renn"
          ],
          [
           "Ghost",
           "jeremy messersmith"
          ],
          [
           "Thirteen Sad Farewells",
           "Stu Larsen"
          ],
          [
           "Creature",
           "Izabel Crane"
          ],
          [
           "Say It Ain't So",
           "Mob Rich"
          ],
          [
           "cut my fingers off",
           "Ethan Bortnick"
          ],
          [
           "Plastic",
           "Shalco"
          ],
          [
           "Pleasantville",
           "Eye on Attraction"
          ],
          [
           "Gundabad",
           "Jay Joseph"
          ],
          [
           "Zombie",
           "Bad Pony"
          ],
          [
           "Taking Over the World",
           "Coyote Theory"
          ],
          [
           "Innocently Annoying",
           "Elysewood"
          ],
          [
           "I Hope You Die in a Fire",
           "Grand Commander"
          ],
          [
           "I Can't Decide",
           "Scissor Sisters"
          ],
          [
           "Babooshka - 2018 Remaster",
           "Kate Bush"
          ],
          [
           "Promiseland - Bonus Track",
           "MIKA"
          ],
          [
           "Carnivore",
           "Bear Attack!"
          ],
          [
           "shakes",
           "Stevie Howie"
          ],
          [
           "July",
           "Betcha"
          ],
          [
           "Bad Friend",
           "Cheese On Bread"
          ],
          [
           "Bloodlust",
           "aeseaes"
          ],
          [
           "engravings",
           "Ethan Bortnick"
          ],
          [
           "HOT DEMON B!TCHES NEAR U ! ! !",
           "CORPSE"
          ],
          [
           "She Don't Know",
           "Zach Callison"
          ],
          [
           "Dead Inside - (Stripped)",
           "Younger Hunger"
          ],
          [
           "Soulmate Song",
           "Carson James Argenna"
          ],
          [
           "Angel of Small Death and the Codeine Scene",
           "Hozier"
          ],
          [
           "Don’t Blame Me",
           "Taylor Swift"
          ],
          [
           "I Guess This Is My Life Now",
           "Roan Martin"
          ],
          [
           "Home to Me",
           "Devil and the Deep Blue Sea"
          ],
          [
           "Dancing After Death",
           "Matt Maeson"
          ],
          [
           "Dixie Boy",
           "April Smith and the Great Picture Show"
          ],
          [
           "Everybody's Lonely",
           "Jukebox The Ghost"
          ],
          [
           "Take The Stairs",
           "COIN"
          ],
          [
           "The Temple",
           "Andrew Lloyd Webber"
          ],
          [
           "No. 3",
           "Cosmo Sheldrake"
          ],
          [
           "Look Away",
           "The Dear Hunter"
          ],
          [
           "I like where this is headed",
           "Scrawny"
          ],
          [
           "No Apologies - Acoustic",
           "Papa Roach"
          ],
          [
           "Drown",
           "Weston Estate"
          ],
          [
           "A Visitant",
           "RO1"
          ],
          [
           "The Plagues",
           "Ralph Fiennes"
          ],
          [
           "It's Tough to Be a God",
           "Annapantsu"
          ],
          [
           "I'm The Villain In My Own Story",
           "Crazy Ex-Girlfriend Cast"
          ],
          [
           "Someone Gets Hurt",
           "Taylor Louderman"
          ],
          [
           "Poor Unfortunate Souls",
           "Annapantsu"
          ],
          [
           "Sweetheart",
           "Kerry Courtney"
          ],
          [
           "Barbie & Ken",
           "Scene Queen"
          ],
          [
           "loverboy",
           "Saint Slumber"
          ],
          [
           "Guardian",
           "Æther Realm"
          ],
          [
           "White Lie",
           "Lenii"
          ],
          [
           "Feed the Machine",
           "Poor Man's Poison"
          ],
          [
           "Dancing In The Sky",
           "Micky"
          ],
          [
           "Ghost",
           "Micky"
          ],
          [
           "This Is The Life",
           "Micky"
          ],
          [
           "July",
           "Micky"
          ],
          [
           "Burn Towns Get Money",
           "Sig Figs Collective"
          ],
          [
           "Crows",
           "Olivia Olson"
          ],
          [
           "The Consequence Of Imagination Is Fear",
           "Junie & TheHutFriends"
          ],
          [
           "A Place For Me",
           "I Hate Kate"
          ],
          [
           "i'm just your problem - 2012 version",
           "lur"
          ],
          [
           "Tabs (I Hope You Get The Plague)",
           "The Small Calamities"
          ],
          [
           "Credits Song (From \"Trivia Murder Party 2\")",
           "Andy Poland"
          ],
          [
           "Panic",
           "SM6"
          ],
          [
           "Sleep",
           "Johnny Manchild and the Poor Bastards"
          ],
          [
           "Can You Keep Up",
           "Blue Kid"
          ],
          [
           "Wild One",
           "MALINDA"
          ],
          [
           "Wicked",
           "Crusher"
          ],
          [
           "Here's a Health to the Company",
           "The Longest Johns"
          ],
          [
           "Nails & Kneecaps",
           "Magic: The Gathering"
          ],
          [
           "The Tower",
           "Drama Moth"
          ],
          [
           "clown (with Trevor Daniel)",
           "blackbear"
          ],
          [
           "hot girl bummer",
           "blackbear"
          ],
          [
           "do re mi",
           "blackbear"
          ],
          [
           "me & ur ghost",
           "blackbear"
          ],
          [
           "Maniac",
           "Conan Gray"
          ],
          [
           "Rover (feat. DTG)",
           "S1mba"
          ],
          [
           "my ex's best friend (with blackbear)",
           "Machine Gun Kelly"
          ],
          [
           "Mood (feat. iann dior)",
           "24kGoldn"
          ],
          [
           "Blinding Lights",
           "The Weeknd"
          ],
          [
           "queen of broken hearts",
           "blackbear"
          ],
          [
           "Brown Paper Bag",
           "Yoshi Flower"
          ],
          [
           "High Enough",
           "K.Flay"
          ],
          [
           "Empty",
           "Olivia O'Brien"
          ],
          [
           "Wishing Well",
           "Juice WRLD"
          ],
          [
           "Sick and Tired (ft. Machine Gun Kelly and Travis Barker)",
           "iann dior"
          ],
          [
           "ROCKSTAR (feat. Roddy Ricch)",
           "DaBaby"
          ],
          [
           "Burn The House Down",
           "AJR"
          ],
          [
           "Be Like That - feat. Swae Lee & Khalid",
           "Kane Brown"
          ],
          [
           "Rich & Sad",
           "Post Malone"
          ],
          [
           "Diamonds",
           "Sam Smith"
          ],
          [
           "Heart Attack",
           "Demi Lovato"
          ],
          [
           "Thief",
           "Ansel Elgort"
          ],
          [
           "Karma",
           "Robinson"
          ],
          [
           "Princess",
           "Pia Mia"
          ],
          [
           "sobbing in cabo",
           "blackbear"
          ],
          [
           "Alexis Texas",
           "Cruel Youth"
          ],
          [
           "damn!",
           "Jeris Johnson"
          ],
          [
           "Blueberry Faygo",
           "Lil Mosey"
          ],
          [
           "@ my worst",
           "blackbear"
          ],
          [
           "Hustle",
           "Rocket Surgeons"
          ],
          [
           "NUMB",
           "Chri$tian Gate$"
          ],
          [
           "Bang!",
           "AJR"
          ],
          [
           "Electric Love",
           "BØRNS"
          ],
          [
           "F*CK YOU, GOODBYE (feat. Machine Gun Kelly)",
           "The Kid LAROI"
          ],
          [
           "GO (feat. Juice WRLD)",
           "The Kid LAROI"
          ],
          [
           "Heartless",
           "Kanye West"
          ],
          [
           "gone girl",
           "iann dior"
          ],
          [
           "Ps & Qs",
           "Lil Uzi Vert"
          ],
          [
           "That Way",
           "Lil Uzi Vert"
          ],
          [
           "Circles",
           "Post Malone"
          ],
          [
           "I Think I'm OKAY (with YUNGBLUD & Travis Barker)",
           "Machine Gun Kelly"
          ],
          [
           "WITHOUT YOU",
           "The Kid LAROI"
          ],
          [
           "Love Lockdown",
           "Kanye West"
          ],
          [
           "RAPSTAR",
           "Polo G"
          ],
          [
           "Sunflower - Spider-Man: Into the Spider-Verse",
           "Post Malone"
          ],
          [
           "Miss Independent",
           "Ne-Yo"
          ],
          [
           "HIGHEST IN THE ROOM",
           "Travis Scott"
          ],
          [
           "is it you",
           "iann dior"
          ],
          [
           "Rich & Sad",
           "PLVTINUM"
          ],
          [
           "Ready As I'll Ever Be",
           "Varian"
          ],
          [
           "Five Nights at Freddy's",
           "The Living Tombstone"
          ],
          [
           "Mortal Kombat, Movie Theme",
           "Arcade Player"
          ],
          [
           "Confrontation",
           "Anthony Warlow"
          ],
          [
           "Friday Night‬‬‬",
           "Vigiland"
          ],
          [
           "Bad Boy Ken (feat. Siri)",
           "Badpojken"
          ],
          [
           "Miku",
           "Anamanaguchi"
          ],
          [
           "Monster Town",
           "Go! Child"
          ],
          [
           "Inside Out",
           "ItaloBrothers"
          ],
          [
           "I'M SO SAD",
           "3OH!3"
          ],
          [
           "Mitchell: Epic III (Live)",
           "Original Cast of Hadestown"
          ],
          [
           "Alive",
           "Anthony Warlow"
          ],
          [
           "I Know Those Eyes / This Man Is Dead",
           "Thomas Borchert"
          ],
          [
           "Not A Common Man",
           "Matt Smith"
          ],
          [
           "Amen",
           "Frankenstein World Premiere Cast"
          ],
          [
           "Fire With Fire",
           "AlicebanD"
          ],
          [
           "No Good Deed - From \"Wicked\" Original Broadway Cast Recording/2003",
           "Stephen Schwartz"
          ],
          [
           "Dancing Through Life - From \"Wicked\" Original Broadway Cast Recording/2003",
           "Stephen Schwartz"
          ],
          [
           "What Is This Feeling? - From \"Wicked\" Original Broadway Cast Recording/2003",
           "Stephen Schwartz"
          ],
          [
           "The Guide to Success",
           "Joe Iconis"
          ],
          [
           "A Story Told",
           "Patrick Stanke"
          ],
          [
           "The Riddle",
           "Terry Mann"
          ],
          [
           "Leave Luanne",
           "Jay Armstrong Johnson"
          ],
          [
           "A Terrible Ride",
           "Lizard Boy Original Cast"
          ],
          [
           "Twisted",
           "Original StarKid Cast of Twisted"
          ],
          [
           "The Master's Song (feat. Euan Morton)",
           "Jeremy Roberts"
          ],
          [
           "Natalie Cook",
           "36 Questions"
          ],
          [
           "I Love You (As Much As Someone Like Me Could Love Anyone) - From \"Galavant\"",
           "Cast of Galavant"
          ],
          [
           "The Man I Used to Be",
           "Thomas Borchert"
          ],
          [
           "The Pitiful Children",
           "Eric William Morris"
          ],
          [
           "Every Day a Little Death",
           "Thomas Borchert"
          ],
          [
           "I Need to Know",
           "Anthony Warlow"
          ],
          [
           "Mitchell: Way Down Hadestown (Live)",
           "Original Cast of Hadestown"
          ],
          [
           "The Mad Hatter",
           "Kate Shindle"
          ],
          [
           "Murder, Murder",
           "Ensemble"
          ],
          [
           "Black Friday",
           "StarKid Productions"
          ],
          [
           "Myth to Live By",
           "Lizard Boy Original Cast"
          ],
          [
           "Someday",
           "Laura Benanti"
          ],
          [
           "Today You Are a Man",
           "Stephen Lynch"
          ],
          [
           "(The Legend Of) Miss Baltimore Crabs",
           "Michelle Pfeiffer"
          ],
          [
           "Masks",
           "Aviators"
          ],
          [
           "The House of Borden",
           "Carrie Cimma"
          ],
          [
           "I Will Prevail",
           "Kate Shindle"
          ],
          [
           "Michael in the Bathroom",
           "George Salazar"
          ],
          [
           "Chant",
           "Hadestown Original Broadway Company"
          ],
          [
           "The Phantom Of The Opera",
           "Andrew Lloyd Webber"
          ],
          [
           "Prologue to the Count of Monte Cristo",
           "Coleen Schoots"
          ],
          [
           "When Love Is True",
           "Thomas Borchert"
          ],
          [
           "I Will Be There",
           "Thomas Borchert"
          ],
          [
           "When the World Was Mine",
           "Brandi Burkhardt"
          ],
          [
           "When We Are Kings",
           "Thomas Borchert"
          ],
          [
           "Ah, Women",
           "Thomas Borchert"
          ],
          [
           "Pretty Lies",
           "Pia Douwes"
          ],
          [
           "All This Time",
           "Brandi Burkhardt"
          ],
          [
           "The Ghost on the Shore",
           "Lord Huron"
          ],
          [
           "November Rain",
           "Blanco White"
          ],
          [
           "Stubborn Love",
           "The Lumineers"
          ],
          [
           "Open Road",
           "Roo Panes"
          ],
          [
           "Wolf (Bonus Track)",
           "First Aid Kit"
          ],
          [
           "Call Me In The Afternoon",
           "Half Moon Run"
          ],
          [
           "Crumbled",
           "Little Quirks"
          ],
          [
           "Mountain Song",
           "Little Chief"
          ],
          [
           "Agape",
           "Bear's Den"
          ],
          [
           "As We Ran",
           "The National Parks"
          ],
          [
           "1957",
           "Milo Greene"
          ],
          [
           "Stella",
           "Cereus Bright"
          ],
          [
           "Never Come Back Again",
           "Austin Plaine"
          ],
          [
           "I Keep Ticking On",
           "The Harmaleighs"
          ],
          [
           "Ends of the Earth",
           "Lord Huron"
          ],
          [
           "Olalla",
           "Blanco White"
          ],
          [
           "Emmylou",
           "First Aid Kit"
          ],
          [
           "Huckleberry Love",
           "Caamp"
          ],
          [
           "Deliverance",
           "Strahan"
          ],
          [
           "Thief and a Liar",
           "Jeffrey Martin"
          ],
          [
           "All We Ever Knew",
           "The Head And The Heart"
          ],
          [
           "Trains I Missed",
           "Balsam Range"
          ],
          [
           "Wish I Knew You",
           "The Revivalists"
          ],
          [
           "Sedona",
           "Houndmouth"
          ],
          [
           "Fool",
           "Handsome Ghost"
          ],
          [
           "White Robes",
           "The Dust of Men"
          ],
          [
           "My Life, My Love",
           "Family and Friends"
          ],
          [
           "Moving Mountains",
           "The Brevet"
          ],
          [
           "Shape of Love",
           "Passenger"
          ],
          [
           "Wyoming",
           "Family and Friends"
          ],
          [
           "Hello My Old Heart",
           "The Oh Hellos"
          ],
          [
           "Don't Let It Get You Down",
           "Johnnyswim"
          ],
          [
           "Of Lovers and Liars",
           "Family and Friends"
          ],
          [
           "Bitter Water",
           "The Oh Hellos"
          ],
          [
           "I Will Follow You",
           "RIVVRS"
          ],
          [
           "Wind & Anchor",
           "The National Parks"
          ],
          [
           "We Will All Be Changed",
           "Seryn"
          ],
          [
           "This Heart I Know",
           "Westward the Tide"
          ],
          [
           "The Gown of Green",
           "The Collection"
          ],
          [
           "Old Pine",
           "Ben Howard"
          ],
          [
           "Problem Solution",
           "The White Buffalo"
          ],
          [
           "Beloved",
           "Mumford & Sons"
          ],
          [
           "The Cave",
           "Mumford & Sons"
          ],
          [
           "Wait So Long",
           "Trampled by Turtles"
          ],
          [
           "Wolves of the Revolution",
           "The Arcadian Wild"
          ],
          [
           "The Yawning Grave",
           "Lord Huron"
          ],
          [
           "Sangre de Cristo",
           "Vian Izak"
          ],
          [
           "Willow Tree March",
           "The Paper Kites"
          ],
          [
           "Man of Stone",
           "Matthew Thiessen & The Earthquakes"
          ],
          [
           "The Moon Will Sing",
           "The Crane Wives"
          ],
          [
           "Full Moon - Twilight Soundtrack Version",
           "The Black Ghosts"
          ],
          [
           "Broken Crown",
           "Mumford & Sons"
          ],
          [
           "All I've Ever Needed",
           "Paul McDonald"
          ],
          [
           "Sunny Afternoon",
           "The Kinks"
          ],
          [
           "Can't Buy Me Love - Remastered",
           "The Beatles"
          ],
          [
           "Please Please Me - Remastered",
           "The Beatles"
          ],
          [
           "Pinball Wizard",
           "The Who"
          ],
          [
           "867-5309 / Jenny",
           "Tommy Tutone"
          ],
          [
           "It's My Party",
           "Lesley Gore"
          ],
          [
           "A Teenager In Love",
           "Dion & The Belmonts"
          ],
          [
           "Stupid Cupid",
           "Connie Francis"
          ],
          [
           "Be My Baby",
           "The Ronettes"
          ],
          [
           "Put Your Head On My Shoulder",
           "Paul Anka"
          ],
          [
           "Take Good Care Of My Baby",
           "Bobby Vee"
          ],
          [
           "Will You Love Me Tomorrow",
           "The Shirelles"
          ],
          [
           "My Girl",
           "The Temptations"
          ],
          [
           "Stand by Me",
           "Ben E. King"
          ],
          [
           "Can't Help Falling in Love",
           "Elvis Presley"
          ],
          [
           "Fallen (feat. Desiree Dawson) (WILLIAM BLACK Remix)",
           "ARMNHMR"
          ],
          [
           "Nice To Meet You",
           "Vigiland"
          ],
          [
           "Can You Hear Me",
           "Jeff Riv3r & Mike F"
          ],
          [
           "Bleed The Same - GAWVI Remix",
           "Mandisa"
          ],
          [
           "Church Clap",
           "KB"
          ],
          [
           "Ritual - David Puentez Remix",
           "Tiësto"
          ],
          [
           "Only Ever",
           "Alive City"
          ],
          [
           "Every Every (Telykast Remix)",
           "MOONZz"
          ],
          [
           "Let Me Go (with Alesso, Florida Georgia Line & watt)",
           "Hailee Steinfeld"
          ],
          [
           "Summer Jam",
           "Sundell"
          ],
          [
           "Don't Cut Me Loose",
           "Vacant Vibes"
          ],
          [
           "Alibi (Far Out Remix)",
           "Krewella"
          ],
          [
           "Glass Houses",
           "The Beach"
          ],
          [
           "Midnight Addiction",
           "Everchange"
          ],
          [
           "Throwback",
           "Delaney Jane"
          ],
          [
           "Core (That’s Who We Are)",
           "VIZE"
          ],
          [
           "EveryTime I Cry - Sigala Remix",
           "Ava Max"
          ],
          [
           "Chasing Stars (feat. James Bay)",
           "Alesso"
          ],
          [
           "Highly Emotional People - Le Sac Remix",
           "MARINA"
          ],
          [
           "The Motto",
           "Tiësto"
          ],
          [
           "Sunshine - MOTi Remix",
           "OneRepublic"
          ],
          [
           "Undefeated (feat. KB)",
           "Tauren Wells"
          ],
          [
           "The Girl Who Cried Wolf",
           "5 Seconds of Summer"
          ],
          [
           "Infinity",
           "One Direction"
          ],
          [
           "Gives You Hell",
           "The All-American Rejects"
          ],
          [
           "Swing, Swing",
           "The All-American Rejects"
          ],
          [
           "18",
           "One Direction"
          ],
          [
           "Drag Me Down",
           "One Direction"
          ],
          [
           "Stacy's Mom",
           "Fountains Of Wayne"
          ],
          [
           "sex",
           "EDEN"
          ],
          [
           "What Am I",
           "Why Don't We"
          ],
          [
           "Hat Trick",
           "Jonathan Thulin"
          ],
          [
           "Catastrophic",
           "Olen"
          ],
          [
           "Ugly Heart",
           "G.R.L."
          ],
          [
           "Naked",
           "James TW"
          ],
          [
           "Lost",
           "Maroon 5"
          ],
          [
           "Me And My Broken Heart",
           "Rixton"
          ],
          [
           "I Should Have Walked Away",
           "KAAZE"
          ],
          [
           "Hard to Say I'm Sorry - 2007 Remaster",
           "Chicago"
          ],
          [
           "Climbing",
           "Dooferz"
          ],
          [
           "Go Easy",
           "Matt Maeson"
          ],
          [
           "Caught Up In You",
           "38 Special"
          ],
          [
           "High Steppin' - Single Version",
           "The Avett Brothers"
          ],
          [
           "Lady Madonna - Remastered 2015",
           "The Beatles"
          ],
          [
           "Help! - Remastered 2015",
           "The Beatles"
          ],
          [
           "Burnin' for You",
           "Blue Öyster Cult"
          ],
          [
           "HEY CHILD",
           "X Ambassadors"
          ],
          [
           "Tomorrow",
           "Trevor McBane"
          ],
          [
           "Listen To Your Heart",
           "Roxette"
          ],
          [
           "All Out of Love",
           "Air Supply"
          ],
          [
           "The Living Daylights - 2016 Remaster",
           "a-ha"
          ],
          [
           "Wouldn't It Be Nice",
           "The Beach Boys"
          ],
          [
           "Called Out in the Dark",
           "Lounge Noir"
          ],
          [
           "Writing's On The Wall - From \"Spectre\" Soundtrack",
           "Sam Smith"
          ],
          [
           "Somebody To Love - ItaloBrothers Remix",
           "Axel Black & White"
          ],
          [
           "Return Of The Living Dead Part 2: Alone In The Night",
           "VDM, Dominik Hauser"
          ],
          [
           "Strangers In Love",
           "Alternative Radio"
          ],
          [
           "The Secret History",
           "The Chamber Orchestra Of London"
          ],
          [
           "Piano Trio in A Minor, Op. 50, TH 117: IIg. Tema con variazioni. Var. 4, L'istesso tempo",
           "Pyotr Ilyich Tchaikovsky"
          ],
          [
           "Wyden Down",
           "RIOPY"
          ],
          [
           "Gentle Dream",
           "Darren Mudge"
          ],
          [
           "Under Giant Trees",
           "Agnes Obel"
          ],
          [
           "The Architect",
           "The Chamber Orchestra Of London"
          ],
          [
           "From Nowhere",
           "Adam Hurst"
          ],
          [
           "Where's My Love - Piano and Viola Version",
           "SYML"
          ],
          [
           "Death Waltz",
           "Adam S Hurst"
          ],
          [
           "Desolation",
           "Adam Hurst"
          ],
          [
           "Elegy",
           "Adam Hurst"
          ],
          [
           "Seduction",
           "Adam Hurst"
          ],
          [
           "Wake (Harmonium)",
           "Adam Hurst"
          ],
          [
           "Lady of the Lake",
           "Peter Gundry"
          ],
          [
           "Memories Flood My Eyes and Leave As Tears",
           "Peter Gundry"
          ],
          [
           "VOODOO",
           "VIXX"
          ],
          [
           "Denouement",
           "Benjamin Wallfisch"
          ],
          [
           "Your Majesty",
           "Rupert Gregson-Williams"
          ],
          [
           "A Thousand Times Good Night",
           "Abel Korzeniowski"
          ],
          [
           "Ophelia",
           "Steven Price"
          ],
          [
           "Charms",
           "Abel Korzeniowski"
          ],
          [
           "Dawn of Faith",
           "Eternal Eclipse"
          ],
          [
           "Experience (Live)",
           "Angèle Dubeau"
          ],
          [
           "I Could Almost Feel You",
           "Owsey"
          ],
          [
           "Buried Deep",
           "RIOPY"
          ],
          [
           "Lycoris Radiata",
           "Musicalbasics"
          ],
          [
           "Skydance",
           "Kim Planert"
          ],
          [
           "As Grief Consumes (Pre Album)",
           "Peter Gundry"
          ],
          [
           "Three Hearts Afire",
           "Malukah"
          ],
          [
           "Light of the Seven (From \"Game of Thrones\")",
           "Celtic World Orchestra"
          ],
          [
           "Fallen Leaves",
           "Eklipse"
          ],
          [
           "Caspian Sea",
           "Vusal Zeinalov"
          ],
          [
           "In My Dream Last Night",
           "Jake Sidwell"
          ],
          [
           "Amunet | The Hidden One",
           "Peter Gundry"
          ],
          [
           "River (feat. Ed Sheeran)",
           "Eminem"
          ],
          [
           "Lose Yourself",
           "Eminem"
          ],
          [
           "Marshall Mathers",
           "Eminem"
          ],
          [
           "Those Kinda Nights (feat. Ed Sheeran)",
           "Eminem"
          ],
          [
           "No Regrets (feat. Don Toliver)",
           "Eminem"
          ],
          [
           "In Too Deep",
           "Eminem"
          ],
          [
           "Leaving Heaven (feat. Skylar Grey)",
           "Eminem"
          ],
          [
           "Like Toy Soldiers",
           "Eminem"
          ],
          [
           "White America",
           "Eminem"
          ],
          [
           "Wait",
           "NF"
          ],
          [
           "Start Over (feat. NF)",
           "FLAME"
          ],
          [
           "Crowns & Thorns (Oceans)",
           "KB"
          ],
          [
           "Therapy Session",
           "NF"
          ],
          [
           "How Could You Leave Us",
           "NF"
          ],
          [
           "Breathe",
           "NF"
          ],
          [
           "Grindin'",
           "NF"
          ],
          [
           "Lost In The Moment",
           "NF"
          ],
          [
           "Wake Up",
           "NF"
          ],
          [
           "Turn The Music Up",
           "NF"
          ],
          [
           "Paralyzed",
           "NF"
          ],
          [
           "Home (with Machine Gun Kelly, X Ambassadors & Bebe Rexha)",
           "Machine Gun Kelly"
          ],
          [
           "Diligent Step - Remix",
           "Y.GS"
          ],
          [
           "Dead And Gone",
           "T.I."
          ],
          [
           "Girl in a Bubble",
           "Nightbirde"
          ],
          [
           "Icy",
           "Kim Petras"
          ],
          [
           "Raise Hell",
           "Dorothy"
          ],
          [
           "Gangsta",
           "Kehlani"
          ],
          [
           "Woman (feat. The Dap-Kings Horns)",
           "Kesha"
          ],
          [
           "S.L.U.T.",
           "Bea Miller"
          ],
          [
           "GRRRLS",
           "AViVA"
          ],
          [
           "Sangen Du Hater",
           "Katastrofe"
          ],
          [
           "True Love",
           "Yemi Alade"
          ],
          [
           "Ndinewe (Remix)",
           "Gemma Griffiths"
          ],
          [
           "Donne-moi ton cœur",
           "Louane"
          ],
          [
           "Французский поцелуй",
           "Misha Marvin"
          ],
          [
           "Bheegi Bheegi",
           "James"
          ],
          [
           "Солнечное сплетение",
           "Дарья Виардо"
          ],
          [
           "Судно (Борис Рижий)",
           "Molchat Doma"
          ],
          [
           "Bella ciao",
           "Naestro"
          ],
          [
           "Lev nu dö sen",
           "Miss Li"
          ],
          [
           "Au loin",
           "Lou"
          ],
          [
           "Ce mur qui nous sépare - de la série TV \"Miraculous\"",
           "Lou"
          ],
          [
           "Toi",
           "Amir"
          ],
          [
           "Ta reine",
           "Angèle"
          ],
          [
           "El Gran Robo, Pt. 2",
           "Lito MC Cassidy"
          ],
          [
           "Miraculous",
           "Atomicplasm"
          ],
          [
           "Cold War",
           "Foreign Figures"
          ],
          [
           "Spotlight",
           "Letdown."
          ],
          [
           "Icarus",
           "Bastille"
          ],
          [
           "Weight Of Living, Pt. I",
           "Bastille"
          ],
          [
           "Sinner",
           "Andy Grammer"
          ],
          [
           "Falling Off",
           "The People's Thieves"
          ],
          [
           "Glory",
           "The Score"
          ],
          [
           "Gold",
           "Imagine Dragons"
          ],
          [
           "Laughter Lines",
           "Bastille"
          ],
          [
           "JUST LIKE YOU",
           "NF"
          ],
          [
           "The Calendar",
           "Panic! At The Disco"
          ],
          [
           "Nearly Witches (Ever Since We Met...)",
           "Panic! At The Disco"
          ],
          [
           "Shots",
           "Imagine Dragons"
          ],
          [
           "Smoke And Mirrors",
           "Imagine Dragons"
          ],
          [
           "Monster",
           "Imagine Dragons"
          ],
          [
           "Believer",
           "Imagine Dragons"
          ],
          [
           "Happier",
           "Marshmello"
          ],
          [
           "Twisted",
           "MISSIO"
          ],
          [
           "Figure You Out",
           "VOILÀ"
          ],
          [
           "I'm Not A Saint",
           "Billy Raffoul"
          ],
          [
           "Cover My traces",
           "Reach"
          ],
          [
           "Bells",
           "The Unlikely Candidates"
          ],
          [
           "Main Attraction",
           "Jeremy Renner"
          ],
          [
           "My Name Is..",
           "Once Monsters"
          ],
          [
           "Stay Awake?",
           "Bastille"
          ],
          [
           "joy.",
           "for KING & COUNTRY"
          ],
          [
           "Burn The Ships",
           "for KING & COUNTRY"
          ],
          [
           "Never Give Up",
           "for KING & COUNTRY"
          ],
          [
           "Fix My Eyes",
           "for KING & COUNTRY"
          ],
          [
           "The Proof of Your Love",
           "for KING & COUNTRY"
          ],
          [
           "Love's to Blame",
           "for KING & COUNTRY"
          ],
          [
           "By Our Love",
           "for KING & COUNTRY"
          ],
          [
           "Priceless",
           "for KING & COUNTRY"
          ],
          [
           "Reckless Love",
           "Cory Asbury"
          ],
          [
           "I just need U.",
           "TobyMac"
          ],
          [
           "Amen",
           "for KING & COUNTRY"
          ],
          [
           "Burn The Ships (R3HAB Remix)",
           "for KING & COUNTRY"
          ],
          [
           "Fight On, Fighter",
           "for KING & COUNTRY"
          ],
          [
           "Start A Fire",
           "Unspoken"
          ],
          [
           "Drops In the Ocean",
           "Hawk Nelson"
          ],
          [
           "Shoulders",
           "for KING & COUNTRY"
          ],
          [
           "Chain Breaker",
           "Zach Williams"
          ],
          [
           "Flawless",
           "MercyMe"
          ],
          [
           "God's Country",
           "Blake Shelton"
          ],
          [
           "Reason",
           "Unspoken"
          ],
          [
           "Control",
           "for KING & COUNTRY"
          ],
          [
           "TESTIFY",
           "NEEDTOBREATHE"
          ],
          [
           "Pioneers",
           "for KING & COUNTRY"
          ],
          [
           "Trust In You",
           "Lauren Daigle"
          ],
          [
           "It's Not Over Yet",
           "for KING & COUNTRY"
          ],
          [
           "Eye of the Storm (feat. Gabe Real)",
           "Ryan Stevenson"
          ],
          [
           "Messengers",
           "Lecrae"
          ],
          [
           "The Devil Is A Liar",
           "We Are Messengers"
          ],
          [
           "Come As You Are",
           "Crowder"
          ],
          [
           "All My Hope",
           "Crowder"
          ],
          [
           "All We Sinners",
           "Crowder"
          ],
          [
           "Almost Home",
           "MercyMe"
          ],
          [
           "Redeemed",
           "Influence Music"
          ],
          [
           "Vineyard",
           "Strahan"
          ],
          [
           "Believer",
           "Rhett Walker"
          ],
          [
           "Nobody (feat. Matthew West)",
           "Casting Crowns"
          ],
          [
           "Alive & Breathing (feat. Elle Limebear)",
           "Matt Maher"
          ],
          [
           "Heaven On Earth",
           "Stars Go Dim"
          ],
          [
           "Even Then",
           "Micah Tyler"
          ],
          [
           "Better For It",
           "Riley Clemmons"
          ],
          [
           "psycho heart!",
           "nobigdyl."
          ],
          [
           "Up Again (Lucky Rose Remix)",
           "Dan Bremnes"
          ],
          [
           "Faith - Fe",
           "Jordan Feliz"
          ],
          [
           "Good News",
           "Mandisa"
          ],
          [
           "Home",
           "Tedashii"
          ],
          [
           "The Gospel",
           "Ryan Stevenson"
          ],
          [
           "Relentless - Young & Free Remix",
           "Hillsong UNITED"
          ],
          [
           "Move (Keep Walkin’)",
           "TobyMac"
          ],
          [
           "Born Again (feat. Zauntee)",
           "Austin French"
          ],
          [
           "The Revelation of Jesus Christ",
           "Ghost Ship"
          ],
          [
           "Love on the Radio",
           "Matthew West"
          ],
          [
           "Preach",
           "John Legend"
          ],
          [
           "Psalm 46 (Lord of Hosts)",
           "Shane & Shane"
          ],
          [
           "Grace Alone (Acoustic)",
           "The Modern Post"
          ],
          [
           "I'll Keep On",
           "NF"
          ],
          [
           "Suffering Servant",
           "The Modern Post"
          ],
          [
           "The Middle",
           "Zedd"
          ],
          [
           "Fred Astaire",
           "Jukebox The Ghost"
          ],
          [
           "Worship in the Moshpit",
           "KB"
          ],
          [
           "Swan Lake",
           "Pyotr Ilyich Tchaikovsky"
          ],
          [
           "The Last of Her Kind",
           "Peter Gundry"
          ],
          [
           "Dance of the Damned",
           "Peter Gundry"
          ],
          [
           "Saint-Saëns",
           "Mooryc"
          ],
          [
           "Flawless My Dear",
           "Kris Bowers"
          ],
          [
           "Melting Waltz",
           "Abel Korzeniowski"
          ],
          [
           "Ghost Waltz",
           "Abel Korzeniowski"
          ],
          [
           "One Hundred Years Of Downton - From \"Downton Abbey\"",
           "John Lunn"
          ],
          [
           "Toss A Coin To Your Witcher (From \"The Witcher Series\")",
           "Celestial Aeon Project"
          ],
          [
           "Spring Days",
           "Maurizio Lucchetti"
          ],
          [
           "Suite Two: Staircase Ballet",
           "Imogen Heap"
          ],
          [
           "Walkabout",
           "Chelsea McGough"
          ],
          [
           "Play Pretend",
           "Kasbo"
          ],
          [
           "Crossfire",
           "Stephen"
          ],
          [
           "All Time Low",
           "Jon Bellion"
          ],
          [
           "Fireproof",
           "Coleman Hell"
          ],
          [
           "10 Victoria's Secret Models - Whethan Remix",
           "MAX"
          ],
          [
           "Come Hang Out",
           "AJR"
          ],
          [
           "Weak",
           "AJR"
          ],
          [
           "tell me how you rly feel",
           "adam&steve"
          ],
          [
           "Oh Raven (Sing Me A Happy Song)",
           "Unlike Pluto"
          ],
          [
           "No Friends",
           "Cadmium"
          ],
          [
           "Hellboy",
           "Herizen"
          ],
          [
           "Three Birds in Babylon",
           "The Gray Havens"
          ],
          [
           "Down For The Ride",
           "ItaloBrothers"
          ],
          [
           "My Feelings - Raaban Remix",
           "Serhat Durmus"
          ],
          [
           "Lion",
           "Hearts & Colors"
          ],
          [
           "Heartless (with Julia Michaels & Morgan Wallen)",
           "Diplo"
          ],
          [
           "Weddings & Funerals",
           "Royal & the Serpent"
          ],
          [
           "V for My Vendetta",
           "Alter."
          ],
          [
           "Houndin",
           "Layto"
          ],
          [
           "Stand Up",
           "The Cab"
          ],
          [
           "Queen of France",
           "Imad Royal"
          ],
          [
           "JOLT",
           "Unlike Pluto"
          ],
          [
           "Hate You",
           "Jim Yosef"
          ],
          [
           "Lies",
           "Syence"
          ],
          [
           "8 Legged Dreams",
           "Unlike Pluto"
          ],
          [
           "Revenge, And a Little More",
           "Unlike Pluto"
          ],
          [
           "Play Me Like A Violin",
           "Stephen"
          ],
          [
           "Life In A Hole",
           "Unlike Pluto"
          ],
          [
           "Soft Spoken",
           "Unlike Pluto"
          ],
          [
           "Make Me Feel (feat. The High)",
           "Raaban"
          ],
          [
           "Cry About It Later (feat. Luísa Sonza & Bruno Martini)",
           "Katy Perry"
          ],
          [
           "Little Poor Me",
           "Layto"
          ],
          [
           "Ghost Town",
           "Layto"
          ],
          [
           "Conspiracy",
           "Unlike Pluto"
          ],
          [
           "Puppet Loosely Strung",
           "The Correspondents"
          ],
          [
           "The Truth",
           "Cosmicism"
          ],
          [
           "Bombs",
           "Bnny Rbbt"
          ],
          [
           "Voodoo Woman",
           "LAIKIPIA"
          ],
          [
           "Me, Myself, and I",
           "Vinyl Theatre"
          ],
          [
           "The Hunter",
           "Alpine Universe"
          ],
          [
           "Record Player (with AJR)",
           "Daisy the Great"
          ],
          [
           "Hook'd",
           "KIRA"
          ],
          [
           "Wannabe",
           "why mona"
          ],
          [
           "Bad Things (with Camila Cabello)",
           "Machine Gun Kelly"
          ],
          [
           "Lights Down Low",
           "MAX"
          ],
          [
           "Ride",
           "SoMo"
          ],
          [
           "Beautiful",
           "Bazzi"
          ],
          [
           "Call Out My Name",
           "The Weeknd"
          ],
          [
           "Chains",
           "Nick Jonas"
          ],
          [
           "Watch Your Mouth",
           "The Backseat Lovers"
          ],
          [
           "Slow Motion",
           "Trey Songz"
          ],
          [
           "I Wanna Be Yours",
           "Arctic Monkeys"
          ],
          [
           "The Take (feat. Chris Brown)",
           "Tory Lanez"
          ],
          [
           "Earned It (Fifty Shades Of Grey) - From The \"Fifty Shades Of Grey\" Soundtrack",
           "The Weeknd"
          ],
          [
           "Come and See Me (feat. Drake)",
           "PARTYNEXTDOOR"
          ],
          [
           "No Idea",
           "Don Toliver"
          ],
          [
           "PILLOWTALK",
           "ZAYN"
          ],
          [
           "Eyes on Fire - Twilight Soundtrack Version",
           "Blue Foundation"
          ],
          [
           "Don't Cry",
           "Tors"
          ],
          [
           "Come Over (Again)",
           "Crawlers"
          ],
          [
           "Cupid's Chokehold / Breakfast in America",
           "Gym Class Heroes"
          ],
          [
           "Best Years",
           "5 Seconds of Summer"
          ],
          [
           "Crash My Car",
           "COIN"
          ],
          [
           "U - English Version",
           "millennium parade"
          ],
          [
           "Take It Easy - 2013 Remaster",
           "Eagles"
          ],
          [
           "Pinball Wizard - Remixed Studio Version",
           "The Who"
          ],
          [
           "Domino - 1999 Remaster",
           "Van Morrison"
          ],
          [
           "You Can Call Me Al",
           "Paul Simon"
          ],
          [
           "Mrs. Robinson - From \"The Graduate\" Soundtrack",
           "Simon & Garfunkel"
          ],
          [
           "If You Want To Sing Out, Sing Out",
           "Yusuf / Cat Stevens"
          ],
          [
           "House Of The Rising Sun",
           "The Animals"
          ],
          [
           "Simple Man",
           "Lynyrd Skynyrd"
          ],
          [
           "All I Wanna Do Is Make Love To You",
           "Heart"
          ],
          [
           "You Don't Know How It Feels",
           "Tom Petty"
          ],
          [
           "Istanbul (Not Constantinople)",
           "They Might Be Giants"
          ],
          [
           "Death By Rock And Roll - Acoustic",
           "The Pretty Reckless"
          ],
          [
           "(I Just) Died In Your Arms",
           "Cutting Crew"
          ],
          [
           "Everybody Wants To Rule The World",
           "Tears For Fears"
          ],
          [
           "Against All Odds (Take a Look at Me Now) - 2016 Remaster",
           "Phil Collins"
          ],
          [
           "Live And Let Die",
           "Wings"
          ],
          [
           "All Right Now",
           "Free"
          ],
          [
           "Middle of Nowhere (feat. Chad Kroeger)",
           "Big Wreck"
          ],
          [
           "In furore iustissimae irae, RV.626 - Motet - Critical Edition Paul Everett: 1. In furore iustissimae irae",
           "Antonio Vivaldi"
          ],
          [
           "In furore iustissimae irae, RV 626: I. Allegro",
           "Antonio Vivaldi"
          ],
          [
           "Nisi Dominus RV 608 - Cum Dederit",
           "Philippe Jaroussky"
          ],
          [
           "Anno: II. Summer",
           "Oliver Davis"
          ],
          [
           "Turandot, Act III: Nessun dorma!",
           "Giacomo Puccini"
          ],
          [
           "Ramblin' Man",
           "Allman Brothers Band"
          ],
          [
           "My Sharona",
           "The Knack"
          ],
          [
           "I'm a Believer - 2006 Remaster",
           "The Monkees"
          ],
          [
           "The Gambler",
           "Kenny Rogers"
          ],
          [
           "Wild World",
           "Yusuf / Cat Stevens"
          ],
          [
           "God Bless The U.S.A.",
           "Lee Greenwood"
          ],
          [
           "Lay All Your Love On Me",
           "ABBA"
          ],
          [
           "Barracuda",
           "Heart"
          ],
          [
           "Lola",
           "The Kinks"
          ],
          [
           "Rich Girl",
           "Daryl Hall & John Oates"
          ],
          [
           "The Joker",
           "Steve Miller Band"
          ],
          [
           "SOS - From 'Mamma Mia!' Original Motion Picture Soundtrack",
           "Pierce Brosnan"
          ],
          [
           "Spirit In The Sky",
           "Norman Greenbaum"
          ],
          [
           "Piano Man",
           "Billy Joel"
          ],
          [
           "Midnight Rider",
           "Allman Brothers Band"
          ],
          [
           "Jovial",
           "Freddy Kalas"
          ],
          [
           "Lights",
           "Journey"
          ],
          [
           "Baba O'Riley",
           "The Who"
          ],
          [
           "Life in the Fast Lane - 2013 Remaster",
           "Eagles"
          ],
          [
           "Travellin'",
           "Hudson Taylor"
          ],
          [
           "Alaina",
           "John Harvie"
          ],
          [
           "7 Summers",
           "Morgan Wallen"
          ],
          [
           "I Want It That Way",
           "Backstreet Boys"
          ],
          [
           "Some Nights",
           "fun."
          ],
          [
           "Payphone",
           "Maroon 5"
          ],
          [
           "Breakeven",
           "The Script"
          ],
          [
           "A Sky Full of Stars",
           "Coldplay"
          ],
          [
           "Apologize",
           "OneRepublic"
          ],
          [
           "I Like It Like That (feat. New Boyz)",
           "Hot Chelle Rae"
          ],
          [
           "Fashion Forward (Acoustic)",
           "The Home Team"
          ],
          [
           "Liar",
           "Camila Cabello"
          ],
          [
           "Moist",
           "Eric Bellinger"
          ],
          [
           "Te Amo",
           "Rihanna"
          ],
          [
           "Talk Dirty (feat. 2 Chainz)",
           "Jason Derulo"
          ],
          [
           "Pears",
           "Weston Estate"
          ],
          [
           "MI CASA",
           "3OH!3"
          ],
          [
           "DADDY",
           "Shalco"
          ],
          [
           "Over and Over",
           "Three Days Grace"
          ],
          [
           "Love Me Or Leave Me",
           "Three Days Grace"
          ],
          [
           "Expectations",
           "Three Days Grace"
          ],
          [
           "Last to Know",
           "Three Days Grace"
          ],
          [
           "Pain",
           "Three Days Grace"
          ],
          [
           "Never Too Late",
           "Three Days Grace"
          ],
          [
           "One X",
           "Three Days Grace"
          ],
          [
           "Now or Never",
           "Three Days Grace"
          ],
          [
           "Grave Digger",
           "Blues Saraceno"
          ],
          [
           "Hell and You",
           "Amigo the Devil"
          ],
          [
           "Son of the Wolf",
           "Shawn James & the Shapeshifters"
          ],
          [
           "Providence",
           "Poor Man's Poison"
          ],
          [
           "Black Sheep",
           "Poor Man's Poison"
          ],
          [
           "Mile Magnificent",
           "molly ofgeography"
          ],
          [
           "Whiskey",
           "Tejon Street Corner Thieves"
          ],
          [
           "Fuck You",
           "Whiskey Shivers"
          ],
          [
           "Oh Darlin' What Have I Done",
           "The White Buffalo"
          ],
          [
           "Oak & Ash & Thorn",
           "The Longest Johns"
          ],
          [
           "Feel This Moment (feat. Christina Aguilera)",
           "Pitbull"
          ],
          [
           "Bojangles (Remix)",
           "Pitbull"
          ],
          [
           "Wiggle (feat. Snoop Dogg)",
           "Jason Derulo"
          ],
          [
           "R.I.P. (feat. Rita Ora & Anitta)",
           "Sofía Reyes"
          ],
          [
           "Blow That Smoke",
           "Major Lazer"
          ],
          [
           "Tuyo",
           "Social Club Misfits"
          ],
          [
           "Tick Tock (feat. 24kGoldn)",
           "Clean Bandit"
          ],
          [
           "Toss A Coin To Your Witcher",
           "Sonya Belousova"
          ],
          [
           "I See Fire - From \"The Hobbit - The Desolation Of Smaug\"",
           "Ed Sheeran"
          ],
          [
           "Her Sweet Kiss",
           "Sonya Belousova"
          ],
          [
           "We All Lift Together",
           "Freya Catherine"
          ],
          [
           "Nightshade",
           "The Lumineers"
          ],
          [
           "Pray (High Valyrian)",
           "Matt Bellamy"
          ],
          [
           "Can't Help Falling In Love - DARK",
           "Tommee Profitt"
          ],
          [
           "Diamonds Are Forever - Remastered",
           "Shirley Bassey"
          ],
          [
           "Skyfall",
           "Adele"
          ],
          [
           "Curses",
           "The Crane Wives"
          ],
          [
           "Change On The Rise",
           "Avi Kaplan"
          ],
          [
           "Come Little Children / The Hanging Tree",
           "Peter Hollens"
          ],
          [
           "Mephisto's Lullaby",
           "Xtortion Audio"
          ],
          [
           "Brave New World",
           "Kalandra"
          ],
          [
           "Dear God",
           "Lawless"
          ],
          [
           "My Mother Told Me",
           "Nati Dreddd"
          ],
          [
           "Drunken Sailor",
           "MALINDA"
          ],
          [
           "Space Oddity - 2015 Remaster",
           "David Bowie"
          ],
          [
           "Let It Be - Remastered 2009",
           "The Beatles"
          ],
          [
           "Catie Rae",
           "This Wild Life"
          ],
          [
           "Remembering Sunday",
           "All Time Low"
          ],
          [
           "Skinny Love",
           "Bon Iver"
          ],
          [
           "Icarus & Apollo",
           "Ripto"
          ],
          [
           "death bed (coffee for your head)",
           "Powfu"
          ],
          [
           "The Curse of the Fold",
           "Shawn James"
          ],
          [
           "Paint My Face",
           "The Devil Makes Three"
          ],
          [
           "Old devils",
           "William Elliott Whitmore"
          ],
          [
           "Burn the Witch",
           "Shawn James"
          ],
          [
           "The River",
           "Blues Saraceno"
          ],
          [
           "John the Revelator",
           "Curtis Stigers"
          ],
          [
           "Awake O Sleeper",
           "The Brothers Bright"
          ],
          [
           "The Devil Wears a Suit and Tie",
           "Colter Wall"
          ],
          [
           "Drink the Water (Live)",
           "Justin Cross"
          ],
          [
           "Hammers and Nails",
           "The Bones of J.R. Jones"
          ],
          [
           "C'mon Down",
           "Poor Man's Poison"
          ],
          [
           "Bilgewater",
           "Brown Bird"
          ],
          [
           "Moonshiners",
           "Goodnight, Texas"
          ],
          [
           "The Burnin'",
           "Nik Ammar"
          ],
          [
           "The Number of the Beast",
           "Shawn James & the Shapeshifters"
          ],
          [
           "Dearest Sarah",
           "Goodnight, Texas"
          ],
          [
           "I Am The Man Thomas",
           "The Devil Makes Three"
          ],
          [
           "Throne",
           "Saint Mesa"
          ],
          [
           "If You Care",
           "Evan Barlow"
          ],
          [
           ".44",
           "Tejon Street Corner Thieves"
          ],
          [
           "Through the Valley",
           "Shawn James"
          ],
          [
           "Fantasy",
           "The White Buffalo"
          ],
          [
           "Sera Was Never (From \"Dragon Age: Inquisition\")",
           "CamillasChoice"
          ],
          [
           "Glitter & Gold",
           "Barns Courtney"
          ],
          [
           "Dark Science",
           "Coyote Kid"
          ],
          [
           "Home",
           "AlicebanD"
          ],
          [
           "Loyal Tea",
           "Viza"
          ],
          [
           "Good People",
           "Poor Man's Poison"
          ],
          [
           "Give and Take",
           "Poor Man's Poison"
          ],
          [
           "Stronger Than the Whiskey",
           "Poor Man's Poison"
          ],
          [
           "Sol",
           "Oak Pantheon"
          ],
          [
           "Vivaldi - Original Mix",
           "PrototypeRaptor"
          ],
          [
           "Drunk On A Plane",
           "Dierks Bentley"
          ],
          [
           "Sunshine & Whiskey",
           "Frankie Ballard"
          ],
          [
           "Wagon Wheel",
           "Darius Rucker"
          ],
          [
           "That's My Kind Of Night",
           "Luke Bryan"
          ],
          [
           "Carolina",
           "Parmalee"
          ],
          [
           "Loving You Easy",
           "Zac Brown Band"
          ],
          [
           "Sangria",
           "Blake Shelton"
          ],
          [
           "Nowhere Fast",
           "Old Dominion"
          ],
          [
           "Before He Cheats",
           "Carrie Underwood"
          ],
          [
           "People Are Crazy",
           "Billy Currington"
          ],
          [
           "The Climb",
           "Miley Cyrus"
          ],
          [
           "Tim McGraw",
           "Taylor Swift"
          ],
          [
           "Teardrops On My Guitar - Radio Single Remix",
           "Taylor Swift"
          ],
          [
           "Chicken Fried",
           "Zac Brown Band"
          ],
          [
           "Prayin' For Daylight",
           "Rascal Flatts"
          ],
          [
           "Mykonos",
           "Fleet Foxes"
          ],
          [
           "You're Somebody Else",
           "flora cash"
          ],
          [
           "I Found",
           "Amber Run"
          ],
          [
           "I Don't Feel It Anymore (Song of the Sparrow)",
           "William Fitzsimmons"
          ],
          [
           "Be Slow",
           "Harrison Storm"
          ],
          [
           "Mr. Sandman",
           "SYML"
          ],
          [
           "human",
           "Christina Perri"
          ],
          [
           "Small Things",
           "Ben Howard"
          ],
          [
           "Leave It Alone",
           "Caroline Glaser"
          ],
          [
           "Come Join the Murder - From Sons of Anarchy",
           "The White Buffalo"
          ],
          [
           "Still Alive",
           "flora cash"
          ],
          [
           "Not Your Friend - Acoustic",
           "Landon Austin"
          ],
          [
           "Hold on to Memories",
           "Disturbed"
          ],
          [
           "Last September",
           "Derek"
          ],
          [
           "11 Blocks",
           "Wrabel"
          ],
          [
           "Wait for You / Apologize / How to Save a Life",
           "Mass Anthem"
          ],
          [
           "How to Save a Life",
           "The Fray"
          ],
          [
           "Before You Go",
           "Lewis Capaldi"
          ],
          [
           "changes",
           "XXXTENTACION"
          ],
          [
           "I'll Be Good",
           "Jaymes Young"
          ],
          [
           "Say Love",
           "James TW"
          ],
          [
           "The Night We Met",
           "Lord Huron"
          ],
          [
           "Lose My Mind - Acoustic",
           "Dean Lewis"
          ],
          [
           "I miss you, I’m sorry",
           "Gracie Abrams"
          ],
          [
           "Ex - Acoustic",
           "James TW"
          ],
          [
           "Yesterday - Remastered",
           "The Beatles"
          ],
          [
           "Be Alright",
           "Dean Lewis"
          ],
          [
           "the remedy for a broken heart (why am I so in love)",
           "XXXTENTACION"
          ],
          [
           "Hold On",
           "Chord Overstreet"
          ],
          [
           "If You Need Me",
           "Julia Michaels"
          ],
          [
           "The London Air Raids",
           "Vian Izak"
          ],
          [
           "Simple Man",
           "Jason Manns"
          ],
          [
           "O Come, O Come Emmanuel",
           "for KING & COUNTRY"
          ],
          [
           "My Friends",
           "Oh Wonder"
          ],
          [
           "Train Wreck",
           "James Arthur"
          ],
          [
           "Achilles Come Down",
           "Gang of Youths"
          ],
          [
           "Alcatraz",
           "Oliver Riot"
          ],
          [
           "NFWMB",
           "Hozier"
          ],
          [
           "Irreplaceable",
           "Madilyn Paige"
          ],
          [
           "In the Woods Somewhere",
           "Hozier"
          ],
          [
           "Conspiracy of Silence",
           "The Swoons"
          ],
          [
           "Long Lost",
           "Lord Huron"
          ],
          [
           "Movie in My Mind",
           "Saint Raymond"
          ],
          [
           "We Have It All",
           "Pim Stones"
          ],
          [
           "Bet It All",
           "Schmorgle"
          ],
          [
           "Method to the Madness",
           "The Wombats"
          ],
          [
           "Free the Beautiful",
           "Harletson"
          ],
          [
           "For Good",
           "Ben & Alfie"
          ],
          [
           "Liar",
           "The Arcadian Wild"
          ],
          [
           "Skin and Script",
           "Ira Wolf"
          ],
          [
           "Possibility",
           "Lykke Li"
          ],
          [
           "Megalomaniac",
           "aeseaes"
          ],
          [
           "Flightless Bird, American Mouth",
           "Iron & Wine"
          ],
          [
           "Jar of Hearts",
           "Christina Perri"
          ],
          [
           "You'll Be In My Heart",
           "Phil Collins"
          ],
          [
           "Man's World",
           "MARINA"
          ],
          [
           "Enemy (with JID) - from the series Arcane League of Legends",
           "Imagine Dragons"
          ],
          [
           "Always",
           "Panic! At The Disco"
          ],
          [
           "Arabian Nights",
           "James Monroe Iglehart"
          ],
          [
           "One Jump Ahead",
           "Adam Jacobs"
          ],
          [
           "Proud of Your Boy",
           "Adam Jacobs"
          ],
          [
           "These Palace Walls",
           "Courtney Reed"
          ],
          [
           "Babkak, Omar, Aladdin, Kassim",
           "Adam Jacobs"
          ],
          [
           "A Million Miles Away",
           "Adam Jacobs"
          ],
          [
           "Diamond in the Rough",
           "Adam Jacobs"
          ],
          [
           "Friend Like Me",
           "James Monroe Iglehart"
          ],
          [
           "Act One Finale",
           "James Monroe Iglehart"
          ],
          [
           "Prince Ali",
           "Brian Gonzales"
          ],
          [
           "A Whole New World",
           "Adam Jacobs"
          ],
          [
           "High Adventure",
           "Brian Gonzales"
          ],
          [
           "Somebody's Got Your Back",
           "James Monroe Iglehart"
          ],
          [
           "Prince Ali (Sultan Reprise)",
           "Clifton Davis"
          ],
          [
           "Prince Ali (Jafar Reprise)",
           "Jonathan Freeman"
          ],
          [
           "Finale Ultimo",
           "Aladdin Original Broadway Cast"
          ],
          [
           "Proud of Your Boy",
           "Alan Menken"
          ],
          [
           "Genie Medley",
           "Alan Menken"
          ],
          [
           "Liar",
           "Seether"
          ],
          [
           "Buried In The Sand",
           "Seether"
          ],
          [
           "Failure",
           "Seether"
          ],
          [
           "Drift Away",
           "Seether"
          ],
          [
           "Pride Before The Fall",
           "Seether"
          ],
          [
           "Written In Stone",
           "Seether"
          ],
          [
           "Sigh No More",
           "Mumford & Sons"
          ],
          [
           "Winter Winds",
           "Mumford & Sons"
          ],
          [
           "Roll Away Your Stone",
           "Mumford & Sons"
          ],
          [
           "I Gave You All",
           "Mumford & Sons"
          ],
          [
           "Thistle & Weeds",
           "Mumford & Sons"
          ],
          [
           "Awake My Soul",
           "Mumford & Sons"
          ],
          [
           "Dust Bowl Dance",
           "Mumford & Sons"
          ],
          [
           "The Eye of the Storm",
           "Disturbed"
          ],
          [
           "Gone Forever",
           "Three Days Grace"
          ],
          [
           "The End Is Not the Answer",
           "Three Days Grace"
          ],
          [
           "The Real You",
           "Three Days Grace"
          ],
          [
           "Drown",
           "Three Days Grace"
          ],
          [
           "Take Me Under",
           "Three Days Grace"
          ],
          [
           "Overrated",
           "Three Days Grace"
          ],
          [
           "God Only Knows",
           "for KING & COUNTRY"
          ],
          [
           "Need You More",
           "for KING & COUNTRY"
          ],
          [
           "Hold Her",
           "for KING & COUNTRY"
          ],
          [
           "To the Dreamers",
           "for KING & COUNTRY"
          ],
          [
           "No Turning Back",
           "for KING & COUNTRY"
          ],
          [
           "Without You",
           "for KING & COUNTRY"
          ],
          [
           "Long Live",
           "for KING & COUNTRY"
          ],
          [
           "Ceasefire",
           "for KING & COUNTRY"
          ],
          [
           "Already Home",
           "for KING & COUNTRY"
          ],
          [
           "This Is Love",
           "for KING & COUNTRY"
          ],
          [
           "Wholehearted",
           "for KING & COUNTRY"
          ],
          [
           "Matter",
           "for KING & COUNTRY"
          ],
          [
           "O God Forgive Us",
           "for KING & COUNTRY"
          ],
          [
           "Epilogue",
           "for KING & COUNTRY"
          ],
          [
           "I Want To Hold Your Hand - Remastered 2015",
           "The Beatles"
          ],
          [
           "Can't Buy Me Love - Remastered 2015",
           "The Beatles"
          ],
          [
           "Eight Days A Week - Remastered 2015",
           "The Beatles"
          ],
          [
           "Day Tripper - Remastered 2015",
           "The Beatles"
          ],
          [
           "We Can Work It Out - Remastered 2015",
           "The Beatles"
          ],
          [
           "Yellow Submarine - Remastered 2015",
           "The Beatles"
          ],
          [
           "Eleanor Rigby - Remastered 2015",
           "The Beatles"
          ],
          [
           "Penny Lane - Remastered 2015",
           "The Beatles"
          ],
          [
           "All You Need Is Love - Remastered 2015",
           "The Beatles"
          ],
          [
           "Hey Jude - Remastered 2015",
           "The Beatles"
          ],
          [
           "Get Back - Remastered 2015",
           "The Beatles"
          ],
          [
           "Something - Remastered 2015",
           "The Beatles"
          ],
          [
           "Come Together - Remastered 2015",
           "The Beatles"
          ],
          [
           "Let It Be - Remastered 2015",
           "The Beatles"
          ],
          [
           "The Long And Winding Road - Remastered 2015",
           "The Beatles"
          ],
          [
           "Primadonna",
           "MARINA"
          ],
          [
           "Lies",
           "MARINA"
          ],
          [
           "Homewrecker",
           "MARINA"
          ],
          [
           "The State of Dreaming",
           "MARINA"
          ],
          [
           "Teen Idle",
           "MARINA"
          ],
          [
           "Valley of the Dolls",
           "MARINA"
          ],
          [
           "Hypocrates",
           "MARINA"
          ],
          [
           "Fear and Loathing",
           "MARINA"
          ],
          [
           "Buy the Stars",
           "MARINA"
          ],
          [
           "Highly Emotional People",
           "MARINA"
          ],
          [
           "New America",
           "MARINA"
          ],
          [
           "Pandora's Box",
           "MARINA"
          ],
          [
           "Flowers",
           "MARINA"
          ],
          [
           "Happy Loner",
           "MARINA"
          ],
          [
           "Pink Convertible",
           "MARINA"
          ],
          [
           "Free Woman",
           "MARINA"
          ],
          [
           "Venus Fly Trap - Demo Version",
           "MARINA"
          ],
          [
           "Ancient Dreams In A Modern Land - Demo Version",
           "MARINA"
          ],
          [
           "True - Acoustic",
           "MARINA"
          ],
          [
           "Superstar - Acoustic",
           "MARINA"
          ],
          [
           "No More Suckers - Acoustic",
           "MARINA"
          ],
          [
           "Orange Trees - Acoustic",
           "MARINA"
          ],
          [
           "Baby (feat. MARINA & Luis Fonsi) - Luca Schreiner Remix",
           "Clean Bandit"
          ],
          [
           "Happy",
           "MARINA"
          ],
          [
           "I'm a Ruin",
           "MARINA"
          ],
          [
           "Blue",
           "MARINA"
          ],
          [
           "Gold",
           "MARINA"
          ],
          [
           "Solitaire",
           "MARINA"
          ],
          [
           "Weeds",
           "MARINA"
          ],
          [
           "Savages",
           "MARINA"
          ],
          [
           "Immortal",
           "MARINA"
          ],
          [
           "Primadonna - Ludovika Remix",
           "MARINA"
          ],
          [
           "Are You Satisfied?",
           "MARINA"
          ],
          [
           "I Am Not a Robot",
           "MARINA"
          ],
          [
           "Hermit the Frog",
           "MARINA"
          ],
          [
           "Numb",
           "MARINA"
          ],
          [
           "The Family Jewels",
           "MARINA"
          ],
          [
           "Hollywood - Gonzales Remix",
           "MARINA"
          ],
          [
           "Obsessions - Ocelot Remix",
           "MARINA"
          ],
          [
           "I Am Not a Robot - Starsmith 24 Carat Remix",
           "MARINA"
          ],
          [
           "I Am Not a Robot (The Shoes) - No Shoes Remix",
           "MARINA"
          ],
          [
           "End of an Era",
           "Emei"
          ],
          [
           "Dream On",
           "Aerosmith"
          ],
          [
           "Better With",
           "Friday Pilots Club"
          ],
          [
           "IM FINE",
           "Royal & the Serpent"
          ],
          [
           "Voices",
           "Flying Hippo"
          ],
          [
           "5 Foot 9",
           "Tyler Hubbard"
          ],
          [
           "C'est la vie - Cinematic Mix",
           "Weathers"
          ],
          [
           "She Used to Be Mine",
           "Jessie Mueller"
          ],
          [
           "Pyrokinesis",
           "7Chariot"
          ],
          [
           "Inner White Girl",
           "Jaquel Spivey"
          ],
          [
           "Wait for Me",
           "André De Shields"
          ],
          [
           "So May We Start (feat. Simon Helberg) - From \"Annette\"",
           "Sparks"
          ],
          [
           "You'll Be Back",
           "Jonathan Groff"
          ],
          [
           "Good For You",
           "Rachel Bay Jones"
          ],
          [
           "Requiem",
           "Laura Dreyfuss"
          ],
          [
           "Waving Through A Window",
           "Ben Platt"
          ],
          [
           "Mollymauk's Reprise",
           "Chase Noseworthy"
          ],
          [
           "Monster - From \"Frozen: The Broadway Musical\" / First Listen",
           "Caissie Levy"
          ],
          [
           "Once Upon a December",
           "Christy Altomare"
          ],
          [
           "Gethsemane (I Only Want To Say)",
           "Andrew Lloyd Webber"
          ],
          [
           "\"Stepsister's Lament\"",
           "Ann Harada"
          ],
          [
           "I Want the Good Times Back",
           "Sherie Rene Scott as Ursula"
          ],
          [
           "Don't Break the Rules",
           "Norbert Leo Butz"
          ],
          [
           "The Ballad Of Farquaad",
           "Christopher Sieber"
          ],
          [
           "Father Finlee",
           "Spence Hood"
          ],
          [
           "Hard To Love",
           "bexx"
          ],
          [
           "Little Big Boy",
           "Madds Buckley"
          ],
          [
           "Hellfire",
           "Patrick Page"
          ],
          [
           "Freeze Your Brain",
           "Jamie Muscato"
          ],
          [
           "Blue",
           "Evan Todd"
          ],
          [
           "One Normal Night",
           "Company"
          ],
          [
           "Beauty Has A Price",
           "Andrew Lloyd Webber"
          ],
          [
           "The Vanquishing Of The Three-Headed Sea Witch",
           "Andrew Lloyd Webber"
          ],
          [
           "Kill The Witch",
           "Dave Melodicka"
          ],
          [
           "Kansas City",
           "The New Basement Tapes"
          ],
          [
           "Say My Name",
           "Alex Brightman"
          ],
          [
           "What The Hell",
           "Analise Scarpaci"
          ],
          [
           "Beautiful",
           "Carrie Hope Fletcher"
          ],
          [
           "Candy Store",
           "Jodie Steele"
          ],
          [
           "Fight for Me",
           "Carrie Hope Fletcher"
          ],
          [
           "Dead Girl Walking",
           "Carrie Hope Fletcher"
          ],
          [
           "The Me Inside of Me",
           "Jodie Steele"
          ],
          [
           "Never Shut Up Again",
           "T'Shan Williams"
          ],
          [
           "Our Love Is God",
           "Jamie Muscato"
          ],
          [
           "My Dead Gay Son",
           "Nathan Amzi"
          ],
          [
           "Seventeen",
           "Carrie Hope Fletcher"
          ],
          [
           "Shine a Light",
           "Rebecca Lock"
          ],
          [
           "Lifeboat",
           "Sophie Isaacs"
          ],
          [
           "Shine a Light (Reprise)",
           "T'Shan Williams"
          ],
          [
           "Yo Girl",
           "Jodie Steele"
          ],
          [
           "Meant to be Yours",
           "Jamie Muscato"
          ],
          [
           "Dead Girl Walking (Reprise)",
           "Carrie Hope Fletcher"
          ],
          [
           "Seventeen (Reprise)",
           "Carrie Hope Fletcher"
          ],
          [
           "Overture",
           "Orchestra"
          ],
          [
           "When You're An Addams",
           "Company"
          ],
          [
           "Pulled",
           "Krysta Rodriguez"
          ],
          [
           "Where Did We Go Wrong",
           "Bebe Neuwirth"
          ],
          [
           "Morticia - 2010 Original Cast Recording from The Addams Family Musical on Broadway",
           "Nathan Lane"
          ],
          [
           "Full Disclosure",
           "Company"
          ],
          [
           "Waiting",
           "Carolee Carmello"
          ],
          [
           "Full Disclosure - Part 2",
           "Company"
          ],
          [
           "Just Around The Corner",
           "Bebe Neuwirth"
          ],
          [
           "Crazier Than You",
           "Krysta Rodriguez"
          ],
          [
           "Let's Not Talk About Anything Else But Love",
           "Terrence Mann"
          ],
          [
           "Let's Not Talk About Anything Else But Love (Reprise)",
           "Jackie Hoffman"
          ],
          [
           "In The Arms",
           "Terrence Mann"
          ],
          [
           "Tango De Amor",
           "Orchestra"
          ],
          [
           "Move Toward The Darkness",
           "Company"
          ],
          [
           "Ex-Wives",
           "SIX"
          ],
          [
           "Ex-Wives (Reprise)",
           "SIX"
          ],
          [
           "\"But there's only one you need to hear from tonight...\"",
           "SIX"
          ],
          [
           "No Way",
           "SIX"
          ],
          [
           "The One You've Been Waiting For",
           "SIX"
          ],
          [
           "Heart of Stone",
           "SIX"
          ],
          [
           "\"So I guess you already know what happened next...\"",
           "SIX"
          ],
          [
           "All You Wanna Do",
           "SIX"
          ],
          [
           "I Don't Need Your Love",
           "SIX"
          ],
          [
           "SIX",
           "SIX"
          ],
          [
           "Heart of Stone (Alternates Version)",
           "SIX"
          ],
          [
           "Six",
           "SIX"
          ],
          [
           "Open up Your Eyes",
           "Tempest Shadow (Emily Blunt)"
          ],
          [
           "Waiting in the Wings",
           "Eden Espinosa"
          ],
          [
           "Crossing the Line",
           "Mandy Moore"
          ],
          [
           "Nothing Left to Lose",
           "Jeremy Jordan"
          ],
          [
           "Never Enough",
           "Loren Allred"
          ],
          [
           "Run Devil Run",
           "Haunted Like Human"
          ],
          [
           "Tragedy Bound",
           "The Bravery"
          ],
          [
           "Le Bien qui fait mal",
           "Mozart Opera Rock"
          ],
          [
           "higher",
           "pluko"
          ],
          [
           "Worst in Me",
           "Unlike Pluto"
          ],
          [
           "RABBIT HOLE",
           "AViVA"
          ],
          [
           "Overwhelming",
           "Jon Bellion"
          ],
          [
           "Somebody Say",
           "Xuitcasecity"
          ],
          [
           "Touch",
           "Former Vandal"
          ],
          [
           "hot girl bummer",
           "Our Last Night"
          ],
          [
           "No Friends",
           "Cadmium Nightcore"
          ],
          [
           "Origami",
           "The Geek x Vrv"
          ],
          [
           "Battling Life",
           "The Dunwells"
          ],
          [
           "High While the World Ends",
           "KROWNS"
          ],
          [
           "The Zombie Song (Nightcore Version)",
           "Stephanie Mabey"
          ],
          [
           "Echo",
           "Yves V"
          ],
          [
           "In And Out Of Love",
           "Scott Rill"
          ],
          [
           "Flowers",
           "The Tech Thieves"
          ],
          [
           "Kissing Other People",
           "Lennon Stella"
          ],
          [
           "Hate Me",
           "Layto"
          ],
          [
           "I'm a Sucker for a Liar in a Red Dress",
           "Adam Jensen"
          ],
          [
           "Had Enough",
           "Nineclub"
          ],
          [
           "Skyfalling",
           "The Adjective"
          ],
          [
           "Army",
           "Besomorph"
          ],
          [
           "3 Am",
           "We Three"
          ],
          [
           "Never Done This",
           "twocolors"
          ],
          [
           "A Little Messed Up",
           "june"
          ],
          [
           "Save Me (feat. Violet Days)",
           "GATTÜSO"
          ],
          [
           "Met Him Last Night - Dave Audé Remix",
           "Demi Lovato"
          ],
          [
           "コノヨLoading...",
           "Reol"
          ],
          [
           "You Can't Hide",
           "Ck9c"
          ],
          [
           "It's Me",
           "Tryhardninja"
          ],
          [
           "Nowhere to run - Slowed",
           "NikiBeats"
          ],
          [
           "Daylight",
           "Klaas"
          ],
          [
           "Lost Umbrella",
           "稲葉曇"
          ],
          [
           "In The Night",
           "Lucas Estrada"
          ],
          [
           "Starlight",
           "Akera Sky"
          ],
          [
           "Cat's Eyes and Rosebuds",
           "So Much Light"
          ],
          [
           "Shoot Em Dead",
           "Trouble Andrew"
          ],
          [
           "Call My Name",
           "The Unlikely Candidates"
          ],
          [
           "I Got No One",
           "Broiler"
          ],
          [
           "Dancing With Monsters",
           "Eon"
          ],
          [
           "All My Favorite Songs (feat. AJR)",
           "Weezer"
          ],
          [
           "SAIL",
           "Autumn Kings"
          ],
          [
           "Conqueror",
           "IA"
          ],
          [
           "Grind Me Down (Jawster Remix)",
           "Lilianna Wilde"
          ],
          [
           "Dance Like I'm In Love",
           "John Michael Howell"
          ],
          [
           "Black Frog",
           "Twin Pumpkin"
          ],
          [
           "Chemicals",
           "Tropic Gold"
          ],
          [
           "Six Feet Under",
           "Vane Lily"
          ],
          [
           "Gimme! Gimme! Gimme!",
           "ZACHARY"
          ],
          [
           "White Lies & Purple Elephants",
           "Fifth Lucky Dragon"
          ],
          [
           "Panic Attack",
           "Nicky Blitz"
          ],
          [
           "Veils",
           "Moonfall"
          ],
          [
           "Bodies",
           "Bryce Fox"
          ],
          [
           "Only One Not Smiling",
           "The Correspondents"
          ],
          [
           "True Crime",
           "DREAMERS"
          ],
          [
           "every word",
           "Animal Sun"
          ],
          [
           "Tear It All Down",
           "CALYPSO"
          ],
          [
           "Smile",
           "Uncle Kracker"
          ],
          [
           "Mine Again",
           "Zach Bryan"
          ],
          [
           "I'm Only Me When I'm With You",
           "Taylor Swift"
          ],
          [
           "Speak Now",
           "Taylor Swift"
          ],
          [
           "Come Back...Be Here (Taylor's Version)",
           "Taylor Swift"
          ],
          [
           "Come Back...Be Here",
           "Taylor Swift"
          ],
          [
           "Should've Said No",
           "Taylor Swift"
          ],
          [
           "Back To December",
           "Taylor Swift"
          ],
          [
           "The Story Of Us",
           "Taylor Swift"
          ],
          [
           "Mean",
           "Taylor Swift"
          ],
          [
           "Sparks Fly",
           "Taylor Swift"
          ],
          [
           "The Night The Lights Went Out In Georgia",
           "Reba McEntire"
          ],
          [
           "Monster",
           "Those Who Dream"
          ],
          [
           "fleabag - acoustic",
           "YUNGBLUD"
          ],
          [
           "Can't Pretend",
           "Tom Odell"
          ],
          [
           "Crazy Fuckin' Robot Body",
           "Snowblood"
          ],
          [
           "Watch The World Burn",
           "Falling In Reverse"
          ],
          [
           "Stepping Stone",
           "Eminem"
          ],
          [
           "Zombie",
           "The Cranberries"
          ],
          [
           "Undisclosed Desires",
           "Muse"
          ],
          [
           "Doom Days",
           "Bastille"
          ],
          [
           "The Lighthouse",
           "Halsey"
          ],
          [
           "Bad Reputation",
           "Adelitas Way"
          ],
          [
           "The Sex Is Good",
           "Saving Abel"
          ],
          [
           "Primadonna - Walden Remix",
           "MARINA"
          ],
          [
           "Primadonna - Benny Benassi Remix",
           "MARINA"
          ],
          [
           "Primadonna - Evian Christ Remix",
           "MARINA"
          ],
          [
           "Power & Control - Michael Woods Remix",
           "MARINA"
          ],
          [
           "Power & Control - Eliphino Remix",
           "MARINA"
          ],
          [
           "Power & Control - Krystal Klear Remix",
           "MARINA"
          ],
          [
           "Power & Control - Brackles - Dub Mix",
           "MARINA"
          ],
          [
           "How to Be a Heartbreaker - Dada Life Remix",
           "MARINA"
          ],
          [
           "How to Be a Heartbreaker - Dada Life Remix; Radio Edit",
           "MARINA"
          ],
          [
           "Orange Trees",
           "MARINA"
          ],
          [
           "Superstar",
           "MARINA"
          ]
         ],
         "hovertemplate": "0=%{x}<br>1=%{y}<br>track.name=%{customdata[0]}<br>track.artistName=%{customdata[1]}<extra></extra>",
         "legendgroup": "",
         "marker": {
          "color": "#636efa",
          "symbol": "circle"
         },
         "mode": "markers",
         "name": "",
         "showlegend": false,
         "type": "scattergl",
         "x": [
          -3.2360943536108793,
          -2.816404557866255,
          0.3076672852319561,
          0.09552757392514079,
          -0.3184662946981536,
          1.279423545934183,
          -7.214595818879575,
          0.8053151035107041,
          -1.907424849662918,
          -18.269974505677887,
          -1.5706775670611015,
          -5.474877691569566,
          5.389215208058194,
          -6.859889374823106,
          -9.767280317486149,
          -7.981358311373453,
          -5.8474860812950755,
          1.673952859407324,
          5.062757050959886,
          1.7169896211835143,
          -6.433412692296518,
          7.3523622285525185,
          2.73265372108549,
          -7.204671163177622,
          1.6602493665102747,
          -2.583745240057435,
          -0.7929844220359206,
          0.4803725829635268,
          14.012312201125388,
          -1.478227762201668,
          -5.235813512591397,
          1.2688572972106948,
          8.00373343618097,
          -4.8355516044447855,
          -3.865327403402123,
          2.026728854717464,
          8.726211931527141,
          11.926500367286902,
          2.134663294432867,
          -18.88785218348869,
          -9.772366313343642,
          -1.5023975021163543,
          -1.1598344431301406,
          -4.429522693263242,
          7.075059955849632,
          -29.11815100233172,
          2.4688316927422327,
          -2.3105626886284245,
          -2.9385492127260555,
          -2.3210421879957566,
          -2.249672225150452,
          -2.7477889696961304,
          2.9133622510645996,
          -0.9538945546582466,
          -3.311391684351442,
          2.600300075716676,
          -10.239416121327519,
          -0.38097135001629356,
          0.4463608995165582,
          -0.8982015519555893,
          1.7601874739858476,
          -3.3906554875645445,
          -1.2550493553754527,
          -20.181084516714467,
          -1.8920792044733419,
          -5.482184463873411,
          -7.326987624486827,
          4.773575460419419,
          -9.147060252686547,
          -5.339919828007783,
          -0.8014243840429045,
          -4.5660240637194125,
          -1.7109232822939546,
          -3.7870954506953742,
          -0.4016360944121265,
          2.0931390343593477,
          -1.071424427279641,
          1.0741362556106735,
          -2.72591054164492,
          -4.714668846680926,
          -0.4207214263146952,
          4.054839630565838,
          -6.020875839810241,
          -3.8108090746003427,
          -0.6780658254576221,
          -1.2637203991877224,
          -0.6891018672215976,
          9.898168678865272,
          -6.3314665418725795,
          -5.1608035105335315,
          -11.12961580905921,
          -1.2041150165033758,
          -0.3666853147691492,
          -7.684603348782207,
          -3.8444547713467117,
          1.344216903712299,
          11.623170859960595,
          -0.26488436784957914,
          1.3650591389698625,
          1.1345648328020197,
          6.164481548685124,
          0.12795488006158295,
          -1.6631382195443982,
          -0.17688402849070042,
          -18.832206092222695,
          2.1004462293762747,
          0.43189626397448094,
          -2.9086573575504433,
          12.224972195253402,
          1.7442292688748062,
          1.3431543738836658,
          0.1050043225421241,
          -2.4959710614013857,
          -3.7205871028720727,
          -3.1189273618465045,
          5.400537765276443,
          -1.9942889308628486,
          -5.39811240898748,
          2.4022951233261565,
          5.994253945536978,
          -3.0655108919549514,
          5.897630688086647,
          -4.316995647087534,
          -4.194835005702376,
          -5.743112555837412,
          -1.2842652229385152,
          -2.1893575876661604,
          0.5835340765042154,
          0.22479564825991794,
          -5.943520520220074,
          4.555599739311487,
          5.004199709687981,
          3.6817793884605896,
          -1.853003793190474,
          1.1031041912931556,
          7.108720750319657,
          -8.061527791737467,
          -0.5169264247356891,
          6.136005767855151,
          -6.217634007078021,
          -4.629047930058675,
          -12.955191360229419,
          -1.9893616799701164,
          2.6474941597874584,
          -7.179034787043079,
          -6.308017758054703,
          -4.385390903721941,
          5.06844782872445,
          6.061663390620135,
          0.17307357495566902,
          2.741786172056327,
          -0.37869210088428673,
          -2.147568948125744,
          -1.7190093208921167,
          -29.42478695240984,
          2.5675575074260757,
          0.22140580258239306,
          2.3776532262745596,
          3.7920750643476553,
          6.094489544712414,
          6.639672227957573,
          6.2033022580085575,
          6.152088793339752,
          0.39077560447364906,
          7.109679424656967,
          -2.1774494754637566,
          -1.0953733099077492,
          8.320179470545089,
          3.0639083752692584,
          7.628986659452995,
          -0.2796985706328739,
          -4.210928148822489,
          -3.3330400793849773,
          3.8318522642322685,
          -5.600839882764345,
          -1.3977831906913554,
          4.632388352188801,
          -3.5196253746313406,
          3.55162961479503,
          -2.2173683614687896,
          5.305973221823491,
          -4.874874042954742,
          1.6003384059654109,
          -0.1436856474309302,
          0.9601749189329692,
          -1.125404929115117,
          2.0975817448662073,
          4.8672572984703,
          0.2830579932613656,
          1.9543913423022885,
          -0.9479225771710325,
          -7.790127385363834,
          -2.9865079095730866,
          0.7184069493097608,
          -13.524269153864768,
          -1.7116021131219568,
          4.071201242010643,
          -2.5797570992650622,
          -3.691704303752948,
          0.004624408912555167,
          1.2717013131168446,
          4.385020933913371,
          2.653306206396336,
          3.363623958468793,
          0.34998901286241424,
          4.556687587310293,
          3.811322495965717,
          1.3416547202189242,
          1.4056221224307304,
          -3.3568909931602953,
          -0.23087285722780665,
          7.9036169278979465,
          -1.3458892181513935,
          -1.7185445143071822,
          -3.8676553418758948,
          3.0760454889079507,
          1.2864746492905423,
          1.3580437384829815,
          -0.16529587769381882,
          -5.926920999631278,
          -5.839455881542374,
          -2.9845639595436015,
          3.9031969786695804,
          9.030024313859716,
          1.2723691171010072,
          -2.0623837793521735,
          0.45341930566752053,
          -11.095097086927762,
          -2.9168176572317446,
          -5.12411979592674,
          8.035969053851172,
          -0.044852035778899735,
          -0.8561849863506741,
          -4.4459811230907125,
          -1.4175130840443158,
          1.2021380934068888,
          -3.894048988791233,
          -1.619413524275668,
          -2.7700753960550433,
          -6.61690655062275,
          1.2482914090846895,
          -6.237906981238082,
          3.5768654914189804,
          -4.5034196315128945,
          -1.7321351438888875,
          -3.533636940683197,
          -4.662862771403744,
          5.57486948338362,
          1.547001655028978,
          2.3436952235762996,
          -11.100991742193255,
          -29.165577458824522,
          1.1634433252330159,
          -2.416644747680453,
          -6.500092601528137,
          -10.861646094868481,
          -4.7556024567723965,
          -3.638055961501247,
          -6.584833963813692,
          -8.969517140987577,
          2.3198510983679825,
          -2.1971182120850052,
          0.9854870784389133,
          1.3063334807348475,
          -3.57809996890858,
          -1.2066344895573458,
          0.11048195951680469,
          -10.002608059295373,
          -6.540060751894879,
          -0.8342100817864646,
          -4.53590780515766,
          -0.4144901398402897,
          -4.599231736074724,
          0.32739185793452935,
          6.469091611649963,
          0.533673047625899,
          -7.095583387842898,
          -3.1250336522897224,
          0.46504811484488756,
          0.3627140531380316,
          0.03796252507375761,
          -2.3673949899832114,
          9.027290786286228,
          0.11025496265523532,
          5.7491667542025935,
          -3.3136704807269606,
          1.1777313961371196,
          -3.795428434013981,
          3.0110483450537853,
          -14.910920374401364,
          -9.775822355915485,
          -8.541918041291524,
          -6.80767166277238,
          7.957318521659242,
          -8.547931857816936,
          8.923364016210229,
          -7.540362151455767,
          -7.985521975043069,
          -5.668188631645291,
          1.5815222594365554,
          3.735089522644791,
          -0.605226625095904,
          -9.346179894777247,
          2.1051676337698058,
          -2.308428827182955,
          -0.7731399581196905,
          -2.1685446421488406,
          0.011823318737730959,
          3.253594377251882,
          -4.296240744146956,
          -1.0755941760996004,
          2.838299912804514,
          3.713606237113528,
          -0.6474082585232188,
          8.067242844405508,
          1.4947786988238176,
          0.5564193841680722,
          3.3232520980184046,
          1.1065792415429396,
          5.21303320538747,
          4.568775013965311,
          0.35865814716849065,
          -0.4591721242361167,
          1.1303256661745842,
          -2.285078809595364,
          -0.8610352323213581,
          -1.2482590406577985,
          1.7270399035024342,
          0.5506199324131951,
          -0.12461065943732558,
          -4.327175384820054,
          -1.855361769744694,
          13.725013135485433,
          5.655688951657039,
          2.9944889713612555,
          -0.2844097106608674,
          -1.509348534098428,
          0.40202766989586236,
          9.499056477801924,
          0.5411689648653187,
          1.4762110754920437,
          5.625802052084402,
          -17.55144881746721,
          3.51774001274313,
          2.5517600446319646,
          -3.0166728834365064,
          2.9430994364801406,
          1.0349308182775148,
          9.065325406070755,
          1.819997921309557,
          -1.6484836786608421,
          2.968944662195857,
          5.027181429673622,
          -6.816308779068114,
          6.74781886061396,
          -1.2961672941136484,
          1.223719160996374,
          2.4568384523046474,
          -0.7248248599233623,
          11.395771992796575,
          4.935885173785813,
          -1.8987934847485475,
          -0.4405748767902828,
          3.4782062217878535,
          4.821617792411612,
          -2.6500456600663944,
          -0.48096692195446944,
          -0.4959955876408361,
          2.5042865252773705,
          0.4385139129507717,
          1.2515494290622136,
          2.6050374038207194,
          -5.134179214834049,
          -0.6570142331066027,
          -0.36960484763465934,
          1.2838338242855718,
          -0.5238612954405284,
          -6.710990751898096,
          0.39475331095756494,
          3.00648832257216,
          -0.32243575690061055,
          -1.8411939394333237,
          -1.3383106412169619,
          -4.744911040324635,
          1.3749348196470879,
          -2.2580890874349704,
          5.698400979909407,
          -4.946290205814769,
          1.9141260141624126,
          3.8359782595831007,
          1.487926505056981,
          -2.6148055560823114,
          4.20226617145756,
          0.05453446401633291,
          -1.7921231018207315,
          0.94233459069268,
          -4.94111460018485,
          1.6992923374845161,
          6.512976444069061,
          1.448085331912789,
          1.0685331671597107,
          1.6471040850145346,
          -5.130706814969921,
          4.4237993067125805,
          -4.303866729910771,
          0.38056846759802226,
          1.6780544703464702,
          4.316905439376413,
          7.308563530901479,
          1.2523952215551368,
          6.748351425740946,
          -0.3210510544898134,
          -3.7330815089318072,
          -1.7054827620356647,
          6.113801085486967,
          4.879427316164611,
          2.451057893476275,
          -0.9590224724933184,
          0.7743809163961012,
          -10.482608637016789,
          4.9133289418908515,
          2.2266175404806305,
          -4.219730499043919,
          -8.909382059516052,
          -0.4047403738437627,
          0.28481486299621406,
          11.017970638722097,
          -0.7446003498606713,
          -0.12392150893652742,
          13.684474616366348,
          5.22564235730499,
          -0.877116019856667,
          -2.8403861340361156,
          -0.7392127207516366,
          0.9569821440944972,
          1.0029329151792286,
          -9.82117494599704,
          1.23130734053227,
          -8.08475591008455,
          -2.9755551899216544,
          2.590977196103138,
          1.016856252113964,
          4.295734237989278,
          2.448572971778025,
          -0.25701598693047145,
          1.0730443743218376,
          0.4933768564552148,
          3.7042527453302982,
          0.9380703591678526,
          6.796678678285015,
          6.160483065559044,
          -4.141146240239024,
          0.42636012219246505,
          -2.0922445945325525,
          0.4590819448099922,
          -1.110039928464675,
          -6.4055986375891045,
          6.178548973699709,
          -3.3022390520900244,
          0.01824040967356086,
          -3.8563744726121296,
          -1.8117064674715662,
          6.2512445126173874,
          0.041621085512969946,
          7.004979955401657,
          -1.3793078699071573,
          3.7116019162426177,
          1.492557557411435,
          -2.8693264986660925,
          -4.844173699063743,
          -1.6521246949927357,
          1.7167692073323089,
          -5.434774872770143,
          0.47319211768563396,
          5.086818846130534,
          4.020283693838474,
          2.160470409740131,
          -0.08286162948593875,
          0.2012445677578565,
          2.6987209308305964,
          1.5698168553287042,
          -1.318027212206246,
          -1.777854010473189,
          -0.5636673509036577,
          7.73186736800079,
          1.7739849172083562,
          1.82204739289946,
          2.1342124437646746,
          6.394429168839613,
          1.0907332590674765,
          1.5566019907239614,
          -6.0833311755345605,
          9.9813206342664,
          0.9590365363699989,
          -6.273745265936987,
          5.695498176378517,
          9.314124930101553,
          -0.5190143185424829,
          -12.010323029612893,
          -2.3325085028374652,
          -2.2128065117122024,
          4.609916970652929,
          -2.4110894953436093,
          -3.9008746308522473,
          -4.975500500714206,
          0.8437532545947719,
          3.5801653341409896,
          -0.4648972358396268,
          11.64247044361161,
          -3.0630544026684543,
          0.03412830512946574,
          -0.3620142363738818,
          -9.205685587689793,
          0.023363114932385284,
          -8.890173556198963,
          -5.795638602092018,
          -16.601756340646915,
          6.660626238156476,
          2.4802203513974095,
          4.382210471784994,
          -2.039927387910012,
          1.2492240097354834,
          1.8080805693046287,
          1.627954569884177,
          1.7989511122958401,
          -3.411262766784091,
          -2.619124496691506,
          -4.738945785735551,
          -0.23205709542572353,
          10.574323656338226,
          -4.841636064490395,
          -3.3589343841934074,
          3.223871849337069,
          2.4721269290576404,
          3.137040197354839,
          5.519108913811622,
          3.460401893127716,
          -1.61082630865329,
          0.8607343143982249,
          0.5119798216724674,
          -4.754769156953393,
          -1.6616095850738903,
          -3.6377526641725293,
          -2.209147959647216,
          20.62531916917006,
          -0.06079817967189802,
          -1.6016706199877122,
          -3.935607752863054,
          0.6577822695909947,
          9.08756550210327,
          1.0276857780504238,
          1.9053320324843852,
          1.5217604256874158,
          1.0230526797264925,
          -0.7432842861783815,
          5.7149050232317755,
          1.585375625527325,
          2.019444812290699,
          5.210799980196475,
          2.2261489589763777,
          14.415987767617963,
          -0.9094534564554616,
          0.3553916677513954,
          1.6644909194027262,
          0.9497158096248148,
          0.6061295080630352,
          -1.8629033933308732,
          -10.57399253988308,
          3.83403863800097,
          -6.1956466431210515,
          3.4673546393826844,
          1.5575560238540662,
          -1.2875114911131513,
          0.5079103941785854,
          -5.777743797373002,
          1.1184188913292108,
          0.12144474991304595,
          1.2821187451554148,
          -1.633482345684815,
          -3.912489680484994,
          4.603293365413388,
          6.394694446391568,
          -2.391051615236812,
          0.5149596034518306,
          1.3530893424341204,
          0.10671739070477558,
          0.6205741692951827,
          0.02130594812412734,
          0.9314124949961167,
          0.3320991345461525,
          -2.548196803186366,
          8.179216424260556,
          -3.5539392923888338,
          -2.3336601381810773,
          3.9775795944754884,
          2.332434399456148,
          11.332603378411429,
          -0.2231161378925807,
          -3.3141530460840873,
          0.9691966327884456,
          2.7951758496221655,
          -5.425822305690948,
          2.2567426241522517,
          -0.40432387487070975,
          0.4396646948406083,
          -2.4033658341679627,
          7.075813802671777,
          1.4293687753531852,
          0.12530069703686286,
          3.054537472958497,
          -4.2264636691401725,
          0.8158845000967174,
          0.6444205276848528,
          -2.5911076510421576,
          -0.6279881010845242,
          -0.6596926967827761,
          9.763027288343775,
          -4.885594865613369,
          7.2190042005195005,
          6.616167847907251,
          -5.9652862357504715,
          3.5901588497441073,
          -4.690256712056788,
          6.675797120221849,
          6.699455788423906,
          -7.092340705598465,
          6.6918793307025215,
          0.6541471964670569,
          -1.0837929168399139,
          -6.376532336901976,
          -1.2373089308506755,
          2.6797076125516845,
          -1.4149056125644366,
          -0.2021999597578929,
          1.0892739439567523,
          3.087890264590272,
          -3.026676964690968,
          -25.46287466944372,
          15.060801200813904,
          6.17031452965111,
          1.7744462251638815,
          -5.18324905803007,
          -1.885518089824272,
          1.761106085465447,
          -0.9476545752013855,
          -5.856191090221621,
          -3.1324260952085,
          0.9066939047481225,
          4.296401890876505,
          5.455914132574698,
          -0.9282566235324758,
          -0.6063247233245742,
          2.0083032672077263,
          -9.48594545638425,
          5.43081382112439,
          -1.462695354086378,
          1.3518317400432576,
          10.104658003810037,
          3.5825867433402294,
          -1.1276724645397254,
          -8.726691551407049,
          -6.963848676950207,
          2.943391466224271,
          4.825937286583914,
          -0.21046101258290748,
          -6.199582740252817,
          -0.9965792092784316,
          5.747916980869591,
          6.146065010173951,
          5.3662722126712055,
          1.4673930520662959,
          -7.123443364032504,
          2.7076470721000834,
          2.4272590010644803,
          -1.9565149850753798,
          2.4642015061219866,
          -18.26272455071144,
          7.464846080474274,
          -6.8865355760387414,
          -4.635038412427605,
          -5.215442288732787,
          4.004938272157086,
          -1.5064996253805054,
          1.2066584605125419,
          1.882874514237663,
          2.3812995657978444,
          -6.318300412389492,
          1.2253326601342367,
          4.855726332471296,
          -7.442679718393051,
          2.719271078023623,
          1.2751794212626657,
          -0.6950564965838713,
          -2.3462347743470224,
          -5.566025560537749,
          -0.03243215521535747,
          -0.6491590368229294,
          2.899543929246038,
          2.0957910214177753,
          0.6775514084705059,
          -2.6755244102216356,
          4.921323756775001,
          2.054019894037982,
          -7.769348067710714,
          -1.469182060186477,
          3.0447734847951415,
          1.5990260694572427,
          -5.415330179002609,
          -4.178720867904792,
          2.6450406010595398,
          0.43028775787862195,
          1.8251025209823795,
          6.269793706046058,
          4.158091985097132,
          -0.2962847635026729,
          -2.267488978507364,
          -1.1645812113641638,
          -9.558188338017708,
          3.247142907832223,
          0.28767112404304396,
          1.612223038559452,
          -5.915260479345086,
          1.3033896731715862,
          1.1032825861998665,
          -6.353498532782335,
          -11.084367911957479,
          2.8847515908514416,
          2.033384102833602,
          2.812855739048411,
          -1.7245175892120088,
          -8.598271644679745,
          0.9845691533658442,
          0.08381412864501925,
          -5.981650995133841,
          1.6153773886001095,
          3.8115648696655757,
          3.052321537775699,
          -6.370342996696404,
          0.7287772253917582,
          -1.6961327827286425,
          5.077006389870681,
          -0.29878909417295085,
          2.510101919836839,
          4.9107731633288205,
          0.793008903901781,
          2.439315725183929,
          -6.530481625757766,
          5.108531354697854,
          -0.15654047042040842,
          0.16861276461229563,
          3.345747463364347,
          1.1123665630794708,
          -6.105209860904793,
          -2.674595373934405,
          10.653165829220363,
          3.521439294433573,
          -1.8943161104888375,
          -2.847963379240033,
          1.9058818706227423,
          -1.0064353342728587,
          2.503818018608122,
          -0.7350997201274645,
          0.1015674445219733,
          -3.3814388549318273,
          -2.3445511411718596,
          14.743805043897584,
          5.6762870640335255,
          -0.5963660895465344,
          -0.9831554078591044,
          -9.2180921568602,
          -1.839202658620832,
          -1.735950949960724,
          14.609922224338407,
          1.8229954373802886,
          -3.5629670981849277,
          5.191762640559458,
          1.6204941499032546,
          -0.00702713814088296,
          -3.058688580016639,
          2.8723188915815103,
          0.7441208685715002,
          1.1718931989047061,
          -0.024394934700907617,
          0.8631008586832206,
          11.792438960666662,
          12.159251008620114,
          2.5396879831224055,
          0.30418570180731214,
          -0.4692403671836036,
          -4.98634290300534,
          -2.2027537013653133,
          3.0848302351851924,
          3.177689255139697,
          1.4795619552321777,
          0.4695227649877208,
          -2.1825656678543934,
          -10.597185027229095,
          1.924599054607749,
          2.04623359295147,
          3.4612058190473514,
          8.315428068656125,
          -5.539062852499979,
          0.5928856875360285,
          1.677615817861651,
          -1.3884679072813881,
          -1.1542380582726903,
          3.9174485812186655,
          -1.5573199961704112,
          2.809736210937107,
          -5.746631536359958,
          -0.023736206103038004,
          -2.988640915150092,
          0.5124287777209011,
          1.2860654280626922,
          -0.8348610804764256,
          -0.18322697135191982,
          -3.53738680024529,
          -1.0884644943979436,
          -1.5224905820284818,
          -0.22799300661782754,
          4.02466364846079,
          0.852916603748552,
          5.018131044444136,
          -1.87753976231307,
          0.7383904880677188,
          -2.426448678091681,
          3.821949149794614,
          -1.0870143666710683,
          -0.13136909351390505,
          4.011949750780448,
          4.470323661601599,
          9.887115372659158,
          -6.920585799602763,
          -0.3977478881448455,
          -5.34971201650228,
          1.9220546518239,
          -0.16561078376196428,
          3.0573912114257418,
          -1.022574826255509,
          3.292336252158773,
          7.482082541154308,
          -2.0457483813680497,
          3.602078369452344,
          -0.012378828322612473,
          5.187496263018048,
          2.9043425879291727,
          -2.266454839436942,
          -1.653986191841362,
          -0.6769851806920408,
          2.0034399570848587,
          -5.045058719736561,
          -1.632523964169229,
          -18.439049726191477,
          2.4295999901769756,
          -0.3121487840569218,
          7.207277629864764,
          -2.164399520130134,
          1.7708701745945903,
          -1.8038337759091672,
          -0.257901700556301,
          0.9918209281935184,
          1.0629143266977765,
          -2.121933565317392,
          0.22142006502346465,
          1.2000658790531475,
          -1.9675328369204501,
          -0.07421213703006588,
          7.1870355803027355,
          0.7328352489326547,
          -0.6765765248528439,
          1.10924381163106,
          -0.2646385129721904,
          -0.8080454497838372,
          2.781932200805044,
          2.379854091611341,
          0.21589028844993216,
          3.3251562657518763,
          0.9116664103996481,
          -1.4164262194079948,
          -3.0258897374710396,
          6.484287925989483,
          0.15981334559580507,
          3.2551471856453356,
          1.9330209444835162,
          1.3724561910496949,
          -14.290603383246129,
          1.5473113531409046,
          2.0324386698212806,
          0.4425435998065361,
          0.7183584012949495,
          -3.7312415532585845,
          4.6526324248187105,
          -2.2278425325504645,
          2.095095500972878,
          -2.848706424185467,
          0.6492435926800846,
          -3.3536189387887547,
          -0.8616753699312559,
          -0.4209519721780677,
          -0.4015544801837829,
          3.3127881356591184,
          0.7059640032926567,
          -4.552536155931226,
          2.273337210457597,
          1.0500051858536037,
          -1.6051642971405031,
          5.76352661098677,
          -0.6551749579445473,
          -4.801219564532186,
          -4.719369150038354,
          0.6119714100546825,
          39.89379405735782,
          -2.6307242053715787,
          -1.2902990857476921,
          -2.82697281063575,
          -1.7374008285066984,
          -6.490168071055656,
          2.884634574929436,
          3.7351355609212273,
          -2.5459461387570035,
          1.5724691301096,
          0.9626645333304241,
          2.9019253194397474,
          -7.90981798929406,
          3.8231961918066792,
          -6.496528640865491,
          -0.19054536017902612,
          10.222501830177869,
          -1.2165471174188327,
          0.24483440709086743,
          5.823729423231631,
          8.085480972817631,
          0.9154722459827337,
          0.3306143253232031,
          7.919282945346341,
          0.5125584349149991,
          2.259114926098229,
          0.310952595583582,
          0.36270511702626285,
          -0.6203107150805075,
          0.6474653610388006,
          2.882509451356026,
          5.064377109735946,
          2.9698178644452264,
          3.984031863245,
          -3.524029457015656,
          -3.7496429682400096,
          -2.52445567104174,
          6.396402813090882,
          -1.494999273634796,
          19.205197112681496,
          2.794549167792192,
          8.568229926091616,
          2.0367769537045413,
          -7.464314934118965,
          4.309966540843984,
          0.8674287771300544,
          0.47080949756869384,
          1.7974507711162362,
          -0.3401033426935988,
          -5.298976695649434,
          1.5017129443619546,
          1.0467990737379111,
          6.067351033389899,
          1.8984484828690604,
          1.9371606165302073,
          0.07780863147334258,
          -3.3360787256645907,
          -16.06806212080954,
          2.603430359000926,
          9.201908874732823,
          3.8252218638171542,
          9.443682612698996,
          1.3834721538764776,
          2.0229563592792057,
          -1.6440968766329789,
          5.079057530213184,
          -0.7223065067658745,
          1.6867971692598729,
          4.106119738681281,
          -6.212750652942706,
          1.8396386758504732,
          1.2335413609797612,
          7.651668635942959,
          -0.6975822348624826,
          -3.5781283609990258,
          -18.496499125764174,
          -2.4947064666427456,
          0.9849232668519249,
          7.118162827239602,
          -0.46435244912833584,
          5.107499859757048,
          -7.285745570556202,
          -0.8280851420050557,
          -10.814303572722343,
          7.509187049420753,
          12.254423792885936,
          -2.510512633401346,
          -3.816310909808209,
          1.978821035040498,
          3.9022819385731737,
          1.061339532810397,
          -14.307904514946477,
          3.803542998111909,
          1.7342990859046903,
          -5.471021877536906,
          0.10244796370884246,
          -2.6675325288573335,
          -7.637914271091789,
          2.7581874438201135,
          0.15427405885016376,
          -0.5021817095630726,
          2.6049677502103625,
          -5.396542263769684,
          2.9512692558401326,
          1.5508999444912308,
          -1.7535886353573429,
          9.38619032002654,
          3.722505313092822,
          -7.101111719574864,
          3.8819125879539964,
          2.1154854432618833,
          -0.018912628139569426,
          8.78046042986042,
          1.9301743437359278,
          -1.6004329808132614,
          -0.2939947601424247,
          7.789369650984718,
          7.081085929766207,
          -6.269502334943331,
          2.7373081571656535,
          0.6139895203040971,
          1.8383119522778562,
          3.1368756953644596,
          1.684427086531016,
          -5.596428058360308,
          3.972526187640658,
          -1.0000296973858933,
          -5.706320261537986,
          -0.08195700474894674,
          -4.143212715737018,
          3.499366739331111,
          3.0978382171230594,
          0.5924558133925129,
          2.9023173627575187,
          -2.0787093245052506,
          5.139362326661998,
          3.363488940953096,
          1.0182414757082754,
          -5.7306134032957665,
          1.5079871107241576,
          6.6888395579269915,
          -1.8128570520677636,
          -0.402418984237067,
          13.805754616665252,
          -4.711732894238337,
          -1.9898274689195814,
          4.126617029863473,
          7.35064688507639,
          1.285196834266638,
          -1.4151444572602085,
          1.7118792293740865,
          1.4462741621386166,
          1.0849534748130716,
          6.710387088913591,
          1.7418057247493743,
          2.1560703851264957,
          3.449850230507052,
          2.002997672176355,
          0.4610436899189557,
          -0.5277030578905969,
          6.265753836658609,
          4.476786120945164,
          -2.8450948269667373,
          1.5218415379288244,
          -1.4023730326844928,
          2.9981985620212592,
          1.22890032249403,
          6.768484855643527,
          6.616616980585907,
          -11.94795078151882,
          0.046710468303750474,
          -1.2105839329531742,
          0.5431629082777578,
          5.806042060504492,
          -3.1453617278050694,
          2.306113416160484,
          5.553838109270246,
          0.9611660785639745,
          0.4915641273229925,
          -1.2667153602915204,
          6.50338843328493,
          -4.851853368630886,
          -3.933864782088256,
          1.5274164751842283,
          3.344017735909093,
          -1.11041073058514,
          3.1097744008846724,
          0.45637540901571283,
          -0.8435644878191513,
          1.5220933514651942,
          2.8777242886964647,
          4.351365291570666,
          3.3811498780016818,
          -1.3263572208179082,
          3.987052667650818,
          4.513885635884018,
          -3.282306486836288,
          4.650745455196041,
          -7.558545683001134,
          24.373867398768287,
          0.2731520211723719,
          -1.1174470569520654,
          2.4702417519893087,
          0.9190889215630349,
          0.7749403409230333,
          8.810673859107933,
          4.8620145655745,
          -2.0854749893162827,
          7.997897727050505,
          -1.1749409544778815,
          0.908922289205089,
          2.0888876648627006,
          2.626704863752332,
          -4.258269733303578,
          -2.8539310674244662,
          5.404910275614841,
          -1.2167236493441353,
          -5.107829510836866,
          1.990135139145124,
          -5.180873586457039,
          2.3296984021740856,
          -0.009849231665818123,
          -0.6162432743699339,
          0.9115105391966826,
          1.499678689345163,
          0.6423675198351249,
          -0.8564090099746933,
          -6.089039634245873,
          6.780679715567782,
          -1.3099848861081176,
          6.070896575454406,
          -0.7980158011667267,
          3.723462077511332,
          6.766854231295838,
          3.2309086905834685,
          1.4983658030728009,
          0.8084670342020511,
          7.842789260771911,
          7.108760231188343,
          0.6976044467125972,
          0.6146291718117112,
          -1.7803465776896688,
          -3.906649035538068,
          1.3740954454383791,
          -3.9094528136587807,
          -9.099831377400985,
          -1.84591993703468,
          1.188947353714106,
          -0.8872718973455158,
          7.030087397000109,
          -3.7826682074368696,
          10.383252680761096,
          -1.418445231664041,
          -2.9970051880508364,
          5.9621494812874465,
          -4.19567807925678,
          3.7484714284742067,
          8.168135534920657,
          -0.5101582905878068,
          2.962563603074942,
          -6.8067369326511455,
          3.7757041393901503,
          1.7828839148532607,
          0.6638883344475418,
          -5.496320357575604,
          3.131389375941139,
          1.4985529133680693,
          -12.380910407806805,
          0.6628808094007048,
          -3.9738539386754805,
          -2.260473219873588,
          -3.969472843341854,
          -1.009647199406372,
          -7.3340903732257505,
          -5.836388640523375,
          -1.3502587141032882,
          0.2508738738289376,
          0.26202340384239386,
          -12.207207556300817,
          1.669641079728707,
          -1.420152064280152,
          -2.979280354697905,
          1.2236828454612163,
          0.9100712727614424,
          -2.669325694610929,
          -0.6595473252474667,
          1.686453145468571,
          -5.867703278560954,
          -11.384005031747128,
          -0.22488814657105832,
          -6.0005227920325535,
          -2.8321637586963706,
          -1.3269688956772194,
          6.01869970531974,
          1.164577657285807,
          2.2338975309886933,
          -0.5989927443899394,
          1.0716223976146744,
          -6.692030333706562,
          -2.6050174927584004,
          8.825392324975347,
          5.225613682900427,
          -0.08057857398818889,
          5.623646346471536,
          -1.4069566737632901,
          8.18111071283677,
          -0.5425798888680051,
          3.5328522905698416,
          -0.45479788049457515,
          -10.844369364317282,
          -6.083516893107555,
          -17.36516417084322,
          5.018362929734829,
          -0.458208952853282,
          -4.665259636213678,
          1.435220059607241,
          7.983707941624446,
          4.761717222911782,
          -0.929559502332779,
          -1.8811406498776182,
          2.15138569958773,
          -4.375615179076192,
          1.7627246289097722,
          1.3376359444904335,
          5.740877082315631,
          0.990198183390341,
          4.044901719537598,
          -6.608666747482728,
          -4.132182184022366,
          5.394438873153348,
          -1.3400367712881682,
          -0.428421156754684,
          2.2880773466472117,
          4.045460787959598,
          -3.2408561143099845,
          -2.372225041462036,
          -4.307619366864862,
          0.8858075620870087,
          -2.3517792113841285,
          -7.4110737061152685,
          0.5521652481883755,
          -2.7485058905585538,
          2.753178087267298,
          -5.393303375278495,
          -0.5445603481090405,
          1.696746200420125,
          0.3709059013185577,
          7.708509503622962,
          -1.0614415967260755,
          0.03407781281250098,
          -3.97357843488695,
          2.259410685546329,
          0.8174812374559681,
          -22.240988109612555,
          2.2547344781420215,
          -3.4348100235339523,
          -1.3786434547211583,
          1.8359353675201466,
          -4.0665170142721365,
          2.336630312290393,
          4.73629839834173,
          4.5441974006553245,
          -3.3423995522104297,
          4.509982099995877,
          7.484282910946144,
          5.302194174534538,
          1.3555141975325704,
          1.1028368248614715,
          1.688238562555084,
          -14.379736384908265,
          -1.5472385314185975,
          1.1060076879859861,
          3.7551953443980617,
          2.4857762201762776,
          1.8018273585232627,
          1.6667199315308197,
          -0.7063785157473863,
          -4.5866162605222875,
          -1.2998831689153088,
          6.5698380812743515,
          -7.682823975752263,
          -1.7523032057418448,
          1.2343495450657904,
          2.55329158645709,
          2.162413033150636,
          39.95366108500508,
          -2.9290005716954823,
          1.48327768196458,
          -0.778306757122184,
          -2.6729989360476356,
          -9.67216150662102,
          -8.73936516916566,
          6.80883042359102,
          9.815908302520768,
          -2.3591983291868597,
          -2.7213410015845936,
          -4.059000054280337,
          11.845791402672058,
          -5.276021054631299,
          1.4067182011417105,
          -1.0464201762301992,
          2.000503725076281,
          -6.621647731422689,
          -12.049353050174854,
          9.843509716333088,
          0.23683988689444296,
          2.0265063365763876,
          -4.469302288319526,
          -4.181721628969644,
          1.901221998771434,
          -5.427601579994355,
          7.379413939921801,
          -0.49975087159344556,
          1.3256878438619937,
          -7.862503313900547,
          -5.852736956073828,
          -1.0459379500047303,
          0.8424279976663844,
          -2.414286511873926,
          0.07536863930495516,
          10.330922756920007,
          -0.6703759516617604,
          -0.3319289078441017,
          -5.302502775149291,
          0.7001708971113911,
          1.688300323082766,
          2.4572323599293924,
          -2.8857080317923254,
          -0.3691706961664339,
          -4.532024570570975,
          8.94626344345058,
          -7.81092645827669,
          -0.527001893049256,
          2.328068484799324,
          -2.946464851935922,
          -0.6148671723529199,
          3.7605214375826566,
          2.3319610200776792,
          -4.653452947205125,
          -36.01555884771847,
          -1.0721925992911674,
          -0.6112635502766022,
          1.7392123435715776,
          1.7806024756602672,
          -1.2082440222503814,
          -1.0186798393259044,
          0.376202330879698,
          0.20284715842627782,
          -0.6087664850827048,
          -1.9848532848684237,
          9.696896061762803,
          0.05955212982782618,
          -0.7996359718197456,
          3.488520571083589,
          -1.0311394502329967,
          -0.6195287596205589,
          -10.41701121053807,
          4.360068933843414,
          -3.057336043161961,
          -8.405191223509126,
          0.025446636381385217,
          4.240837726572252,
          -4.766936471431745,
          -5.61432729851237,
          2.5621886685119843,
          2.9189114496129838,
          6.133700120577329,
          4.15735491273687,
          -2.565138220102968,
          -1.1548797105780957,
          -12.245555346895335,
          7.96201961409757,
          -5.511567373951241,
          1.9060737831488064,
          9.198529298733952,
          11.92066290539119,
          -3.024654324858838,
          -6.645733380689139,
          0.20759339825199036,
          2.364805841139089,
          -5.269762245926833,
          5.4795373844472435,
          -1.240669154712509,
          -7.019783980279024,
          -7.662921063938562,
          8.194158651442084,
          -3.723247016632777,
          -3.524575082069252,
          4.341170326123983,
          -11.29898056667232,
          1.601599920366954,
          -9.980526878731915,
          2.6279249428810267,
          -1.5072663560214319,
          -6.367867607082742,
          -3.746209736244484,
          -2.6548845833675463,
          1.8023214394721339,
          -3.1509652716199685,
          0.795567294332639,
          1.594722040473493,
          -5.5389655874208605,
          -5.429812223798761,
          1.925367116676144,
          -8.321174938818716,
          0.3091012070791318,
          0.944859918983934,
          4.690041867980412,
          0.17958991910714775,
          -0.07589390092268444,
          -4.58694630050058,
          -5.0135249863922375,
          2.3531706768730367,
          -6.856282684297517,
          -5.676581345989106,
          -2.240610359859091,
          2.749693893836482,
          3.8113799699705027,
          -10.416091420683388,
          -2.014054432063335,
          0.6749488578932684,
          0.12889555821725046,
          4.485358241846136,
          -2.2946940509862155,
          2.501624535574986,
          -0.1373970003853455,
          -0.09686469446169413,
          -0.37966313552401565,
          -5.7766297206486374,
          7.115104622032499,
          7.269687098656124,
          0.10913156146202248,
          8.413408426903445,
          -4.427558932688204,
          2.013787208030975,
          1.1443718865328338,
          -4.177498802130996,
          4.219742326474536,
          -5.782244606583266,
          2.956658616737917,
          6.0370731952544245,
          -6.437515813739612,
          -1.1492539450814037,
          1.968845163329049,
          6.820505416194372,
          -10.480385878366345,
          -2.5995368165995463,
          2.581187098396798,
          1.6121888348596247,
          -5.272696084558265,
          -3.968745938444184,
          6.063572397640052,
          9.617395949677357,
          0.21149136559527973,
          2.1105531780899613,
          -2.7106785890294094,
          2.6963309714846035,
          -13.611927619067519,
          -2.7147582774514976,
          -6.798737288686911,
          1.7422939050659876,
          4.542244608104163,
          -4.05524522214131,
          9.149014456013434,
          -0.632215986790952,
          7.992717230667301,
          1.7801436825548786,
          8.340876244890623,
          3.5457441710112314,
          5.14419679804655,
          -4.161839027173462,
          3.719101265446194,
          8.01182499007742,
          3.4327846118747565,
          0.894274322660598,
          -1.7153932917730557,
          0.9618660395018869,
          -0.04533976497023354,
          4.140242706542182,
          9.068841431494327,
          0.39838008737310554,
          2.672243427976868,
          -1.9809514278796831,
          -0.6278302940875137,
          -1.9218849646174783,
          -4.6374858196212285,
          -1.8863035031526298,
          -2.921808605952288,
          4.214097908518578,
          4.540007927360758,
          -1.299387311453114,
          -6.80398187728555,
          2.837066652663364,
          4.678017147696763,
          -3.004500847203312,
          0.4830268099193511,
          -6.327855432731681,
          -6.977739052927609,
          12.383166720713174,
          1.7132413905949948,
          3.363557087170513,
          6.200181684981354,
          15.562590921463949,
          -9.126716974690346,
          3.0455798447621576,
          -1.0862089868095808,
          3.616453146478882,
          -4.998984205047613,
          4.391413803656961,
          4.24952173477307,
          -0.4697085515155258,
          -4.516602974948429,
          -7.952357221033063,
          0.6406740401528107,
          -3.278247084134225,
          7.50873221792604,
          2.428253969782191,
          7.720789241610299,
          -2.559705804881814,
          -5.967280013348181,
          2.6863036636030384,
          -0.0720198490241932,
          -1.8416103144205194,
          1.052653265853621,
          0.011485083244336988,
          4.187908936443666,
          7.058729766701427,
          4.369203872713,
          -2.378620669490981,
          4.439421183188085,
          -1.3316130679474236,
          -0.3605085960937503,
          -1.5895619217593162,
          11.67139092816137,
          2.8910393416745888,
          -5.517088793227765,
          2.452527090595526,
          1.9187380487004342,
          5.677276257602787,
          -7.923130524527069,
          4.169216895761925,
          -6.152596016665532,
          -3.70217395853191,
          4.418183706849557,
          -6.920796321166147,
          -16.886054647200183,
          2.2768201458085473,
          7.607286517073875,
          -3.7868045957575722,
          2.9280826493573513,
          -3.421542080050416,
          5.681041104337519,
          -5.334356398240574,
          19.579469004108535,
          -5.712538957528864,
          1.3793141239336684,
          -2.129906425798995,
          -1.574936930533084,
          -1.2985208551812155,
          -1.9958354384575228,
          -3.613021520659297,
          0.07155254315205205,
          5.8858325721024345,
          -0.69904499856156,
          7.919239828762719,
          10.064576070011645,
          -0.31302785440577996,
          1.7410218524389922,
          0.4399316017473768,
          -0.18690456818894707,
          3.346755327846758,
          -3.4433810540255787,
          -4.486082608954599,
          -2.729587823102582,
          -8.230147253669138,
          0.21775572071920848,
          0.7560262927102128,
          0.47755033077589265,
          0.8657994965925064,
          6.170840270404373,
          -1.2775957124600423,
          -2.1959472948449115,
          6.449557008141859,
          -0.04191977236050763,
          0.09100903621234537,
          0.8573777000202534,
          10.15056369353075,
          -4.002166907158594,
          -4.148998405855249,
          2.0178556420897342,
          4.547849514227535,
          4.409046353157125,
          2.758566905980765,
          -0.30790895552221725,
          -6.047240035076395,
          17.296219777458717,
          10.309958559944752,
          1.4017870992240553,
          -4.029500079345668,
          0.7573438686196798,
          0.6422850701913583,
          1.9947280743750802,
          -4.340877172200548,
          -0.7499850393521351,
          -2.1457644196557992,
          7.384600593385396,
          3.3897080782462083,
          -1.5983827346656343,
          -1.2416974089656017,
          -2.5360030614135223,
          -8.88803850414369,
          3.0391586033540836,
          -0.28931410294735305,
          -0.5044286293492095,
          -0.45568863762239525,
          -2.1847079117186046,
          -2.6964412546965812,
          -9.576883622931142,
          5.740504857147078,
          -1.022010079442826,
          -3.920888869039885,
          2.6718002131599237,
          1.8351316894033118,
          -1.700404256698923,
          0.5680697285881886,
          -1.7004717871390136,
          0.5147895858182272,
          -5.0377425528358994,
          2.791557374281186,
          -4.656845611883868,
          -1.6095530514219238,
          0.7116207163241199,
          4.950291175439998,
          -0.4123192971805645,
          -0.9683065861513381,
          -4.258873881515897,
          0.5335289090304025,
          2.1767199762484863,
          2.456525751739461,
          -0.24575212818319447,
          -6.763560600490749,
          -6.527171299292115,
          -5.3374275504300925,
          -2.681662142221911,
          0.8055240382849442,
          -10.399109734988475,
          0.27077089988433284,
          -1.2873795594962827,
          0.5409057023905192,
          2.8717020429969358,
          3.5028975780947236,
          3.957566274244539,
          1.1775061870713188,
          1.026558910127521,
          -0.19294719723882287,
          -5.322167362054675,
          -2.3707790097296555,
          4.934914290097061,
          -6.6224072033959995,
          -4.259169642297643,
          -2.447095176631827,
          -3.229547209451602,
          -0.5528648908749915,
          0.8819576577616361,
          1.0937493412467134,
          -3.3482716289859034,
          5.465188104227126,
          6.3343314758090274,
          1.8312256241596674,
          0.4607014700271167,
          -0.8570843241212298,
          -0.16316372590934794,
          0.28519753657469193,
          -5.795634447084926,
          0.7758153952789086,
          0.2860089108084519,
          -2.730176966461501,
          -4.45089114795439,
          -0.16883725268883487,
          4.082427229673703,
          2.1526541224898748,
          5.38574471912075,
          -9.476602455404574,
          7.045052804461264,
          9.971301350277185,
          3.9248942392404897,
          -9.57579744856961,
          8.097528272771122,
          0.1210961663789136,
          0.16884781612494537,
          7.8367996272992855,
          3.1563121435377246,
          0.8692956927692668,
          4.004207638262191,
          -9.18661235319204,
          6.753599559523747,
          0.06478585784022077,
          -5.8070194012514245,
          8.947417235152091,
          2.5297957699879974,
          -7.512116711186844,
          0.31931349760473954,
          -4.040124971833013,
          0.075721511959704,
          8.251470074772822,
          7.3232988743764516,
          2.9450828266932745,
          5.840079261660721,
          -3.9623639535602084,
          -3.180704262025748,
          8.258815485086732,
          -4.426904651214433,
          -1.7714902184990544,
          7.747232111093089,
          -2.824744996236822,
          -10.786293377580343,
          9.296644508608054,
          -2.7074307261190698,
          3.407716570490213,
          0.8997575818946135,
          0.7181645346110059,
          2.676240057122828,
          -0.8890294912826677,
          -2.2058006941245543,
          -1.051451066138435,
          1.8631161775266458,
          6.5665327180294035,
          -0.4245831674142207,
          -9.250062809630627,
          1.1059592161008502,
          -2.7314256917199904,
          -5.714359413285698,
          -3.32296555167833,
          -5.321371102605798,
          -3.614280181638489,
          -0.5008795903410085,
          8.479995731866598,
          6.8512033068263305,
          4.250672402416723,
          -0.134669725540303,
          -9.416641956788117,
          -7.759992454418186,
          4.922289391722932,
          19.064570408074573,
          -10.450112151293428,
          -9.625260149036352,
          17.55722634432482,
          0.4305500004059878,
          8.635640961036332,
          8.44454522201735,
          0.5229539409632511,
          9.358613038286359,
          -12.707718568944092,
          -0.8455145389494829,
          0.9016327720952786,
          -5.612891614780267,
          3.7719187348010865,
          1.864897029081734,
          1.4706828285170688,
          5.818073850142026,
          -0.01601074424641543,
          5.280923523578652,
          1.537072344513076,
          -1.2094268248846716,
          1.7144684877146033,
          8.754718071791636,
          1.2476863051092508,
          -8.548675940534988,
          0.738093899907231,
          0.850662471875107,
          -5.019612838763347,
          -3.3257490564116376,
          2.9423936767225984,
          3.5838822141740287,
          -3.457167945460304,
          -15.009915028113433,
          3.336612800892818,
          5.8061186716070665,
          5.3245582882837805,
          0.8420721121631526,
          3.9212094318616826,
          3.517819933931678,
          0.774147868794758,
          -2.9407695517320334,
          -6.904328037378642,
          4.08743591788445,
          2.4084646618829977,
          0.7137435141212385,
          7.649297991877301,
          -5.222145724997616,
          -5.460210141881371,
          6.353336549802153,
          2.6931108170563434,
          5.155934749590408,
          -3.52069516844632,
          6.7500656916930755,
          -10.721764236234891,
          -3.8832197707446388,
          4.501466033774954,
          -5.052931564782229,
          4.492881842043417,
          8.032567046073265,
          8.973761090835572,
          -0.3184627909220577,
          -6.83297419689171,
          -3.359650904565224,
          -2.730575569555276,
          -0.239560615579903,
          0.08552470601652917,
          -2.744690013743936,
          0.7551073398372791,
          -5.7195323393356166,
          -2.659508324366797,
          -1.637068422756784,
          -1.8436497115434793,
          -3.1438192615941687,
          1.0068004592296824,
          1.0840989689754523,
          -4.819997665346648,
          7.04436621217331,
          -1.70270656260041,
          1.101455673939186,
          -10.248116050723972,
          -2.7241703272475637,
          -2.7366608647800725,
          1.400918066380755,
          -5.335671069308478,
          -2.6376153115106153,
          1.7579630504185508,
          0.20370577718347901,
          0.4043120341504246,
          -0.5152591098337902,
          0.6988652449991108,
          8.475460183040061,
          -7.955720704424317,
          -4.998518106177621,
          0.4166454105935896,
          3.3738823274151453,
          1.8511321837106793,
          2.3603709829299486,
          4.718059724970883,
          5.573459476163765,
          4.186061001584198,
          5.042536897885869,
          2.919499967054319,
          3.2918736335719543,
          4.424147550528007,
          1.567227149500948,
          0.2073595787141842,
          1.9150186623776608,
          3.254418785586501,
          3.19592441140228,
          1.6780143977600246,
          2.3824550605923642,
          3.848382423515319,
          4.561867858181353,
          4.019926607257913,
          -3.139719005721399,
          -9.019604323646341,
          0.16776231358714572,
          -2.7863393905541924,
          7.546187667036812,
          3.521619962918441,
          17.545183997777826,
          -1.7192234041396106,
          1.6381719634483676,
          5.5300508156222055,
          2.580499661110096,
          4.74604375655049,
          12.335485608850494,
          -6.710931174032677,
          -5.921666270291199,
          18.04092149654634,
          -0.0012043221846365082,
          -0.6434824639026887,
          10.41553484476147,
          -1.1136161517539547,
          4.5282621832900904,
          3.0031205396076914,
          -2.0988073874051145,
          -12.82439665483914,
          -1.691289821630139,
          -4.061733268218373,
          11.262177021301174,
          -7.008283927715796,
          4.151175222814639,
          2.667007988899866,
          -6.870345766640628,
          0.2752503125222918,
          8.95069959319184,
          -2.645126963620846,
          5.513405490874956,
          1.729234870076482,
          0.9303911571898634,
          1.19840560736201,
          -2.479304950439799,
          -2.7557350379224825,
          -1.4379173704883454,
          -1.2977798467072668,
          -0.018663731310880227,
          -4.186746440314506,
          -5.614218422649695,
          11.784312000846835,
          -1.1644405809970955,
          1.022040943944899,
          1.987371984793412,
          1.3899955678679439,
          2.3938443111900574,
          1.790118223776913,
          1.9150584303332765,
          1.534901019814987,
          1.1296044333789617,
          1.5932310525612916,
          1.8767872235572565,
          -1.0582143579349128,
          2.156449626476983,
          1.2829961531706082,
          5.4516826602280295,
          1.4695094997346816,
          1.0189272058767147,
          1.672527072036019,
          0.5688509058728317,
          -12.592901949568924,
          1.5231476866115257,
          -0.20386825194177105,
          2.0321770059692215,
          1.5116514829285976,
          1.7289177130041207,
          2.4828977436817468,
          10.36504367278814,
          1.4028675297760898,
          -0.6572049699586914,
          2.3801066786682283,
          3.5122282006422196,
          4.06084377729773,
          1.9912094701833176,
          2.0659394238068955,
          2.0318415455454613,
          3.616940290704058,
          0.5132098298927631,
          2.6973412522636044,
          -0.874369510672208,
          0.17722872994944458,
          -1.802078095272024,
          -3.8531949880805043,
          -0.2252669865756915,
          -1.5846263790994823,
          -3.570580333959165,
          -8.7428726562617,
          -4.881613902450018,
          0.6566525957058278,
          9.109658497821975,
          0.23804524118525383,
          2.4713987505468293,
          4.433416616858004,
          5.091720203690487,
          -1.025442808109929,
          1.3181153334031572,
          2.0080352711653005,
          -7.13450975203609,
          -3.1581934948458033,
          2.260604865088884,
          4.557513171464707,
          0.9000682101526865,
          -0.9215169307820813,
          1.0459311770764186,
          0.20252269069973558,
          -7.022928433057327,
          2.0113190637296414,
          0.3383518472302611,
          -5.75401619188933,
          -3.463414778335088,
          -0.5279399364360935,
          1.8781617821748153,
          -6.568798841674291,
          3.8013165140130623,
          2.5546794869403255,
          0.23043791161830451,
          4.66939298646011,
          -1.2656799572234494,
          5.612222003828645,
          1.2227237378024558,
          1.963904377650831,
          1.497139518884412,
          3.8298084143921254,
          3.6738412974552515,
          -8.894680389836427,
          1.0948453309621993,
          2.708331692824651,
          -8.204499112215974,
          -8.539912285540241,
          4.6454046457528415,
          5.811406334019725,
          0.4933975860029791,
          -8.084688295303406,
          -3.253950438023872,
          7.5175426440344975,
          -0.25411023200760857,
          -5.943732869113525,
          -2.497276238175812,
          -0.2820858171155827,
          1.4650000713623226,
          -2.3563415620046593,
          -0.9738370840433155,
          -0.970859669465154,
          6.0021319195123715,
          -0.23190771309517103,
          -0.11301392902868468,
          -3.9818756310076564,
          1.6030996619612257,
          -0.3073344254421226,
          -2.081706506246195,
          0.13720423384375036,
          -4.178674323839026,
          -5.038990936714264,
          1.6548400689531981,
          -13.33485805832661,
          4.056171881307737,
          -8.513045781901818,
          4.772350161786782,
          4.747590183307036,
          -2.615015625803014,
          -4.049231914908332,
          -0.1135376436197218,
          5.301878278174279,
          -1.2474694180880737,
          -0.8905963149390559,
          -1.919059948823639,
          -0.18324403911913847,
          1.4143962728354802,
          -0.8680933673335568,
          -4.756680123294279,
          0.6305005388286542,
          0.9860785307530363,
          0.03672049447801515,
          -6.5936311056148185,
          -4.145915291588553,
          -5.134066543054459,
          0.39176036826290883,
          9.698901719925558,
          0.5236085441030149,
          2.4582834040582955,
          -0.4076127096868585,
          -5.800550314826728,
          -4.246986226939294,
          -6.2026943573450595,
          -3.4752337088658978,
          -1.4220271719174031,
          -6.988874424002898,
          2.6963216938567167,
          -3.3927792240293044,
          -7.645621679280502,
          -6.718704485361666,
          -1.2199402224143951,
          -1.8424787708233468,
          -4.266992270171695,
          -2.687495156685535,
          -4.355695267406352,
          -17.009362591704388,
          -13.395866683706123,
          4.783709045675643,
          -1.6976816726054742,
          -2.4625990586277355,
          -15.437860104076464,
          0.8583743221898581,
          3.6153542933821594,
          -11.879781274356269,
          -1.0446761504542268,
          -0.6696500380586901,
          -9.521867055959575,
          -6.153628180973358,
          -1.6919242097275036,
          1.286674967675738,
          -7.170031325811829,
          -5.399821326540966,
          -17.536283860060593,
          -2.01514805211779,
          5.891943106233336,
          3.8800185459599854,
          -0.7913257036810925,
          -10.281502132215039,
          -3.2994429087626247,
          -15.421315301982077,
          -6.029157652644472,
          -5.394776495686623,
          -6.468100598844415,
          3.2777276675956406,
          1.7948311266809764,
          4.143197427114376,
          8.030412450635618,
          3.262859295843561,
          1.3371789442224082,
          -1.0149422021351644,
          1.4152886465536612,
          4.499609783127642,
          -1.0358519188791606,
          1.9506957599700403,
          3.6748137120288957,
          -17.49655620364056,
          2.9216174431513346,
          4.095277264483403,
          0.5221402484013625,
          1.7449808754817953,
          -1.5785223830171464,
          -0.7755219307148296,
          -1.1561963248413254,
          -2.161052154476118,
          -1.6781733030340864,
          -1.8113703477141772,
          -0.9183624511473942,
          -2.1969368367025175,
          -8.905892911087875,
          -7.054494784896585,
          -1.5069368111135233,
          1.4033134769416828,
          1.6546670516711184,
          1.830960534578695,
          4.089391786194947,
          1.5407834489335541,
          4.241851269802347,
          -4.549723021424022,
          -0.9916901248117811,
          -0.877152073092015,
          2.059671495440663,
          -5.427604459448098,
          2.513866586179967,
          2.023544158736175,
          2.9042609908486554,
          4.280136386426285,
          -7.310679283527799,
          4.021489531113975,
          2.280944743153122,
          1.7095073246050136,
          0.7317435199355489,
          -6.178974374638215,
          -0.6453810788723506,
          -4.815252209630994,
          0.5389804913568382,
          7.037886732655862,
          -2.9487449607039666,
          -5.325765172273291,
          7.491787004598891,
          -7.523531035370135,
          4.74203418107406,
          3.020691186116793,
          -5.98468832181209,
          -2.991634860073347,
          -8.581516126557327,
          1.8809995845573448,
          -1.7417650055896605,
          -5.705408949640681,
          10.74083072988352,
          6.926303980457365,
          0.8058528746942594,
          -4.394478582025343,
          6.903977274903845,
          -8.739441962769376,
          -18.243626581827332,
          -4.031948873661022,
          -15.619725411123927,
          -1.5174867727914916,
          7.298186972293197,
          1.127875623713557,
          11.127533388921208,
          8.41583361204536,
          4.726231661640464,
          -1.0861125676742156,
          7.1540014880181175,
          1.3323315399643147,
          -2.1153752330603646,
          4.213368107432226,
          4.322647913093237,
          9.632639527840379,
          2.2076866408875504,
          -8.871403161399538,
          -3.825774875283582,
          -1.7511013711695274,
          0.6925281279608,
          0.036623424609291286,
          0.09592659855476991,
          0.0892279820037473,
          -0.11098767731988705,
          -4.087765614559313,
          -0.4777369370504984,
          0.3875170416504063,
          3.572573856597292,
          -1.215461182641107,
          -2.362361798122796,
          7.154105711795571,
          -3.873329246748823,
          1.769738520408438,
          -8.948788365773956,
          -2.295884861124658,
          6.8128194707546434,
          8.176241727752508,
          1.0458413643597173,
          -0.3468990959249633,
          -4.818253083151362,
          -3.3952240677388477,
          9.082519080527987,
          2.834509319202276,
          -5.2768294563059115,
          -0.16962731992725277,
          3.7448171134450408,
          1.1342058539545663,
          5.511398277183867,
          -1.9992358764412153,
          2.6029464157880615,
          0.9362977375278289,
          2.8524772353090735,
          4.347622124552194,
          2.478633105089677,
          1.0722149335440032,
          13.273081435825066,
          -10.796968903534392,
          -4.799628303213599,
          -3.43565592926846,
          -6.734687501103341,
          -5.570220416439015,
          4.2561500120802815,
          -0.6180059537542273,
          -6.490359678903418,
          -9.42328714480253,
          4.651406181911866,
          -5.399746437726318,
          -0.7664723888540134,
          -7.3906837657601185,
          -4.645637195070918,
          -2.809599884857322,
          -0.5988988259738508,
          -2.529980727658305,
          0.8470233557137965,
          6.582395759113047,
          -22.772747940685598,
          5.4225143747527245,
          -2.1915652496094227,
          1.3129430488143647,
          -1.2866908121849492,
          0.3239556330777773,
          -1.2035386096492535,
          -0.257389276083422,
          -1.091952190853954,
          -7.025201009688244,
          11.00514179542352,
          0.522468186424367,
          -7.516788816669468,
          2.7806337209532948,
          -0.5924034269034228,
          0.517201937285092,
          -12.502430365699817,
          0.30142650764402174,
          8.787687570199395,
          8.21806614612133,
          -3.2006034459399126,
          2.439849384285773,
          -2.1974634172679623,
          0.7028418920085968,
          -5.952404351708424,
          3.9906515102304665,
          1.4240823247836445,
          -0.632716156224927,
          3.238910525305962,
          2.33382635346128,
          3.414146100695701,
          -6.543321137429821,
          -5.944670279066909,
          2.5440218186257164,
          3.807635274387248,
          3.122497961186925,
          -5.772671976396785,
          -0.8396118959051153,
          4.210786365177695,
          -1.740953402351205,
          -5.85835260108712,
          -8.22580779170909,
          0.6217645882593257,
          -0.05785250848325496,
          1.164412418435841,
          0.9339351428151457,
          -0.3705507341861225,
          1.723053312986546,
          0.5015091606309029,
          1.9291989044068092,
          -0.10474470595013563,
          0.6735197323415996,
          0.6973719199375683,
          0.3522044878291536,
          1.2811552900989094,
          3.6405251407070245,
          -1.6055001236436328,
          -1.5926939529913402,
          -1.3547596438368819,
          0.5391109038395616,
          0.22561525805777788,
          -1.1329801533490345,
          0.7538215173463261,
          -0.15242641483292324,
          0.5666626594696724,
          1.2051300670473355,
          1.2449573380430874,
          0.33138154390251007,
          -0.04209842473618475,
          -0.0050041412095852555,
          1.106980769487026,
          -0.18484974016247757,
          1.0171451182964684,
          0.5996383736110429,
          0.5786996852026841,
          0.6146823993882085,
          -4.415380932538772,
          -5.393246889935812,
          -5.525136391296572,
          -5.719094547096455,
          -4.808000404425119,
          -3.586063944852997,
          -5.389445798428648,
          -5.420090153262101,
          -5.555922186448837,
          -5.068962996023851,
          -4.5144478698698505,
          -4.175706461103218,
          -5.868331334775334,
          -5.259483783613744,
          -5.157808110015292,
          1.5129354218245745,
          1.1178884410643235,
          1.0476872942489495,
          2.2344474080399186,
          0.5704706583927849,
          1.8651271124220008,
          1.6816126155546973,
          2.8286192195023396,
          1.9025375241982032,
          2.581170714964173,
          1.8668952894809618,
          2.81669682641893,
          1.4811711257177327,
          0.4634152143418974,
          1.6194030674334943,
          2.152028726892787,
          1.4097941042774937,
          1.1727960072474075,
          0.8308836126300602,
          0.49626042255533864,
          2.1037578736573432,
          1.3205367062194455,
          3.4030298941191948,
          2.1732849644339134,
          2.6107136736298413,
          3.753244870748738,
          1.4280675428885325,
          1.1921932444068326,
          2.4082859382521127,
          2.253775017873631,
          2.8858083684690556,
          2.416697749550066,
          1.4614552998369565,
          1.044918912541418,
          1.6709680053542029,
          0.2762790402537011,
          1.588255774998521,
          2.1045833475198163,
          1.8345283636608563,
          2.0102326183269876,
          2.5441010761166347,
          -5.074475679105097,
          -3.877069859411376,
          -4.159418923538526,
          -0.9058751177294075,
          -13.6035911221575,
          -2.3152408824195225,
          0.7198791227345549,
          -5.799748900002458,
          10.381776792422887,
          -1.2138242727312392,
          0.9571886426116814,
          5.277315699203038,
          2.459501495371383,
          -5.139138456973908,
          7.828092895071606,
          5.559988741247283,
          -6.636366285389842,
          2.7431493406359087,
          5.231495626718675,
          4.582195764339634,
          -1.8808953049940138,
          1.54512864389844,
          -13.72063552260232,
          -18.52657470446096,
          -5.490048555111693,
          5.662456578270602,
          -6.007583506008398,
          -8.66841592206336,
          0.12816554911760042,
          5.190199218947021,
          -0.18460949694966677,
          2.0681069074578717,
          1.2044903033868082,
          -2.298947873108065,
          0.5970022111301959,
          -2.9307697233198886,
          1.2216333049653807,
          -0.1740161373655106,
          2.613754741981658,
          0.5661146581832105,
          -0.8175715652303568,
          3.394187051596225,
          7.211830822397216,
          -0.14095894074992493,
          -6.001819409128078,
          0.6621127985933969,
          -3.717785891654824,
          0.30205222980993907,
          7.192146161410949,
          2.7605764879095407,
          0.7543876393014806,
          -0.4330345339616611,
          1.11503485661955,
          0.6514532081312904,
          -0.643009529614675,
          -6.976485005043271,
          -4.0265755558793455,
          1.3975952702752286,
          -1.7277539400742943,
          -9.082298552945733,
          -1.4579674407193628,
          -4.163915286369278,
          -7.473594637179343,
          -7.294035033022495,
          0.28638130149797825,
          -8.440097343924183,
          1.5308508603409006,
          -2.286519041785463,
          1.4240490228574276,
          0.5507587409687096,
          0.79635198143045,
          0.8468699055200208,
          1.2242777563303362,
          1.064441612634009,
          1.2153281601946802,
          0.45303727601958843,
          1.0439434315643799,
          1.5812580048480056,
          0.4217431911233538,
          -0.19777327378155699,
          10.779435072732051,
          0.5183069125061777,
          -6.646948386198391,
          -3.0570367653128443,
          -10.040693828045804,
          11.977903796177667,
          -5.917735099198113,
          -3.487896164128629,
          -7.808160711336644,
          0.5692925241224619,
          4.063892124103482,
          -0.6309261269791977,
          -5.130008707996786,
          -2.757605615960027,
          2.8955950060180777,
          4.693896268496785,
          -0.6501150199840209,
          11.973586169125662,
          -2.45992204254461,
          3.367770769437512,
          14.439396354345167,
          -0.8562670897695583,
          -0.26524466312260475,
          1.1468154345268669,
          -2.0663530058902793,
          -0.5321095381616487,
          -8.037165527875201,
          0.008779028642909276,
          6.2952640887545055,
          -1.8537194261587677,
          7.192698594373109,
          -4.025455087232983,
          3.6112505175454905,
          11.910687271225125,
          -0.9814874096537102,
          2.749709949576818,
          -2.201660944680917,
          -1.8470128833372674,
          -0.8880310201157211,
          -6.006559586473161,
          8.46997692044647,
          4.546910624019983,
          -5.866305312571963,
          -3.6267008429381162,
          2.7113911505214845,
          -9.483441337840349,
          1.6621648364321484,
          8.493223304000857,
          -7.5774970074670644,
          -8.020654954746092,
          1.1276947916328401,
          -2.27821545093084,
          7.459422504820298,
          -9.880761223691316,
          -1.5489650218191875,
          1.3553859542625122,
          -3.4408703441025166,
          -10.557420327923117,
          0.792421606693784,
          1.62430413588556,
          -2.3278915752739846,
          3.0225018702169137,
          1.2371371210482067,
          -3.1317916835129562,
          1.1903881337925908,
          7.305247943492293,
          1.1300958010605566,
          0.4755476655387715,
          0.8865492600768149,
          1.3205816141076598,
          0.9908317758915639,
          0.8925969734782399,
          -0.3470883804265865,
          -0.836073311827565,
          1.2820242874000705,
          1.1329877887312012,
          1.049673830229318,
          2.0400860228007995,
          -1.339494518580793,
          -1.9521045438351798,
          -3.483512224260024,
          3.5616935710726594,
          2.327091417890402,
          1.3021377370786202,
          2.8808285168168712,
          2.811629046708371,
          -0.8403754028298365,
          0.11257600091590254,
          3.5474092032241336,
          3.173721516216616,
          3.216227681104291,
          3.795456214683753,
          3.615762149384845,
          3.2969011131702453,
          4.640446311069324,
          1.1369815786712483,
          0.28283821186733116,
          1.806676113110627,
          1.864225673722665
         ],
         "xaxis": "x",
         "y": [
          -7.009340387440155,
          9.186405561055793,
          1.1879995555657024,
          1.684636997516404,
          0.06883107165716773,
          1.0435914182138115,
          11.149086862387989,
          -0.15455073579159384,
          -1.0007902913882831,
          25.91998273492002,
          0.12897115244321883,
          3.21652378313912,
          3.826549246142722,
          -0.8032177966208938,
          -0.02342440553969035,
          6.587581967745062,
          -1.0109501640951042,
          0.1994904267049201,
          1.5825186289778568,
          1.918610195381526,
          -2.8264237957174476,
          -2.2350650877316633,
          -1.1113358485550333,
          -0.5643270836719785,
          2.2327411670281263,
          -1.8794214530651645,
          -8.410365724292838,
          1.2985765026593596,
          -7.702463417036359,
          -3.3072160358676292,
          -0.6039500977017761,
          -4.895583065641955,
          -6.9461514148480425,
          -4.916936124065394,
          2.3870339692995426,
          -1.6239374369162478,
          -3.0687526984390887,
          -11.773517988700384,
          2.366886121665625,
          -5.199587066303785,
          6.530754972540915,
          -2.700946415565843,
          3.885840702305945,
          2.0479640175231166,
          0.7535542984146081,
          -9.831737708181095,
          -12.844217754529481,
          2.926658533381077,
          -0.7972506244278676,
          3.3466266811243757,
          -2.1148257504319643,
          -5.675375782034662,
          0.49030605001755867,
          5.79392825756896,
          -8.948985702952012,
          1.5226855801335804,
          7.232640830631597,
          -1.3455373759296472,
          -0.7754260698795556,
          3.067904614678378,
          -2.7962080016463178,
          -5.844647199862824,
          0.85600613201987,
          -0.42983265338683224,
          -4.648850458030414,
          2.110702545062586,
          4.000450343358816,
          3.521597783063994,
          -12.174029400673687,
          3.6537020532082023,
          1.8692040511174117,
          2.4513197679296233,
          5.573835689451187,
          -9.250855967016385,
          -8.212454993194738,
          -5.243136515209056,
          -6.1589960547646445,
          6.764240836495688,
          -0.07917755423558627,
          -1.778740081842429,
          -0.5820719516178364,
          1.7171723573298028,
          -8.76000753471273,
          -3.379964693315771,
          -7.116100170281295,
          -0.2174210115022132,
          -0.2516855850890899,
          -1.1096993368674117,
          -1.0650511286791047,
          2.5573284514818826,
          -3.2757522889612916,
          -2.7380135719241196,
          -4.317478328162453,
          -2.044056443515247,
          2.203757205588561,
          2.8089451841951703,
          -24.809989923693514,
          -10.573655440522693,
          3.281150559989575,
          2.3868013653178863,
          -6.162873321873034,
          0.36421124817700107,
          -4.7248221763274865,
          -0.9602921029906221,
          -10.815376953913724,
          -3.9210938204276706,
          -0.4468369540764894,
          0.5153571352308988,
          -0.9289389234439537,
          6.00722675534895,
          2.32751584235971,
          -0.2655927055259837,
          3.699068206394871,
          -1.0165300821434737,
          -0.8490159421806088,
          -13.905063018629182,
          0.367888938329104,
          -0.3259183811666548,
          0.8557067360733839,
          5.908833186615514,
          1.9466644007545593,
          -2.9046987340980794,
          -9.048734796294934,
          -4.849677184244972,
          -6.918819708675276,
          -4.638560218451169,
          -1.541461347419244,
          -1.1983143677540191,
          2.141622150865615,
          1.7604510639614874,
          5.883086057298119,
          0.848036318564826,
          -0.7752004155222187,
          4.552335218439287,
          -0.3832342556154528,
          1.5882916862469136,
          -5.722868236451175,
          3.016252577601831,
          6.69741189245781,
          -4.177112832903671,
          3.2675296597043633,
          -4.6914028967702075,
          -11.141410392138743,
          -7.10142589065377,
          4.632102317160664,
          -7.076893847428685,
          -8.37141567198007,
          -3.0376910341793346,
          3.0285519550515385,
          13.971996341924736,
          0.17520072728413105,
          1.9854033315370558,
          1.7040539448134737,
          5.911119318134204,
          -3.0097743483465154,
          0.8870254114293238,
          -4.73725875532946,
          1.0468842899556214,
          -1.41846855595321,
          -0.3565345255366127,
          5.091450015334129,
          -8.969804629038702,
          3.839623717422863,
          -5.1848255981793905,
          -2.463046263403002,
          3.4059881695871725,
          -4.669263487576713,
          11.380417912452959,
          0.805411498251678,
          -6.725517688722998,
          2.6146852419473747,
          9.189145402756292,
          4.461796388887073,
          1.5029657447492029,
          -2.7172394591633062,
          1.2337885520116423,
          0.11838328264042516,
          1.2046163166014454,
          0.7308371504600812,
          1.6108801605268201,
          1.2656606149152299,
          2.0301843754168862,
          7.812813304047003,
          3.7370216846421522,
          7.595611916856863,
          -6.473777513686269,
          1.3336853356212146,
          1.5217773308818143,
          -1.6428374896588522,
          3.370940431446309,
          -1.4125949893957686,
          6.47348139038339,
          -0.8398065102620025,
          0.538151571983438,
          -8.470351015781567,
          -2.57248589144601,
          0.494722166744324,
          4.147063152637163,
          3.338723189663222,
          1.23780878526632,
          11.815066641356875,
          1.083330966461274,
          2.974431613322257,
          -2.1508896843542136,
          3.253105909962107,
          2.3849175828863647,
          0.7156904640647881,
          -2.2645842162796286,
          6.486310397997785,
          3.3760293847402036,
          -1.386210027232682,
          10.918898276988592,
          7.229324425921069,
          6.700923843937003,
          -4.92013481492021,
          4.219379490470576,
          -1.344893608116774,
          7.1144735424024095,
          2.386646378643503,
          -6.337411802196108,
          -0.8758848297732319,
          0.8896032763185528,
          -2.811289631336483,
          1.332363096759897,
          1.4376621908799225,
          -8.1847473672442,
          3.9748271930901855,
          -13.9554686630619,
          -2.202400423868875,
          -6.567991953845109,
          -4.128154294644237,
          0.5567747660098744,
          4.955469238596466,
          5.39198790078183,
          -1.6771574955691644,
          -0.15519162386955038,
          -2.546647640670528,
          0.3607216772265149,
          -8.309249758159693,
          1.579652434215615,
          1.6170085396094633,
          -9.257525616126664,
          1.9528748735749466,
          -1.9973813200010508,
          -7.010242363224258,
          -0.9536475836339809,
          -0.21601174334181872,
          -4.3035147211602185,
          -2.0890617548414743,
          -0.5824084402063576,
          6.411648557063494,
          13.514818538816808,
          1.6216024317802484,
          1.4238499978193317,
          -1.1038404866257507,
          -5.8744227137357194,
          -1.098589082939909,
          0.666169824786809,
          -7.140249596001352,
          7.998773002233415,
          3.33693521127744,
          4.406780106084598,
          2.091825263589728,
          1.9903565553322458,
          7.989834659209708,
          -0.27598620130498047,
          4.901151365295798,
          1.2866786298451731,
          -0.29849264731126013,
          8.751880500513018,
          5.187864384098421,
          -3.926547930092196,
          1.9476563817688786,
          -3.2022088015566004,
          2.434668721186811,
          0.9446041343758297,
          -4.293287783282033,
          -14.616932656712944,
          -0.03431867652269174,
          7.814338320476152,
          -1.726412799678516,
          2.418746447179335,
          12.301955601646235,
          -5.093072337083399,
          0.3661387291438106,
          1.7342802266601165,
          -4.416734323184901,
          2.85810756143927,
          -2.148687726277141,
          21.53068855900453,
          3.126762781148291,
          -0.14067949254578282,
          4.395942661103717,
          3.227177594021713,
          -8.520553262410537,
          -7.477402268578731,
          8.220240476593474,
          -8.646278585966186,
          4.802359019583898,
          -1.062501778822978,
          3.976936746853272,
          -2.949585956465987,
          -5.062326941856107,
          0.5298937972726674,
          -0.958032486108934,
          -1.7056270124477417,
          -0.44350181794428295,
          -4.540207512294256,
          1.3015559406775656,
          2.660248989620709,
          9.17834044183545,
          0.10261314258399892,
          9.893086355274605,
          1.1393707669084228,
          0.9893657199939673,
          2.352026669019186,
          1.1893905042124175,
          0.08115072528093317,
          -1.9600563010919205,
          0.9007312705660929,
          0.575946063142557,
          0.539346200111206,
          2.252493648294146,
          3.654362453225226,
          -6.092973245941407,
          0.7212843989755323,
          1.181457936808637,
          -2.4355882058293035,
          0.8046153281681572,
          0.21974342911105005,
          -4.624798172572007,
          -4.977147440996582,
          0.7438946325502582,
          -1.7198039399397467,
          -0.659485443614207,
          -2.6998767597467035,
          4.450663952430025,
          -8.786208486014907,
          -8.864052801790393,
          4.262459544129143,
          -4.381038450521579,
          0.7434260212541011,
          11.616309391395063,
          2.426210491384015,
          2.8145051485104204,
          -5.576003184790064,
          -2.0213922834616174,
          1.6006345774697344,
          -3.560459591156649,
          2.369119513914599,
          7.9051055723677655,
          3.6429825385349357,
          1.4738881567273374,
          -1.4071434061241623,
          -10.698373689073051,
          -1.6154246674318347,
          3.2607259814898137,
          6.4904681611765955,
          1.7618260498540657,
          -2.1825834795724894,
          1.4762936463875402,
          1.828949978294815,
          1.7212497473533295,
          -10.951190593826373,
          1.8453973518248015,
          1.4729534674686575,
          -9.570961610908949,
          10.305024101751613,
          -0.8029048299800169,
          4.911960838997583,
          -6.59626646192076,
          -13.56549618155976,
          -1.267642709493762,
          8.610118996681054,
          -1.8268511049569889,
          2.1405116866759566,
          5.134099234155214,
          7.152232548307284,
          0.7831690392405082,
          -7.805567186117228,
          0.7095921377168788,
          0.5185448589328912,
          -0.1279244355715464,
          -5.864394873416833,
          9.06718922093548,
          2.407997256031106,
          10.460794952229657,
          -0.43111627449550183,
          5.471771858079945,
          -5.002664692019466,
          0.6673047001895966,
          6.295375729600605,
          1.5886648494090077,
          0.5661886831969661,
          -0.7877483348405737,
          1.83432084617612,
          -0.6099961384822902,
          1.2693103082382362,
          7.7645806434732165,
          2.937369718538082,
          -2.24011028168268,
          -0.4258867566935228,
          -5.132313449469156,
          0.5656233196486281,
          2.096369042060757,
          4.731876305851901,
          1.404965031758263,
          10.407664811449273,
          0.0615581749566369,
          2.4662018260906686,
          -7.696366789715373,
          0.4765239249140101,
          -6.83525451410072,
          -2.4092873536039283,
          -5.629649289643909,
          -4.987048943445233,
          -0.479424512570062,
          -9.096376224531463,
          2.1022054199884894,
          3.4374672911713287,
          6.781169494866792,
          0.14145222401549354,
          4.834247104396122,
          -11.521347375708583,
          -0.7442702377018933,
          2.1481165402684086,
          4.744373235490601,
          -4.570944994491933,
          -0.43273506915664117,
          -16.20143758103777,
          0.7172810257847451,
          0.5098911326616764,
          2.437134157537524,
          0.0769079231688713,
          -0.5431258778233209,
          0.41102284954542373,
          -2.3141651045578726,
          1.3347893035496459,
          8.023125323087317,
          1.2702167721887263,
          -0.38312546532255,
          -0.7898623368603699,
          -0.5126942836188308,
          0.900883831768257,
          4.598983104387832,
          2.101749765386749,
          2.2150544313634644,
          -0.7605261013184097,
          4.0574120851871385,
          5.31759870763133,
          -0.1944220192315178,
          9.208185370319814,
          0.396039248035728,
          -1.3488209562511253,
          0.2929674670320445,
          -5.123344613925982,
          -0.8705947401800888,
          2.4378845159847606,
          11.588067230763478,
          -7.8406050979513715,
          1.5674911668598175,
          -1.2261307425011796,
          -6.926997682757323,
          0.26983762101391306,
          4.791188021805227,
          -15.426516012485205,
          -2.507742023340399,
          -0.17662950472933697,
          1.9354971898410342,
          6.337176665823644,
          1.893416577601823,
          6.126715683229348,
          -15.981234816225648,
          0.9189356793834422,
          1.5313005181981727,
          -7.970416536346145,
          0.5253448750750072,
          1.7723541131958198,
          0.6065664526159965,
          5.970186160021308,
          7.08705452642878,
          -0.4052310703357064,
          -0.1288142954200207,
          -1.3948247306283883,
          -6.783868104777641,
          -2.0757016768230914,
          1.4505514694483534,
          -6.516941145666301,
          8.958994021802749,
          -6.095392203455771,
          6.694690811391009,
          6.234247107810097,
          2.905468088457692,
          0.5983748139379,
          -0.6657860168542256,
          3.0411395312103435,
          -9.806954147061763,
          0.07547884895693233,
          -8.14900107550282,
          -1.217782945694294,
          0.49876711098864907,
          1.278079760376028,
          3.294722302399999,
          -3.196867870373753,
          -1.476045249438205,
          -0.03490990334102496,
          -12.92399280635686,
          3.5243414195280467,
          7.6680966507669766,
          0.5563389333712105,
          5.202424553916728,
          -1.1583617689634345,
          -2.3363707760645815,
          0.10498100973221297,
          10.286297459491733,
          -1.9207824031590564,
          15.521292694114221,
          -1.7610824032440522,
          1.2847405865208588,
          -5.905084374170119,
          -2.197341150097156,
          0.8380676909509815,
          6.683585004915338,
          2.4341144163017283,
          4.875478830043456,
          -4.099196896071051,
          -3.7371720311764185,
          1.8197329935414657,
          0.6094030765539511,
          -5.306240545784136,
          -0.23124222530473623,
          0.23617870021818596,
          2.5546352035525266,
          1.1929927632480959,
          -6.193515834092905,
          -5.19970203201291,
          3.724730844843733,
          -0.764699583660604,
          0.522219649478997,
          0.9803778192856366,
          5.707330521481297,
          8.366851357737378,
          -11.047811992195795,
          0.49113210803577234,
          -6.7382427206957605,
          1.7639346982540405,
          -1.1418652444308401,
          -1.6409162716185233,
          -1.5847993032106178,
          8.894762166997044,
          1.8058782240868032,
          0.23632769528023945,
          3.61795757317051,
          0.5779098135889464,
          -3.2831155980560576,
          1.6241375534246056,
          -5.095470015855293,
          0.3056128433374945,
          3.5031259281050846,
          -0.6134428424444872,
          -5.268587183136595,
          -8.344664559686333,
          -0.2185577924378614,
          -1.525740032420849,
          -0.5655816083968647,
          0.14636235612275147,
          -2.7458785711481872,
          16.00435150986831,
          2.9566576517579097,
          -1.664455349939712,
          0.8115939058298152,
          -1.0846115361744653,
          -1.547872630836403,
          1.6484922932697565,
          0.24222049750399777,
          1.2477112115576845,
          0.01803456502138373,
          1.0379351494188218,
          1.1972635201643675,
          2.637104446035876,
          -5.279763261466883,
          -31.507559798575276,
          -0.8955819041448322,
          1.5072761281835214,
          0.2418249670237899,
          1.6489528276331522,
          0.317568489860133,
          -2.9238293841740375,
          -0.0529272552331807,
          -14.156528164266732,
          1.3612362064772212,
          -1.3493354317396369,
          3.723300543357883,
          0.3916549341091653,
          8.770573027355361,
          2.557706883829293,
          5.71589667259528,
          -0.9682944604312804,
          -5.7610303650803925,
          -8.144675856193333,
          1.2316240437450134,
          2.1018926007423606,
          0.34695058702335296,
          13.008254712290174,
          -2.2926980165254087,
          -3.2340918959231635,
          -3.283811051792168,
          0.8795723058888674,
          1.6178623641936045,
          -0.06956695398087638,
          2.6291316089474144,
          -0.20816377566104471,
          1.8788609201871256,
          -0.5175821480753421,
          -3.7911763338010167,
          -0.08597011471257035,
          0.5684829290633555,
          -2.8037795399523127,
          -3.8495925657596883,
          -2.948446624811143,
          -0.12652542340586648,
          -4.565119904949427,
          -4.3730429906244,
          1.456572452726596,
          -4.0865481027897115,
          -1.0114380310452604,
          34.37124497303929,
          -6.44193636337736,
          -0.36490791110848303,
          -2.667438281181492,
          0.5923953605694087,
          2.811264242817334,
          1.715016304540997,
          -1.721434812181547,
          1.2542167364354553,
          6.709457366414578,
          -2.043378495646077,
          1.655685823649097,
          -9.802470773163584,
          9.576867434413183,
          0.451277342792158,
          -6.148549083237095,
          -5.671585670245835,
          4.609114689480208,
          -11.251804244235608,
          -5.065054834191211,
          -0.37436859277461676,
          -1.1923165082363851,
          0.24223488645230595,
          0.9926405955774353,
          4.184421950823418,
          -4.247491141318147,
          0.14630621165118388,
          -9.832169321414018,
          -2.9280627634082093,
          -0.23744612644092622,
          -4.330559307985419,
          -3.081159781787578,
          -0.30488212854652436,
          -1.3831992341427908,
          9.058660486460013,
          -6.001069398392829,
          2.711698455972531,
          2.63892566281033,
          -0.9589161874425502,
          -1.53044817195642,
          -0.11446582309042752,
          0.786477962619488,
          -4.442494417562635,
          1.1023237818002896,
          13.625774755615442,
          3.3180841746604717,
          0.09053995587974434,
          -4.954202065415477,
          -5.7831886838613515,
          1.7489979597268137,
          25.588229338328027,
          -8.770043304387995,
          15.812920193266,
          -4.512024076594616,
          0.8522939118228315,
          0.878491037213226,
          -2.215397922200549,
          1.0923207043773218,
          -3.6031418559239,
          -0.7386447264703468,
          -1.4876472807787957,
          2.036760987749137,
          1.7503735056009522,
          5.835075317135801,
          -1.4765259701434728,
          -5.770160589679266,
          0.37598430976031194,
          -1.9120214532202122,
          1.6518554078498195,
          -8.113842299849598,
          -1.0942400754507846,
          6.753110069096894,
          2.5144734864540914,
          -0.06820006590445296,
          -4.407630427585733,
          1.0510663297232865,
          -10.001639449569648,
          3.7692582815188027,
          2.056091759603703,
          3.024494316069345,
          4.445288702851508,
          -9.189345379437723,
          4.051661811884367,
          -2.5185464969765876,
          1.1306876528770804,
          -4.277067405738276,
          -1.8777206334154448,
          1.7357215639484767,
          10.964670529684826,
          2.882246696201933,
          1.7093586183690428,
          0.19873741496562913,
          0.9623230336997625,
          1.9307844155314178,
          1.504670969097123,
          2.7431565999999066,
          -0.2758670584185275,
          4.970976393296638,
          -8.53437234807194,
          8.442681584345076,
          -2.582606683031643,
          -7.549220553756875,
          0.6995519490617647,
          -0.032798238876350146,
          0.31298226702120946,
          -1.4456967698286478,
          0.398931089106934,
          -4.02587309061079,
          4.700304925651693,
          -3.708640856372019,
          -5.181871651091926,
          -3.1653807049653317,
          1.0667157598459418,
          -0.5507774910122971,
          0.7812449555400742,
          1.5545794442926644,
          3.584798315161118,
          2.3765044966801785,
          0.25773640254256597,
          6.677002571387798,
          -7.540711742038433,
          1.612698177296946,
          -0.22459480326702397,
          -0.90090883638251,
          0.8883019766587108,
          0.4750977094812897,
          4.343965456106132,
          -2.744538079171363,
          4.452765097099427,
          2.0205895644502374,
          -5.117766822494354,
          -7.431255201081495,
          0.6537892945356144,
          -11.259051788088914,
          1.0311265247051349,
          6.502370243737395,
          0.3286014684828572,
          -19.264231558615045,
          1.4155651661877344,
          -3.288738099323669,
          11.42502904867266,
          3.157157694604787,
          0.2686081202391597,
          7.764289445570997,
          5.545534627310007,
          -2.1853148842503898,
          -5.602257873070622,
          5.591005528623153,
          1.4542434301424338,
          -1.9955034953186341,
          0.9209633389479953,
          0.8219275309541783,
          4.378794303948637,
          -1.6312092192464371,
          0.20469149904361036,
          4.432913348620723,
          0.7960474272055957,
          1.4508631417344735,
          4.465480000365341,
          -4.961540808171813,
          -9.979131404849236,
          -0.13988574211786556,
          0.6682921934398061,
          -5.576962135026896,
          -0.4592560581912209,
          -0.927388730052843,
          1.060424416175573,
          -3.3749600835489346,
          -1.0202377948012444,
          1.6314602854101299,
          4.537826608638882,
          3.0678783236194866,
          15.786516511589317,
          1.035934332378047,
          2.166493321247884,
          4.172921196220921,
          -2.371288484444783,
          -1.5974924312711378,
          0.8552144714642962,
          1.1252270474486863,
          2.133158195380193,
          0.527401076860917,
          2.1028612422503326,
          0.15028548034189748,
          0.45352028620706314,
          -7.146422559878001,
          0.45981865561488544,
          -0.0013079666828949219,
          -0.612795976009521,
          0.8890803265074981,
          2.107134223460095,
          -1.4312778865459512,
          8.394251777527248,
          -0.4514588796711346,
          -3.45710376108232,
          -4.895971882277911,
          0.9681055596863102,
          0.48093922352922797,
          -1.679864938795507,
          -0.3416259868817473,
          -0.4974598969030841,
          1.3890510629637427,
          0.49073469799437286,
          1.564287697359171,
          1.7915635947726236,
          -1.057644869441599,
          4.055587964210643,
          3.6131045810948184,
          -5.492773047428182,
          -2.6703887341024326,
          1.3172095795168084,
          2.806748678595972,
          -1.0489892790200832,
          7.164142139654162,
          -10.866528512357096,
          3.3839211892191905,
          0.7563644604394039,
          1.267842681434149,
          2.6957590209249296,
          5.769463484395551,
          -2.2229333047886675,
          -9.434612351461285,
          -2.8032164849232295,
          1.991928880704331,
          -11.977259458379917,
          1.784293285710448,
          24.378175038529477,
          7.502062708630402,
          0.6705917896166598,
          -2.4042061559107677,
          -0.885918062539011,
          1.452797206100424,
          -0.9529818537347416,
          0.8337199040396364,
          -3.1612587337197002,
          -3.96883994469152,
          -0.20479353869415623,
          0.5169411755973394,
          3.3124510574975696,
          1.752781804215375,
          0.7510382618437312,
          3.1829553788859375,
          0.27129577304009517,
          1.2165086121931692,
          1.5099632437824968,
          1.8546535483375544,
          4.513293028218395,
          -2.0159525554571074,
          2.127285796760139,
          0.648903456281058,
          -0.7150589847679047,
          0.3484438619577435,
          1.1948794192252117,
          2.2574812529871964,
          -6.870342654360069,
          0.10312778188271954,
          -2.2459472539840006,
          1.1602932632686975,
          -2.818824483659043,
          -19.692962216416838,
          3.796697531470569,
          -4.1204975892884885,
          2.6234783894740454,
          0.5937981637332044,
          4.24001735379972,
          1.6304701379934636,
          2.251455409551279,
          -1.2512122313604068,
          1.5961050767852218,
          1.2936651610034278,
          3.1672071499293457,
          1.2074483318660585,
          -1.2013913803818546,
          3.7157802149836514,
          -0.36121973186014683,
          0.5426168705102766,
          -0.26560915754920006,
          10.600500947018542,
          1.0170739344155006,
          -0.6479593583497781,
          1.964026423628468,
          1.4759708341844315,
          0.7582031677583716,
          3.713722393618313,
          -2.68237588402501,
          28.49515290401062,
          -0.7085779295137344,
          -0.4125453724380801,
          -0.5238974681699116,
          -0.38800151510552594,
          11.042243090845018,
          3.641507147764881,
          -4.059867428142262,
          1.7257322349239566,
          0.09879976026107351,
          -2.174640424232741,
          2.759508539065398,
          5.470262190385171,
          1.0710746297418132,
          8.457977250312178,
          0.49101860986873147,
          1.6479353304735849,
          1.4454402919139815,
          4.863796365703202,
          6.886205873806585,
          0.772279883749099,
          0.04228646202391634,
          3.830489427386521,
          -8.14193934814036,
          -0.08616309989660831,
          0.730662666425868,
          -0.24637368131932352,
          1.2849419231944432,
          -12.043652741724417,
          -6.205636045704249,
          -0.9648923050490922,
          0.3870951237002061,
          -3.8298695360121515,
          5.872305249251029,
          3.7610475777780357,
          0.3072499931057715,
          0.08971550350808599,
          6.516632335466742,
          8.561498779082553,
          -4.787478597971272,
          0.8128120953076624,
          27.866268354277906,
          1.3758858824997584,
          -7.079526183487393,
          7.161194643974651,
          1.548004473624525,
          8.591812132342987,
          1.747200507578808,
          -3.4979415751987113,
          -4.798710986492845,
          -5.595171884395606,
          -4.290721731793649,
          2.2563611469535907,
          -4.919749844003614,
          5.985389090306776,
          -0.3843969917067631,
          2.64488841761521,
          13.7364435411138,
          -9.015143551309372,
          -7.870883613786103,
          11.568916329464168,
          -8.24959082398476,
          1.1241872070421008,
          5.605375726006203,
          1.6872486581962463,
          0.8674319142895404,
          -5.868556924005603,
          0.8397759664633937,
          -0.6511053702694246,
          10.36362568754895,
          -4.612854337142663,
          1.0578127284321366,
          -0.4701587428933577,
          -0.8797656868214137,
          -7.829568567712078,
          8.140993095607552,
          -3.1499187215573348,
          0.8219441939428758,
          -5.989436730233101,
          -0.5213212476898004,
          6.328776243243208,
          12.206811127432093,
          -0.5207757011702031,
          4.992661958785134,
          -3.223288683332128,
          12.054450569017426,
          1.366683223502946,
          1.378207229565744,
          -7.308868841916161,
          2.1002260553677154,
          -0.08458217712661312,
          0.6867378323159241,
          1.7742131841723972,
          -5.139559897972305,
          -1.8463734840626707,
          0.34315522856208275,
          2.178420929264252,
          -2.207688795474999,
          -0.0342618779723535,
          0.47701475315757425,
          7.823649632074849,
          2.3139658465975277,
          3.302251395780511,
          -4.181100163932587,
          5.6075365544348355,
          -9.01971159552687,
          -1.5617567692544467,
          2.4072650426738793,
          0.22205368501405628,
          0.005859209131300273,
          2.389021326116164,
          8.061386583554075,
          -6.195989974156171,
          0.5200858257289038,
          -12.045699778898612,
          -1.4043805923022528,
          2.2991552961569997,
          -2.534486676352101,
          0.060240419389164454,
          -4.7775311113874235,
          -3.144017630905687,
          -0.28922140008982,
          2.4964515419938142,
          -0.95196540898425,
          0.5765102194270216,
          1.2411762318202404,
          -0.3550292229104021,
          8.910677806937137,
          -1.6502409682751762,
          -3.455392145657707,
          -0.8409468441897443,
          -2.129730190309277,
          -0.19710468015557003,
          -0.5377785619330495,
          -1.7770258638643206,
          6.056624107046006,
          7.076719303635947,
          0.6112505873313245,
          2.656460518604398,
          0.07817417949640189,
          5.824025260214225,
          4.060313518437466,
          -8.111501685901,
          -5.272514170467157,
          7.436179561272612,
          3.9724436995622945,
          3.1745385407134714,
          5.523300530675504,
          -1.73940017695586,
          -0.9694133303232656,
          -6.830822423884548,
          -0.5868744097937559,
          2.5362491952059525,
          -5.0166828053439385,
          -0.08589104343935955,
          -2.789901143433275,
          -9.230887832604589,
          -1.433780204738252,
          -1.9361537046954957,
          -1.9026574376077985,
          3.4390884197675926,
          -3.419116682434438,
          1.1419245790182817,
          -0.9317349045512857,
          -2.26604931595577,
          -0.4633345526623492,
          -6.9731438334894085,
          6.0413779323435595,
          -0.9971025577737203,
          -2.1077497140872516,
          3.0458170656836945,
          3.685426381840048,
          -0.40816860844602626,
          0.6473196599773902,
          2.0684049339359123,
          -1.3231174373340344,
          -16.35688469564563,
          -0.8736863186958039,
          -2.0972831351329355,
          -2.3031687554783202,
          2.0802427125522716,
          1.638012473188438,
          12.595874784089187,
          0.05736123159895742,
          1.0906389341742053,
          8.081423306023218,
          0.41607622682902723,
          -0.9500667357514694,
          0.9475587511572955,
          -4.388267878126655,
          2.1248528126254294,
          -1.3940106449217446,
          2.0979817483770384,
          4.576790667066354,
          2.103888993517048,
          -1.1740771726668475,
          -15.097580315300622,
          1.3729436355629134,
          -3.1932721320524284,
          -0.3626422718999461,
          3.943568581037824,
          -0.6508570368988922,
          2.007510654067515,
          1.343427054001917,
          -9.930425740213298,
          3.227324250404512,
          11.270180536366189,
          -4.119049754994279,
          3.200758751089224,
          8.12065536955929,
          -0.7456663748973875,
          -7.132062505160634,
          -3.469112020343456,
          1.3829526211074294,
          -4.460122337455257,
          -2.7975311010017565,
          -1.0527742841075054,
          0.7688759644206768,
          1.2649878155098566,
          14.920822528089047,
          2.4988492947005865,
          -0.6463554761313545,
          -1.6663723197606426,
          1.1806186453285838,
          -4.568722373213866,
          1.6459619528657639,
          -4.168461485344434,
          -2.9138444889184023,
          -3.6527413357985896,
          0.730925762223608,
          15.108705748397924,
          5.077044132314736,
          -1.9202096567948632,
          -2.098361651844649,
          10.646993182148682,
          0.06496882933133606,
          2.6319007527022378,
          0.4299029450986968,
          -0.5114061158246518,
          -8.994160835032128,
          -2.8965837115034363,
          -11.651597650991754,
          3.7619539077525976,
          13.444731930498708,
          -5.60714363384556,
          0.8074896586443844,
          -5.335767016242544,
          -0.12347992986291578,
          3.695371313107799,
          2.1415726264401114,
          -2.8796361731519062,
          -13.310180261452771,
          -8.656942205307885,
          -4.017288329774305,
          -0.9066301336778525,
          2.5746843193533744,
          -0.7809235072861516,
          -4.28191091811894,
          -1.9841047762652528,
          1.2623601178686843,
          -0.7985779941629161,
          -1.1128386701402344,
          1.6433707907505368,
          -0.8461334457498872,
          0.78025251487268,
          14.562599507051837,
          0.9742006644997164,
          14.644060212390988,
          -0.8673253649110654,
          -3.3043918336679563,
          -1.702272372704841,
          -10.468193918528744,
          1.372628579014184,
          3.5406022181090044,
          -11.152278088364218,
          1.248589425812129,
          -12.652646538248352,
          -1.3873654962853423,
          -1.7961839197493026,
          -2.973843869746457,
          -1.310383522763964,
          6.183303365016815,
          -3.7221225819875317,
          -2.4566532382869095,
          1.4517409278657463,
          4.680485996201342,
          -1.8440791738948263,
          -8.33068405739031,
          6.006609409093709,
          -6.803693431498443,
          3.882900498176829,
          7.252084125248933,
          1.5145384786675913,
          1.592711607627292,
          3.5011626276732715,
          9.042014150887304,
          -6.095178108296459,
          -1.3268850949076425,
          6.575699705226491,
          1.873367764548185,
          2.4825540404625785,
          -3.397769371329397,
          4.237549859393026,
          1.3873783839978127,
          -3.571034311091931,
          1.6979936612398714,
          -0.35222568748947986,
          -0.11963746956004367,
          2.6176533226251375,
          4.6911209447707325,
          5.955917740851088,
          -2.7564677614656334,
          0.7958626504191726,
          -1.5434207595648526,
          -4.739525346018987,
          -3.7128116392201984,
          1.5876476187543798,
          2.0774040222398558,
          1.7014697698834713,
          3.99456608737795,
          -2.0683341475517163,
          1.5539229210803147,
          11.03998678255907,
          -3.760831697121887,
          -1.3911918381987873,
          3.9990851110158974,
          4.6756877075587475,
          6.2740098409910665,
          -4.753716904854464,
          -6.673480740540839,
          3.1515054596359535,
          -0.795415241937212,
          -4.2107429105766565,
          -7.792390659397207,
          7.6963420664070075,
          -14.032240060115718,
          6.779871474059127,
          7.516885605138833,
          -15.112176571298544,
          -1.1649317006647877,
          -4.613706448887961,
          -2.2355755711021317,
          2.277365510687032,
          4.1348411928844815,
          -4.838764449671247,
          -2.2198270728114764,
          4.039233241280294,
          -2.6984320146074046,
          -3.87391933896952,
          0.5424232527533304,
          -2.2592209050663907,
          3.77344262519503,
          3.2731665042565075,
          -10.855171022049673,
          -1.9177248838056964,
          -6.070361840321246,
          -3.3555666351198576,
          4.557022735906445,
          -5.643129106436119,
          -1.6256632651083334,
          -2.2510367088374275,
          -3.782638387908975,
          6.687586879802048,
          -0.9895621012141665,
          5.936860851782816,
          6.19961912774424,
          5.289977553374232,
          1.8235656283731934,
          2.304636447378491,
          3.1086381187644117,
          3.0229540427763166,
          2.3291987915655867,
          2.638249254645807,
          0.3548176010218134,
          -5.221672861882697,
          -0.45800939493680987,
          -0.5675304756467802,
          -3.8187498726588025,
          -5.683705349235432,
          7.2754626368862745,
          3.5427415271167573,
          -0.48741027462304376,
          -1.951072331901559,
          -0.9269521023294418,
          -0.8609152432383189,
          10.167789943130407,
          0.1467627831025409,
          -1.5189527300527934,
          8.263624503603536,
          -9.017486625518728,
          -2.1973303688940575,
          -2.21199950250705,
          1.0864768784214567,
          4.703910018750603,
          -5.442671240098718,
          16.77777505328367,
          -1.914606019158275,
          -5.41117937410765,
          -2.3594996269546464,
          1.4746783119208609,
          -4.6972488173424605,
          -9.209596168561834,
          -3.2154826941066403,
          3.4458740030817854,
          8.974088463015168,
          -0.6668539171470389,
          7.510874619537035,
          -2.5752619959285314,
          -6.386839292763109,
          -5.481449888449478,
          -4.2887812475179325,
          1.8830490020101818,
          2.540045300712952,
          -3.664699297475127,
          -9.645961881532461,
          4.945655420589784,
          4.997273804361525,
          6.7616001542345545,
          1.2905630413759983,
          5.269871105122009,
          3.3365475778949127,
          2.8936361652324325,
          -3.126140174847172,
          -6.283142382262328,
          -11.120203993672618,
          0.6953422331220005,
          2.843354014989467,
          0.8931678798489131,
          6.161112899362711,
          3.705571085236296,
          -0.3823544235710969,
          -1.0851247713747054,
          1.96109959549456,
          1.4383997763134544,
          6.662196378961529,
          -2.7640702833702377,
          1.1791488110842674,
          1.099722304968282,
          -4.435545536769128,
          -1.9371815066387563,
          0.9855815934966031,
          -0.46057312258142213,
          -0.9605304411157922,
          0.8851975172666581,
          0.9047543745994095,
          0.24929119803066105,
          4.64682180840532,
          2.895611710895036,
          -4.116694989116362,
          -5.999997490370365,
          0.36727271790513205,
          6.0832513793817125,
          -2.4088480833183916,
          1.8374647429005178,
          4.869658077627438,
          1.1577797120841906,
          5.104272357731292,
          4.815032898871861,
          7.0250258896698545,
          -0.4370855624226171,
          -3.7980156625489117,
          -2.701631552529702,
          -7.431241249656307,
          -10.64583782332951,
          1.4988266942196518,
          -7.5707102201571175,
          -0.7085852975829673,
          6.088496347452497,
          -4.746638313593088,
          -1.9701813646468924,
          -1.4894526214632098,
          14.344463796311443,
          -1.6220216652361532,
          -16.71278733735428,
          -0.25979057316166243,
          -2.516003349342284,
          -4.428932779731908,
          1.9046568130576036,
          10.03093311528349,
          4.23953128348201,
          6.253827303070379,
          3.993209944408961,
          -0.08725884291938425,
          -2.873445575814334,
          -3.5942166942204077,
          -5.488163722868188,
          7.458483763174557,
          -1.2521884256282385,
          -0.6200252482372689,
          -4.3774633980143856,
          2.745076418332592,
          0.09022802853337716,
          0.5916195466825489,
          -10.614531593687627,
          -7.440871540414703,
          0.4778097130441285,
          1.615257827650939,
          -11.121086802136077,
          1.6707752817216404,
          -1.4737280582438868,
          3.1601089331643157,
          -4.509534254665532,
          6.310262963877374,
          3.8386323427867337,
          14.367346831606556,
          4.107778704728824,
          0.452397439312302,
          -2.0259498345447353,
          -3.1719232691067054,
          -1.8449129301374185,
          -6.764172356308293,
          1.9577869733588518,
          1.8717067716201976,
          8.541672248594109,
          10.418475956231676,
          1.2529721044866955,
          2.3299615420900457,
          -2.4665257941610363,
          -1.037644940192741,
          -1.2107531444722877,
          3.6840695573165254,
          1.1302508902048998,
          -4.259584453263126,
          -3.4342689480889836,
          1.1104708219195631,
          -1.8014052708661943,
          5.57457511882558,
          -7.136175205474202,
          8.318831717129946,
          8.508890825804832,
          1.24675327360682,
          -0.3618407181055614,
          -3.36139055758664,
          3.877328266919578,
          2.5999327068258125,
          -11.533813484402735,
          -2.0753829271259194,
          -1.7365749848606757,
          2.4197239857421033,
          -2.2756888890921023,
          4.310548313453511,
          -3.0680631115598054,
          -3.2871823612005606,
          1.2054375172704268,
          6.4402110788948805,
          -1.9914592526898174,
          4.101387777316893,
          -8.278045245050293,
          -2.1771182284588178,
          2.8192148855387704,
          7.261199282091051,
          0.26172184239702867,
          -2.163981703701477,
          -8.902353361072167,
          -5.894379204473324,
          8.449462405868577,
          -0.9031608967444449,
          -5.803565012666164,
          -2.2212982113818627,
          -4.824719294639914,
          -3.323775613965057,
          -3.6319542279224173,
          -0.6342358567490616,
          -2.7060502738031804,
          -4.792343734483285,
          -6.612787330889338,
          -1.241711272188539,
          4.313210385408952,
          6.517864437405283,
          0.9919030326005199,
          9.645751563828101,
          0.12673408500676442,
          -1.2540604601692529,
          -0.3159994803210996,
          0.6382605857145074,
          -0.42516594860691115,
          0.6904279535224361,
          1.1834242268967692,
          2.283823359721651,
          -6.450780843563045,
          11.695572441733527,
          4.350729730145891,
          -1.699132766642836,
          0.4584623509041327,
          3.53126550778872,
          2.3561046253031432,
          -0.15174740326147185,
          -10.542810186062885,
          -4.036046148496169,
          0.7114701096854102,
          -14.43430361780328,
          -0.8342496777532323,
          -2.990072652228603,
          3.5298048836098648,
          1.632987927476738,
          -0.6560527745307301,
          -3.902131652575905,
          -7.345753150347993,
          -7.99374472308049,
          0.784917558106166,
          -6.938604135802006,
          -10.545701018554347,
          1.876228138621689,
          -3.3553529349627995,
          -3.7942095601005263,
          1.1277590518967715,
          2.180492948153633,
          4.352292680731097,
          -4.749077820278202,
          1.6391347984236375,
          4.574658475742155,
          6.8037095491033135,
          5.773303771214088,
          -0.5942643729598844,
          6.153968254667181,
          -3.2545532599585467,
          3.6519274702019056,
          -25.50961089260585,
          9.552128243681063,
          -21.368403500038042,
          -4.626301895044685,
          -0.13415708098970658,
          1.19173458595983,
          -0.9539378643065035,
          1.792553154964848,
          0.4965557163127747,
          -4.515608148349891,
          -4.7427644660036075,
          -2.571702774314723,
          2.8398169415775243,
          5.324798763980981,
          -1.8238261564944493,
          3.828903153440867,
          -2.891713174766729,
          2.6275054050782254,
          -10.971966555693442,
          3.5518864663673693,
          -0.12401015789508886,
          1.1445804743987569,
          -3.831836771448261,
          4.074025132525229,
          5.808418277278019,
          3.192032638672811,
          -4.438718516363091,
          4.043423576927723,
          7.69628026282046,
          5.279947349694672,
          -0.15426093441915237,
          2.412929586567862,
          5.889290387037825,
          6.602503295883592,
          -1.3863638210923037,
          5.0402316279124175,
          -3.098776651782215,
          -1.4063847460208496,
          -1.984940250605555,
          -1.1387752012464478,
          -0.5690842285044533,
          -0.36873458315436136,
          -0.09737424240790549,
          1.2880212389782262,
          -1.4378352753557035,
          2.9036648307013637,
          -1.4251152842909272,
          -2.6487687570647065,
          3.0530264157223823,
          7.660349762974876,
          -4.203178590682206,
          4.492882036203037,
          7.036035784423504,
          -5.415931035832378,
          -1.46935556538606,
          -3.260847902963164,
          10.396171137368778,
          3.7211195694586614,
          -1.5702083041155221,
          -1.2992785847017068,
          -2.8716401060898793,
          -1.559731274292998,
          7.9537891630301,
          -4.621486480466628,
          0.7885260868908778,
          13.35396013848128,
          6.159718607874533,
          -1.672009297508362,
          2.6074217838518035,
          4.230944928452373,
          -13.553118077082917,
          -0.8126577072902486,
          -2.1989159686896182,
          4.8788460333830885,
          -0.8592860013662815,
          -2.919751004003317,
          -0.4378767235483551,
          8.96445617576522,
          -3.648714195594498,
          3.5419914366446577,
          -0.7852238877568659,
          -1.6664113250693173,
          -2.95402713193862,
          -3.3514030497220233,
          1.9011323268291935,
          3.14892023709747,
          -1.6421091092735034,
          -3.053251371687846,
          6.335330507008103,
          -1.4134083891515274,
          1.1821433372305068,
          -6.593804009622906,
          -6.3746325658674365,
          3.6748698243079416,
          -2.0475662676344486,
          -1.304812064056803,
          -1.9104015961967151,
          -0.3720693547390862,
          0.2048781723224275,
          -6.8217770949003,
          3.7869665339685454,
          4.452950124162909,
          0.5665438403013647,
          4.498161244821641,
          0.2968971980134226,
          -2.57805183955511,
          0.5668063951916535,
          -4.084413970261678,
          -1.8427529340151048,
          -0.01790604160705249,
          1.8269155032381723,
          7.933237769104503,
          2.6051093551184623,
          -0.5996342880198606,
          4.050002279637395,
          6.868825798395346,
          -3.831543803181689,
          6.530367388579755,
          -0.942483101082785,
          1.0976516965820007,
          -9.015586387624689,
          0.9759324252306235,
          0.7029368414650772,
          1.989556560685549,
          2.4745998147520467,
          2.2090720240146844,
          -4.314543396242143,
          0.24966609366710416,
          -2.4069173716599668,
          3.9928104252449885,
          1.7741623142531742,
          3.937814784870111,
          8.012067104205304,
          -4.210592578865205,
          1.5065189381137536,
          1.09686271133338,
          -1.873780581282451,
          1.639415111536682,
          -0.7307526365773938,
          7.519759757083593,
          -5.657199355804299,
          -2.513383590736979,
          15.444577554465697,
          1.6045929957564884,
          1.875433202150307,
          3.0377835309361663,
          -8.071506527900063,
          -6.030959460903003,
          1.9907408928682728,
          -8.341076423221851,
          -1.0285009626120738,
          3.2454524580211794,
          1.2794209292882168,
          -1.6089978721322726,
          1.3387036613031418,
          1.5005376678723152,
          -4.7526926904677325,
          0.13579428290057052,
          1.5025415982954295,
          2.6004092944381703,
          -5.940690186995229,
          0.29503461747425763,
          -0.7495507271075382,
          -3.96111845060426,
          3.985752282722048,
          1.2494895807266642,
          -3.2022338929355803,
          -0.7779906282014379,
          3.6059114784536708,
          -3.2108842320252595,
          -2.946166798033224,
          0.04705468943165242,
          -8.547782770613196,
          7.1828232584743485,
          -0.3690023568761496,
          -0.669829148830359,
          -1.613834825647802,
          0.15131384741031403,
          7.059484569447347,
          -4.128778366980768,
          -2.2516187395437424,
          -1.8874407451659083,
          -4.794687318262074,
          3.2264316832369966,
          -4.903527762811635,
          2.1628295520443617,
          -2.433857913274993,
          1.4666370925858154,
          4.412729815200498,
          1.9429064648806087,
          3.4548765408958597,
          -10.167101352378165,
          4.0026350534055775,
          0.9475327866931307,
          -9.283209170971674,
          -1.0507541829044977,
          -3.322832953730065,
          2.940648559182741,
          3.2913469903880257,
          -6.345358279733935,
          -14.224775094565604,
          -0.6660854898940196,
          -1.6693028773681444,
          -1.0769183061695915,
          -2.807578064861351,
          2.4608018743518665,
          -1.5128848546728366,
          3.7848898082287117,
          -1.9672950694987823,
          -10.78639235216438,
          8.429622385859721,
          -1.6545256306150016,
          -6.493102830103066,
          -3.3784689374772428,
          -1.3701087468689575,
          -0.6582723417115981,
          -1.8873130235028197,
          -4.862807679504957,
          7.309613733185832,
          4.6518678071249795,
          4.4108978742205585,
          4.678934174756231,
          -9.06034703019347,
          1.2721222248106536,
          9.267216008217822,
          -2.729389069805589,
          0.008738595829825724,
          -3.046500395920723,
          -9.642717742777421,
          7.89210778596118,
          6.320678682497055,
          -3.704111603980656,
          4.684422017124644,
          -1.4754327988684732,
          0.44445142742704474,
          4.088795185848355,
          -4.532776574521832,
          -2.710697081921007,
          -5.264922054700046,
          9.049798239036129,
          5.605379083664579,
          -2.4745470346368785,
          0.4632717646787502,
          5.044994466081366,
          -4.4708550829649205,
          4.3520848896131366,
          7.497933305995439,
          1.095938528232709,
          -2.326894908455387,
          -0.7861748127867442,
          -4.8998427693736755,
          -3.7794897975677375,
          -4.364599568825851,
          -0.6851444209352181,
          -1.244257056936993,
          -4.848807602033095,
          -4.813120411332355,
          -1.9384694793568418,
          10.598741527634111,
          -1.1977787068790016,
          9.428289053381473,
          0.44605336159288544,
          3.4120444273378476,
          -1.8912663585102942,
          -0.9849426191086311,
          -8.276159717473902,
          -1.3026632137545355,
          5.701391581212258,
          0.4622484868114106,
          2.3537549541538407,
          -10.89191613599793,
          -6.480657328419227,
          -1.4266196048278244,
          -0.9340210480025242,
          -10.418478038121336,
          -4.186400047403318,
          4.287618817866541,
          -5.784582607943545,
          -10.158936655836584,
          -0.24245180173503456,
          0.2884366502265,
          -1.3874985295731421,
          5.680504164795417,
          -0.5882929555784951,
          4.963206617498296,
          -6.183421134864465,
          -9.060187592455298,
          10.357602858547178,
          4.3966323944951196,
          -5.44011088102226,
          -5.019908476597527,
          -8.979487805050075,
          0.7982563263637802,
          -5.9748512998555015,
          -7.858482564320303,
          -0.5637919326449234,
          0.5085118656483181,
          -1.8241134705619715,
          -0.5197401116338831,
          0.7306598611609114,
          2.0014500512015854,
          4.267807793921483,
          1.6739793555766096,
          -6.431450673574911,
          1.7762437272620024,
          1.8056817551350925,
          5.67110130007816,
          7.21214909697974,
          -10.559495276689981,
          -0.7922820425100974,
          3.472430855075191,
          2.2433617530481325,
          -1.702343748836219,
          0.2279862263335078,
          -4.131607854992271,
          2.3690192872442157,
          -4.51706914333746,
          5.111924923612581,
          -5.544711991435713,
          2.088264330943882,
          0.3022717933052886,
          1.1499580261347935,
          0.10829817043634377,
          2.239566912281712,
          1.9735077427983418,
          3.254884429599162,
          1.0782680700726401,
          1.4341368194163309,
          1.0872618295794427,
          1.6783458000831342,
          -5.678853212278593,
          -1.8970480419406073,
          1.5952911124193423,
          2.2565275000673375,
          1.3108535107169192,
          2.8503979492841687,
          1.293288083380907,
          1.3176547200797644,
          1.201604909238215,
          1.5236043084175468,
          -1.1003486191426874,
          4.752755642621705,
          11.505898798392355,
          5.844003878664637,
          0.4779897943958915,
          10.470219087317757,
          13.031663779562987,
          2.2897559757434376,
          -0.6082985335646909,
          2.336904336379235,
          7.189336721758291,
          5.816656941100175,
          0.9095124291524559,
          -0.19433698415494355,
          -3.137036175605717,
          4.23198816436947,
          7.24185338640305,
          1.8951329744385579,
          -11.259691395268261,
          5.471428064273814,
          -8.879689122197442,
          -6.054249443076749,
          1.5242896583808707,
          -8.98961540915855,
          4.289334695683257,
          2.515741159536724,
          -8.306981581600018,
          -1.1323045799206188,
          2.7012867401196283,
          2.4093516920212714,
          -0.921430852613843,
          -5.930521426807277,
          10.231111199895853,
          0.2085717100651865,
          3.476294093354723,
          -0.8037755829631492,
          -0.8212842767949975,
          -0.9820085498693305,
          -1.203520417559556,
          -1.162769430806057,
          0.40233065230830733,
          -1.6744208150751216,
          -3.4366572113863745,
          5.396998646100064,
          2.241054585209493,
          4.8728320934724065,
          -5.241189549825262,
          5.657560152464519,
          -5.797214303187813,
          -6.034955467193004,
          0.014013480435511982,
          -0.8596209942484808,
          0.10971037738147885,
          0.3302878816840996,
          -0.8849281677502647,
          1.3860373906509982,
          0.9519968621786888,
          -1.2483578982788235,
          0.09253990802266822,
          -10.691730054190447,
          2.498649410744992,
          0.6591770109712567,
          -0.1598351167748815,
          -0.22088617611104555,
          -5.853186612898138,
          6.294872587745977,
          -0.22865304165550382,
          5.909457479572768,
          -8.240798349684157,
          -0.8878715091839356,
          -4.516953361315309,
          0.09803550309615855,
          2.405261207576453,
          0.5958608157610567,
          -0.0758771602553664,
          -1.0243722662527632,
          -6.363884756228764,
          -2.0161540236543307,
          -3.03555837687104,
          -4.053546048952774,
          -2.8004099383922867,
          -3.192650701208808,
          -8.791659614055726,
          -1.954773854818717,
          -4.7896460703474855,
          -6.234037526097916,
          -5.0098477874600285,
          -4.625835815835899,
          3.784700768510263,
          -8.174453487004223,
          1.0116919225642547,
          -1.7955819071404626,
          6.099713548577878,
          1.7619988045709527,
          4.384595125195225,
          1.3248922056603463,
          -4.1581531416012565,
          -4.139587804404695,
          1.757021789297097,
          1.5108045281406408,
          4.044790528885985,
          -4.537333931231875,
          1.7347001941300095,
          -1.7509030956348948,
          0.9494179505399442,
          2.332123686340046,
          0.6838211956360815,
          0.2688771997364991,
          4.683072086275597,
          -0.34306642250633546,
          10.863362097611848,
          0.4312752326545936,
          2.244881859411281,
          0.5207151437460937,
          4.243079086131037,
          2.7431890167602724,
          3.0854985614293113,
          0.8561762994167079,
          -5.480421458524661,
          9.672376334102337,
          -1.9904428769034785,
          -1.955342471720369,
          5.977423880384226,
          2.7325803554901795,
          5.403124808184074,
          11.099488369145634,
          -0.6346946781485363,
          -1.728633083358981,
          -2.882957513358731,
          1.5862697239744539,
          -2.060954995763222,
          -6.360284461598952,
          -10.244679977750712,
          0.3510158631874618,
          7.2434327713197195,
          5.9666519905009014,
          -3.158690573509359,
          -12.461274303553942,
          2.6402047138519484,
          9.554136107850406,
          0.8718149164052763,
          -1.7498012882321912,
          8.016273647671948,
          -2.343112413202147,
          -0.5430439390200388,
          -0.8744693144645099,
          -1.9210281983296587,
          -2.1863764612704015,
          4.735049032891023,
          -0.8409574750227063,
          -2.134096928535034,
          2.4673628187090766,
          -0.779595045700994,
          -0.16500608116739252,
          1.9761991748925076,
          0.007650876326259715,
          2.745461804861513,
          -0.15401935733978528,
          -9.60507233134805,
          2.8029793914479812,
          1.3390346641675706,
          -1.56887885997253,
          13.185563238807351,
          3.4569699891456387,
          1.0609207764458692,
          -0.694207359109731,
          -1.3678846727190401,
          -7.162153828820315,
          -0.8779022320175239,
          5.226563285989294,
          5.497805562928939,
          7.839977345727117,
          2.5419263514864983,
          5.188600222203544,
          4.071547270859231,
          2.525338401519927,
          -6.095526065937297,
          1.4451068422610813,
          -0.5503272529436647,
          -10.7528231014924,
          -7.120406321329492,
          -5.207698282772448,
          -21.76665198788939,
          -1.2420372468521237,
          -0.8847249014913334,
          11.183889090317203,
          -0.8503903440025536,
          -3.6733934387857,
          3.042671214673481,
          -7.6912254393338895,
          -4.5473734757151,
          10.37558394137594,
          -2.214192039456553,
          -0.07200343889533697,
          2.7540973627682788,
          2.3720788030114166,
          -7.5177638016285755,
          1.5642194280614075,
          3.1921436848066325,
          1.1400823913561804,
          -3.0125616744909363,
          10.513535430024998,
          -12.51639530700002,
          -3.5640344064767477,
          -6.4282999536892635,
          -4.138165565054607,
          -15.5575593549799,
          2.816367688280976,
          2.4167941010627714,
          1.903951647189778,
          -8.791125608515895,
          10.1574603972268,
          -4.8602484413542495,
          8.220224034673182,
          -7.375203310875034,
          -2.1624173652953145,
          3.1221653740274413,
          -1.4700745762709044,
          2.3042227377359312,
          -8.842000877735302,
          4.613161027533298,
          -0.20743046515310812,
          1.0639115306022187,
          2.7016231720174604,
          30.223438660097074,
          -0.7087670441232857,
          -10.290208541073815,
          -2.2092778039750423,
          8.747343034311287,
          -0.9557843747152264,
          -0.2550458293794817,
          6.053578083882302,
          3.3403302205161145,
          -1.0820963260129384,
          -16.737709008177745,
          2.514917865564554,
          -4.11789318390948,
          3.3549633965087455,
          -2.6680550401716854,
          0.5537199755171804,
          0.7457892504163963,
          10.050384883288594,
          2.0609507094185973,
          -4.779961409215111,
          -3.9421263129685427,
          6.136052337816022,
          -0.8255120798103164,
          -0.4307730872762152,
          -0.9620423501500566,
          -1.2037506033808916,
          -1.649775680931355,
          -0.7609824154640541,
          -1.495915386955133,
          0.17846229031889574,
          -2.0617224352500676,
          2.7925656997333483,
          -3.0144467088134803,
          -1.2309456297569814,
          -1.930613838783462,
          -5.386495129315203,
          -1.7422733774765564,
          -9.245625274198874,
          -2.224316960771529,
          -3.2551774199539176,
          -0.3150942426853051,
          2.1546297437972766,
          0.7562934434164679,
          -5.980136369323381,
          -2.3243089854396204,
          -3.890167528000911,
          1.5109408217799176,
          0.5125882671255318,
          -1.6909872901486545,
          0.5222699217821479,
          4.117020899882113,
          -1.2256711268451517,
          -6.171671343180078,
          -3.500681205531782,
          5.9567489811259176,
          -2.3054116362631003,
          7.471209019723885,
          -1.0634173135380458,
          -5.5674272316771285,
          2.864741411295838,
          6.072888799757923,
          -0.23354746901343065,
          5.166382683884729,
          -6.017124253285497,
          0.7257533871364586,
          -2.1143139514050917,
          9.447040111285176,
          1.5826945454044787,
          -1.298555470334562,
          -10.306743532026257,
          7.641010488613324,
          1.2230737967789453,
          7.607572064664547,
          0.921358311230391,
          3.158602853032354,
          -0.5978145851027961,
          -14.918090438315698,
          -0.5338878361824815,
          -14.134338690903755,
          -4.822588590274529,
          1.8238044212266016,
          -0.8064348001292487,
          -21.784963007953525,
          -8.123899716160393,
          1.0889829225586827,
          -1.6251226367319855,
          -7.694416311223738,
          5.973403148637025,
          5.541779496046055,
          -4.128244859634826,
          -1.3984834357671136,
          1.3882900954284891,
          0.2307075510046906,
          -2.3919874376931016,
          -1.9445730331904436,
          -1.7013310558566999,
          1.3116570379994554,
          -1.5139434658552835,
          -1.7759196090617373,
          -0.6338635781078924,
          -0.11929524010880788,
          -2.770662248556879,
          7.303687686760121,
          -0.008425298577259668,
          3.303078959980835,
          4.00346673827995,
          2.2900400607295848,
          -1.4199070040102133,
          -4.5843427542757755,
          -3.283408286779572,
          0.6777366967623278,
          -5.279833759173113,
          1.7773389974022549,
          7.486423003161127,
          -2.256986182304448,
          -0.22310739716697833,
          -2.349213108241929,
          -4.540773231604708,
          -5.818433524752789,
          -0.8683342467331926,
          -0.45316308385372006,
          -5.364567167342072,
          -1.7242974952948635,
          -6.719684205085495,
          -5.596645670758283,
          -15.074103271979016,
          -3.9350398540779468,
          -1.2605481168594936,
          -7.630785015420217,
          9.760465681720213,
          2.2358139488073294,
          -0.22700622070056184,
          -0.22060726512751905,
          -5.506720326473657,
          3.383710232284362,
          -5.794891236160655,
          -13.102329477061716,
          -6.289034348890474,
          -2.2775943352096286,
          -2.652866004913139,
          -1.9938910153106566,
          4.71420120462538,
          -0.4871563582200842,
          -0.25108727862937913,
          1.8075328608769676,
          -14.578564826646193,
          -2.7997718141364025,
          1.852714181189114,
          3.546193968139539,
          -0.9020883931239737,
          -0.8588780378723442,
          -0.501292351639184,
          -10.278347104078478,
          -11.980339545072207,
          5.125977290108533,
          3.8222037591978415,
          6.571463779708188,
          4.504762969890875,
          -4.3918194419042305,
          0.8928849602171718,
          -12.200413687827531,
          3.0897275823208146,
          6.9055943730696026,
          0.13546531678397908,
          -1.819566140398663,
          1.3965909949685704,
          2.3345137754736833,
          -2.8913232590144924,
          -8.856866716610217,
          3.5115588265496807,
          2.130970107456294,
          -3.8201567117997177,
          -3.0377917237679837,
          1.6468696130308143,
          0.6123555494156749,
          -0.3312243244010227,
          -5.163415310350231,
          -2.4205163254086766,
          -2.55530585570634,
          -7.114852860551976,
          -3.23186815598669,
          -3.086834190149232,
          -1.4488757895844326,
          -5.9144226883934055,
          -4.3283054139322825,
          -1.2820379614278787,
          -3.7892743341920205,
          1.7556446987852408,
          -5.135440605562174,
          -4.189020855911259,
          -3.5915185593179726,
          5.0102626852505825,
          -2.776697593697028,
          -2.9008844252806387,
          -1.218325075879794,
          -2.9211191409594055,
          -3.098977339247425,
          -1.0317066277983762,
          -4.778537038724405,
          -2.432164745046633,
          -2.2095360829731723,
          -1.9588353781861318,
          -2.133485678249751,
          -0.9082762503430247,
          -2.0049189415166526,
          -2.019902968432502,
          -1.496867668320741,
          2.280325986601111,
          -1.0187218882769418,
          -1.643147740638049,
          -0.7990637308203201,
          -1.1759251203705896,
          1.644697640087315,
          1.1563986399081883,
          0.0808435342125053,
          0.4341788770633236,
          1.262558313894738,
          -0.825776939778339,
          -0.142142751094486,
          -0.3946530364532421,
          -0.3140933384596156,
          -1.2574023829670828,
          -0.40805445696136616,
          1.0853514178587236,
          -0.3563512022244328,
          0.34584019718783515,
          -0.16424946369713908,
          0.43527866198277765,
          -0.4780005606241319,
          -0.24813233781141225,
          -1.5551274537388022,
          -1.6547947536511984,
          -0.6831353083745612,
          -1.3966495058993842,
          -1.0094661963098863,
          -1.1293091018132433,
          -1.9123306469854042,
          -0.5612414567277912,
          -0.606397285355311,
          -1.6029540295113915,
          -1.2272956092845004,
          -0.3996102439691998,
          -0.6153629258055555,
          2.2402441328035203,
          0.889288470330798,
          0.7298988983451882,
          2.0544002540429602,
          2.445809968917959,
          2.542678575692168,
          0.6568037183951088,
          0.536549910762894,
          1.2401913072043882,
          2.4169880970857642,
          1.3564455950763201,
          0.9140561608722976,
          1.549034521484704,
          1.7754449467314002,
          1.7395599567536366,
          2.854415329050564,
          1.8262263356826964,
          1.1076412337264152,
          0.3837258503129326,
          1.7071928446644447,
          1.4935176728254227,
          0.9896863686390958,
          2.0585732546465385,
          1.3470404821249704,
          1.1489086431737585,
          1.30929643541592,
          2.0865241989112193,
          1.911051202161651,
          1.2214042583911777,
          2.111033728355391,
          0.6308905813584251,
          4.698393953488285,
          0.20615360939849858,
          3.744008075985292,
          2.3459091057603354,
          1.6540656281480515,
          2.2492656758743292,
          1.242009510028194,
          0.80407539651706,
          1.2169710861935337,
          2.0796277254455915,
          -2.141984593153257,
          -9.940715593921404,
          3.094870249360996,
          3.1211468529689803,
          13.346399371028063,
          -2.3645093573145193,
          0.609653365377231,
          -2.819465141446628,
          2.5270563240268586,
          -4.750642096778298,
          1.3044568526938427,
          5.043149888383844,
          -4.610287011194431,
          -0.41287305466601243,
          2.6851119357315962,
          2.0144771914194393,
          -4.666792160130887,
          -2.1066538223347453,
          0.6409892746689625,
          2.475989373281518,
          1.370406324307821,
          -12.2520944717748,
          -1.9816328316598129,
          36.18471084954831,
          -0.5105424133176809,
          -0.9410046484347934,
          -0.3727165098208304,
          9.66979251602785,
          0.45867396648945313,
          -0.4556096257646663,
          0.6626301694548864,
          1.8192892158508052,
          2.656626413244596,
          6.7757707876451185,
          4.261597342328275,
          -2.711710011540405,
          4.62240114792424,
          -0.3909550254344908,
          1.839342223275556,
          1.6392030743193782,
          0.13202535279643207,
          2.5210172661381485,
          6.994316431185239,
          0.0145752402570977,
          -4.262897200907854,
          0.7086278500574751,
          10.781867031651831,
          0.7032630504566846,
          6.713683083898084,
          3.4127409818051015,
          0.36066075773222905,
          -0.4743405856023804,
          -0.022435974877567863,
          -2.966904713406001,
          1.4462167768932297,
          -9.385464973523371,
          -6.18734219043308,
          0.9433883680489791,
          -0.41494794944061675,
          -2.617924423009451,
          0.3852422124648326,
          -4.832221181339554,
          -8.18355272026127,
          -3.012931588131257,
          -5.632082255340572,
          -2.9684422822010683,
          -4.606273295128448,
          1.3704170815452272,
          -0.40281212726637466,
          0.8653301439194526,
          -1.1417922496048365,
          -0.08207816528203532,
          -0.4863401957398067,
          -0.9325652426016998,
          0.5985364033391921,
          0.4945710213501737,
          0.03204576624817678,
          -0.07167074110249383,
          -0.5913746654116778,
          1.3627008414810773,
          -0.35185036993796265,
          0.21842260598343682,
          -5.816603529314684,
          -2.6290675395903764,
          4.6607198740473095,
          2.467543833287825,
          4.36465647972286,
          6.403806371506533,
          -14.019141071358009,
          -1.332153459260633,
          4.0526722359664635,
          4.970581868367839,
          0.8192675819028248,
          3.2191472048818284,
          0.2497107562346879,
          -2.9153147406766817,
          -6.03592894192181,
          9.689914505838816,
          -11.320632720306238,
          -5.416840709156468,
          2.2148717997649077,
          4.502551430810289,
          0.34350076060875523,
          -6.491111496646835,
          0.18484237451714725,
          6.76488871048336,
          2.2727541660643267,
          0.7727346064589521,
          9.53020797826568,
          -2.3092339242070783,
          -2.0834122396994235,
          -6.097007386126679,
          -1.792615635833036,
          -1.5239891868137758,
          -4.354245062492085,
          7.602567493351838,
          11.521937701049898,
          2.579156558418213,
          -2.8901909662076797,
          15.144515819301576,
          -2.6955641529869645,
          -3.941161565558402,
          4.209688202961954,
          0.47233761082228387,
          5.991254935294005,
          18.950861094003198,
          -3.353805398667681,
          3.075056372545533,
          8.894640989488742,
          -8.372757622743727,
          -6.120811699580965,
          5.0921520574871035,
          7.589136402729374,
          -1.336936679531766,
          -1.1857402388492975,
          -1.79359528385343,
          -4.419272319041088,
          2.855051764725902,
          -6.862021716376308,
          -5.177909890388397,
          1.141023563853967,
          -0.23848455295551987,
          -5.0076366319511445,
          4.766522305718155,
          6.084342506223095,
          8.84684703026114,
          -0.15269803294914205,
          -1.1229195924212219,
          -2.4112007462537886,
          -3.4571566759678123,
          -2.659328239779919,
          -3.943158725136554,
          -1.8104454414598847,
          -3.0293486355384824,
          -1.8808973441903247,
          -9.3684209866648,
          1.630794319375789,
          6.880394648044949,
          5.724083177230093,
          -12.099985210539032,
          2.2968920024657438,
          0.6695010410732145,
          -0.45377486439247683,
          -0.09872841038968669,
          -0.47470099084495604,
          -2.1972282609863125,
          2.2997014050557354,
          6.080750207972023,
          3.0052141205915084,
          2.378616480850016,
          2.4288854115239884,
          3.8362442012558566,
          2.7166029587563822,
          3.25704144308295,
          5.106024005387467,
          2.563391294283475,
          0.859589525630635,
          1.0575971589490305,
          1.9622015307579497
         ],
         "yaxis": "y"
        }
       ],
       "layout": {
        "legend": {
         "tracegroupgap": 0
        },
        "margin": {
         "t": 60
        },
        "template": {
         "data": {
          "bar": [
           {
            "error_x": {
             "color": "#2a3f5f"
            },
            "error_y": {
             "color": "#2a3f5f"
            },
            "marker": {
             "line": {
              "color": "#E5ECF6",
              "width": 0.5
             },
             "pattern": {
              "fillmode": "overlay",
              "size": 10,
              "solidity": 0.2
             }
            },
            "type": "bar"
           }
          ],
          "barpolar": [
           {
            "marker": {
             "line": {
              "color": "#E5ECF6",
              "width": 0.5
             },
             "pattern": {
              "fillmode": "overlay",
              "size": 10,
              "solidity": 0.2
             }
            },
            "type": "barpolar"
           }
          ],
          "carpet": [
           {
            "aaxis": {
             "endlinecolor": "#2a3f5f",
             "gridcolor": "white",
             "linecolor": "white",
             "minorgridcolor": "white",
             "startlinecolor": "#2a3f5f"
            },
            "baxis": {
             "endlinecolor": "#2a3f5f",
             "gridcolor": "white",
             "linecolor": "white",
             "minorgridcolor": "white",
             "startlinecolor": "#2a3f5f"
            },
            "type": "carpet"
           }
          ],
          "choropleth": [
           {
            "colorbar": {
             "outlinewidth": 0,
             "ticks": ""
            },
            "type": "choropleth"
           }
          ],
          "contour": [
           {
            "colorbar": {
             "outlinewidth": 0,
             "ticks": ""
            },
            "colorscale": [
             [
              0,
              "#0d0887"
             ],
             [
              0.1111111111111111,
              "#46039f"
             ],
             [
              0.2222222222222222,
              "#7201a8"
             ],
             [
              0.3333333333333333,
              "#9c179e"
             ],
             [
              0.4444444444444444,
              "#bd3786"
             ],
             [
              0.5555555555555556,
              "#d8576b"
             ],
             [
              0.6666666666666666,
              "#ed7953"
             ],
             [
              0.7777777777777778,
              "#fb9f3a"
             ],
             [
              0.8888888888888888,
              "#fdca26"
             ],
             [
              1,
              "#f0f921"
             ]
            ],
            "type": "contour"
           }
          ],
          "contourcarpet": [
           {
            "colorbar": {
             "outlinewidth": 0,
             "ticks": ""
            },
            "type": "contourcarpet"
           }
          ],
          "heatmap": [
           {
            "colorbar": {
             "outlinewidth": 0,
             "ticks": ""
            },
            "colorscale": [
             [
              0,
              "#0d0887"
             ],
             [
              0.1111111111111111,
              "#46039f"
             ],
             [
              0.2222222222222222,
              "#7201a8"
             ],
             [
              0.3333333333333333,
              "#9c179e"
             ],
             [
              0.4444444444444444,
              "#bd3786"
             ],
             [
              0.5555555555555556,
              "#d8576b"
             ],
             [
              0.6666666666666666,
              "#ed7953"
             ],
             [
              0.7777777777777778,
              "#fb9f3a"
             ],
             [
              0.8888888888888888,
              "#fdca26"
             ],
             [
              1,
              "#f0f921"
             ]
            ],
            "type": "heatmap"
           }
          ],
          "heatmapgl": [
           {
            "colorbar": {
             "outlinewidth": 0,
             "ticks": ""
            },
            "colorscale": [
             [
              0,
              "#0d0887"
             ],
             [
              0.1111111111111111,
              "#46039f"
             ],
             [
              0.2222222222222222,
              "#7201a8"
             ],
             [
              0.3333333333333333,
              "#9c179e"
             ],
             [
              0.4444444444444444,
              "#bd3786"
             ],
             [
              0.5555555555555556,
              "#d8576b"
             ],
             [
              0.6666666666666666,
              "#ed7953"
             ],
             [
              0.7777777777777778,
              "#fb9f3a"
             ],
             [
              0.8888888888888888,
              "#fdca26"
             ],
             [
              1,
              "#f0f921"
             ]
            ],
            "type": "heatmapgl"
           }
          ],
          "histogram": [
           {
            "marker": {
             "pattern": {
              "fillmode": "overlay",
              "size": 10,
              "solidity": 0.2
             }
            },
            "type": "histogram"
           }
          ],
          "histogram2d": [
           {
            "colorbar": {
             "outlinewidth": 0,
             "ticks": ""
            },
            "colorscale": [
             [
              0,
              "#0d0887"
             ],
             [
              0.1111111111111111,
              "#46039f"
             ],
             [
              0.2222222222222222,
              "#7201a8"
             ],
             [
              0.3333333333333333,
              "#9c179e"
             ],
             [
              0.4444444444444444,
              "#bd3786"
             ],
             [
              0.5555555555555556,
              "#d8576b"
             ],
             [
              0.6666666666666666,
              "#ed7953"
             ],
             [
              0.7777777777777778,
              "#fb9f3a"
             ],
             [
              0.8888888888888888,
              "#fdca26"
             ],
             [
              1,
              "#f0f921"
             ]
            ],
            "type": "histogram2d"
           }
          ],
          "histogram2dcontour": [
           {
            "colorbar": {
             "outlinewidth": 0,
             "ticks": ""
            },
            "colorscale": [
             [
              0,
              "#0d0887"
             ],
             [
              0.1111111111111111,
              "#46039f"
             ],
             [
              0.2222222222222222,
              "#7201a8"
             ],
             [
              0.3333333333333333,
              "#9c179e"
             ],
             [
              0.4444444444444444,
              "#bd3786"
             ],
             [
              0.5555555555555556,
              "#d8576b"
             ],
             [
              0.6666666666666666,
              "#ed7953"
             ],
             [
              0.7777777777777778,
              "#fb9f3a"
             ],
             [
              0.8888888888888888,
              "#fdca26"
             ],
             [
              1,
              "#f0f921"
             ]
            ],
            "type": "histogram2dcontour"
           }
          ],
          "mesh3d": [
           {
            "colorbar": {
             "outlinewidth": 0,
             "ticks": ""
            },
            "type": "mesh3d"
           }
          ],
          "parcoords": [
           {
            "line": {
             "colorbar": {
              "outlinewidth": 0,
              "ticks": ""
             }
            },
            "type": "parcoords"
           }
          ],
          "pie": [
           {
            "automargin": true,
            "type": "pie"
           }
          ],
          "scatter": [
           {
            "fillpattern": {
             "fillmode": "overlay",
             "size": 10,
             "solidity": 0.2
            },
            "type": "scatter"
           }
          ],
          "scatter3d": [
           {
            "line": {
             "colorbar": {
              "outlinewidth": 0,
              "ticks": ""
             }
            },
            "marker": {
             "colorbar": {
              "outlinewidth": 0,
              "ticks": ""
             }
            },
            "type": "scatter3d"
           }
          ],
          "scattercarpet": [
           {
            "marker": {
             "colorbar": {
              "outlinewidth": 0,
              "ticks": ""
             }
            },
            "type": "scattercarpet"
           }
          ],
          "scattergeo": [
           {
            "marker": {
             "colorbar": {
              "outlinewidth": 0,
              "ticks": ""
             }
            },
            "type": "scattergeo"
           }
          ],
          "scattergl": [
           {
            "marker": {
             "colorbar": {
              "outlinewidth": 0,
              "ticks": ""
             }
            },
            "type": "scattergl"
           }
          ],
          "scattermapbox": [
           {
            "marker": {
             "colorbar": {
              "outlinewidth": 0,
              "ticks": ""
             }
            },
            "type": "scattermapbox"
           }
          ],
          "scatterpolar": [
           {
            "marker": {
             "colorbar": {
              "outlinewidth": 0,
              "ticks": ""
             }
            },
            "type": "scatterpolar"
           }
          ],
          "scatterpolargl": [
           {
            "marker": {
             "colorbar": {
              "outlinewidth": 0,
              "ticks": ""
             }
            },
            "type": "scatterpolargl"
           }
          ],
          "scatterternary": [
           {
            "marker": {
             "colorbar": {
              "outlinewidth": 0,
              "ticks": ""
             }
            },
            "type": "scatterternary"
           }
          ],
          "surface": [
           {
            "colorbar": {
             "outlinewidth": 0,
             "ticks": ""
            },
            "colorscale": [
             [
              0,
              "#0d0887"
             ],
             [
              0.1111111111111111,
              "#46039f"
             ],
             [
              0.2222222222222222,
              "#7201a8"
             ],
             [
              0.3333333333333333,
              "#9c179e"
             ],
             [
              0.4444444444444444,
              "#bd3786"
             ],
             [
              0.5555555555555556,
              "#d8576b"
             ],
             [
              0.6666666666666666,
              "#ed7953"
             ],
             [
              0.7777777777777778,
              "#fb9f3a"
             ],
             [
              0.8888888888888888,
              "#fdca26"
             ],
             [
              1,
              "#f0f921"
             ]
            ],
            "type": "surface"
           }
          ],
          "table": [
           {
            "cells": {
             "fill": {
              "color": "#EBF0F8"
             },
             "line": {
              "color": "white"
             }
            },
            "header": {
             "fill": {
              "color": "#C8D4E3"
             },
             "line": {
              "color": "white"
             }
            },
            "type": "table"
           }
          ]
         },
         "layout": {
          "annotationdefaults": {
           "arrowcolor": "#2a3f5f",
           "arrowhead": 0,
           "arrowwidth": 1
          },
          "autotypenumbers": "strict",
          "coloraxis": {
           "colorbar": {
            "outlinewidth": 0,
            "ticks": ""
           }
          },
          "colorscale": {
           "diverging": [
            [
             0,
             "#8e0152"
            ],
            [
             0.1,
             "#c51b7d"
            ],
            [
             0.2,
             "#de77ae"
            ],
            [
             0.3,
             "#f1b6da"
            ],
            [
             0.4,
             "#fde0ef"
            ],
            [
             0.5,
             "#f7f7f7"
            ],
            [
             0.6,
             "#e6f5d0"
            ],
            [
             0.7,
             "#b8e186"
            ],
            [
             0.8,
             "#7fbc41"
            ],
            [
             0.9,
             "#4d9221"
            ],
            [
             1,
             "#276419"
            ]
           ],
           "sequential": [
            [
             0,
             "#0d0887"
            ],
            [
             0.1111111111111111,
             "#46039f"
            ],
            [
             0.2222222222222222,
             "#7201a8"
            ],
            [
             0.3333333333333333,
             "#9c179e"
            ],
            [
             0.4444444444444444,
             "#bd3786"
            ],
            [
             0.5555555555555556,
             "#d8576b"
            ],
            [
             0.6666666666666666,
             "#ed7953"
            ],
            [
             0.7777777777777778,
             "#fb9f3a"
            ],
            [
             0.8888888888888888,
             "#fdca26"
            ],
            [
             1,
             "#f0f921"
            ]
           ],
           "sequentialminus": [
            [
             0,
             "#0d0887"
            ],
            [
             0.1111111111111111,
             "#46039f"
            ],
            [
             0.2222222222222222,
             "#7201a8"
            ],
            [
             0.3333333333333333,
             "#9c179e"
            ],
            [
             0.4444444444444444,
             "#bd3786"
            ],
            [
             0.5555555555555556,
             "#d8576b"
            ],
            [
             0.6666666666666666,
             "#ed7953"
            ],
            [
             0.7777777777777778,
             "#fb9f3a"
            ],
            [
             0.8888888888888888,
             "#fdca26"
            ],
            [
             1,
             "#f0f921"
            ]
           ]
          },
          "colorway": [
           "#636efa",
           "#EF553B",
           "#00cc96",
           "#ab63fa",
           "#FFA15A",
           "#19d3f3",
           "#FF6692",
           "#B6E880",
           "#FF97FF",
           "#FECB52"
          ],
          "font": {
           "color": "#2a3f5f"
          },
          "geo": {
           "bgcolor": "white",
           "lakecolor": "white",
           "landcolor": "#E5ECF6",
           "showlakes": true,
           "showland": true,
           "subunitcolor": "white"
          },
          "hoverlabel": {
           "align": "left"
          },
          "hovermode": "closest",
          "mapbox": {
           "style": "light"
          },
          "paper_bgcolor": "white",
          "plot_bgcolor": "#E5ECF6",
          "polar": {
           "angularaxis": {
            "gridcolor": "white",
            "linecolor": "white",
            "ticks": ""
           },
           "bgcolor": "#E5ECF6",
           "radialaxis": {
            "gridcolor": "white",
            "linecolor": "white",
            "ticks": ""
           }
          },
          "scene": {
           "xaxis": {
            "backgroundcolor": "#E5ECF6",
            "gridcolor": "white",
            "gridwidth": 2,
            "linecolor": "white",
            "showbackground": true,
            "ticks": "",
            "zerolinecolor": "white"
           },
           "yaxis": {
            "backgroundcolor": "#E5ECF6",
            "gridcolor": "white",
            "gridwidth": 2,
            "linecolor": "white",
            "showbackground": true,
            "ticks": "",
            "zerolinecolor": "white"
           },
           "zaxis": {
            "backgroundcolor": "#E5ECF6",
            "gridcolor": "white",
            "gridwidth": 2,
            "linecolor": "white",
            "showbackground": true,
            "ticks": "",
            "zerolinecolor": "white"
           }
          },
          "shapedefaults": {
           "line": {
            "color": "#2a3f5f"
           }
          },
          "ternary": {
           "aaxis": {
            "gridcolor": "white",
            "linecolor": "white",
            "ticks": ""
           },
           "baxis": {
            "gridcolor": "white",
            "linecolor": "white",
            "ticks": ""
           },
           "bgcolor": "#E5ECF6",
           "caxis": {
            "gridcolor": "white",
            "linecolor": "white",
            "ticks": ""
           }
          },
          "title": {
           "x": 0.05
          },
          "xaxis": {
           "automargin": true,
           "gridcolor": "white",
           "linecolor": "white",
           "ticks": "",
           "title": {
            "standoff": 15
           },
           "zerolinecolor": "white",
           "zerolinewidth": 2
          },
          "yaxis": {
           "automargin": true,
           "gridcolor": "white",
           "linecolor": "white",
           "ticks": "",
           "title": {
            "standoff": 15
           },
           "zerolinecolor": "white",
           "zerolinewidth": 2
          }
         }
        },
        "xaxis": {
         "anchor": "y",
         "domain": [
          0,
          1
         ],
         "title": {
          "text": "0"
         }
        },
        "yaxis": {
         "anchor": "x",
         "domain": [
          0,
          1
         ],
         "title": {
          "text": "1"
         }
        }
       }
      }
     },
     "metadata": {},
     "output_type": "display_data"
    }
   ],
   "source": [
    "#interactive plot of coordinates df with their track names\n",
    "import plotly.express as px\n",
    "fig = px.scatter(coordinates_df, x=0, y=1, hover_data=['track.name', 'track.artistName'])\n",
    "fig.show()"
   ]
  },
  {
   "cell_type": "markdown",
   "metadata": {},
   "source": [
    "## Creating Playlists IRL"
   ]
  },
  {
   "cell_type": "code",
   "execution_count": 40,
   "metadata": {},
   "outputs": [],
   "source": [
    "import spotipy\n",
    "from spotipy.oauth2 import SpotifyOAuth\n",
    "\n",
    "# Set up your Spotify developer credentials\n",
    "\n",
    "SPOTIPY_REDIRECT_URI = 'http://localhost:8000' \n",
    "USERNAME = 'godnamedfred'\n",
    "SCOPE = 'playlist-modify-public'  # Required scope for creating playlists\n",
    "\n",
    "# Authenticate with Spotify\n",
    "auth_manager = SpotifyOAuth(client_id=SPOTIPY_CLIENT_ID,\n",
    "                            client_secret=SPOTIPY_CLIENT_SECRET,\n",
    "                            redirect_uri=SPOTIPY_REDIRECT_URI,\n",
    "                            scope=SCOPE,\n",
    "                            username=USERNAME)\n",
    "sp = spotipy.Spotify(auth_manager=auth_manager)"
   ]
  },
  {
   "cell_type": "code",
   "execution_count": 41,
   "metadata": {},
   "outputs": [
    {
     "name": "stdout",
     "output_type": "stream",
     "text": [
      "New playlist 'Playlist 0' created. ID: 7lYzLT1zvYgDtptRaom23w\n",
      "New playlist 'Playlist 1' created. ID: 7zI7PzrGQVVYjCZNKMouOW\n",
      "New playlist 'Playlist 2' created. ID: 5toqhOFSpRUXjWupRLX79I\n",
      "New playlist 'Playlist 3' created. ID: 4dK242oEsFgfJGgq0P8We6\n",
      "New playlist 'Playlist 4' created. ID: 3dG6EtFxNawek8bvwGX4lg\n",
      "New playlist 'Playlist 5' created. ID: 4NOCFfQsV7ZTYOw1ELPIrq\n",
      "New playlist 'Playlist 6' created. ID: 3EhZ27685ShHZ7zAGZKFAj\n",
      "New playlist 'Playlist 7' created. ID: 0jBw5reagOZl0YzckS6N0U\n",
      "New playlist 'Playlist 8' created. ID: 4gwWaMt2A29Fy9tYeJMW6C\n",
      "New playlist 'Playlist 9' created. ID: 0iE8tsi2A6zNAY7sjiBxmr\n",
      "New playlist 'Playlist 10' created. ID: 27W4e001XPL6GFcm3AzHym\n",
      "New playlist 'Playlist 11' created. ID: 5QnoNGEZOM5JOSgfSlH0Vg\n",
      "New playlist 'Playlist 12' created. ID: 5R7yD2O30juzWp6wcSPPdy\n",
      "New playlist 'Playlist 13' created. ID: 7AHnJ6SdDl5cFN6ujsK4CC\n",
      "New playlist 'Playlist 14' created. ID: 3Zh2ANxJP6Fel5O9NX6qet\n",
      "New playlist 'Playlist 15' created. ID: 5UEcEiMw8uGipxww2YhG78\n",
      "New playlist 'Playlist 16' created. ID: 0PleSahs3bP7zen6Na1ECY\n",
      "New playlist 'Playlist 17' created. ID: 5uuL7sssYPFfgotu6Roclx\n"
     ]
    }
   ],
   "source": [
    "#make a playlist for each cluster\n",
    "playlist_ids = []\n",
    "\n",
    "for i in range(18):\n",
    "    playlist_name = f'Playlist {i}'\n",
    "    playlist_description = 'Created with Spotipy for clustering project Data Mining'\n",
    "    new_playlist = sp.user_playlist_create(user=USERNAME, \n",
    "                                       name=playlist_name, \n",
    "                                       public=True, \n",
    "                                       description=playlist_description)\n",
    "    print(f\"New playlist '{playlist_name}' created. ID: {new_playlist['id']}\")\n",
    "    playlist_ids.append(new_playlist['id'])"
   ]
  },
  {
   "cell_type": "code",
   "execution_count": 42,
   "metadata": {},
   "outputs": [
    {
     "name": "stdout",
     "output_type": "stream",
     "text": [
      "Added 31 tracks to playlist 0.\n",
      "Added 100 tracks to playlist 1.\n",
      "Added 100 tracks to playlist 1.\n",
      "Added 98 tracks to playlist 1.\n",
      "Added 33 tracks to playlist 2.\n",
      "Added 100 tracks to playlist 3.\n",
      "Added 95 tracks to playlist 3.\n",
      "Added 100 tracks to playlist 4.\n",
      "Added 100 tracks to playlist 4.\n",
      "Added 100 tracks to playlist 4.\n",
      "Added 100 tracks to playlist 5.\n",
      "Added 100 tracks to playlist 5.\n",
      "Added 88 tracks to playlist 5.\n",
      "Added 32 tracks to playlist 6.\n",
      "Added 100 tracks to playlist 7.\n",
      "Added 100 tracks to playlist 7.\n",
      "Added 100 tracks to playlist 7.\n",
      "Added 100 tracks to playlist 8.\n",
      "Added 32 tracks to playlist 8.\n",
      "Added 100 tracks to playlist 9.\n",
      "Added 100 tracks to playlist 9.\n",
      "Added 100 tracks to playlist 9.\n",
      "Added 25 tracks to playlist 10.\n",
      "Added 25 tracks to playlist 11.\n",
      "Added 100 tracks to playlist 12.\n",
      "Added 100 tracks to playlist 12.\n",
      "Added 71 tracks to playlist 12.\n",
      "Added 25 tracks to playlist 13.\n",
      "Added 100 tracks to playlist 14.\n",
      "Added 100 tracks to playlist 14.\n",
      "Added 100 tracks to playlist 14.\n"
     ]
    },
    {
     "name": "stderr",
     "output_type": "stream",
     "text": [
      "HTTP Error for POST to https://api.spotify.com/v1/playlists/5UEcEiMw8uGipxww2YhG78/tracks with Params: {'position': None} returned 400 due to Error parsing JSON.\n"
     ]
    },
    {
     "ename": "SpotifyException",
     "evalue": "http status: 400, code:-1 - https://api.spotify.com/v1/playlists/5UEcEiMw8uGipxww2YhG78/tracks:\n Error parsing JSON., reason: None",
     "output_type": "error",
     "traceback": [
      "\u001b[1;31m---------------------------------------------------------------------------\u001b[0m",
      "\u001b[1;31mHTTPError\u001b[0m                                 Traceback (most recent call last)",
      "File \u001b[1;32mc:\\Users\\jesse\\anaconda3\\Lib\\site-packages\\spotipy\\client.py:271\u001b[0m, in \u001b[0;36mSpotify._internal_call\u001b[1;34m(self, method, url, payload, params)\u001b[0m\n\u001b[0;32m    266\u001b[0m response \u001b[38;5;241m=\u001b[39m \u001b[38;5;28mself\u001b[39m\u001b[38;5;241m.\u001b[39m_session\u001b[38;5;241m.\u001b[39mrequest(\n\u001b[0;32m    267\u001b[0m     method, url, headers\u001b[38;5;241m=\u001b[39mheaders, proxies\u001b[38;5;241m=\u001b[39m\u001b[38;5;28mself\u001b[39m\u001b[38;5;241m.\u001b[39mproxies,\n\u001b[0;32m    268\u001b[0m     timeout\u001b[38;5;241m=\u001b[39m\u001b[38;5;28mself\u001b[39m\u001b[38;5;241m.\u001b[39mrequests_timeout, \u001b[38;5;241m*\u001b[39m\u001b[38;5;241m*\u001b[39margs\n\u001b[0;32m    269\u001b[0m )\n\u001b[1;32m--> 271\u001b[0m \u001b[43mresponse\u001b[49m\u001b[38;5;241;43m.\u001b[39;49m\u001b[43mraise_for_status\u001b[49m\u001b[43m(\u001b[49m\u001b[43m)\u001b[49m\n\u001b[0;32m    272\u001b[0m results \u001b[38;5;241m=\u001b[39m response\u001b[38;5;241m.\u001b[39mjson()\n",
      "File \u001b[1;32mc:\\Users\\jesse\\anaconda3\\Lib\\site-packages\\requests\\models.py:943\u001b[0m, in \u001b[0;36mResponse.raise_for_status\u001b[1;34m(self)\u001b[0m\n\u001b[0;32m    942\u001b[0m \u001b[38;5;28;01mif\u001b[39;00m http_error_msg:\n\u001b[1;32m--> 943\u001b[0m     \u001b[38;5;28;01mraise\u001b[39;00m HTTPError(http_error_msg, response\u001b[38;5;241m=\u001b[39m\u001b[38;5;28mself\u001b[39m)\n",
      "\u001b[1;31mHTTPError\u001b[0m: 400 Client Error: Bad Request for url: https://api.spotify.com/v1/playlists/5UEcEiMw8uGipxww2YhG78/tracks",
      "\nDuring handling of the above exception, another exception occurred:\n",
      "\u001b[1;31mSpotifyException\u001b[0m                          Traceback (most recent call last)",
      "Cell \u001b[1;32mIn[42], line 13\u001b[0m\n\u001b[0;32m     11\u001b[0m         \u001b[38;5;28mprint\u001b[39m(\u001b[38;5;124mf\u001b[39m\u001b[38;5;124m\"\u001b[39m\u001b[38;5;124mAdded \u001b[39m\u001b[38;5;132;01m{\u001b[39;00m\u001b[38;5;28mlen\u001b[39m(chunk)\u001b[38;5;132;01m}\u001b[39;00m\u001b[38;5;124m tracks to playlist \u001b[39m\u001b[38;5;132;01m{\u001b[39;00mi\u001b[38;5;132;01m}\u001b[39;00m\u001b[38;5;124m.\u001b[39m\u001b[38;5;124m\"\u001b[39m)\n\u001b[0;32m     12\u001b[0m \u001b[38;5;28;01melse\u001b[39;00m:\n\u001b[1;32m---> 13\u001b[0m     \u001b[43msp\u001b[49m\u001b[38;5;241;43m.\u001b[39;49m\u001b[43muser_playlist_add_tracks\u001b[49m\u001b[43m(\u001b[49m\u001b[43muser\u001b[49m\u001b[38;5;241;43m=\u001b[39;49m\u001b[43mUSERNAME\u001b[49m\u001b[43m,\u001b[49m\u001b[43m \u001b[49m\n\u001b[0;32m     14\u001b[0m \u001b[43m                                \u001b[49m\u001b[43mplaylist_id\u001b[49m\u001b[38;5;241;43m=\u001b[39;49m\u001b[43mplaylist_ids\u001b[49m\u001b[43m[\u001b[49m\u001b[43mi\u001b[49m\u001b[43m]\u001b[49m\u001b[43m,\u001b[49m\u001b[43m \u001b[49m\n\u001b[0;32m     15\u001b[0m \u001b[43m                                \u001b[49m\u001b[43mtracks\u001b[49m\u001b[38;5;241;43m=\u001b[39;49m\u001b[43mtrack_ids\u001b[49m\u001b[43m)\u001b[49m\n\u001b[0;32m     16\u001b[0m     \u001b[38;5;28mprint\u001b[39m(\u001b[38;5;124mf\u001b[39m\u001b[38;5;124m\"\u001b[39m\u001b[38;5;124mAdded \u001b[39m\u001b[38;5;132;01m{\u001b[39;00m\u001b[38;5;28mlen\u001b[39m(track_ids)\u001b[38;5;132;01m}\u001b[39;00m\u001b[38;5;124m tracks to playlist \u001b[39m\u001b[38;5;132;01m{\u001b[39;00mi\u001b[38;5;132;01m}\u001b[39;00m\u001b[38;5;124m.\u001b[39m\u001b[38;5;124m\"\u001b[39m)\n",
      "File \u001b[1;32mc:\\Users\\jesse\\anaconda3\\Lib\\site-packages\\spotipy\\client.py:876\u001b[0m, in \u001b[0;36mSpotify.user_playlist_add_tracks\u001b[1;34m(self, user, playlist_id, tracks, position)\u001b[0m\n\u001b[0;32m    867\u001b[0m \u001b[38;5;124;03m\"\"\" Adds tracks to a playlist\u001b[39;00m\n\u001b[0;32m    868\u001b[0m \n\u001b[0;32m    869\u001b[0m \u001b[38;5;124;03m    Parameters:\u001b[39;00m\n\u001b[1;32m   (...)\u001b[0m\n\u001b[0;32m    873\u001b[0m \u001b[38;5;124;03m        - position - the position to add the tracks\u001b[39;00m\n\u001b[0;32m    874\u001b[0m \u001b[38;5;124;03m\"\"\"\u001b[39;00m\n\u001b[0;32m    875\u001b[0m tracks \u001b[38;5;241m=\u001b[39m [\u001b[38;5;28mself\u001b[39m\u001b[38;5;241m.\u001b[39m_get_uri(\u001b[38;5;124m\"\u001b[39m\u001b[38;5;124mtrack\u001b[39m\u001b[38;5;124m\"\u001b[39m, tid) \u001b[38;5;28;01mfor\u001b[39;00m tid \u001b[38;5;129;01min\u001b[39;00m tracks]\n\u001b[1;32m--> 876\u001b[0m \u001b[38;5;28;01mreturn\u001b[39;00m \u001b[38;5;28;43mself\u001b[39;49m\u001b[38;5;241;43m.\u001b[39;49m\u001b[43mplaylist_add_items\u001b[49m\u001b[43m(\u001b[49m\u001b[43mplaylist_id\u001b[49m\u001b[43m,\u001b[49m\u001b[43m \u001b[49m\u001b[43mtracks\u001b[49m\u001b[43m,\u001b[49m\u001b[43m \u001b[49m\u001b[43mposition\u001b[49m\u001b[43m)\u001b[49m\n",
      "File \u001b[1;32mc:\\Users\\jesse\\anaconda3\\Lib\\site-packages\\spotipy\\client.py:1085\u001b[0m, in \u001b[0;36mSpotify.playlist_add_items\u001b[1;34m(self, playlist_id, items, position)\u001b[0m\n\u001b[0;32m   1083\u001b[0m plid \u001b[38;5;241m=\u001b[39m \u001b[38;5;28mself\u001b[39m\u001b[38;5;241m.\u001b[39m_get_id(\u001b[38;5;124m\"\u001b[39m\u001b[38;5;124mplaylist\u001b[39m\u001b[38;5;124m\"\u001b[39m, playlist_id)\n\u001b[0;32m   1084\u001b[0m ftracks \u001b[38;5;241m=\u001b[39m [\u001b[38;5;28mself\u001b[39m\u001b[38;5;241m.\u001b[39m_get_uri(\u001b[38;5;124m\"\u001b[39m\u001b[38;5;124mtrack\u001b[39m\u001b[38;5;124m\"\u001b[39m, tid) \u001b[38;5;28;01mfor\u001b[39;00m tid \u001b[38;5;129;01min\u001b[39;00m items]\n\u001b[1;32m-> 1085\u001b[0m \u001b[38;5;28;01mreturn\u001b[39;00m \u001b[38;5;28;43mself\u001b[39;49m\u001b[38;5;241;43m.\u001b[39;49m\u001b[43m_post\u001b[49m\u001b[43m(\u001b[49m\n\u001b[0;32m   1086\u001b[0m \u001b[43m    \u001b[49m\u001b[38;5;124;43m\"\u001b[39;49m\u001b[38;5;124;43mplaylists/\u001b[39;49m\u001b[38;5;132;43;01m%s\u001b[39;49;00m\u001b[38;5;124;43m/tracks\u001b[39;49m\u001b[38;5;124;43m\"\u001b[39;49m\u001b[43m \u001b[49m\u001b[38;5;241;43m%\u001b[39;49m\u001b[43m \u001b[49m\u001b[43m(\u001b[49m\u001b[43mplid\u001b[49m\u001b[43m)\u001b[49m\u001b[43m,\u001b[49m\n\u001b[0;32m   1087\u001b[0m \u001b[43m    \u001b[49m\u001b[43mpayload\u001b[49m\u001b[38;5;241;43m=\u001b[39;49m\u001b[43mftracks\u001b[49m\u001b[43m,\u001b[49m\n\u001b[0;32m   1088\u001b[0m \u001b[43m    \u001b[49m\u001b[43mposition\u001b[49m\u001b[38;5;241;43m=\u001b[39;49m\u001b[43mposition\u001b[49m\u001b[43m,\u001b[49m\n\u001b[0;32m   1089\u001b[0m \u001b[43m\u001b[49m\u001b[43m)\u001b[49m\n",
      "File \u001b[1;32mc:\\Users\\jesse\\anaconda3\\Lib\\site-packages\\spotipy\\client.py:328\u001b[0m, in \u001b[0;36mSpotify._post\u001b[1;34m(self, url, args, payload, **kwargs)\u001b[0m\n\u001b[0;32m    326\u001b[0m \u001b[38;5;28;01mif\u001b[39;00m args:\n\u001b[0;32m    327\u001b[0m     kwargs\u001b[38;5;241m.\u001b[39mupdate(args)\n\u001b[1;32m--> 328\u001b[0m \u001b[38;5;28;01mreturn\u001b[39;00m \u001b[38;5;28;43mself\u001b[39;49m\u001b[38;5;241;43m.\u001b[39;49m\u001b[43m_internal_call\u001b[49m\u001b[43m(\u001b[49m\u001b[38;5;124;43m\"\u001b[39;49m\u001b[38;5;124;43mPOST\u001b[39;49m\u001b[38;5;124;43m\"\u001b[39;49m\u001b[43m,\u001b[49m\u001b[43m \u001b[49m\u001b[43murl\u001b[49m\u001b[43m,\u001b[49m\u001b[43m \u001b[49m\u001b[43mpayload\u001b[49m\u001b[43m,\u001b[49m\u001b[43m \u001b[49m\u001b[43mkwargs\u001b[49m\u001b[43m)\u001b[49m\n",
      "File \u001b[1;32mc:\\Users\\jesse\\anaconda3\\Lib\\site-packages\\spotipy\\client.py:293\u001b[0m, in \u001b[0;36mSpotify._internal_call\u001b[1;34m(self, method, url, payload, params)\u001b[0m\n\u001b[0;32m    286\u001b[0m         reason \u001b[38;5;241m=\u001b[39m \u001b[38;5;28;01mNone\u001b[39;00m\n\u001b[0;32m    288\u001b[0m     logger\u001b[38;5;241m.\u001b[39merror(\n\u001b[0;32m    289\u001b[0m         \u001b[38;5;124m'\u001b[39m\u001b[38;5;124mHTTP Error for \u001b[39m\u001b[38;5;132;01m%s\u001b[39;00m\u001b[38;5;124m to \u001b[39m\u001b[38;5;132;01m%s\u001b[39;00m\u001b[38;5;124m with Params: \u001b[39m\u001b[38;5;132;01m%s\u001b[39;00m\u001b[38;5;124m returned \u001b[39m\u001b[38;5;132;01m%s\u001b[39;00m\u001b[38;5;124m due to \u001b[39m\u001b[38;5;132;01m%s\u001b[39;00m\u001b[38;5;124m'\u001b[39m,\n\u001b[0;32m    290\u001b[0m         method, url, args\u001b[38;5;241m.\u001b[39mget(\u001b[38;5;124m\"\u001b[39m\u001b[38;5;124mparams\u001b[39m\u001b[38;5;124m\"\u001b[39m), response\u001b[38;5;241m.\u001b[39mstatus_code, msg\n\u001b[0;32m    291\u001b[0m     )\n\u001b[1;32m--> 293\u001b[0m     \u001b[38;5;28;01mraise\u001b[39;00m SpotifyException(\n\u001b[0;32m    294\u001b[0m         response\u001b[38;5;241m.\u001b[39mstatus_code,\n\u001b[0;32m    295\u001b[0m         \u001b[38;5;241m-\u001b[39m\u001b[38;5;241m1\u001b[39m,\n\u001b[0;32m    296\u001b[0m         \u001b[38;5;124m\"\u001b[39m\u001b[38;5;132;01m%s\u001b[39;00m\u001b[38;5;124m:\u001b[39m\u001b[38;5;130;01m\\n\u001b[39;00m\u001b[38;5;124m \u001b[39m\u001b[38;5;132;01m%s\u001b[39;00m\u001b[38;5;124m\"\u001b[39m \u001b[38;5;241m%\u001b[39m (response\u001b[38;5;241m.\u001b[39murl, msg),\n\u001b[0;32m    297\u001b[0m         reason\u001b[38;5;241m=\u001b[39mreason,\n\u001b[0;32m    298\u001b[0m         headers\u001b[38;5;241m=\u001b[39mresponse\u001b[38;5;241m.\u001b[39mheaders,\n\u001b[0;32m    299\u001b[0m     )\n\u001b[0;32m    300\u001b[0m \u001b[38;5;28;01mexcept\u001b[39;00m requests\u001b[38;5;241m.\u001b[39mexceptions\u001b[38;5;241m.\u001b[39mRetryError \u001b[38;5;28;01mas\u001b[39;00m retry_error:\n\u001b[0;32m    301\u001b[0m     request \u001b[38;5;241m=\u001b[39m retry_error\u001b[38;5;241m.\u001b[39mrequest\n",
      "\u001b[1;31mSpotifyException\u001b[0m: http status: 400, code:-1 - https://api.spotify.com/v1/playlists/5UEcEiMw8uGipxww2YhG78/tracks:\n Error parsing JSON., reason: None"
     ]
    }
   ],
   "source": [
    "#for each cluster, get the track ids and add them to the playlist. If cluster is bigger than 100, split into 100 track chunks\n",
    "for i in range(18):\n",
    "    cluster = coordinates_df[coordinates_df['cluster'] == i]\n",
    "    track_ids = cluster['track.id'].tolist()\n",
    "    if len(track_ids) > 100:\n",
    "        track_id_chunks = [track_ids[x:x+100] for x in range(0, len(track_ids), 100)]\n",
    "        for chunk in track_id_chunks:\n",
    "            sp.user_playlist_add_tracks(user=USERNAME, \n",
    "                                        playlist_id=playlist_ids[i], \n",
    "                                        tracks=chunk)\n",
    "            print(f\"Added {len(chunk)} tracks to playlist {i}.\")\n",
    "    else:\n",
    "        sp.user_playlist_add_tracks(user=USERNAME, \n",
    "                                    playlist_id=playlist_ids[i], \n",
    "                                    tracks=track_ids)\n",
    "        print(f\"Added {len(track_ids)} tracks to playlist {i}.\")"
   ]
  }
 ],
 "metadata": {
  "kernelspec": {
   "display_name": "base",
   "language": "python",
   "name": "python3"
  },
  "language_info": {
   "codemirror_mode": {
    "name": "ipython",
    "version": 3
   },
   "file_extension": ".py",
   "mimetype": "text/x-python",
   "name": "python",
   "nbconvert_exporter": "python",
   "pygments_lexer": "ipython3",
   "version": "3.11.4"
  }
 },
 "nbformat": 4,
 "nbformat_minor": 2
}
